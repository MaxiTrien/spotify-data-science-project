{
 "cells": [
  {
   "cell_type": "code",
   "execution_count": 1,
   "metadata": {
    "pycharm": {
     "name": "#%%\n"
    }
   },
   "outputs": [],
   "source": [
    "import pandas as pd\n",
    "import numpy as np\n",
    "import matplotlib.pyplot as plt\n",
    "import seaborn as sns\n",
    "import warnings\n",
    "import colorcet as cc\n",
    "import plotly.express as px\n",
    "\n",
    "from sklearn.preprocessing import RobustScaler\n",
    "from sklearn.preprocessing import Normalizer\n",
    "from sklearn.preprocessing import QuantileTransformer\n",
    "from sklearn.preprocessing import PowerTransformer\n",
    "\n",
    "warnings.filterwarnings(\"ignore\")\n",
    "pd.set_option('display.max_columns', None)\n",
    "pd.set_option('display.max_rows', 500)\n",
    "%matplotlib inline\n",
    "\n",
    "config = {\n",
    "  'toImageButtonOptions': {\n",
    "    'format': 'png', # one of png, svg, jpeg, webp\n",
    "    'filename': 'newplot',\n",
    "    'height': 500,\n",
    "    'width': 900,\n",
    "    'scale': 5 # Multiply title/legend/axis/canvas sizes by this factor\n",
    "  }\n",
    "}"
   ]
  },
  {
   "cell_type": "code",
   "execution_count": 2,
   "metadata": {
    "pycharm": {
     "name": "#%%\n"
    }
   },
   "outputs": [],
   "source": [
    "df=pd.read_pickle('./dataset_/dataset_cleaned_popularity.pkl')\n",
    "df.drop(columns=['index', 'level_0'], inplace=True)  # Comes from pickeling the file\n",
    "df.reset_index(drop=True, inplace=True)"
   ]
  },
  {
   "cell_type": "code",
   "execution_count": 3,
   "metadata": {
    "pycharm": {
     "name": "#%%\n"
    }
   },
   "outputs": [
    {
     "data": {
      "text/plain": [
       "count    166681.000000\n",
       "mean       5511.366120\n",
       "std       13236.831027\n",
       "min           0.800000\n",
       "25%          78.400000\n",
       "50%         530.400000\n",
       "75%        3995.050000\n",
       "max      233766.900000\n",
       "Name: popularity, dtype: float64"
      ]
     },
     "execution_count": 3,
     "metadata": {},
     "output_type": "execute_result"
    }
   ],
   "source": [
    "df['popularity'].describe()"
   ]
  },
  {
   "cell_type": "markdown",
   "metadata": {
    "pycharm": {
     "name": "#%% md\n"
    }
   },
   "source": [
    "## Popularity Prediction\n",
    "This week, we started to work on our predictive mining tasks, one of them is song popularity prediction. By the end of this project, we hope that we can see what is the typical song that is getting more popular than the others in Spotify. We got two ideas in mind, which are popularity score prediction and popularity classification (popular / not popular)."
   ]
  },
  {
   "cell_type": "markdown",
   "metadata": {
    "pycharm": {
     "name": "#%% md\n"
    }
   },
   "source": [
    "### Data Pre-processing\n",
    "Before jump into the main modelling task, here we'll process all of our our possible features based on its data type:\n",
    "\n",
    "**Numerical Features**\n",
    "* popularity\n",
    "* artist_followers\n",
    "* danceability\n",
    "* energy\n",
    "* loudness\n",
    "* speechiness\n",
    "* acoustics\n",
    "* instrumentalness\n",
    "* liveness\n",
    "* valence\n",
    "* duration_min\n",
    "\n",
    "**Categorical Features**\n",
    "* explicit\n",
    "* key\n",
    "* mode\n",
    "* release_day\n",
    "\n",
    "For the first round selection, we selected the features based on our knowledge and common sense, later we'll try to fit in all these features into some models first and see how they perform.\n",
    "#### Popularity\n",
    "The original value of our popularity score is the calculation of number of days and position they stayed in the Top 200 Playlist and the score is also difference for each country."
   ]
  },
  {
   "cell_type": "code",
   "execution_count": 4,
   "metadata": {
    "pycharm": {
     "name": "#%%\n"
    }
   },
   "outputs": [
    {
     "data": {
      "text/html": [
       "<div>\n",
       "<style scoped>\n",
       "    .dataframe tbody tr th:only-of-type {\n",
       "        vertical-align: middle;\n",
       "    }\n",
       "\n",
       "    .dataframe tbody tr th {\n",
       "        vertical-align: top;\n",
       "    }\n",
       "\n",
       "    .dataframe thead th {\n",
       "        text-align: right;\n",
       "    }\n",
       "</style>\n",
       "<table border=\"1\" class=\"dataframe\">\n",
       "  <thead>\n",
       "    <tr style=\"text-align: right;\">\n",
       "      <th></th>\n",
       "      <th>country</th>\n",
       "      <th>uri</th>\n",
       "      <th>popularity</th>\n",
       "      <th>title</th>\n",
       "      <th>artist</th>\n",
       "      <th>release_type</th>\n",
       "      <th>sub_genre</th>\n",
       "      <th>artist_followers</th>\n",
       "      <th>explicit</th>\n",
       "      <th>album</th>\n",
       "      <th>release_date</th>\n",
       "      <th>track_number</th>\n",
       "      <th>tracks_in_album</th>\n",
       "      <th>danceability</th>\n",
       "      <th>energy</th>\n",
       "      <th>key</th>\n",
       "      <th>loudness</th>\n",
       "      <th>mode</th>\n",
       "      <th>speechiness</th>\n",
       "      <th>acoustics</th>\n",
       "      <th>instrumentalness</th>\n",
       "      <th>liveness</th>\n",
       "      <th>valence</th>\n",
       "      <th>tempo</th>\n",
       "      <th>time_signature</th>\n",
       "      <th>genre</th>\n",
       "      <th>days_since_release</th>\n",
       "      <th>released_after_2017</th>\n",
       "      <th>explicit_false</th>\n",
       "      <th>explicit_true</th>\n",
       "      <th>popu_max</th>\n",
       "      <th>top10_dummy</th>\n",
       "      <th>top50_dummy</th>\n",
       "      <th>cluster</th>\n",
       "      <th>duration_min</th>\n",
       "      <th>release_year</th>\n",
       "      <th>release_month</th>\n",
       "      <th>release_day</th>\n",
       "    </tr>\n",
       "  </thead>\n",
       "  <tbody>\n",
       "    <tr>\n",
       "      <th>52226</th>\n",
       "      <td>Belgium</td>\n",
       "      <td>https://open.spotify.com/track/7qiZfU4dY1lWllz...</td>\n",
       "      <td>233766.9</td>\n",
       "      <td>shape of you</td>\n",
       "      <td>Ed Sheeran</td>\n",
       "      <td>album</td>\n",
       "      <td>pop</td>\n",
       "      <td>71783101.0</td>\n",
       "      <td>False</td>\n",
       "      <td>÷ (Deluxe)</td>\n",
       "      <td>2017-03-03</td>\n",
       "      <td>4</td>\n",
       "      <td>16</td>\n",
       "      <td>0.825</td>\n",
       "      <td>0.652</td>\n",
       "      <td>1</td>\n",
       "      <td>-3.183</td>\n",
       "      <td>0</td>\n",
       "      <td>0.0802</td>\n",
       "      <td>0.581</td>\n",
       "      <td>0.0</td>\n",
       "      <td>0.0931</td>\n",
       "      <td>0.931</td>\n",
       "      <td>95.977</td>\n",
       "      <td>4</td>\n",
       "      <td>pop</td>\n",
       "      <td>1349.0</td>\n",
       "      <td>1.0</td>\n",
       "      <td>1</td>\n",
       "      <td>0</td>\n",
       "      <td>1</td>\n",
       "      <td>1.0</td>\n",
       "      <td>1.0</td>\n",
       "      <td>english speaking and nordic</td>\n",
       "      <td>3.895217</td>\n",
       "      <td>2017</td>\n",
       "      <td>3</td>\n",
       "      <td>3</td>\n",
       "    </tr>\n",
       "    <tr>\n",
       "      <th>52232</th>\n",
       "      <td>Costa Rica</td>\n",
       "      <td>https://open.spotify.com/track/7qiZfU4dY1lWllz...</td>\n",
       "      <td>228707.2</td>\n",
       "      <td>shape of you</td>\n",
       "      <td>Ed Sheeran</td>\n",
       "      <td>album</td>\n",
       "      <td>pop</td>\n",
       "      <td>71783101.0</td>\n",
       "      <td>False</td>\n",
       "      <td>÷ (Deluxe)</td>\n",
       "      <td>2017-03-03</td>\n",
       "      <td>4</td>\n",
       "      <td>16</td>\n",
       "      <td>0.825</td>\n",
       "      <td>0.652</td>\n",
       "      <td>1</td>\n",
       "      <td>-3.183</td>\n",
       "      <td>0</td>\n",
       "      <td>0.0802</td>\n",
       "      <td>0.581</td>\n",
       "      <td>0.0</td>\n",
       "      <td>0.0931</td>\n",
       "      <td>0.931</td>\n",
       "      <td>95.977</td>\n",
       "      <td>4</td>\n",
       "      <td>pop</td>\n",
       "      <td>1349.0</td>\n",
       "      <td>1.0</td>\n",
       "      <td>1</td>\n",
       "      <td>0</td>\n",
       "      <td>1</td>\n",
       "      <td>1.0</td>\n",
       "      <td>1.0</td>\n",
       "      <td>spanish speaking</td>\n",
       "      <td>3.895217</td>\n",
       "      <td>2017</td>\n",
       "      <td>3</td>\n",
       "      <td>3</td>\n",
       "    </tr>\n",
       "    <tr>\n",
       "      <th>52220</th>\n",
       "      <td>Global</td>\n",
       "      <td>https://open.spotify.com/track/7qiZfU4dY1lWllz...</td>\n",
       "      <td>221571.0</td>\n",
       "      <td>shape of you</td>\n",
       "      <td>Ed Sheeran</td>\n",
       "      <td>album</td>\n",
       "      <td>pop</td>\n",
       "      <td>71783101.0</td>\n",
       "      <td>False</td>\n",
       "      <td>÷ (Deluxe)</td>\n",
       "      <td>2017-03-03</td>\n",
       "      <td>4</td>\n",
       "      <td>16</td>\n",
       "      <td>0.825</td>\n",
       "      <td>0.652</td>\n",
       "      <td>1</td>\n",
       "      <td>-3.183</td>\n",
       "      <td>0</td>\n",
       "      <td>0.0802</td>\n",
       "      <td>0.581</td>\n",
       "      <td>0.0</td>\n",
       "      <td>0.0931</td>\n",
       "      <td>0.931</td>\n",
       "      <td>95.977</td>\n",
       "      <td>4</td>\n",
       "      <td>pop</td>\n",
       "      <td>1349.0</td>\n",
       "      <td>1.0</td>\n",
       "      <td>1</td>\n",
       "      <td>0</td>\n",
       "      <td>1</td>\n",
       "      <td>1.0</td>\n",
       "      <td>1.0</td>\n",
       "      <td>global</td>\n",
       "      <td>3.895217</td>\n",
       "      <td>2017</td>\n",
       "      <td>3</td>\n",
       "      <td>3</td>\n",
       "    </tr>\n",
       "    <tr>\n",
       "      <th>30287</th>\n",
       "      <td>Philippines</td>\n",
       "      <td>https://open.spotify.com/track/5uCax9HTNlzGybI...</td>\n",
       "      <td>217605.8</td>\n",
       "      <td>say you wont let go</td>\n",
       "      <td>James Arthur</td>\n",
       "      <td>album</td>\n",
       "      <td>pop</td>\n",
       "      <td>6843219.0</td>\n",
       "      <td>False</td>\n",
       "      <td>Back from the Edge</td>\n",
       "      <td>2016-10-28</td>\n",
       "      <td>2</td>\n",
       "      <td>17</td>\n",
       "      <td>0.358</td>\n",
       "      <td>0.557</td>\n",
       "      <td>10</td>\n",
       "      <td>-7.398</td>\n",
       "      <td>1</td>\n",
       "      <td>0.0590</td>\n",
       "      <td>0.695</td>\n",
       "      <td>0.0</td>\n",
       "      <td>0.0902</td>\n",
       "      <td>0.494</td>\n",
       "      <td>85.043</td>\n",
       "      <td>4</td>\n",
       "      <td>pop</td>\n",
       "      <td>1469.0</td>\n",
       "      <td>0.0</td>\n",
       "      <td>1</td>\n",
       "      <td>0</td>\n",
       "      <td>2</td>\n",
       "      <td>1.0</td>\n",
       "      <td>1.0</td>\n",
       "      <td>southern europe and portuguese heritage</td>\n",
       "      <td>3.524450</td>\n",
       "      <td>2016</td>\n",
       "      <td>10</td>\n",
       "      <td>28</td>\n",
       "    </tr>\n",
       "    <tr>\n",
       "      <th>52252</th>\n",
       "      <td>Singapore</td>\n",
       "      <td>https://open.spotify.com/track/7qiZfU4dY1lWllz...</td>\n",
       "      <td>217307.4</td>\n",
       "      <td>shape of you</td>\n",
       "      <td>Ed Sheeran</td>\n",
       "      <td>album</td>\n",
       "      <td>pop</td>\n",
       "      <td>71783101.0</td>\n",
       "      <td>False</td>\n",
       "      <td>÷ (Deluxe)</td>\n",
       "      <td>2017-03-03</td>\n",
       "      <td>4</td>\n",
       "      <td>16</td>\n",
       "      <td>0.825</td>\n",
       "      <td>0.652</td>\n",
       "      <td>1</td>\n",
       "      <td>-3.183</td>\n",
       "      <td>0</td>\n",
       "      <td>0.0802</td>\n",
       "      <td>0.581</td>\n",
       "      <td>0.0</td>\n",
       "      <td>0.0931</td>\n",
       "      <td>0.931</td>\n",
       "      <td>95.977</td>\n",
       "      <td>4</td>\n",
       "      <td>pop</td>\n",
       "      <td>1349.0</td>\n",
       "      <td>1.0</td>\n",
       "      <td>1</td>\n",
       "      <td>0</td>\n",
       "      <td>1</td>\n",
       "      <td>1.0</td>\n",
       "      <td>1.0</td>\n",
       "      <td>english speaking and nordic</td>\n",
       "      <td>3.895217</td>\n",
       "      <td>2017</td>\n",
       "      <td>3</td>\n",
       "      <td>3</td>\n",
       "    </tr>\n",
       "  </tbody>\n",
       "</table>\n",
       "</div>"
      ],
      "text/plain": [
       "           country                                                uri  \\\n",
       "52226      Belgium  https://open.spotify.com/track/7qiZfU4dY1lWllz...   \n",
       "52232   Costa Rica  https://open.spotify.com/track/7qiZfU4dY1lWllz...   \n",
       "52220       Global  https://open.spotify.com/track/7qiZfU4dY1lWllz...   \n",
       "30287  Philippines  https://open.spotify.com/track/5uCax9HTNlzGybI...   \n",
       "52252    Singapore  https://open.spotify.com/track/7qiZfU4dY1lWllz...   \n",
       "\n",
       "       popularity                title        artist release_type sub_genre  \\\n",
       "52226    233766.9         shape of you    Ed Sheeran        album       pop   \n",
       "52232    228707.2         shape of you    Ed Sheeran        album       pop   \n",
       "52220    221571.0         shape of you    Ed Sheeran        album       pop   \n",
       "30287    217605.8  say you wont let go  James Arthur        album       pop   \n",
       "52252    217307.4         shape of you    Ed Sheeran        album       pop   \n",
       "\n",
       "       artist_followers explicit               album release_date  \\\n",
       "52226        71783101.0    False          ÷ (Deluxe)   2017-03-03   \n",
       "52232        71783101.0    False          ÷ (Deluxe)   2017-03-03   \n",
       "52220        71783101.0    False          ÷ (Deluxe)   2017-03-03   \n",
       "30287         6843219.0    False  Back from the Edge   2016-10-28   \n",
       "52252        71783101.0    False          ÷ (Deluxe)   2017-03-03   \n",
       "\n",
       "      track_number tracks_in_album  danceability  energy key  loudness mode  \\\n",
       "52226            4              16         0.825   0.652   1    -3.183    0   \n",
       "52232            4              16         0.825   0.652   1    -3.183    0   \n",
       "52220            4              16         0.825   0.652   1    -3.183    0   \n",
       "30287            2              17         0.358   0.557  10    -7.398    1   \n",
       "52252            4              16         0.825   0.652   1    -3.183    0   \n",
       "\n",
       "       speechiness  acoustics  instrumentalness  liveness  valence   tempo  \\\n",
       "52226       0.0802      0.581               0.0    0.0931    0.931  95.977   \n",
       "52232       0.0802      0.581               0.0    0.0931    0.931  95.977   \n",
       "52220       0.0802      0.581               0.0    0.0931    0.931  95.977   \n",
       "30287       0.0590      0.695               0.0    0.0902    0.494  85.043   \n",
       "52252       0.0802      0.581               0.0    0.0931    0.931  95.977   \n",
       "\n",
       "      time_signature genre  days_since_release released_after_2017  \\\n",
       "52226              4   pop              1349.0                 1.0   \n",
       "52232              4   pop              1349.0                 1.0   \n",
       "52220              4   pop              1349.0                 1.0   \n",
       "30287              4   pop              1469.0                 0.0   \n",
       "52252              4   pop              1349.0                 1.0   \n",
       "\n",
       "       explicit_false  explicit_true  popu_max  top10_dummy  top50_dummy  \\\n",
       "52226               1              0         1          1.0          1.0   \n",
       "52232               1              0         1          1.0          1.0   \n",
       "52220               1              0         1          1.0          1.0   \n",
       "30287               1              0         2          1.0          1.0   \n",
       "52252               1              0         1          1.0          1.0   \n",
       "\n",
       "                                       cluster  duration_min  release_year  \\\n",
       "52226              english speaking and nordic      3.895217          2017   \n",
       "52232                         spanish speaking      3.895217          2017   \n",
       "52220                                   global      3.895217          2017   \n",
       "30287  southern europe and portuguese heritage      3.524450          2016   \n",
       "52252              english speaking and nordic      3.895217          2017   \n",
       "\n",
       "       release_month  release_day  \n",
       "52226              3            3  \n",
       "52232              3            3  \n",
       "52220              3            3  \n",
       "30287             10           28  \n",
       "52252              3            3  "
      ]
     },
     "execution_count": 4,
     "metadata": {},
     "output_type": "execute_result"
    }
   ],
   "source": [
    "df.sort_values(by='popularity', ascending=False).head(5)"
   ]
  },
  {
   "cell_type": "markdown",
   "metadata": {
    "pycharm": {
     "name": "#%% md\n"
    }
   },
   "source": [
    "As you can see in the table, there are multiple countries that have \"Shape of You\" as their top popular song, and this also means that this song is very popular compared to a song that only appears in one coutnry top playlist, right?\n",
    "\n",
    "So, in order to get a unique song popularity score, we decided to sum up the every country's popularity score for each song, since the higher value they got, means the more popular they are."
   ]
  },
  {
   "cell_type": "code",
   "execution_count": 5,
   "metadata": {
    "pycharm": {
     "name": "#%%\n"
    }
   },
   "outputs": [
    {
     "data": {
      "text/html": [
       "<div>\n",
       "<style scoped>\n",
       "    .dataframe tbody tr th:only-of-type {\n",
       "        vertical-align: middle;\n",
       "    }\n",
       "\n",
       "    .dataframe tbody tr th {\n",
       "        vertical-align: top;\n",
       "    }\n",
       "\n",
       "    .dataframe thead th {\n",
       "        text-align: right;\n",
       "    }\n",
       "</style>\n",
       "<table border=\"1\" class=\"dataframe\">\n",
       "  <thead>\n",
       "    <tr style=\"text-align: right;\">\n",
       "      <th></th>\n",
       "      <th>country</th>\n",
       "      <th>uri</th>\n",
       "      <th>popularity</th>\n",
       "      <th>title</th>\n",
       "      <th>artist</th>\n",
       "      <th>release_type</th>\n",
       "      <th>sub_genre</th>\n",
       "      <th>artist_followers</th>\n",
       "      <th>explicit</th>\n",
       "      <th>album</th>\n",
       "      <th>release_date</th>\n",
       "      <th>track_number</th>\n",
       "      <th>tracks_in_album</th>\n",
       "      <th>danceability</th>\n",
       "      <th>energy</th>\n",
       "      <th>key</th>\n",
       "      <th>loudness</th>\n",
       "      <th>mode</th>\n",
       "      <th>speechiness</th>\n",
       "      <th>acoustics</th>\n",
       "      <th>instrumentalness</th>\n",
       "      <th>liveness</th>\n",
       "      <th>valence</th>\n",
       "      <th>tempo</th>\n",
       "      <th>time_signature</th>\n",
       "      <th>genre</th>\n",
       "      <th>days_since_release</th>\n",
       "      <th>released_after_2017</th>\n",
       "      <th>explicit_false</th>\n",
       "      <th>explicit_true</th>\n",
       "      <th>popu_max</th>\n",
       "      <th>top10_dummy</th>\n",
       "      <th>top50_dummy</th>\n",
       "      <th>cluster</th>\n",
       "      <th>duration_min</th>\n",
       "      <th>release_year</th>\n",
       "      <th>release_month</th>\n",
       "      <th>release_day</th>\n",
       "    </tr>\n",
       "  </thead>\n",
       "  <tbody>\n",
       "    <tr>\n",
       "      <th>52220</th>\n",
       "      <td>Global</td>\n",
       "      <td>https://open.spotify.com/track/7qiZfU4dY1lWllz...</td>\n",
       "      <td>221571.00</td>\n",
       "      <td>shape of you</td>\n",
       "      <td>Ed Sheeran</td>\n",
       "      <td>album</td>\n",
       "      <td>pop</td>\n",
       "      <td>71783101.0</td>\n",
       "      <td>False</td>\n",
       "      <td>÷ (Deluxe)</td>\n",
       "      <td>2017-03-03</td>\n",
       "      <td>4</td>\n",
       "      <td>16</td>\n",
       "      <td>0.825</td>\n",
       "      <td>0.652</td>\n",
       "      <td>1</td>\n",
       "      <td>-3.183</td>\n",
       "      <td>0</td>\n",
       "      <td>0.0802</td>\n",
       "      <td>0.581</td>\n",
       "      <td>0.000000</td>\n",
       "      <td>0.0931</td>\n",
       "      <td>0.931</td>\n",
       "      <td>95.977</td>\n",
       "      <td>4</td>\n",
       "      <td>pop</td>\n",
       "      <td>1349.0</td>\n",
       "      <td>1.0</td>\n",
       "      <td>1</td>\n",
       "      <td>0</td>\n",
       "      <td>1</td>\n",
       "      <td>1.0</td>\n",
       "      <td>1.0</td>\n",
       "      <td>global</td>\n",
       "      <td>3.895217</td>\n",
       "      <td>2017</td>\n",
       "      <td>3</td>\n",
       "      <td>3</td>\n",
       "    </tr>\n",
       "    <tr>\n",
       "      <th>59759</th>\n",
       "      <td>Global</td>\n",
       "      <td>https://open.spotify.com/track/1rgnBhdG2JDFTbY...</td>\n",
       "      <td>157270.00</td>\n",
       "      <td>dance monkey</td>\n",
       "      <td>Tones And I</td>\n",
       "      <td>single</td>\n",
       "      <td>australian pop</td>\n",
       "      <td>2283019.0</td>\n",
       "      <td>False</td>\n",
       "      <td>Dance Monkey</td>\n",
       "      <td>2019-05-10</td>\n",
       "      <td>1</td>\n",
       "      <td>1</td>\n",
       "      <td>0.825</td>\n",
       "      <td>0.593</td>\n",
       "      <td>6</td>\n",
       "      <td>-6.401</td>\n",
       "      <td>0</td>\n",
       "      <td>0.0988</td>\n",
       "      <td>0.688</td>\n",
       "      <td>0.000161</td>\n",
       "      <td>0.1700</td>\n",
       "      <td>0.540</td>\n",
       "      <td>98.078</td>\n",
       "      <td>4</td>\n",
       "      <td>pop</td>\n",
       "      <td>554.0</td>\n",
       "      <td>1.0</td>\n",
       "      <td>1</td>\n",
       "      <td>0</td>\n",
       "      <td>1</td>\n",
       "      <td>1.0</td>\n",
       "      <td>1.0</td>\n",
       "      <td>global</td>\n",
       "      <td>3.495917</td>\n",
       "      <td>2019</td>\n",
       "      <td>5</td>\n",
       "      <td>10</td>\n",
       "    </tr>\n",
       "    <tr>\n",
       "      <th>82857</th>\n",
       "      <td>Global</td>\n",
       "      <td>https://open.spotify.com/track/2Fxmhks0bxGSBdJ...</td>\n",
       "      <td>130062.25</td>\n",
       "      <td>bad guy</td>\n",
       "      <td>Billie Eilish</td>\n",
       "      <td>album</td>\n",
       "      <td>electropop</td>\n",
       "      <td>34697267.0</td>\n",
       "      <td>False</td>\n",
       "      <td>WHEN WE ALL FALL ASLEEP, WHERE DO WE GO?</td>\n",
       "      <td>2019-03-29</td>\n",
       "      <td>2</td>\n",
       "      <td>14</td>\n",
       "      <td>0.701</td>\n",
       "      <td>0.425</td>\n",
       "      <td>7</td>\n",
       "      <td>-10.965</td>\n",
       "      <td>1</td>\n",
       "      <td>0.3750</td>\n",
       "      <td>0.328</td>\n",
       "      <td>0.130000</td>\n",
       "      <td>0.1000</td>\n",
       "      <td>0.562</td>\n",
       "      <td>135.128</td>\n",
       "      <td>4</td>\n",
       "      <td>pop</td>\n",
       "      <td>596.0</td>\n",
       "      <td>1.0</td>\n",
       "      <td>1</td>\n",
       "      <td>0</td>\n",
       "      <td>1</td>\n",
       "      <td>1.0</td>\n",
       "      <td>1.0</td>\n",
       "      <td>global</td>\n",
       "      <td>3.234800</td>\n",
       "      <td>2019</td>\n",
       "      <td>3</td>\n",
       "      <td>29</td>\n",
       "    </tr>\n",
       "    <tr>\n",
       "      <th>14124</th>\n",
       "      <td>Global</td>\n",
       "      <td>https://open.spotify.com/track/0tgVpDi06FyKpA1...</td>\n",
       "      <td>129769.90</td>\n",
       "      <td>perfect</td>\n",
       "      <td>Ed Sheeran</td>\n",
       "      <td>album</td>\n",
       "      <td>pop</td>\n",
       "      <td>71783101.0</td>\n",
       "      <td>False</td>\n",
       "      <td>÷ (Deluxe)</td>\n",
       "      <td>2017-03-03</td>\n",
       "      <td>5</td>\n",
       "      <td>16</td>\n",
       "      <td>0.599</td>\n",
       "      <td>0.448</td>\n",
       "      <td>8</td>\n",
       "      <td>-6.312</td>\n",
       "      <td>1</td>\n",
       "      <td>0.0232</td>\n",
       "      <td>0.163</td>\n",
       "      <td>0.000000</td>\n",
       "      <td>0.1060</td>\n",
       "      <td>0.168</td>\n",
       "      <td>95.050</td>\n",
       "      <td>3</td>\n",
       "      <td>pop</td>\n",
       "      <td>1349.0</td>\n",
       "      <td>1.0</td>\n",
       "      <td>1</td>\n",
       "      <td>0</td>\n",
       "      <td>3</td>\n",
       "      <td>1.0</td>\n",
       "      <td>1.0</td>\n",
       "      <td>global</td>\n",
       "      <td>4.390000</td>\n",
       "      <td>2017</td>\n",
       "      <td>3</td>\n",
       "      <td>3</td>\n",
       "    </tr>\n",
       "    <tr>\n",
       "      <th>70886</th>\n",
       "      <td>Global</td>\n",
       "      <td>https://open.spotify.com/track/2VxeLyX666F8uXC...</td>\n",
       "      <td>111896.05</td>\n",
       "      <td>shallow</td>\n",
       "      <td>Lady Gaga - Bradley Cooper</td>\n",
       "      <td>album</td>\n",
       "      <td>dance pop</td>\n",
       "      <td>14439685.0</td>\n",
       "      <td>False</td>\n",
       "      <td>A Star Is Born Soundtrack</td>\n",
       "      <td>2018-10-05</td>\n",
       "      <td>12</td>\n",
       "      <td>34</td>\n",
       "      <td>0.572</td>\n",
       "      <td>0.385</td>\n",
       "      <td>7</td>\n",
       "      <td>-6.362</td>\n",
       "      <td>1</td>\n",
       "      <td>0.0308</td>\n",
       "      <td>0.371</td>\n",
       "      <td>0.000000</td>\n",
       "      <td>0.2310</td>\n",
       "      <td>0.323</td>\n",
       "      <td>95.799</td>\n",
       "      <td>4</td>\n",
       "      <td>pop</td>\n",
       "      <td>771.0</td>\n",
       "      <td>1.0</td>\n",
       "      <td>1</td>\n",
       "      <td>0</td>\n",
       "      <td>2</td>\n",
       "      <td>1.0</td>\n",
       "      <td>1.0</td>\n",
       "      <td>global</td>\n",
       "      <td>3.595550</td>\n",
       "      <td>2018</td>\n",
       "      <td>10</td>\n",
       "      <td>5</td>\n",
       "    </tr>\n",
       "  </tbody>\n",
       "</table>\n",
       "</div>"
      ],
      "text/plain": [
       "      country                                                uri  popularity  \\\n",
       "52220  Global  https://open.spotify.com/track/7qiZfU4dY1lWllz...   221571.00   \n",
       "59759  Global  https://open.spotify.com/track/1rgnBhdG2JDFTbY...   157270.00   \n",
       "82857  Global  https://open.spotify.com/track/2Fxmhks0bxGSBdJ...   130062.25   \n",
       "14124  Global  https://open.spotify.com/track/0tgVpDi06FyKpA1...   129769.90   \n",
       "70886  Global  https://open.spotify.com/track/2VxeLyX666F8uXC...   111896.05   \n",
       "\n",
       "              title                      artist release_type       sub_genre  \\\n",
       "52220  shape of you                  Ed Sheeran        album             pop   \n",
       "59759  dance monkey                 Tones And I       single  australian pop   \n",
       "82857       bad guy               Billie Eilish        album      electropop   \n",
       "14124       perfect                  Ed Sheeran        album             pop   \n",
       "70886       shallow  Lady Gaga - Bradley Cooper        album       dance pop   \n",
       "\n",
       "       artist_followers explicit                                     album  \\\n",
       "52220        71783101.0    False                                ÷ (Deluxe)   \n",
       "59759         2283019.0    False                              Dance Monkey   \n",
       "82857        34697267.0    False  WHEN WE ALL FALL ASLEEP, WHERE DO WE GO?   \n",
       "14124        71783101.0    False                                ÷ (Deluxe)   \n",
       "70886        14439685.0    False                 A Star Is Born Soundtrack   \n",
       "\n",
       "      release_date track_number tracks_in_album  danceability  energy key  \\\n",
       "52220   2017-03-03            4              16         0.825   0.652   1   \n",
       "59759   2019-05-10            1               1         0.825   0.593   6   \n",
       "82857   2019-03-29            2              14         0.701   0.425   7   \n",
       "14124   2017-03-03            5              16         0.599   0.448   8   \n",
       "70886   2018-10-05           12              34         0.572   0.385   7   \n",
       "\n",
       "       loudness mode  speechiness  acoustics  instrumentalness  liveness  \\\n",
       "52220    -3.183    0       0.0802      0.581          0.000000    0.0931   \n",
       "59759    -6.401    0       0.0988      0.688          0.000161    0.1700   \n",
       "82857   -10.965    1       0.3750      0.328          0.130000    0.1000   \n",
       "14124    -6.312    1       0.0232      0.163          0.000000    0.1060   \n",
       "70886    -6.362    1       0.0308      0.371          0.000000    0.2310   \n",
       "\n",
       "       valence    tempo time_signature genre  days_since_release  \\\n",
       "52220    0.931   95.977              4   pop              1349.0   \n",
       "59759    0.540   98.078              4   pop               554.0   \n",
       "82857    0.562  135.128              4   pop               596.0   \n",
       "14124    0.168   95.050              3   pop              1349.0   \n",
       "70886    0.323   95.799              4   pop               771.0   \n",
       "\n",
       "      released_after_2017  explicit_false  explicit_true  popu_max  \\\n",
       "52220                 1.0               1              0         1   \n",
       "59759                 1.0               1              0         1   \n",
       "82857                 1.0               1              0         1   \n",
       "14124                 1.0               1              0         3   \n",
       "70886                 1.0               1              0         2   \n",
       "\n",
       "       top10_dummy  top50_dummy cluster  duration_min  release_year  \\\n",
       "52220          1.0          1.0  global      3.895217          2017   \n",
       "59759          1.0          1.0  global      3.495917          2019   \n",
       "82857          1.0          1.0  global      3.234800          2019   \n",
       "14124          1.0          1.0  global      4.390000          2017   \n",
       "70886          1.0          1.0  global      3.595550          2018   \n",
       "\n",
       "       release_month  release_day  \n",
       "52220              3            3  \n",
       "59759              5           10  \n",
       "82857              3           29  \n",
       "14124              3            3  \n",
       "70886             10            5  "
      ]
     },
     "execution_count": 5,
     "metadata": {},
     "output_type": "execute_result"
    }
   ],
   "source": [
    "# df = df.groupby(['title', 'artist', 'release_type', 'sub_genre', 'artist_followers', 'explicit', 'album', 'track_number', 'tracks_in_album', 'danceability', 'energy', 'key', 'loudness', 'mode', 'speechiness', 'acoustics', 'instrumentalness', 'liveness', 'valence', 'tempo', 'time_signature', 'genre', 'duration_min', 'release_year', 'release_month', 'release_day'])['popularity'].sum().reset_index(name='popularity')\n",
    "df = df[df['country'] == 'Global']\n",
    "df.sort_values(by='popularity', ascending=False).head(5)"
   ]
  },
  {
   "cell_type": "markdown",
   "metadata": {
    "pycharm": {
     "name": "#%% md\n"
    }
   },
   "source": [
    "As a result, we got 59,492 unique songs."
   ]
  },
  {
   "cell_type": "markdown",
   "metadata": {
    "pycharm": {
     "name": "#%% md\n"
    }
   },
   "source": [
    "The mean is way too shifted to the left, even from 59k songs, 51k songs are below average, because the dataset has a few extreme popular songs. But it's not possible to enrich the data again, because the calculation of popularity in our dataset is different between the Spotify one. Consequently, we'll work on the data as it is."
   ]
  },
  {
   "cell_type": "code",
   "execution_count": 6,
   "metadata": {
    "pycharm": {
     "name": "#%%\n"
    }
   },
   "outputs": [
    {
     "data": {
      "image/png": "[encoded data removed]",
      "text/plain": [
       "<Figure size 720x576 with 1 Axes>"
      ]
     },
     "metadata": {
      "needs_background": "light"
     },
     "output_type": "display_data"
    }
   ],
   "source": [
    "plt.figure(figsize=(10, 8))\n",
    "sns.kdeplot(df['popularity'])\n",
    "\n",
    "plt.axvline(df['popularity'].mean(), linewidth = 2, color = 'r')\n",
    "plt.axvline(df['popularity'].median(), linewidth = 2, color = 'k')\n",
    "plt.show()"
   ]
  },
  {
   "cell_type": "markdown",
   "metadata": {},
   "source": [
    "After that, we checked again which feature is needed to be processed."
   ]
  },
  {
   "cell_type": "code",
   "execution_count": 7,
   "metadata": {},
   "outputs": [
    {
     "data": {
      "text/plain": [
       "country                   1\n",
       "uri                    5423\n",
       "popularity             3745\n",
       "title                  4530\n",
       "artist                 2573\n",
       "release_type              3\n",
       "sub_genre               256\n",
       "artist_followers        963\n",
       "explicit                  2\n",
       "album                  2988\n",
       "release_date           1039\n",
       "track_number             32\n",
       "tracks_in_album          47\n",
       "danceability            705\n",
       "energy                  804\n",
       "key                      12\n",
       "loudness               3814\n",
       "mode                      2\n",
       "speechiness            1141\n",
       "acoustics              1930\n",
       "instrumentalness       1588\n",
       "liveness               1035\n",
       "valence                1003\n",
       "tempo                  4666\n",
       "time_signature            4\n",
       "genre                    18\n",
       "days_since_release     1036\n",
       "released_after_2017       2\n",
       "explicit_false            2\n",
       "explicit_true             2\n",
       "popu_max                200\n",
       "top10_dummy               2\n",
       "top50_dummy               2\n",
       "cluster                   1\n",
       "duration_min           4764\n",
       "release_year             67\n",
       "release_month            12\n",
       "release_day              31\n",
       "dtype: int64"
      ]
     },
     "execution_count": 7,
     "metadata": {},
     "output_type": "execute_result"
    }
   ],
   "source": [
    "df.nunique(axis=0)"
   ]
  },
  {
   "cell_type": "markdown",
   "metadata": {},
   "source": [
    "From the result above, you can see that explicit and mode is supposed to have only binary value, but there is 4 unique values instead."
   ]
  },
  {
   "cell_type": "markdown",
   "metadata": {},
   "source": [
    "#### Explicit\n",
    "We will change the string value of \"True\" and \"False\" into a boolean one."
   ]
  },
  {
   "cell_type": "code",
   "execution_count": 8,
   "metadata": {},
   "outputs": [
    {
     "data": {
      "text/plain": [
       "array([False, True], dtype=object)"
      ]
     },
     "execution_count": 8,
     "metadata": {},
     "output_type": "execute_result"
    }
   ],
   "source": [
    "df['explicit'].unique()"
   ]
  },
  {
   "cell_type": "code",
   "execution_count": 9,
   "metadata": {},
   "outputs": [],
   "source": [
    "df.loc[df.explicit == 'True', 'explicit'] = 1\n",
    "df.loc[df.explicit == 'False', 'explicit'] = 0\n",
    "df.loc[df.explicit == True, 'explicit'] = 1\n",
    "df.loc[df.explicit == False, 'explicit'] = 0"
   ]
  },
  {
   "cell_type": "code",
   "execution_count": 10,
   "metadata": {},
   "outputs": [
    {
     "data": {
      "text/plain": [
       "array([0, 1], dtype=object)"
      ]
     },
     "execution_count": 10,
     "metadata": {},
     "output_type": "execute_result"
    }
   ],
   "source": [
    "df['explicit'].unique()"
   ]
  },
  {
   "cell_type": "markdown",
   "metadata": {},
   "source": [
    "#### Mode\n",
    "We will change the string value of \"0\" and \"1\" into a numeric one."
   ]
  },
  {
   "cell_type": "code",
   "execution_count": 11,
   "metadata": {},
   "outputs": [
    {
     "data": {
      "text/plain": [
       "array([1, 0], dtype=object)"
      ]
     },
     "execution_count": 11,
     "metadata": {},
     "output_type": "execute_result"
    }
   ],
   "source": [
    "df['mode'].unique()"
   ]
  },
  {
   "cell_type": "code",
   "execution_count": 12,
   "metadata": {},
   "outputs": [],
   "source": [
    "df.loc[df['mode'] == '0', 'mode'] = 0\n",
    "df.loc[df['mode'] == '1', 'mode'] = 1"
   ]
  },
  {
   "cell_type": "code",
   "execution_count": 13,
   "metadata": {},
   "outputs": [
    {
     "data": {
      "text/plain": [
       "array([1, 0], dtype=object)"
      ]
     },
     "execution_count": 13,
     "metadata": {},
     "output_type": "execute_result"
    }
   ],
   "source": [
    "df['mode'].unique()"
   ]
  },
  {
   "cell_type": "code",
   "execution_count": 14,
   "metadata": {},
   "outputs": [
    {
     "data": {
      "text/plain": [
       "country                   1\n",
       "uri                    5423\n",
       "popularity             3745\n",
       "title                  4530\n",
       "artist                 2573\n",
       "release_type              3\n",
       "sub_genre               256\n",
       "artist_followers        963\n",
       "explicit                  2\n",
       "album                  2988\n",
       "release_date           1039\n",
       "track_number             32\n",
       "tracks_in_album          47\n",
       "danceability            705\n",
       "energy                  804\n",
       "key                      12\n",
       "loudness               3814\n",
       "mode                      2\n",
       "speechiness            1141\n",
       "acoustics              1930\n",
       "instrumentalness       1588\n",
       "liveness               1035\n",
       "valence                1003\n",
       "tempo                  4666\n",
       "time_signature            4\n",
       "genre                    18\n",
       "days_since_release     1036\n",
       "released_after_2017       2\n",
       "explicit_false            2\n",
       "explicit_true             2\n",
       "popu_max                200\n",
       "top10_dummy               2\n",
       "top50_dummy               2\n",
       "cluster                   1\n",
       "duration_min           4764\n",
       "release_year             67\n",
       "release_month            12\n",
       "release_day              31\n",
       "dtype: int64"
      ]
     },
     "execution_count": 14,
     "metadata": {},
     "output_type": "execute_result"
    }
   ],
   "source": [
    "df.nunique(axis=0)"
   ]
  },
  {
   "cell_type": "markdown",
   "metadata": {
    "pycharm": {
     "name": "#%% md\n"
    }
   },
   "source": [
    "#### Key\n",
    "There are duplicated keys, so we tried to convert all of them into numeric values."
   ]
  },
  {
   "cell_type": "code",
   "execution_count": 15,
   "metadata": {
    "pycharm": {
     "name": "#%%\n"
    }
   },
   "outputs": [
    {
     "data": {
      "text/plain": [
       "array([1, 6, 2, 7, 8, 10, 0, 4, 11, 9, 5, 3], dtype=object)"
      ]
     },
     "execution_count": 15,
     "metadata": {},
     "output_type": "execute_result"
    }
   ],
   "source": [
    "df['key'].unique()"
   ]
  },
  {
   "cell_type": "code",
   "execution_count": 16,
   "metadata": {},
   "outputs": [],
   "source": [
    "df.loc[df['key'] == '9', 'key'] = 9\n",
    "df.loc[df['key'] == '10', 'key'] = 10\n",
    "df.loc[df['key'] == '0', 'key'] = 0\n",
    "df.loc[df['key'] == '5', 'key'] = 5\n",
    "df.loc[df['key'] == '11', 'key'] = 11\n",
    "df.loc[df['key'] == '4', 'key'] = 4\n",
    "df.loc[df['key'] == '7', 'key'] = 7\n",
    "df.loc[df['key'] == '2', 'key'] = 2\n",
    "df.loc[df['key'] == '3', 'key'] = 3\n",
    "df.loc[df['key'] == '6', 'key'] = 6\n",
    "df.loc[df['key'] == '8', 'key'] = 8\n",
    "df.loc[df['key'] == '1', 'key'] = 1"
   ]
  },
  {
   "cell_type": "code",
   "execution_count": 17,
   "metadata": {},
   "outputs": [
    {
     "data": {
      "text/plain": [
       "array([1, 6, 2, 7, 8, 10, 0, 4, 11, 9, 5, 3], dtype=object)"
      ]
     },
     "execution_count": 17,
     "metadata": {},
     "output_type": "execute_result"
    }
   ],
   "source": [
    "df['key'].unique()"
   ]
  },
  {
   "cell_type": "markdown",
   "metadata": {},
   "source": [
    "#### Release Day"
   ]
  },
  {
   "cell_type": "code",
   "execution_count": 18,
   "metadata": {},
   "outputs": [
    {
     "data": {
      "text/html": [
       "<div>\n",
       "<style scoped>\n",
       "    .dataframe tbody tr th:only-of-type {\n",
       "        vertical-align: middle;\n",
       "    }\n",
       "\n",
       "    .dataframe tbody tr th {\n",
       "        vertical-align: top;\n",
       "    }\n",
       "\n",
       "    .dataframe thead th {\n",
       "        text-align: right;\n",
       "    }\n",
       "</style>\n",
       "<table border=\"1\" class=\"dataframe\">\n",
       "  <thead>\n",
       "    <tr style=\"text-align: right;\">\n",
       "      <th></th>\n",
       "      <th>country</th>\n",
       "      <th>uri</th>\n",
       "      <th>popularity</th>\n",
       "      <th>title</th>\n",
       "      <th>artist</th>\n",
       "      <th>release_type</th>\n",
       "      <th>sub_genre</th>\n",
       "      <th>artist_followers</th>\n",
       "      <th>explicit</th>\n",
       "      <th>album</th>\n",
       "      <th>release_date</th>\n",
       "      <th>track_number</th>\n",
       "      <th>tracks_in_album</th>\n",
       "      <th>danceability</th>\n",
       "      <th>energy</th>\n",
       "      <th>key</th>\n",
       "      <th>loudness</th>\n",
       "      <th>mode</th>\n",
       "      <th>speechiness</th>\n",
       "      <th>acoustics</th>\n",
       "      <th>instrumentalness</th>\n",
       "      <th>liveness</th>\n",
       "      <th>valence</th>\n",
       "      <th>tempo</th>\n",
       "      <th>time_signature</th>\n",
       "      <th>genre</th>\n",
       "      <th>days_since_release</th>\n",
       "      <th>released_after_2017</th>\n",
       "      <th>explicit_false</th>\n",
       "      <th>explicit_true</th>\n",
       "      <th>popu_max</th>\n",
       "      <th>top10_dummy</th>\n",
       "      <th>top50_dummy</th>\n",
       "      <th>cluster</th>\n",
       "      <th>duration_min</th>\n",
       "      <th>release_year</th>\n",
       "      <th>release_month</th>\n",
       "      <th>release_day</th>\n",
       "      <th>weekday</th>\n",
       "    </tr>\n",
       "  </thead>\n",
       "  <tbody>\n",
       "    <tr>\n",
       "      <th>0</th>\n",
       "      <td>Global</td>\n",
       "      <td>https://open.spotify.com/track/6FyRXC8tJUh863J...</td>\n",
       "      <td>31833.95</td>\n",
       "      <td>adan y eva</td>\n",
       "      <td>Paulo Londra</td>\n",
       "      <td>single</td>\n",
       "      <td>argentine hip hop</td>\n",
       "      <td>11427104.0</td>\n",
       "      <td>0</td>\n",
       "      <td>Adan y Eva</td>\n",
       "      <td>2018-11-05</td>\n",
       "      <td>1</td>\n",
       "      <td>1</td>\n",
       "      <td>0.767</td>\n",
       "      <td>0.709</td>\n",
       "      <td>1</td>\n",
       "      <td>-4.470</td>\n",
       "      <td>1</td>\n",
       "      <td>0.3360</td>\n",
       "      <td>0.323000</td>\n",
       "      <td>0.000000</td>\n",
       "      <td>0.0676</td>\n",
       "      <td>0.720</td>\n",
       "      <td>171.993</td>\n",
       "      <td>4</td>\n",
       "      <td>hip hop</td>\n",
       "      <td>740.0</td>\n",
       "      <td>1.0</td>\n",
       "      <td>1</td>\n",
       "      <td>0</td>\n",
       "      <td>10</td>\n",
       "      <td>1.0</td>\n",
       "      <td>1.0</td>\n",
       "      <td>global</td>\n",
       "      <td>4.310650</td>\n",
       "      <td>2018</td>\n",
       "      <td>11</td>\n",
       "      <td>5</td>\n",
       "      <td>0</td>\n",
       "    </tr>\n",
       "    <tr>\n",
       "      <th>16</th>\n",
       "      <td>Global</td>\n",
       "      <td>https://open.spotify.com/track/5xhJmd0I15jFcEd...</td>\n",
       "      <td>418.00</td>\n",
       "      <td>it wont kill ya</td>\n",
       "      <td>The Chainsmokers - Louane</td>\n",
       "      <td>album</td>\n",
       "      <td>dance pop</td>\n",
       "      <td>16931568.0</td>\n",
       "      <td>0</td>\n",
       "      <td>Memories...Do Not Open</td>\n",
       "      <td>2017-04-07</td>\n",
       "      <td>7</td>\n",
       "      <td>12</td>\n",
       "      <td>0.572</td>\n",
       "      <td>0.530</td>\n",
       "      <td>6</td>\n",
       "      <td>-8.521</td>\n",
       "      <td>0</td>\n",
       "      <td>0.0654</td>\n",
       "      <td>0.064700</td>\n",
       "      <td>0.000169</td>\n",
       "      <td>0.1270</td>\n",
       "      <td>0.120</td>\n",
       "      <td>170.138</td>\n",
       "      <td>4</td>\n",
       "      <td>pop</td>\n",
       "      <td>1314.0</td>\n",
       "      <td>1.0</td>\n",
       "      <td>1</td>\n",
       "      <td>0</td>\n",
       "      <td>72</td>\n",
       "      <td>0.0</td>\n",
       "      <td>0.0</td>\n",
       "      <td>global</td>\n",
       "      <td>3.626883</td>\n",
       "      <td>2017</td>\n",
       "      <td>4</td>\n",
       "      <td>7</td>\n",
       "      <td>4</td>\n",
       "    </tr>\n",
       "    <tr>\n",
       "      <th>39</th>\n",
       "      <td>Global</td>\n",
       "      <td>https://open.spotify.com/track/0wJJhRgdHhT93Z3...</td>\n",
       "      <td>56.00</td>\n",
       "      <td>hymn</td>\n",
       "      <td>Kesha</td>\n",
       "      <td>single</td>\n",
       "      <td>dance pop</td>\n",
       "      <td>5910376.0</td>\n",
       "      <td>1</td>\n",
       "      <td>Hymn</td>\n",
       "      <td>2017-08-03</td>\n",
       "      <td>1</td>\n",
       "      <td>1</td>\n",
       "      <td>0.488</td>\n",
       "      <td>0.538</td>\n",
       "      <td>6</td>\n",
       "      <td>-4.974</td>\n",
       "      <td>1</td>\n",
       "      <td>0.0760</td>\n",
       "      <td>0.147000</td>\n",
       "      <td>0.000000</td>\n",
       "      <td>0.3050</td>\n",
       "      <td>0.380</td>\n",
       "      <td>67.037</td>\n",
       "      <td>4</td>\n",
       "      <td>pop</td>\n",
       "      <td>1199.0</td>\n",
       "      <td>1.0</td>\n",
       "      <td>0</td>\n",
       "      <td>1</td>\n",
       "      <td>131</td>\n",
       "      <td>0.0</td>\n",
       "      <td>0.0</td>\n",
       "      <td>global</td>\n",
       "      <td>3.426667</td>\n",
       "      <td>2017</td>\n",
       "      <td>8</td>\n",
       "      <td>3</td>\n",
       "      <td>3</td>\n",
       "    </tr>\n",
       "    <tr>\n",
       "      <th>58</th>\n",
       "      <td>Global</td>\n",
       "      <td>https://open.spotify.com/track/6JSryEdVJTZq6YB...</td>\n",
       "      <td>78.40</td>\n",
       "      <td>arrows</td>\n",
       "      <td>Foo Fighters</td>\n",
       "      <td>album</td>\n",
       "      <td>alternative metal</td>\n",
       "      <td>8092392.0</td>\n",
       "      <td>0</td>\n",
       "      <td>Concrete and Gold</td>\n",
       "      <td>2017-09-15</td>\n",
       "      <td>7</td>\n",
       "      <td>11</td>\n",
       "      <td>0.515</td>\n",
       "      <td>0.917</td>\n",
       "      <td>1</td>\n",
       "      <td>-7.312</td>\n",
       "      <td>1</td>\n",
       "      <td>0.0417</td>\n",
       "      <td>0.000209</td>\n",
       "      <td>0.000476</td>\n",
       "      <td>0.1450</td>\n",
       "      <td>0.409</td>\n",
       "      <td>121.988</td>\n",
       "      <td>4</td>\n",
       "      <td>metal</td>\n",
       "      <td>1156.0</td>\n",
       "      <td>1.0</td>\n",
       "      <td>1</td>\n",
       "      <td>0</td>\n",
       "      <td>103</td>\n",
       "      <td>0.0</td>\n",
       "      <td>0.0</td>\n",
       "      <td>global</td>\n",
       "      <td>4.436450</td>\n",
       "      <td>2017</td>\n",
       "      <td>9</td>\n",
       "      <td>15</td>\n",
       "      <td>4</td>\n",
       "    </tr>\n",
       "    <tr>\n",
       "      <th>80</th>\n",
       "      <td>Global</td>\n",
       "      <td>https://open.spotify.com/track/7nAfXgeHfDO50up...</td>\n",
       "      <td>244.95</td>\n",
       "      <td>talking to myself</td>\n",
       "      <td>Linkin Park</td>\n",
       "      <td>album</td>\n",
       "      <td>alternative metal</td>\n",
       "      <td>17132813.0</td>\n",
       "      <td>0</td>\n",
       "      <td>One More Light</td>\n",
       "      <td>2017-05-19</td>\n",
       "      <td>3</td>\n",
       "      <td>10</td>\n",
       "      <td>0.593</td>\n",
       "      <td>0.712</td>\n",
       "      <td>2</td>\n",
       "      <td>-6.325</td>\n",
       "      <td>0</td>\n",
       "      <td>0.0286</td>\n",
       "      <td>0.001840</td>\n",
       "      <td>0.000000</td>\n",
       "      <td>0.1280</td>\n",
       "      <td>0.473</td>\n",
       "      <td>124.013</td>\n",
       "      <td>4</td>\n",
       "      <td>metal</td>\n",
       "      <td>1272.0</td>\n",
       "      <td>1.0</td>\n",
       "      <td>1</td>\n",
       "      <td>0</td>\n",
       "      <td>86</td>\n",
       "      <td>0.0</td>\n",
       "      <td>0.0</td>\n",
       "      <td>global</td>\n",
       "      <td>3.855117</td>\n",
       "      <td>2017</td>\n",
       "      <td>5</td>\n",
       "      <td>19</td>\n",
       "      <td>4</td>\n",
       "    </tr>\n",
       "    <tr>\n",
       "      <th>...</th>\n",
       "      <td>...</td>\n",
       "      <td>...</td>\n",
       "      <td>...</td>\n",
       "      <td>...</td>\n",
       "      <td>...</td>\n",
       "      <td>...</td>\n",
       "      <td>...</td>\n",
       "      <td>...</td>\n",
       "      <td>...</td>\n",
       "      <td>...</td>\n",
       "      <td>...</td>\n",
       "      <td>...</td>\n",
       "      <td>...</td>\n",
       "      <td>...</td>\n",
       "      <td>...</td>\n",
       "      <td>...</td>\n",
       "      <td>...</td>\n",
       "      <td>...</td>\n",
       "      <td>...</td>\n",
       "      <td>...</td>\n",
       "      <td>...</td>\n",
       "      <td>...</td>\n",
       "      <td>...</td>\n",
       "      <td>...</td>\n",
       "      <td>...</td>\n",
       "      <td>...</td>\n",
       "      <td>...</td>\n",
       "      <td>...</td>\n",
       "      <td>...</td>\n",
       "      <td>...</td>\n",
       "      <td>...</td>\n",
       "      <td>...</td>\n",
       "      <td>...</td>\n",
       "      <td>...</td>\n",
       "      <td>...</td>\n",
       "      <td>...</td>\n",
       "      <td>...</td>\n",
       "      <td>...</td>\n",
       "      <td>...</td>\n",
       "    </tr>\n",
       "    <tr>\n",
       "      <th>83257</th>\n",
       "      <td>Global</td>\n",
       "      <td>https://open.spotify.com/track/1rIKgCH4H52lrvD...</td>\n",
       "      <td>1896.00</td>\n",
       "      <td>lush life</td>\n",
       "      <td>Zara Larsson</td>\n",
       "      <td>album</td>\n",
       "      <td>dance pop</td>\n",
       "      <td>7920553.0</td>\n",
       "      <td>0</td>\n",
       "      <td>So Good</td>\n",
       "      <td>2017-03-17</td>\n",
       "      <td>2</td>\n",
       "      <td>15</td>\n",
       "      <td>0.694</td>\n",
       "      <td>0.712</td>\n",
       "      <td>7</td>\n",
       "      <td>-3.923</td>\n",
       "      <td>0</td>\n",
       "      <td>0.0460</td>\n",
       "      <td>0.133000</td>\n",
       "      <td>0.000000</td>\n",
       "      <td>0.2110</td>\n",
       "      <td>0.799</td>\n",
       "      <td>98.022</td>\n",
       "      <td>4</td>\n",
       "      <td>pop</td>\n",
       "      <td>1335.0</td>\n",
       "      <td>1.0</td>\n",
       "      <td>1</td>\n",
       "      <td>0</td>\n",
       "      <td>104</td>\n",
       "      <td>0.0</td>\n",
       "      <td>0.0</td>\n",
       "      <td>global</td>\n",
       "      <td>3.352033</td>\n",
       "      <td>2017</td>\n",
       "      <td>3</td>\n",
       "      <td>17</td>\n",
       "      <td>4</td>\n",
       "    </tr>\n",
       "    <tr>\n",
       "      <th>83289</th>\n",
       "      <td>Global</td>\n",
       "      <td>https://open.spotify.com/track/6f3Slt0GbA2bPZl...</td>\n",
       "      <td>141.60</td>\n",
       "      <td>the business</td>\n",
       "      <td>Tiësto</td>\n",
       "      <td>single</td>\n",
       "      <td>big room</td>\n",
       "      <td>5177309.0</td>\n",
       "      <td>0</td>\n",
       "      <td>The Business</td>\n",
       "      <td>2020-09-16</td>\n",
       "      <td>1</td>\n",
       "      <td>1</td>\n",
       "      <td>0.798</td>\n",
       "      <td>0.620</td>\n",
       "      <td>8</td>\n",
       "      <td>-7.079</td>\n",
       "      <td>0</td>\n",
       "      <td>0.2320</td>\n",
       "      <td>0.414000</td>\n",
       "      <td>0.019200</td>\n",
       "      <td>0.1120</td>\n",
       "      <td>0.235</td>\n",
       "      <td>120.031</td>\n",
       "      <td>4</td>\n",
       "      <td>house</td>\n",
       "      <td>59.0</td>\n",
       "      <td>1.0</td>\n",
       "      <td>1</td>\n",
       "      <td>0</td>\n",
       "      <td>160</td>\n",
       "      <td>0.0</td>\n",
       "      <td>0.0</td>\n",
       "      <td>global</td>\n",
       "      <td>2.733333</td>\n",
       "      <td>2020</td>\n",
       "      <td>9</td>\n",
       "      <td>16</td>\n",
       "      <td>2</td>\n",
       "    </tr>\n",
       "    <tr>\n",
       "      <th>83302</th>\n",
       "      <td>Global</td>\n",
       "      <td>https://open.spotify.com/track/1xndOD8CreR5ctk...</td>\n",
       "      <td>672.25</td>\n",
       "      <td>scooby doo pa pa</td>\n",
       "      <td>Dj Kass</td>\n",
       "      <td>single</td>\n",
       "      <td>chilean hardcore</td>\n",
       "      <td>30456.0</td>\n",
       "      <td>0</td>\n",
       "      <td>Scooby Doo Pa Pa</td>\n",
       "      <td>2017-09-12</td>\n",
       "      <td>1</td>\n",
       "      <td>1</td>\n",
       "      <td>0.910</td>\n",
       "      <td>0.754</td>\n",
       "      <td>10</td>\n",
       "      <td>-2.573</td>\n",
       "      <td>0</td>\n",
       "      <td>0.2390</td>\n",
       "      <td>0.039600</td>\n",
       "      <td>0.001540</td>\n",
       "      <td>0.1220</td>\n",
       "      <td>0.630</td>\n",
       "      <td>120.939</td>\n",
       "      <td>4</td>\n",
       "      <td>dance/electronic</td>\n",
       "      <td>1159.0</td>\n",
       "      <td>1.0</td>\n",
       "      <td>1</td>\n",
       "      <td>0</td>\n",
       "      <td>88</td>\n",
       "      <td>0.0</td>\n",
       "      <td>0.0</td>\n",
       "      <td>global</td>\n",
       "      <td>2.432867</td>\n",
       "      <td>2017</td>\n",
       "      <td>9</td>\n",
       "      <td>12</td>\n",
       "      <td>1</td>\n",
       "    </tr>\n",
       "    <tr>\n",
       "      <th>83308</th>\n",
       "      <td>Global</td>\n",
       "      <td>https://open.spotify.com/track/35mvY5S1H3J2QZy...</td>\n",
       "      <td>3713.40</td>\n",
       "      <td>positions</td>\n",
       "      <td>Ariana Grande</td>\n",
       "      <td>album</td>\n",
       "      <td>dance pop</td>\n",
       "      <td>52571724.0</td>\n",
       "      <td>1</td>\n",
       "      <td>Positions</td>\n",
       "      <td>2020-10-30</td>\n",
       "      <td>12</td>\n",
       "      <td>14</td>\n",
       "      <td>0.737</td>\n",
       "      <td>0.802</td>\n",
       "      <td>0</td>\n",
       "      <td>-4.771</td>\n",
       "      <td>1</td>\n",
       "      <td>0.0878</td>\n",
       "      <td>0.468000</td>\n",
       "      <td>0.000000</td>\n",
       "      <td>0.0931</td>\n",
       "      <td>0.682</td>\n",
       "      <td>144.015</td>\n",
       "      <td>4</td>\n",
       "      <td>pop</td>\n",
       "      <td>15.0</td>\n",
       "      <td>1.0</td>\n",
       "      <td>0</td>\n",
       "      <td>1</td>\n",
       "      <td>1</td>\n",
       "      <td>1.0</td>\n",
       "      <td>1.0</td>\n",
       "      <td>global</td>\n",
       "      <td>2.872083</td>\n",
       "      <td>2020</td>\n",
       "      <td>10</td>\n",
       "      <td>30</td>\n",
       "      <td>4</td>\n",
       "    </tr>\n",
       "    <tr>\n",
       "      <th>83343</th>\n",
       "      <td>Global</td>\n",
       "      <td>https://open.spotify.com/track/7cfvP13Bqb1EyCZ...</td>\n",
       "      <td>3003.85</td>\n",
       "      <td>can’t take a joke</td>\n",
       "      <td>Drake</td>\n",
       "      <td>album</td>\n",
       "      <td>canadian hip hop</td>\n",
       "      <td>50593376.0</td>\n",
       "      <td>1</td>\n",
       "      <td>Scorpion</td>\n",
       "      <td>2018-06-29</td>\n",
       "      <td>9</td>\n",
       "      <td>25</td>\n",
       "      <td>0.878</td>\n",
       "      <td>0.432</td>\n",
       "      <td>10</td>\n",
       "      <td>-9.852</td>\n",
       "      <td>0</td>\n",
       "      <td>0.1430</td>\n",
       "      <td>0.041000</td>\n",
       "      <td>0.000000</td>\n",
       "      <td>0.0571</td>\n",
       "      <td>0.441</td>\n",
       "      <td>86.956</td>\n",
       "      <td>4</td>\n",
       "      <td>hip hop</td>\n",
       "      <td>869.0</td>\n",
       "      <td>1.0</td>\n",
       "      <td>0</td>\n",
       "      <td>1</td>\n",
       "      <td>11</td>\n",
       "      <td>0.0</td>\n",
       "      <td>1.0</td>\n",
       "      <td>global</td>\n",
       "      <td>2.732883</td>\n",
       "      <td>2018</td>\n",
       "      <td>6</td>\n",
       "      <td>29</td>\n",
       "      <td>4</td>\n",
       "    </tr>\n",
       "  </tbody>\n",
       "</table>\n",
       "<p>5423 rows × 39 columns</p>\n",
       "</div>"
      ],
      "text/plain": [
       "      country                                                uri  popularity  \\\n",
       "0      Global  https://open.spotify.com/track/6FyRXC8tJUh863J...    31833.95   \n",
       "16     Global  https://open.spotify.com/track/5xhJmd0I15jFcEd...      418.00   \n",
       "39     Global  https://open.spotify.com/track/0wJJhRgdHhT93Z3...       56.00   \n",
       "58     Global  https://open.spotify.com/track/6JSryEdVJTZq6YB...       78.40   \n",
       "80     Global  https://open.spotify.com/track/7nAfXgeHfDO50up...      244.95   \n",
       "...       ...                                                ...         ...   \n",
       "83257  Global  https://open.spotify.com/track/1rIKgCH4H52lrvD...     1896.00   \n",
       "83289  Global  https://open.spotify.com/track/6f3Slt0GbA2bPZl...      141.60   \n",
       "83302  Global  https://open.spotify.com/track/1xndOD8CreR5ctk...      672.25   \n",
       "83308  Global  https://open.spotify.com/track/35mvY5S1H3J2QZy...     3713.40   \n",
       "83343  Global  https://open.spotify.com/track/7cfvP13Bqb1EyCZ...     3003.85   \n",
       "\n",
       "                   title                     artist release_type  \\\n",
       "0             adan y eva               Paulo Londra       single   \n",
       "16       it wont kill ya  The Chainsmokers - Louane        album   \n",
       "39                  hymn                      Kesha       single   \n",
       "58                arrows               Foo Fighters        album   \n",
       "80     talking to myself                Linkin Park        album   \n",
       "...                  ...                        ...          ...   \n",
       "83257          lush life               Zara Larsson        album   \n",
       "83289       the business                     Tiësto       single   \n",
       "83302   scooby doo pa pa                    Dj Kass       single   \n",
       "83308          positions              Ariana Grande        album   \n",
       "83343  can’t take a joke                      Drake        album   \n",
       "\n",
       "               sub_genre  artist_followers explicit                   album  \\\n",
       "0      argentine hip hop        11427104.0        0              Adan y Eva   \n",
       "16             dance pop        16931568.0        0  Memories...Do Not Open   \n",
       "39             dance pop         5910376.0        1                    Hymn   \n",
       "58     alternative metal         8092392.0        0       Concrete and Gold   \n",
       "80     alternative metal        17132813.0        0          One More Light   \n",
       "...                  ...               ...      ...                     ...   \n",
       "83257          dance pop         7920553.0        0                 So Good   \n",
       "83289           big room         5177309.0        0            The Business   \n",
       "83302   chilean hardcore           30456.0        0        Scooby Doo Pa Pa   \n",
       "83308          dance pop        52571724.0        1               Positions   \n",
       "83343   canadian hip hop        50593376.0        1                Scorpion   \n",
       "\n",
       "      release_date track_number tracks_in_album  danceability  energy key  \\\n",
       "0       2018-11-05            1               1         0.767   0.709   1   \n",
       "16      2017-04-07            7              12         0.572   0.530   6   \n",
       "39      2017-08-03            1               1         0.488   0.538   6   \n",
       "58      2017-09-15            7              11         0.515   0.917   1   \n",
       "80      2017-05-19            3              10         0.593   0.712   2   \n",
       "...            ...          ...             ...           ...     ...  ..   \n",
       "83257   2017-03-17            2              15         0.694   0.712   7   \n",
       "83289   2020-09-16            1               1         0.798   0.620   8   \n",
       "83302   2017-09-12            1               1         0.910   0.754  10   \n",
       "83308   2020-10-30           12              14         0.737   0.802   0   \n",
       "83343   2018-06-29            9              25         0.878   0.432  10   \n",
       "\n",
       "       loudness mode  speechiness  acoustics  instrumentalness  liveness  \\\n",
       "0        -4.470    1       0.3360   0.323000          0.000000    0.0676   \n",
       "16       -8.521    0       0.0654   0.064700          0.000169    0.1270   \n",
       "39       -4.974    1       0.0760   0.147000          0.000000    0.3050   \n",
       "58       -7.312    1       0.0417   0.000209          0.000476    0.1450   \n",
       "80       -6.325    0       0.0286   0.001840          0.000000    0.1280   \n",
       "...         ...  ...          ...        ...               ...       ...   \n",
       "83257    -3.923    0       0.0460   0.133000          0.000000    0.2110   \n",
       "83289    -7.079    0       0.2320   0.414000          0.019200    0.1120   \n",
       "83302    -2.573    0       0.2390   0.039600          0.001540    0.1220   \n",
       "83308    -4.771    1       0.0878   0.468000          0.000000    0.0931   \n",
       "83343    -9.852    0       0.1430   0.041000          0.000000    0.0571   \n",
       "\n",
       "       valence    tempo time_signature             genre  days_since_release  \\\n",
       "0        0.720  171.993              4           hip hop               740.0   \n",
       "16       0.120  170.138              4               pop              1314.0   \n",
       "39       0.380   67.037              4               pop              1199.0   \n",
       "58       0.409  121.988              4             metal              1156.0   \n",
       "80       0.473  124.013              4             metal              1272.0   \n",
       "...        ...      ...            ...               ...                 ...   \n",
       "83257    0.799   98.022              4               pop              1335.0   \n",
       "83289    0.235  120.031              4             house                59.0   \n",
       "83302    0.630  120.939              4  dance/electronic              1159.0   \n",
       "83308    0.682  144.015              4               pop                15.0   \n",
       "83343    0.441   86.956              4           hip hop               869.0   \n",
       "\n",
       "      released_after_2017  explicit_false  explicit_true  popu_max  \\\n",
       "0                     1.0               1              0        10   \n",
       "16                    1.0               1              0        72   \n",
       "39                    1.0               0              1       131   \n",
       "58                    1.0               1              0       103   \n",
       "80                    1.0               1              0        86   \n",
       "...                   ...             ...            ...       ...   \n",
       "83257                 1.0               1              0       104   \n",
       "83289                 1.0               1              0       160   \n",
       "83302                 1.0               1              0        88   \n",
       "83308                 1.0               0              1         1   \n",
       "83343                 1.0               0              1        11   \n",
       "\n",
       "       top10_dummy  top50_dummy cluster  duration_min  release_year  \\\n",
       "0              1.0          1.0  global      4.310650          2018   \n",
       "16             0.0          0.0  global      3.626883          2017   \n",
       "39             0.0          0.0  global      3.426667          2017   \n",
       "58             0.0          0.0  global      4.436450          2017   \n",
       "80             0.0          0.0  global      3.855117          2017   \n",
       "...            ...          ...     ...           ...           ...   \n",
       "83257          0.0          0.0  global      3.352033          2017   \n",
       "83289          0.0          0.0  global      2.733333          2020   \n",
       "83302          0.0          0.0  global      2.432867          2017   \n",
       "83308          1.0          1.0  global      2.872083          2020   \n",
       "83343          0.0          1.0  global      2.732883          2018   \n",
       "\n",
       "       release_month  release_day  weekday  \n",
       "0                 11            5        0  \n",
       "16                 4            7        4  \n",
       "39                 8            3        3  \n",
       "58                 9           15        4  \n",
       "80                 5           19        4  \n",
       "...              ...          ...      ...  \n",
       "83257              3           17        4  \n",
       "83289              9           16        2  \n",
       "83302              9           12        1  \n",
       "83308             10           30        4  \n",
       "83343              6           29        4  \n",
       "\n",
       "[5423 rows x 39 columns]"
      ]
     },
     "execution_count": 18,
     "metadata": {},
     "output_type": "execute_result"
    }
   ],
   "source": [
    "df['release_date'] = pd.to_datetime(df['release_year'].astype(str) + '-' + df['release_month'].astype(str) + '-' + df['release_day'].astype(str), errors='ignore')\n",
    "df['weekday'] = df['release_date'].dt.dayofweek\n",
    "df"
   ]
  },
  {
   "cell_type": "code",
   "execution_count": 19,
   "metadata": {},
   "outputs": [
    {
     "data": {
      "text/plain": [
       "array([0, 4, 3, 2, 1, 6, 5])"
      ]
     },
     "execution_count": 19,
     "metadata": {},
     "output_type": "execute_result"
    }
   ],
   "source": [
    "df['weekday'].unique()"
   ]
  },
  {
   "cell_type": "markdown",
   "metadata": {},
   "source": [
    "#### Drop Unused Columns"
   ]
  },
  {
   "cell_type": "code",
   "execution_count": 20,
   "metadata": {},
   "outputs": [],
   "source": [
    "categorical_features = [\"title\", \n",
    "                        \"artist\", \n",
    "                        \"sub_genre\", \n",
    "                        \"album\", \n",
    "                        \"track_number\", \n",
    "                        \"tracks_in_album\", \n",
    "                        \"time_signature\", \n",
    "                        \"genre\"]"
   ]
  },
  {
   "cell_type": "code",
   "execution_count": 21,
   "metadata": {},
   "outputs": [],
   "source": [
    "numeric_features = ['popularity', 'artist_followers', 'danceability', 'energy', \n",
    "                    'loudness', 'speechiness', 'acoustics', 'instrumentalness', \n",
    "                    'liveness', 'valence', 'tempo', 'duration_min']"
   ]
  },
  {
   "cell_type": "code",
   "execution_count": 22,
   "metadata": {},
   "outputs": [],
   "source": [
    "df_selected = df[numeric_features]"
   ]
  },
  {
   "cell_type": "code",
   "execution_count": 23,
   "metadata": {},
   "outputs": [
    {
     "data": {
      "text/plain": [
       "popularity          3745\n",
       "artist_followers     963\n",
       "danceability         705\n",
       "energy               804\n",
       "loudness            3814\n",
       "speechiness         1141\n",
       "acoustics           1930\n",
       "instrumentalness    1588\n",
       "liveness            1035\n",
       "valence             1003\n",
       "tempo               4666\n",
       "duration_min        4764\n",
       "dtype: int64"
      ]
     },
     "execution_count": 23,
     "metadata": {},
     "output_type": "execute_result"
    }
   ],
   "source": [
    "df_selected.nunique(axis=0)"
   ]
  },
  {
   "cell_type": "markdown",
   "metadata": {
    "pycharm": {
     "name": "#%% md\n"
    }
   },
   "source": [
    "### Features Visualization\n",
    "Here we wanted to recap on how all the features behave in popularity and for a better visualization, we will scale the popularity values first into a 0-100 range."
   ]
  },
  {
   "cell_type": "code",
   "execution_count": 24,
   "metadata": {},
   "outputs": [],
   "source": [
    "df_scaled = df.copy()\n",
    "df_scaled['popularity'] = (df_scaled['popularity'] - df_scaled['popularity'].min()) / (df_scaled['popularity'].max() - df_scaled['popularity'].min()) * 100"
   ]
  },
  {
   "cell_type": "code",
   "execution_count": 25,
   "metadata": {},
   "outputs": [],
   "source": [
    "X = df_scaled['popularity'].values.reshape(-1,1)\n",
    "df_scaled['popularity'] = QuantileTransformer(output_distribution=\"normal\").fit_transform(X)"
   ]
  },
  {
   "cell_type": "code",
   "execution_count": 26,
   "metadata": {},
   "outputs": [
    {
     "data": {
      "image/png": "[encoded data removed]",
      "text/plain": [
       "<Figure size 720x576 with 1 Axes>"
      ]
     },
     "metadata": {
      "needs_background": "light"
     },
     "output_type": "display_data"
    }
   ],
   "source": [
    "plt.figure(figsize=(10, 8))\n",
    "sns.kdeplot(df_scaled['popularity'])\n",
    "\n",
    "plt.axvline(df_scaled['popularity'].mean(), linewidth = 2, color = 'r')\n",
    "plt.axvline(df_scaled['popularity'].median(), linewidth = 2, color = 'k')\n",
    "plt.show()"
   ]
  },
  {
   "cell_type": "code",
   "execution_count": 27,
   "metadata": {},
   "outputs": [],
   "source": [
    "df_scaled['popularity'] = (df_scaled['popularity'] - df_scaled['popularity'].min()) / (df_scaled['popularity'].max() - df_scaled['popularity'].min()) * 100"
   ]
  },
  {
   "cell_type": "code",
   "execution_count": 28,
   "metadata": {},
   "outputs": [
    {
     "data": {
      "image/png": "[encoded data removed]",
      "text/plain": [
       "<Figure size 720x576 with 1 Axes>"
      ]
     },
     "metadata": {
      "needs_background": "light"
     },
     "output_type": "display_data"
    }
   ],
   "source": [
    "plt.figure(figsize=(10, 8))\n",
    "sns.kdeplot(df_scaled['popularity'])\n",
    "\n",
    "plt.axvline(df_scaled['popularity'].mean(), linewidth = 2, color = 'r')\n",
    "plt.axvline(df_scaled['popularity'].median(), linewidth = 2, color = 'k')\n",
    "plt.show()"
   ]
  },
  {
   "cell_type": "code",
   "execution_count": 29,
   "metadata": {
    "pycharm": {
     "name": "#%%\n"
    }
   },
   "outputs": [
    {
     "data": {
      "text/plain": [
       "<Figure size 1152x576 with 0 Axes>"
      ]
     },
     "metadata": {},
     "output_type": "display_data"
    },
    {
     "data": {
      "image/png": "[encoded data removed]",
      "text/plain": [
       "<Figure size 540x180 with 3 Axes>"
      ]
     },
     "metadata": {
      "needs_background": "light"
     },
     "output_type": "display_data"
    }
   ],
   "source": [
    "plt.figure(figsize=(16, 8))\n",
    "sns.pairplot(data=df_scaled,\n",
    "                  x_vars=['artist_followers', 'loudness', 'danceability'],\n",
    "                  y_vars=['popularity'], kind=\"kde\")\n",
    "plt.show()"
   ]
  },
  {
   "cell_type": "code",
   "execution_count": 30,
   "metadata": {},
   "outputs": [
    {
     "data": {
      "text/plain": [
       "<Figure size 1152x576 with 0 Axes>"
      ]
     },
     "metadata": {},
     "output_type": "display_data"
    },
    {
     "data": {
      "image/png": "[encoded data removed]",
      "text/plain": [
       "<Figure size 720x180 with 4 Axes>"
      ]
     },
     "metadata": {
      "needs_background": "light"
     },
     "output_type": "display_data"
    }
   ],
   "source": [
    "plt.figure(figsize=(16, 8))\n",
    "sns.pairplot(data=df_scaled,\n",
    "                  x_vars=['energy', 'speechiness', 'acoustics', 'instrumentalness'],\n",
    "                  y_vars=['popularity'], kind=\"kde\")\n",
    "plt.show()"
   ]
  },
  {
   "cell_type": "code",
   "execution_count": 31,
   "metadata": {},
   "outputs": [
    {
     "data": {
      "text/plain": [
       "<seaborn.axisgrid.PairGrid at 0x7f8672c63a30>"
      ]
     },
     "execution_count": 31,
     "metadata": {},
     "output_type": "execute_result"
    },
    {
     "data": {
      "image/png": "[encoded data removed]",
      "text/plain": [
       "<Figure size 720x180 with 4 Axes>"
      ]
     },
     "metadata": {
      "needs_background": "light"
     },
     "output_type": "display_data"
    }
   ],
   "source": [
    "sns.pairplot(data=df_scaled,\n",
    "                  x_vars=['liveness', 'valence', 'tempo', 'duration_min'],\n",
    "                  y_vars=['popularity'], kind=\"kde\")"
   ]
  },
  {
   "cell_type": "markdown",
   "metadata": {},
   "source": [
    "### Modelling"
   ]
  },
  {
   "cell_type": "code",
   "execution_count": 32,
   "metadata": {},
   "outputs": [],
   "source": [
    "y = df_selected['popularity']\n",
    "X = df_selected.drop([\"popularity\"],axis=1)"
   ]
  },
  {
   "cell_type": "markdown",
   "metadata": {},
   "source": [
    "#### 1. Linear Regression\n",
    "\n",
    "First, we would like to see how our numerical features perform first."
   ]
  },
  {
   "cell_type": "code",
   "execution_count": 33,
   "metadata": {},
   "outputs": [],
   "source": [
    "from sklearn.model_selection import train_test_split\n",
    "from sklearn import metrics\n",
    "from sklearn.model_selection import cross_val_score\n",
    "\n",
    "X_train, X_test, y_train, y_test = train_test_split(X, y, test_size=0.2, random_state=1)\n",
    "\n",
    "def print_evaluate(true, predicted):  \n",
    "    mae = metrics.mean_absolute_error(true, predicted)\n",
    "    mse = metrics.mean_squared_error(true, predicted)\n",
    "    rmse = np.sqrt(metrics.mean_squared_error(true, predicted))\n",
    "    r2_square = metrics.r2_score(true, predicted)\n",
    "    print('MAE:', mae)\n",
    "    print('MSE:', mse)\n",
    "    print('RMSE:', rmse)\n",
    "    print('R2 Square', r2_square)\n",
    "    print('__________________________________')\n",
    "    \n",
    "def evaluate(true, predicted):\n",
    "    mae = metrics.mean_absolute_error(true, predicted)\n",
    "    mse = metrics.mean_squared_error(true, predicted)\n",
    "    rmse = np.sqrt(metrics.mean_squared_error(true, predicted))\n",
    "    r2_square = metrics.r2_score(true, predicted)\n",
    "    return mae, mse, rmse, r2_square\n",
    "\n",
    "def cross_val(model):\n",
    "    pred = cross_val_score(model, X, y, cv=10)\n",
    "    return pred.mean()"
   ]
  },
  {
   "cell_type": "code",
   "execution_count": 34,
   "metadata": {},
   "outputs": [
    {
     "name": "stdout",
     "output_type": "stream",
     "text": [
      "Test set evaluation:\n",
      "_____________________________________\n",
      "MAE: 6359.961746138566\n",
      "MSE: 128376427.5868267\n",
      "RMSE: 11330.332192253973\n",
      "R2 Square 0.044329457839639375\n",
      "__________________________________\n",
      "Train set evaluation:\n",
      "_____________________________________\n",
      "MAE: 6287.137355624665\n",
      "MSE: 146544565.52474362\n",
      "RMSE: 12105.559281782218\n",
      "R2 Square 0.04482676805922747\n",
      "__________________________________\n"
     ]
    }
   ],
   "source": [
    "from sklearn.linear_model import LinearRegression\n",
    "\n",
    "lm = LinearRegression()\n",
    "lm.fit(X_train, y_train)\n",
    "train_pred = lm.predict(X_train)\n",
    "test_pred = lm.predict(X_test)\n",
    "\n",
    "print('Test set evaluation:\\n_____________________________________')\n",
    "print_evaluate(y_test, test_pred)\n",
    "\n",
    "print('Train set evaluation:\\n_____________________________________')\n",
    "print_evaluate(y_train, train_pred)\n",
    "\n",
    "results_df = pd.DataFrame(data=[[\"Linear Regression\", *evaluate(y_test, test_pred) , cross_val(LinearRegression())]], \n",
    "                          columns=['Model', 'MAE', 'MSE', 'RMSE', 'R2 Square', \"Cross Validation\"])"
   ]
  },
  {
   "cell_type": "markdown",
   "metadata": {},
   "source": [
    "The lower value of MAE, MSE, and RMSE implies higher accuracy of a regression model. However, a higher value of R square is considered desirable."
   ]
  },
  {
   "cell_type": "markdown",
   "metadata": {},
   "source": [
    "R-squared is always between 0 and 100%:\n",
    "\n",
    "- 0% represents a model that does not explain any of the variation in the response variable around its mean. The mean of the dependent variable predicts the dependent variable as well as the regression model.\n",
    "- 100% represents a model that explains all the variation in the response variable around its mean.\n",
    "\n",
    "So, if the R2 of a model is 0.50, then approximately half of the observed variation can be explained by the model’s inputs. And by our case, it's almost near zero, then the model doesn't represent the overall variance of the variables."
   ]
  },
  {
   "cell_type": "code",
   "execution_count": 35,
   "metadata": {},
   "outputs": [
    {
     "data": {
      "image/png": "[encoded data removed]",
      "text/plain": [
       "<Figure size 432x288 with 1 Axes>"
      ]
     },
     "metadata": {
      "needs_background": "light"
     },
     "output_type": "display_data"
    }
   ],
   "source": [
    "# Visualizing the differences between actual prices and predicted values\n",
    "plt.scatter(y_train, train_pred)\n",
    "plt.xlabel(\"Popularity\")\n",
    "plt.ylabel(\"Predicted popularity\")\n",
    "plt.title(\"Popularity vs Predicted popularity\")\n",
    "plt.show()"
   ]
  },
  {
   "cell_type": "code",
   "execution_count": 36,
   "metadata": {},
   "outputs": [
    {
     "data": {
      "image/png": "[encoded data removed]",
      "text/plain": [
       "<Figure size 432x288 with 1 Axes>"
      ]
     },
     "metadata": {
      "needs_background": "light"
     },
     "output_type": "display_data"
    }
   ],
   "source": [
    "# Checking residuals\n",
    "plt.scatter(train_pred,y_train-train_pred)\n",
    "plt.title(\"Predicted vs residuals\")\n",
    "plt.xlabel(\"Predicted\")\n",
    "plt.ylabel(\"Residuals\")\n",
    "plt.show()"
   ]
  },
  {
   "cell_type": "code",
   "execution_count": 37,
   "metadata": {},
   "outputs": [
    {
     "data": {
      "image/png": "[encoded data removed]",
      "text/plain": [
       "<Figure size 432x288 with 1 Axes>"
      ]
     },
     "metadata": {
      "needs_background": "light"
     },
     "output_type": "display_data"
    }
   ],
   "source": [
    "# Checking Normality of errors\n",
    "sns.distplot(y_train-train_pred)\n",
    "plt.title(\"Histogram of Residuals\")\n",
    "plt.xlabel(\"Residuals\")\n",
    "plt.ylabel(\"Frequency\")\n",
    "plt.show()"
   ]
  },
  {
   "cell_type": "code",
   "execution_count": 38,
   "metadata": {},
   "outputs": [
    {
     "data": {
      "image/png": "[encoded data removed]",
      "text/plain": [
       "<Figure size 576x396 with 1 Axes>"
      ]
     },
     "metadata": {},
     "output_type": "display_data"
    },
    {
     "data": {
      "text/plain": [
       "<AxesSubplot:title={'center':'Prediction Error for LinearRegression'}, xlabel='$y$', ylabel='$\\\\hat{y}$'>"
      ]
     },
     "execution_count": 38,
     "metadata": {},
     "output_type": "execute_result"
    }
   ],
   "source": [
    "from yellowbrick.regressor import PredictionError\n",
    "visualizer = PredictionError(lm)\n",
    "\n",
    "visualizer.fit(X_train, y_train)  # Fit the training data to the visualizer\n",
    "visualizer.score(X_test, y_test)  # Evaluate the model on the test data\n",
    "visualizer.show()                 # Finalize and render the figure"
   ]
  },
  {
   "cell_type": "markdown",
   "metadata": {},
   "source": [
    "#### 2. Random Forest Regressor"
   ]
  },
  {
   "cell_type": "code",
   "execution_count": 47,
   "metadata": {},
   "outputs": [
    {
     "name": "stdout",
     "output_type": "stream",
     "text": [
      "Test set evaluation:\n",
      "_____________________________________\n",
      "MAE: 7083.630972506803\n",
      "MSE: 144509930.01940042\n",
      "RMSE: 12021.228307431833\n",
      "R2 Square -0.07577291069102499\n",
      "__________________________________\n",
      "Train set evaluation:\n",
      "_____________________________________\n",
      "MAE: 2560.1868664299686\n",
      "MSE: 24639197.331109952\n",
      "RMSE: 4963.78860660987\n",
      "R2 Square 0.8394024257200519\n",
      "__________________________________\n"
     ]
    }
   ],
   "source": [
    "from sklearn.ensemble import RandomForestRegressor\n",
    "\n",
    "rf_reg = RandomForestRegressor(n_estimators=500)\n",
    "rf_reg.fit(X_train, y_train)\n",
    "\n",
    "test_pred = rf_reg.predict(X_test)\n",
    "train_pred = rf_reg.predict(X_train)\n",
    "\n",
    "print('Test set evaluation:\\n_____________________________________')\n",
    "print_evaluate(y_test, test_pred)\n",
    "\n",
    "print('Train set evaluation:\\n_____________________________________')\n",
    "print_evaluate(y_train, train_pred)\n",
    "\n",
    "results_df_2 = pd.DataFrame(data=[[\"Random Forest Regressor\", *evaluate(y_test, test_pred), 0]], \n",
    "                            columns=['Model', 'MAE', 'MSE', 'RMSE', 'R2 Square', 'Cross Validation'])\n",
    "results_df = results_df.append(results_df_2, ignore_index=True)"
   ]
  },
  {
   "cell_type": "code",
   "execution_count": 40,
   "metadata": {},
   "outputs": [
    {
     "data": {
      "image/png": "[encoded data removed]",
      "text/plain": [
       "<Figure size 576x396 with 1 Axes>"
      ]
     },
     "metadata": {},
     "output_type": "display_data"
    }
   ],
   "source": [
    "# Visualizing the differences between actual prices and predicted values\n",
    "plt.scatter(y_train, train_pred)\n",
    "plt.xlabel(\"Popularity\")\n",
    "plt.ylabel(\"Predicted popularity\")\n",
    "plt.title(\"Popularity vs Predicted popularity\")\n",
    "plt.show()"
   ]
  },
  {
   "cell_type": "code",
   "execution_count": 41,
   "metadata": {},
   "outputs": [
    {
     "data": {
      "image/png": "[encoded data removed]",
      "text/plain": [
       "<Figure size 576x396 with 1 Axes>"
      ]
     },
     "metadata": {},
     "output_type": "display_data"
    }
   ],
   "source": [
    "# Checking residuals\n",
    "plt.scatter(train_pred,y_train-train_pred)\n",
    "plt.title(\"Predicted vs residuals\")\n",
    "plt.xlabel(\"Predicted\")\n",
    "plt.ylabel(\"Residuals\")\n",
    "plt.show()"
   ]
  },
  {
   "cell_type": "code",
   "execution_count": 42,
   "metadata": {},
   "outputs": [
    {
     "data": {
      "image/png": "[encoded data removed]",
      "text/plain": [
       "<Figure size 576x396 with 1 Axes>"
      ]
     },
     "metadata": {},
     "output_type": "display_data"
    }
   ],
   "source": [
    "# Checking Normality of errors\n",
    "sns.distplot(y_train-train_pred)\n",
    "plt.title(\"Histogram of Residuals\")\n",
    "plt.xlabel(\"Residuals\")\n",
    "plt.ylabel(\"Frequency\")\n",
    "plt.show()"
   ]
  },
  {
   "cell_type": "code",
   "execution_count": 43,
   "metadata": {},
   "outputs": [
    {
     "data": {
      "image/png": "[encoded data removed]",
      "text/plain": [
       "<Figure size 576x396 with 1 Axes>"
      ]
     },
     "metadata": {},
     "output_type": "display_data"
    },
    {
     "data": {
      "text/plain": [
       "<AxesSubplot:title={'center':'Prediction Error for RandomForestRegressor'}, xlabel='$y$', ylabel='$\\\\hat{y}$'>"
      ]
     },
     "execution_count": 43,
     "metadata": {},
     "output_type": "execute_result"
    }
   ],
   "source": [
    "from yellowbrick.regressor import PredictionError\n",
    "visualizer = PredictionError(rf_reg)\n",
    "\n",
    "visualizer.fit(X_train, y_train)  # Fit the training data to the visualizer\n",
    "visualizer.score(X_test, y_test)  # Evaluate the model on the test data\n",
    "visualizer.show()                 # Finalize and render the figure"
   ]
  },
  {
   "cell_type": "markdown",
   "metadata": {},
   "source": [
    "#### 3. Lasso Regression"
   ]
  },
  {
   "cell_type": "code",
   "execution_count": 44,
   "metadata": {},
   "outputs": [
    {
     "name": "stdout",
     "output_type": "stream",
     "text": [
      "Test set evaluation:\n",
      "_____________________________________\n",
      "MAE: 6388.927109882322\n",
      "MSE: 128953138.31233971\n",
      "RMSE: 11355.75353344461\n",
      "R2 Square 0.04003625960939616\n",
      "__________________________________\n",
      "====================================\n",
      "Train set evaluation:\n",
      "_____________________________________\n",
      "MAE: 6325.4852380810935\n",
      "MSE: 147856206.4048182\n",
      "RMSE: 12159.61374406351\n",
      "R2 Square 0.03627753080788132\n",
      "__________________________________\n"
     ]
    }
   ],
   "source": [
    "from sklearn.linear_model import Lasso\n",
    "\n",
    "model = Lasso(alpha=0.1, \n",
    "              precompute=True, \n",
    "#               warm_start=True, \n",
    "              positive=True, \n",
    "              selection='random',\n",
    "              random_state=42)\n",
    "model.fit(X_train, y_train)\n",
    "\n",
    "test_pred = model.predict(X_test)\n",
    "train_pred = model.predict(X_train)\n",
    "\n",
    "print('Test set evaluation:\\n_____________________________________')\n",
    "print_evaluate(y_test, test_pred)\n",
    "print('====================================')\n",
    "print('Train set evaluation:\\n_____________________________________')\n",
    "print_evaluate(y_train, train_pred)\n",
    "\n",
    "results_df_2 = pd.DataFrame(data=[[\"Lasso Regression\", *evaluate(y_test, test_pred) , cross_val(Lasso())]], \n",
    "                            columns=['Model', 'MAE', 'MSE', 'RMSE', 'R2 Square', \"Cross Validation\"])\n",
    "results_df = results_df.append(results_df_2, ignore_index=True)"
   ]
  },
  {
   "cell_type": "markdown",
   "metadata": {},
   "source": [
    "#### 4. Elastic Net"
   ]
  },
  {
   "cell_type": "code",
   "execution_count": 45,
   "metadata": {},
   "outputs": [
    {
     "name": "stdout",
     "output_type": "stream",
     "text": [
      "Test set evaluation:\n",
      "_____________________________________\n",
      "MAE: 6359.636386830688\n",
      "MSE: 128348281.34683517\n",
      "RMSE: 11329.09004937445\n",
      "R2 Square 0.04453898643408705\n",
      "__________________________________\n",
      "====================================\n",
      "Train set evaluation:\n",
      "_____________________________________\n",
      "MAE: 6282.021520701209\n",
      "MSE: 146785489.23943377\n",
      "RMSE: 12115.506148710163\n",
      "R2 Square 0.04325643426767567\n",
      "__________________________________\n"
     ]
    }
   ],
   "source": [
    "from sklearn.linear_model import ElasticNet\n",
    "\n",
    "model = ElasticNet(alpha=0.1, l1_ratio=0.9, selection='random', random_state=42)\n",
    "model.fit(X_train, y_train)\n",
    "\n",
    "test_pred = model.predict(X_test)\n",
    "train_pred = model.predict(X_train)\n",
    "\n",
    "print('Test set evaluation:\\n_____________________________________')\n",
    "print_evaluate(y_test, test_pred)\n",
    "print('====================================')\n",
    "print('Train set evaluation:\\n_____________________________________')\n",
    "print_evaluate(y_train, train_pred)\n",
    "\n",
    "results_df_2 = pd.DataFrame(data=[[\"Elastic Net Regression\", *evaluate(y_test, test_pred) , cross_val(ElasticNet())]], \n",
    "                            columns=['Model', 'MAE', 'MSE', 'RMSE', 'R2 Square', \"Cross Validation\"])\n",
    "results_df = results_df.append(results_df_2, ignore_index=True)"
   ]
  },
  {
   "cell_type": "code",
   "execution_count": 46,
   "metadata": {},
   "outputs": [
    {
     "data": {
      "text/html": [
       "<div>\n",
       "<style scoped>\n",
       "    .dataframe tbody tr th:only-of-type {\n",
       "        vertical-align: middle;\n",
       "    }\n",
       "\n",
       "    .dataframe tbody tr th {\n",
       "        vertical-align: top;\n",
       "    }\n",
       "\n",
       "    .dataframe thead th {\n",
       "        text-align: right;\n",
       "    }\n",
       "</style>\n",
       "<table border=\"1\" class=\"dataframe\">\n",
       "  <thead>\n",
       "    <tr style=\"text-align: right;\">\n",
       "      <th></th>\n",
       "      <th>Model</th>\n",
       "      <th>MAE</th>\n",
       "      <th>MSE</th>\n",
       "      <th>RMSE</th>\n",
       "      <th>R2 Square</th>\n",
       "      <th>Cross Validation</th>\n",
       "    </tr>\n",
       "  </thead>\n",
       "  <tbody>\n",
       "    <tr>\n",
       "      <th>0</th>\n",
       "      <td>Linear Regression</td>\n",
       "      <td>6359.961746</td>\n",
       "      <td>1.283764e+08</td>\n",
       "      <td>11330.332192</td>\n",
       "      <td>0.044329</td>\n",
       "      <td>0.037863</td>\n",
       "    </tr>\n",
       "    <tr>\n",
       "      <th>1</th>\n",
       "      <td>Random Forest Regressor</td>\n",
       "      <td>7082.786155</td>\n",
       "      <td>1.445545e+08</td>\n",
       "      <td>12023.082898</td>\n",
       "      <td>-0.076105</td>\n",
       "      <td>0.000000</td>\n",
       "    </tr>\n",
       "    <tr>\n",
       "      <th>2</th>\n",
       "      <td>Lasso Regression</td>\n",
       "      <td>6388.927110</td>\n",
       "      <td>1.289531e+08</td>\n",
       "      <td>11355.753533</td>\n",
       "      <td>0.040036</td>\n",
       "      <td>0.037879</td>\n",
       "    </tr>\n",
       "    <tr>\n",
       "      <th>3</th>\n",
       "      <td>Elastic Net Regression</td>\n",
       "      <td>6359.636387</td>\n",
       "      <td>1.283483e+08</td>\n",
       "      <td>11329.090049</td>\n",
       "      <td>0.044539</td>\n",
       "      <td>0.028449</td>\n",
       "    </tr>\n",
       "  </tbody>\n",
       "</table>\n",
       "</div>"
      ],
      "text/plain": [
       "                     Model          MAE           MSE          RMSE  \\\n",
       "0        Linear Regression  6359.961746  1.283764e+08  11330.332192   \n",
       "1  Random Forest Regressor  7082.786155  1.445545e+08  12023.082898   \n",
       "2         Lasso Regression  6388.927110  1.289531e+08  11355.753533   \n",
       "3   Elastic Net Regression  6359.636387  1.283483e+08  11329.090049   \n",
       "\n",
       "   R2 Square  Cross Validation  \n",
       "0   0.044329          0.037863  \n",
       "1  -0.076105          0.000000  \n",
       "2   0.040036          0.037879  \n",
       "3   0.044539          0.028449  "
      ]
     },
     "execution_count": 46,
     "metadata": {},
     "output_type": "execute_result"
    }
   ],
   "source": [
    "results_df"
   ]
  },
  {
   "cell_type": "markdown",
   "metadata": {},
   "source": [
    "From all of regression algorithms that we tried, random forest regressor turns out to be the best among all of them even though the error rate still remains high and R-squared is still low, which means that the model is not a good fit for now. However, for the next steps, we'll try to focus on lowering the error rate by doing some hyperparameter tuning using random forest regressor since all the linear methods didn't give us satisfying results. And, we'd also like to try popularity classification in the upcoming weeks."
   ]
  }
 ],
 "metadata": {
  "kernelspec": {
   "display_name": "Python 3 (ipykernel)",
   "language": "python",
   "name": "python3"
  },
  "language_info": {
   "codemirror_mode": {
    "name": "ipython",
    "version": 3
   },
   "file_extension": ".py",
   "mimetype": "text/x-python",
   "name": "python",
   "nbconvert_exporter": "python",
   "pygments_lexer": "ipython3",
   "version": "3.9.12"
  }
 },
 "nbformat": 4,
 "nbformat_minor": 1
}
