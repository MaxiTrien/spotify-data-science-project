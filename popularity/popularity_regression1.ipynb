{
 "cells": [
  {
   "cell_type": "markdown",
   "metadata": {},
   "source": [
    "# Popularity Regression 1"
   ]
  },
  {
   "cell_type": "code",
   "execution_count": 1,
   "metadata": {
    "pycharm": {
     "name": "#%%\n"
    }
   },
   "outputs": [],
   "source": [
    "import pandas as pd\n",
    "import numpy as np\n",
    "import matplotlib.pyplot as plt\n",
    "import seaborn as sns\n",
    "import warnings\n",
    "import colorcet as cc\n",
    "import plotly.express as px\n",
    "\n",
    "from sklearn.preprocessing import RobustScaler\n",
    "from sklearn.preprocessing import Normalizer\n",
    "from sklearn.preprocessing import QuantileTransformer\n",
    "from sklearn.preprocessing import PowerTransformer\n",
    "\n",
    "warnings.filterwarnings(\"ignore\")\n",
    "pd.set_option('display.max_columns', None)\n",
    "pd.set_option('display.max_rows', 500)\n",
    "%matplotlib inline\n",
    "\n",
    "config = {\n",
    "  'toImageButtonOptions': {\n",
    "    'format': 'png', # one of png, svg, jpeg, webp\n",
    "    'filename': 'newplot',\n",
    "    'height': 500,\n",
    "    'width': 900,\n",
    "    'scale': 5 # Multiply title/legend/axis/canvas sizes by this factor\n",
    "  }\n",
    "}"
   ]
  },
  {
   "cell_type": "code",
   "execution_count": 2,
   "metadata": {
    "pycharm": {
     "name": "#%%\n"
    }
   },
   "outputs": [],
   "source": [
    "df=pd.read_pickle('./dataset_/dataset_cleaned_popularity.pkl')\n",
    "df.drop(columns=['index', 'level_0'], inplace=True)  # Comes from pickeling the file\n",
    "df.reset_index(drop=True, inplace=True)"
   ]
  },
  {
   "cell_type": "code",
   "execution_count": 3,
   "metadata": {
    "pycharm": {
     "name": "#%%\n"
    }
   },
   "outputs": [
    {
     "data": {
      "text/plain": [
       "count    166681.000000\n",
       "mean       5511.366120\n",
       "std       13236.831027\n",
       "min           0.800000\n",
       "25%          78.400000\n",
       "50%         530.400000\n",
       "75%        3995.050000\n",
       "max      233766.900000\n",
       "Name: popularity, dtype: float64"
      ]
     },
     "execution_count": 3,
     "metadata": {},
     "output_type": "execute_result"
    }
   ],
   "source": [
    "df['popularity'].describe()"
   ]
  },
  {
   "cell_type": "markdown",
   "metadata": {
    "pycharm": {
     "name": "#%% md\n"
    }
   },
   "source": [
    "## Popularity Prediction\n",
    "This week, we started to work on our predictive mining tasks, one of them is song popularity prediction. By the end of this project, we hope that we can see what is the typical song that is getting more popular than the others in Spotify. We got two ideas in mind, which are popularity score prediction and popularity classification (popular / not popular)."
   ]
  },
  {
   "cell_type": "markdown",
   "metadata": {
    "pycharm": {
     "name": "#%% md\n"
    }
   },
   "source": [
    "### Data Pre-processing\n",
    "Before jump into the main modelling task, here we'll process all of our our possible features based on its data type:\n",
    "\n",
    "**Numerical Features**\n",
    "* popularity\n",
    "* artist_followers\n",
    "* danceability\n",
    "* energy\n",
    "* loudness\n",
    "* speechiness\n",
    "* acoustics\n",
    "* instrumentalness\n",
    "* liveness\n",
    "* valence\n",
    "* duration_min\n",
    "\n",
    "**Categorical Features**\n",
    "* explicit\n",
    "* key\n",
    "* mode\n",
    "* release_day\n",
    "\n",
    "For the first round selection, we selected the features based on our knowledge and common sense, later we'll try to fit in all these features into some models first and see how they perform.\n",
    "#### Popularity\n",
    "The original value of our popularity score is the calculation of number of days and position they stayed in the Top 200 Playlist and the score is also difference for each country."
   ]
  },
  {
   "cell_type": "code",
   "execution_count": 4,
   "metadata": {
    "pycharm": {
     "name": "#%%\n"
    }
   },
   "outputs": [
    {
     "data": {
      "text/html": [
       "<div>\n",
       "<style scoped>\n",
       "    .dataframe tbody tr th:only-of-type {\n",
       "        vertical-align: middle;\n",
       "    }\n",
       "\n",
       "    .dataframe tbody tr th {\n",
       "        vertical-align: top;\n",
       "    }\n",
       "\n",
       "    .dataframe thead th {\n",
       "        text-align: right;\n",
       "    }\n",
       "</style>\n",
       "<table border=\"1\" class=\"dataframe\">\n",
       "  <thead>\n",
       "    <tr style=\"text-align: right;\">\n",
       "      <th></th>\n",
       "      <th>country</th>\n",
       "      <th>artist</th>\n",
       "      <th>title</th>\n",
       "      <th>album</th>\n",
       "      <th>popularity</th>\n",
       "    </tr>\n",
       "  </thead>\n",
       "  <tbody>\n",
       "    <tr>\n",
       "      <th>52226</th>\n",
       "      <td>Belgium</td>\n",
       "      <td>Ed Sheeran</td>\n",
       "      <td>shape of you</td>\n",
       "      <td>÷ (Deluxe)</td>\n",
       "      <td>233766.9</td>\n",
       "    </tr>\n",
       "    <tr>\n",
       "      <th>52232</th>\n",
       "      <td>Costa Rica</td>\n",
       "      <td>Ed Sheeran</td>\n",
       "      <td>shape of you</td>\n",
       "      <td>÷ (Deluxe)</td>\n",
       "      <td>228707.2</td>\n",
       "    </tr>\n",
       "    <tr>\n",
       "      <th>52220</th>\n",
       "      <td>Global</td>\n",
       "      <td>Ed Sheeran</td>\n",
       "      <td>shape of you</td>\n",
       "      <td>÷ (Deluxe)</td>\n",
       "      <td>221571.0</td>\n",
       "    </tr>\n",
       "    <tr>\n",
       "      <th>30287</th>\n",
       "      <td>Philippines</td>\n",
       "      <td>James Arthur</td>\n",
       "      <td>say you wont let go</td>\n",
       "      <td>Back from the Edge</td>\n",
       "      <td>217605.8</td>\n",
       "    </tr>\n",
       "    <tr>\n",
       "      <th>52252</th>\n",
       "      <td>Singapore</td>\n",
       "      <td>Ed Sheeran</td>\n",
       "      <td>shape of you</td>\n",
       "      <td>÷ (Deluxe)</td>\n",
       "      <td>217307.4</td>\n",
       "    </tr>\n",
       "  </tbody>\n",
       "</table>\n",
       "</div>"
      ],
      "text/plain": [
       "           country        artist                title               album  \\\n",
       "52226      Belgium    Ed Sheeran         shape of you          ÷ (Deluxe)   \n",
       "52232   Costa Rica    Ed Sheeran         shape of you          ÷ (Deluxe)   \n",
       "52220       Global    Ed Sheeran         shape of you          ÷ (Deluxe)   \n",
       "30287  Philippines  James Arthur  say you wont let go  Back from the Edge   \n",
       "52252    Singapore    Ed Sheeran         shape of you          ÷ (Deluxe)   \n",
       "\n",
       "       popularity  \n",
       "52226    233766.9  \n",
       "52232    228707.2  \n",
       "52220    221571.0  \n",
       "30287    217605.8  \n",
       "52252    217307.4  "
      ]
     },
     "execution_count": 4,
     "metadata": {},
     "output_type": "execute_result"
    }
   ],
   "source": [
    "df.sort_values(by='popularity', ascending=False).head(5)[['country', 'artist', 'title', 'album', 'popularity']]"
   ]
  },
  {
   "cell_type": "markdown",
   "metadata": {
    "pycharm": {
     "name": "#%% md\n"
    }
   },
   "source": [
    "As you can see in the table, there are multiple countries that have \"Shape of You\" as their top popular song, and this also means that this song is very popular compared to a song that only appears in one coutnry top playlist, right?\n",
    "\n",
    "So, in order to get a unique song popularity score, we decided to sum up the every country's popularity score for each song, since the higher value they got, means the more popular they are."
   ]
  },
  {
   "cell_type": "code",
   "execution_count": 5,
   "metadata": {
    "pycharm": {
     "name": "#%%\n"
    },
    "scrolled": true
   },
   "outputs": [
    {
     "data": {
      "text/html": [
       "<div>\n",
       "<style scoped>\n",
       "    .dataframe tbody tr th:only-of-type {\n",
       "        vertical-align: middle;\n",
       "    }\n",
       "\n",
       "    .dataframe tbody tr th {\n",
       "        vertical-align: top;\n",
       "    }\n",
       "\n",
       "    .dataframe thead th {\n",
       "        text-align: right;\n",
       "    }\n",
       "</style>\n",
       "<table border=\"1\" class=\"dataframe\">\n",
       "  <thead>\n",
       "    <tr style=\"text-align: right;\">\n",
       "      <th></th>\n",
       "      <th>artist</th>\n",
       "      <th>title</th>\n",
       "      <th>album</th>\n",
       "      <th>popularity</th>\n",
       "    </tr>\n",
       "  </thead>\n",
       "  <tbody>\n",
       "    <tr>\n",
       "      <th>44367</th>\n",
       "      <td>Ed Sheeran</td>\n",
       "      <td>shape of you</td>\n",
       "      <td>÷ (Deluxe)</td>\n",
       "      <td>5732932.35</td>\n",
       "    </tr>\n",
       "    <tr>\n",
       "      <th>11089</th>\n",
       "      <td>Tones And I</td>\n",
       "      <td>dance monkey</td>\n",
       "      <td>Dance Monkey</td>\n",
       "      <td>3624590.65</td>\n",
       "    </tr>\n",
       "    <tr>\n",
       "      <th>38669</th>\n",
       "      <td>Ed Sheeran</td>\n",
       "      <td>perfect</td>\n",
       "      <td>÷ (Deluxe)</td>\n",
       "      <td>2933691.50</td>\n",
       "    </tr>\n",
       "    <tr>\n",
       "      <th>4480</th>\n",
       "      <td>Billie Eilish</td>\n",
       "      <td>bad guy</td>\n",
       "      <td>WHEN WE ALL FALL ASLEEP, WHERE DO WE GO?</td>\n",
       "      <td>2812179.25</td>\n",
       "    </tr>\n",
       "    <tr>\n",
       "      <th>44341</th>\n",
       "      <td>Lady Gaga - Bradley Cooper</td>\n",
       "      <td>shallow</td>\n",
       "      <td>A Star Is Born Soundtrack</td>\n",
       "      <td>2600171.85</td>\n",
       "    </tr>\n",
       "  </tbody>\n",
       "</table>\n",
       "</div>"
      ],
      "text/plain": [
       "                           artist         title  \\\n",
       "44367                  Ed Sheeran  shape of you   \n",
       "11089                 Tones And I  dance monkey   \n",
       "38669                  Ed Sheeran       perfect   \n",
       "4480                Billie Eilish       bad guy   \n",
       "44341  Lady Gaga - Bradley Cooper       shallow   \n",
       "\n",
       "                                          album  popularity  \n",
       "44367                                ÷ (Deluxe)  5732932.35  \n",
       "11089                              Dance Monkey  3624590.65  \n",
       "38669                                ÷ (Deluxe)  2933691.50  \n",
       "4480   WHEN WE ALL FALL ASLEEP, WHERE DO WE GO?  2812179.25  \n",
       "44341                 A Star Is Born Soundtrack  2600171.85  "
      ]
     },
     "execution_count": 5,
     "metadata": {},
     "output_type": "execute_result"
    }
   ],
   "source": [
    "df = df.groupby(['title', 'artist', 'release_type', 'sub_genre', 'artist_followers', 'explicit', 'album', 'track_number', 'tracks_in_album', 'danceability', 'energy', 'key', 'loudness', 'mode', 'speechiness', 'acoustics', 'instrumentalness', 'liveness', 'valence', 'tempo', 'time_signature', 'genre', 'duration_min', 'release_year', 'release_month', 'release_day'])['popularity'].sum().reset_index(name='popularity')\n",
    "df.sort_values(by='popularity', ascending=False).head(5)[['artist', 'title', 'album', 'popularity']]"
   ]
  },
  {
   "cell_type": "code",
   "execution_count": 6,
   "metadata": {
    "pycharm": {
     "name": "#%%\n"
    }
   },
   "outputs": [
    {
     "name": "stdout",
     "output_type": "stream",
     "text": [
      "<class 'pandas.core.frame.DataFrame'>\n",
      "RangeIndex: 59492 entries, 0 to 59491\n",
      "Data columns (total 27 columns):\n",
      " #   Column            Non-Null Count  Dtype  \n",
      "---  ------            --------------  -----  \n",
      " 0   title             59492 non-null  object \n",
      " 1   artist            59492 non-null  object \n",
      " 2   release_type      59492 non-null  object \n",
      " 3   sub_genre         59492 non-null  object \n",
      " 4   artist_followers  59492 non-null  float64\n",
      " 5   explicit          59492 non-null  object \n",
      " 6   album             59492 non-null  object \n",
      " 7   track_number      59492 non-null  object \n",
      " 8   tracks_in_album   59492 non-null  object \n",
      " 9   danceability      59492 non-null  float64\n",
      " 10  energy            59492 non-null  float64\n",
      " 11  key               59492 non-null  object \n",
      " 12  loudness          59492 non-null  float64\n",
      " 13  mode              59492 non-null  object \n",
      " 14  speechiness       59492 non-null  float64\n",
      " 15  acoustics         59492 non-null  float64\n",
      " 16  instrumentalness  59492 non-null  float64\n",
      " 17  liveness          59492 non-null  float64\n",
      " 18  valence           59492 non-null  float64\n",
      " 19  tempo             59492 non-null  float64\n",
      " 20  time_signature    59492 non-null  object \n",
      " 21  genre             59492 non-null  object \n",
      " 22  duration_min      59492 non-null  float64\n",
      " 23  release_year      59492 non-null  int64  \n",
      " 24  release_month     59492 non-null  int64  \n",
      " 25  release_day       59492 non-null  int64  \n",
      " 26  popularity        59492 non-null  float64\n",
      "dtypes: float64(12), int64(3), object(12)\n",
      "memory usage: 12.3+ MB\n"
     ]
    }
   ],
   "source": [
    "df.info()"
   ]
  },
  {
   "cell_type": "markdown",
   "metadata": {
    "pycharm": {
     "name": "#%% md\n"
    }
   },
   "source": [
    "As a result, we got 59,492 unique songs."
   ]
  },
  {
   "cell_type": "markdown",
   "metadata": {
    "pycharm": {
     "name": "#%% md\n"
    }
   },
   "source": [
    "The mean is way too shifted to the left, even from 59k songs, 51k songs are below average, because the dataset has a few extreme popular songs. But it's not possible to enrich the data again, because the calculation of popularity in our dataset is different between the Spotify one. Consequently, we'll work on the data as it is."
   ]
  },
  {
   "cell_type": "code",
   "execution_count": 7,
   "metadata": {
    "pycharm": {
     "name": "#%%\n"
    }
   },
   "outputs": [
    {
     "data": {
      "image/png": "[encoded data removed]",
      "text/plain": [
       "<Figure size 720x576 with 1 Axes>"
      ]
     },
     "metadata": {
      "needs_background": "light"
     },
     "output_type": "display_data"
    }
   ],
   "source": [
    "plt.figure(figsize=(10, 8))\n",
    "sns.kdeplot(df['popularity'])\n",
    "\n",
    "plt.axvline(df['popularity'].mean(), linewidth = 2, color = 'r')\n",
    "plt.axvline(df['popularity'].median(), linewidth = 2, color = 'k')\n",
    "plt.show()"
   ]
  },
  {
   "cell_type": "code",
   "execution_count": 8,
   "metadata": {
    "pycharm": {
     "name": "#%%\n"
    }
   },
   "outputs": [
    {
     "data": {
      "image/png": "[encoded data removed]",
      "text/plain": [
       "<Figure size 720x576 with 1 Axes>"
      ]
     },
     "metadata": {
      "needs_background": "light"
     },
     "output_type": "display_data"
    }
   ],
   "source": [
    "plt.figure(figsize=(10, 8))\n",
    "sns.kdeplot(df['popularity'])\n",
    "\n",
    "plt.axvline(df['popularity'].mean(), linewidth = 2, color = 'r')\n",
    "plt.axvline(df['popularity'].median(), linewidth = 2, color = 'k')\n",
    "plt.xlim(0, 250000)\n",
    "plt.show()"
   ]
  },
  {
   "cell_type": "code",
   "execution_count": 9,
   "metadata": {
    "pycharm": {
     "name": "#%%\n"
    }
   },
   "outputs": [
    {
     "data": {
      "image/png": "[encoded data removed]",
      "text/plain": [
       "<Figure size 720x576 with 1 Axes>"
      ]
     },
     "metadata": {
      "needs_background": "light"
     },
     "output_type": "display_data"
    }
   ],
   "source": [
    "plt.figure(figsize=(10, 8))\n",
    "sns.kdeplot(df['popularity'])\n",
    "\n",
    "plt.axvline(df['popularity'].mean(), linewidth = 2, color = 'r')\n",
    "plt.axvline(df['popularity'].median(), linewidth = 2, color = 'k')\n",
    "plt.xlim(0, 50000)\n",
    "plt.show()"
   ]
  },
  {
   "cell_type": "code",
   "execution_count": 10,
   "metadata": {
    "pycharm": {
     "name": "#%%\n"
    }
   },
   "outputs": [
    {
     "data": {
      "text/plain": [
       "count    5.949200e+04\n",
       "mean     1.544140e+04\n",
       "std      8.828579e+04\n",
       "min      8.000000e-01\n",
       "25%      9.360000e+01\n",
       "50%      6.093000e+02\n",
       "75%      4.694288e+03\n",
       "max      5.732932e+06\n",
       "Name: popularity, dtype: float64"
      ]
     },
     "execution_count": 10,
     "metadata": {},
     "output_type": "execute_result"
    }
   ],
   "source": [
    "df['popularity'].describe()"
   ]
  },
  {
   "cell_type": "code",
   "execution_count": 11,
   "metadata": {
    "pycharm": {
     "name": "#%%\n"
    }
   },
   "outputs": [
    {
     "data": {
      "image/png": "[encoded data removed]",
      "text/plain": [
       "<Figure size 648x504 with 1 Axes>"
      ]
     },
     "metadata": {
      "needs_background": "light"
     },
     "output_type": "display_data"
    }
   ],
   "source": [
    "fig = plt.figure(figsize=(9,7))\n",
    "plt.boxplot([df['popularity']], widths=0.5)\n",
    "plt.ylabel('Popularity')\n",
    "plt.title('Box plot of popularity')\n",
    "plt.show()"
   ]
  },
  {
   "cell_type": "code",
   "execution_count": 12,
   "metadata": {
    "pycharm": {
     "name": "#%%\n"
    }
   },
   "outputs": [],
   "source": [
    "minvalue,mean,median,q25,q75,maxvalue = np.round_(df['popularity'].min(), decimals=2), np.round_(df['popularity'].mean(), decimals=2), np.round_(df['popularity'].median(), decimals=2), np.round_(np.percentile(df['popularity'],25), decimals=2), np.round_(np.percentile(df['popularity'],75), decimals=2), np.round_(df['popularity'].max(), decimals=2)"
   ]
  },
  {
   "cell_type": "code",
   "execution_count": 13,
   "metadata": {
    "pycharm": {
     "name": "#%%\n"
    }
   },
   "outputs": [
    {
     "data": {
      "text/html": [
       "<div>\n",
       "<style scoped>\n",
       "    .dataframe tbody tr th:only-of-type {\n",
       "        vertical-align: middle;\n",
       "    }\n",
       "\n",
       "    .dataframe tbody tr th {\n",
       "        vertical-align: top;\n",
       "    }\n",
       "\n",
       "    .dataframe thead th {\n",
       "        text-align: right;\n",
       "    }\n",
       "</style>\n",
       "<table border=\"1\" class=\"dataframe\">\n",
       "  <thead>\n",
       "    <tr style=\"text-align: right;\">\n",
       "      <th></th>\n",
       "      <th>Column</th>\n",
       "      <th>Min</th>\n",
       "      <th>Mean</th>\n",
       "      <th>25%</th>\n",
       "      <th>50%</th>\n",
       "      <th>75%</th>\n",
       "      <th>Max</th>\n",
       "    </tr>\n",
       "  </thead>\n",
       "  <tbody>\n",
       "    <tr>\n",
       "      <th>0</th>\n",
       "      <td>Popularity</td>\n",
       "      <td>0.8</td>\n",
       "      <td>15441.4</td>\n",
       "      <td>93.6</td>\n",
       "      <td>609.3</td>\n",
       "      <td>4694.29</td>\n",
       "      <td>5732932.35</td>\n",
       "    </tr>\n",
       "  </tbody>\n",
       "</table>\n",
       "</div>"
      ],
      "text/plain": [
       "       Column  Min     Mean   25%    50%      75%         Max\n",
       "0  Popularity  0.8  15441.4  93.6  609.3  4694.29  5732932.35"
      ]
     },
     "execution_count": 13,
     "metadata": {},
     "output_type": "execute_result"
    }
   ],
   "source": [
    "popularity_stats = pd.DataFrame(data=[[\"Popularity\", minvalue, mean, q25, median, q75, maxvalue]], \n",
    "                          columns=['Column', 'Min', 'Mean', '25%', '50%', '75%', \"Max\"])\n",
    "popularity_stats"
   ]
  },
  {
   "cell_type": "markdown",
   "metadata": {
    "pycharm": {
     "name": "#%% md\n"
    }
   },
   "source": [
    "After that, we checked again which feature is needed to be processed."
   ]
  },
  {
   "cell_type": "code",
   "execution_count": 14,
   "metadata": {
    "pycharm": {
     "name": "#%%\n"
    }
   },
   "outputs": [
    {
     "data": {
      "text/plain": [
       "title               44954\n",
       "artist              23360\n",
       "release_type            3\n",
       "sub_genre            1119\n",
       "artist_followers     9134\n",
       "explicit                4\n",
       "album               32653\n",
       "track_number           73\n",
       "tracks_in_album       136\n",
       "danceability          990\n",
       "energy               1225\n",
       "key                    24\n",
       "loudness            12259\n",
       "mode                    4\n",
       "speechiness          1512\n",
       "acoustics            3551\n",
       "instrumentalness     5061\n",
       "liveness             1727\n",
       "valence              1543\n",
       "tempo               30613\n",
       "time_signature          9\n",
       "genre                  21\n",
       "duration_min        36712\n",
       "release_year           79\n",
       "release_month          12\n",
       "release_day            31\n",
       "popularity          36178\n",
       "dtype: int64"
      ]
     },
     "execution_count": 14,
     "metadata": {},
     "output_type": "execute_result"
    }
   ],
   "source": [
    "df.nunique(axis=0)"
   ]
  },
  {
   "cell_type": "markdown",
   "metadata": {
    "pycharm": {
     "name": "#%% md\n"
    }
   },
   "source": [
    "From the result above, you can see that explicit and mode is supposed to have only binary value, but there is 4 unique values instead."
   ]
  },
  {
   "cell_type": "markdown",
   "metadata": {
    "pycharm": {
     "name": "#%% md\n"
    }
   },
   "source": [
    "#### Explicit\n",
    "We will change the string value of \"True\" and \"False\" into a boolean one."
   ]
  },
  {
   "cell_type": "code",
   "execution_count": 15,
   "metadata": {
    "pycharm": {
     "name": "#%%\n"
    }
   },
   "outputs": [
    {
     "data": {
      "text/plain": [
       "array([False, True, 'True', 'False'], dtype=object)"
      ]
     },
     "execution_count": 15,
     "metadata": {},
     "output_type": "execute_result"
    }
   ],
   "source": [
    "df['explicit'].unique()"
   ]
  },
  {
   "cell_type": "code",
   "execution_count": 16,
   "metadata": {
    "pycharm": {
     "name": "#%%\n"
    }
   },
   "outputs": [],
   "source": [
    "df.loc[df.explicit == 'True', 'explicit'] = 1\n",
    "df.loc[df.explicit == 'False', 'explicit'] = 0\n",
    "df.loc[df.explicit == True, 'explicit'] = 1\n",
    "df.loc[df.explicit == False, 'explicit'] = 0"
   ]
  },
  {
   "cell_type": "code",
   "execution_count": 17,
   "metadata": {
    "pycharm": {
     "name": "#%%\n"
    }
   },
   "outputs": [
    {
     "data": {
      "text/plain": [
       "array([0, 1], dtype=object)"
      ]
     },
     "execution_count": 17,
     "metadata": {},
     "output_type": "execute_result"
    }
   ],
   "source": [
    "df['explicit'].unique()"
   ]
  },
  {
   "cell_type": "markdown",
   "metadata": {
    "pycharm": {
     "name": "#%% md\n"
    }
   },
   "source": [
    "#### Mode\n",
    "We will change the string value of \"0\" and \"1\" into a numeric one."
   ]
  },
  {
   "cell_type": "code",
   "execution_count": 18,
   "metadata": {
    "pycharm": {
     "name": "#%%\n"
    }
   },
   "outputs": [
    {
     "data": {
      "text/plain": [
       "array([1, 0, '1', '0'], dtype=object)"
      ]
     },
     "execution_count": 18,
     "metadata": {},
     "output_type": "execute_result"
    }
   ],
   "source": [
    "df['mode'].unique()"
   ]
  },
  {
   "cell_type": "code",
   "execution_count": 19,
   "metadata": {
    "pycharm": {
     "name": "#%%\n"
    }
   },
   "outputs": [],
   "source": [
    "df.loc[df['mode'] == '0', 'mode'] = 0\n",
    "df.loc[df['mode'] == '1', 'mode'] = 1"
   ]
  },
  {
   "cell_type": "code",
   "execution_count": 20,
   "metadata": {
    "pycharm": {
     "name": "#%%\n"
    }
   },
   "outputs": [
    {
     "data": {
      "text/plain": [
       "array([1, 0], dtype=object)"
      ]
     },
     "execution_count": 20,
     "metadata": {},
     "output_type": "execute_result"
    }
   ],
   "source": [
    "df['mode'].unique()"
   ]
  },
  {
   "cell_type": "code",
   "execution_count": 21,
   "metadata": {
    "pycharm": {
     "name": "#%%\n"
    }
   },
   "outputs": [
    {
     "data": {
      "text/plain": [
       "title               44954\n",
       "artist              23360\n",
       "release_type            3\n",
       "sub_genre            1119\n",
       "artist_followers     9134\n",
       "explicit                2\n",
       "album               32653\n",
       "track_number           73\n",
       "tracks_in_album       136\n",
       "danceability          990\n",
       "energy               1225\n",
       "key                    24\n",
       "loudness            12259\n",
       "mode                    2\n",
       "speechiness          1512\n",
       "acoustics            3551\n",
       "instrumentalness     5061\n",
       "liveness             1727\n",
       "valence              1543\n",
       "tempo               30613\n",
       "time_signature          9\n",
       "genre                  21\n",
       "duration_min        36712\n",
       "release_year           79\n",
       "release_month          12\n",
       "release_day            31\n",
       "popularity          36178\n",
       "dtype: int64"
      ]
     },
     "execution_count": 21,
     "metadata": {},
     "output_type": "execute_result"
    }
   ],
   "source": [
    "df.nunique(axis=0)"
   ]
  },
  {
   "cell_type": "markdown",
   "metadata": {
    "pycharm": {
     "name": "#%% md\n"
    }
   },
   "source": [
    "#### Key\n",
    "There are duplicated keys, so we tried to convert all of them into numeric values."
   ]
  },
  {
   "cell_type": "code",
   "execution_count": 22,
   "metadata": {
    "pycharm": {
     "name": "#%%\n"
    }
   },
   "outputs": [
    {
     "data": {
      "text/plain": [
       "array([1, 5, 8, 4, 11, 10, 9, 0, '1', 2, 7, 6, '9', '10', '0', 3, '5',\n",
       "       '11', '4', '7', '2', '3', '6', '8'], dtype=object)"
      ]
     },
     "execution_count": 22,
     "metadata": {},
     "output_type": "execute_result"
    }
   ],
   "source": [
    "df['key'].unique()"
   ]
  },
  {
   "cell_type": "code",
   "execution_count": 23,
   "metadata": {
    "pycharm": {
     "name": "#%%\n"
    }
   },
   "outputs": [],
   "source": [
    "df.loc[df['key'] == '9', 'key'] = 9\n",
    "df.loc[df['key'] == '10', 'key'] = 10\n",
    "df.loc[df['key'] == '0', 'key'] = 0\n",
    "df.loc[df['key'] == '5', 'key'] = 5\n",
    "df.loc[df['key'] == '11', 'key'] = 11\n",
    "df.loc[df['key'] == '4', 'key'] = 4\n",
    "df.loc[df['key'] == '7', 'key'] = 7\n",
    "df.loc[df['key'] == '2', 'key'] = 2\n",
    "df.loc[df['key'] == '3', 'key'] = 3\n",
    "df.loc[df['key'] == '6', 'key'] = 6\n",
    "df.loc[df['key'] == '8', 'key'] = 8\n",
    "df.loc[df['key'] == '1', 'key'] = 1"
   ]
  },
  {
   "cell_type": "code",
   "execution_count": 24,
   "metadata": {
    "pycharm": {
     "name": "#%%\n"
    }
   },
   "outputs": [
    {
     "data": {
      "text/plain": [
       "array([1, 5, 8, 4, 11, 10, 9, 0, 2, 7, 6, 3], dtype=object)"
      ]
     },
     "execution_count": 24,
     "metadata": {},
     "output_type": "execute_result"
    }
   ],
   "source": [
    "df['key'].unique()"
   ]
  },
  {
   "cell_type": "markdown",
   "metadata": {
    "pycharm": {
     "name": "#%% md\n"
    }
   },
   "source": [
    "#### Release Day"
   ]
  },
  {
   "cell_type": "code",
   "execution_count": 25,
   "metadata": {
    "pycharm": {
     "name": "#%%\n"
    }
   },
   "outputs": [
    {
     "data": {
      "text/html": [
       "<div>\n",
       "<style scoped>\n",
       "    .dataframe tbody tr th:only-of-type {\n",
       "        vertical-align: middle;\n",
       "    }\n",
       "\n",
       "    .dataframe tbody tr th {\n",
       "        vertical-align: top;\n",
       "    }\n",
       "\n",
       "    .dataframe thead th {\n",
       "        text-align: right;\n",
       "    }\n",
       "</style>\n",
       "<table border=\"1\" class=\"dataframe\">\n",
       "  <thead>\n",
       "    <tr style=\"text-align: right;\">\n",
       "      <th></th>\n",
       "      <th>title</th>\n",
       "      <th>artist</th>\n",
       "      <th>release_type</th>\n",
       "      <th>sub_genre</th>\n",
       "      <th>artist_followers</th>\n",
       "      <th>explicit</th>\n",
       "      <th>album</th>\n",
       "      <th>track_number</th>\n",
       "      <th>tracks_in_album</th>\n",
       "      <th>danceability</th>\n",
       "      <th>energy</th>\n",
       "      <th>key</th>\n",
       "      <th>loudness</th>\n",
       "      <th>mode</th>\n",
       "      <th>speechiness</th>\n",
       "      <th>acoustics</th>\n",
       "      <th>instrumentalness</th>\n",
       "      <th>liveness</th>\n",
       "      <th>valence</th>\n",
       "      <th>tempo</th>\n",
       "      <th>time_signature</th>\n",
       "      <th>genre</th>\n",
       "      <th>duration_min</th>\n",
       "      <th>release_year</th>\n",
       "      <th>release_month</th>\n",
       "      <th>release_day</th>\n",
       "      <th>popularity</th>\n",
       "      <th>release_date</th>\n",
       "      <th>weekday</th>\n",
       "    </tr>\n",
       "  </thead>\n",
       "  <tbody>\n",
       "    <tr>\n",
       "      <th>0</th>\n",
       "      <td>!</td>\n",
       "      <td>O.S.T.R.</td>\n",
       "      <td>album</td>\n",
       "      <td>polish hip hop</td>\n",
       "      <td>306856.0</td>\n",
       "      <td>0</td>\n",
       "      <td>W drodze po szczęście</td>\n",
       "      <td>1</td>\n",
       "      <td>15</td>\n",
       "      <td>0.561</td>\n",
       "      <td>0.798</td>\n",
       "      <td>1</td>\n",
       "      <td>-7.064</td>\n",
       "      <td>1</td>\n",
       "      <td>0.3200</td>\n",
       "      <td>0.3070</td>\n",
       "      <td>0.000000</td>\n",
       "      <td>0.1100</td>\n",
       "      <td>0.140</td>\n",
       "      <td>140.837</td>\n",
       "      <td>4</td>\n",
       "      <td>hip hop</td>\n",
       "      <td>3.696017</td>\n",
       "      <td>2018</td>\n",
       "      <td>2</td>\n",
       "      <td>26</td>\n",
       "      <td>866.00</td>\n",
       "      <td>2018-02-26</td>\n",
       "      <td>0</td>\n",
       "    </tr>\n",
       "    <tr>\n",
       "      <th>1</th>\n",
       "      <td>!</td>\n",
       "      <td>Trippie Redd</td>\n",
       "      <td>album</td>\n",
       "      <td>melodic rap</td>\n",
       "      <td>5502398.0</td>\n",
       "      <td>1</td>\n",
       "      <td>!</td>\n",
       "      <td>1</td>\n",
       "      <td>14</td>\n",
       "      <td>0.725</td>\n",
       "      <td>0.543</td>\n",
       "      <td>5</td>\n",
       "      <td>-6.311</td>\n",
       "      <td>1</td>\n",
       "      <td>0.0841</td>\n",
       "      <td>0.0296</td>\n",
       "      <td>0.000000</td>\n",
       "      <td>0.1770</td>\n",
       "      <td>0.693</td>\n",
       "      <td>119.961</td>\n",
       "      <td>4</td>\n",
       "      <td>rap</td>\n",
       "      <td>2.255650</td>\n",
       "      <td>2019</td>\n",
       "      <td>8</td>\n",
       "      <td>9</td>\n",
       "      <td>1818.55</td>\n",
       "      <td>2019-08-09</td>\n",
       "      <td>4</td>\n",
       "    </tr>\n",
       "    <tr>\n",
       "      <th>2</th>\n",
       "      <td>!ill be back!</td>\n",
       "      <td>Rilès</td>\n",
       "      <td>single</td>\n",
       "      <td>french hip hop</td>\n",
       "      <td>614607.0</td>\n",
       "      <td>1</td>\n",
       "      <td>!I'll Be Back!</td>\n",
       "      <td>1</td>\n",
       "      <td>1</td>\n",
       "      <td>0.823</td>\n",
       "      <td>0.612</td>\n",
       "      <td>1</td>\n",
       "      <td>-7.767</td>\n",
       "      <td>1</td>\n",
       "      <td>0.2480</td>\n",
       "      <td>0.1680</td>\n",
       "      <td>0.000000</td>\n",
       "      <td>0.1090</td>\n",
       "      <td>0.688</td>\n",
       "      <td>142.959</td>\n",
       "      <td>4</td>\n",
       "      <td>hip hop</td>\n",
       "      <td>2.975550</td>\n",
       "      <td>2018</td>\n",
       "      <td>6</td>\n",
       "      <td>22</td>\n",
       "      <td>49.60</td>\n",
       "      <td>2018-06-22</td>\n",
       "      <td>4</td>\n",
       "    </tr>\n",
       "    <tr>\n",
       "      <th>3</th>\n",
       "      <td>#%_! dig selv</td>\n",
       "      <td>Artigeardit</td>\n",
       "      <td>album</td>\n",
       "      <td>danish hip hop</td>\n",
       "      <td>19841.0</td>\n",
       "      <td>1</td>\n",
       "      <td>IDIOT</td>\n",
       "      <td>9</td>\n",
       "      <td>16</td>\n",
       "      <td>0.655</td>\n",
       "      <td>0.498</td>\n",
       "      <td>8</td>\n",
       "      <td>-7.297</td>\n",
       "      <td>1</td>\n",
       "      <td>0.2930</td>\n",
       "      <td>0.1250</td>\n",
       "      <td>0.000014</td>\n",
       "      <td>0.1660</td>\n",
       "      <td>0.241</td>\n",
       "      <td>94.146</td>\n",
       "      <td>4</td>\n",
       "      <td>hip hop</td>\n",
       "      <td>3.135650</td>\n",
       "      <td>2020</td>\n",
       "      <td>1</td>\n",
       "      <td>31</td>\n",
       "      <td>413.05</td>\n",
       "      <td>2020-01-31</td>\n",
       "      <td>4</td>\n",
       "    </tr>\n",
       "    <tr>\n",
       "      <th>4</th>\n",
       "      <td>#213</td>\n",
       "      <td>YL</td>\n",
       "      <td>album</td>\n",
       "      <td>francoton</td>\n",
       "      <td>617156.0</td>\n",
       "      <td>1</td>\n",
       "      <td>Vaillants</td>\n",
       "      <td>4</td>\n",
       "      <td>12</td>\n",
       "      <td>0.714</td>\n",
       "      <td>0.727</td>\n",
       "      <td>4</td>\n",
       "      <td>-6.216</td>\n",
       "      <td>0</td>\n",
       "      <td>0.4160</td>\n",
       "      <td>0.2000</td>\n",
       "      <td>0.000000</td>\n",
       "      <td>0.0879</td>\n",
       "      <td>0.497</td>\n",
       "      <td>190.567</td>\n",
       "      <td>3</td>\n",
       "      <td>indie</td>\n",
       "      <td>3.325150</td>\n",
       "      <td>2020</td>\n",
       "      <td>4</td>\n",
       "      <td>16</td>\n",
       "      <td>48.80</td>\n",
       "      <td>2020-04-16</td>\n",
       "      <td>3</td>\n",
       "    </tr>\n",
       "    <tr>\n",
       "      <th>...</th>\n",
       "      <td>...</td>\n",
       "      <td>...</td>\n",
       "      <td>...</td>\n",
       "      <td>...</td>\n",
       "      <td>...</td>\n",
       "      <td>...</td>\n",
       "      <td>...</td>\n",
       "      <td>...</td>\n",
       "      <td>...</td>\n",
       "      <td>...</td>\n",
       "      <td>...</td>\n",
       "      <td>...</td>\n",
       "      <td>...</td>\n",
       "      <td>...</td>\n",
       "      <td>...</td>\n",
       "      <td>...</td>\n",
       "      <td>...</td>\n",
       "      <td>...</td>\n",
       "      <td>...</td>\n",
       "      <td>...</td>\n",
       "      <td>...</td>\n",
       "      <td>...</td>\n",
       "      <td>...</td>\n",
       "      <td>...</td>\n",
       "      <td>...</td>\n",
       "      <td>...</td>\n",
       "      <td>...</td>\n",
       "      <td>...</td>\n",
       "      <td>...</td>\n",
       "    </tr>\n",
       "    <tr>\n",
       "      <th>59487</th>\n",
       "      <td>쩔어 dope</td>\n",
       "      <td>BTS</td>\n",
       "      <td>album</td>\n",
       "      <td>k-pop</td>\n",
       "      <td>24755789.0</td>\n",
       "      <td>0</td>\n",
       "      <td>화양연화 The Most Beautiful Moment In Life, Pt. 1</td>\n",
       "      <td>5</td>\n",
       "      <td>9</td>\n",
       "      <td>0.619</td>\n",
       "      <td>0.889</td>\n",
       "      <td>10</td>\n",
       "      <td>-3.108</td>\n",
       "      <td>0</td>\n",
       "      <td>0.2190</td>\n",
       "      <td>0.0483</td>\n",
       "      <td>0.000000</td>\n",
       "      <td>0.3240</td>\n",
       "      <td>0.622</td>\n",
       "      <td>77.058</td>\n",
       "      <td>4</td>\n",
       "      <td>k-pop</td>\n",
       "      <td>4.000350</td>\n",
       "      <td>2015</td>\n",
       "      <td>4</td>\n",
       "      <td>29</td>\n",
       "      <td>712.00</td>\n",
       "      <td>2015-04-29</td>\n",
       "      <td>2</td>\n",
       "    </tr>\n",
       "    <tr>\n",
       "      <th>59488</th>\n",
       "      <td>파란 봄</td>\n",
       "      <td>AILEE</td>\n",
       "      <td>single</td>\n",
       "      <td>k-pop</td>\n",
       "      <td>725478.0</td>\n",
       "      <td>0</td>\n",
       "      <td>Dunia - Into A New World, Pt. 1 (Original Soun...</td>\n",
       "      <td>1</td>\n",
       "      <td>2</td>\n",
       "      <td>0.540</td>\n",
       "      <td>0.535</td>\n",
       "      <td>1</td>\n",
       "      <td>-4.860</td>\n",
       "      <td>1</td>\n",
       "      <td>0.0301</td>\n",
       "      <td>0.4590</td>\n",
       "      <td>0.000000</td>\n",
       "      <td>0.1540</td>\n",
       "      <td>0.216</td>\n",
       "      <td>131.990</td>\n",
       "      <td>3</td>\n",
       "      <td>k-pop</td>\n",
       "      <td>4.194717</td>\n",
       "      <td>2018</td>\n",
       "      <td>6</td>\n",
       "      <td>24</td>\n",
       "      <td>54.40</td>\n",
       "      <td>2018-06-24</td>\n",
       "      <td>6</td>\n",
       "    </tr>\n",
       "    <tr>\n",
       "      <th>59489</th>\n",
       "      <td>피 땀 눈물</td>\n",
       "      <td>BTS</td>\n",
       "      <td>album</td>\n",
       "      <td>k-pop</td>\n",
       "      <td>24755789.0</td>\n",
       "      <td>0</td>\n",
       "      <td>WINGS</td>\n",
       "      <td>2</td>\n",
       "      <td>15</td>\n",
       "      <td>0.583</td>\n",
       "      <td>0.885</td>\n",
       "      <td>0</td>\n",
       "      <td>-3.571</td>\n",
       "      <td>0</td>\n",
       "      <td>0.1060</td>\n",
       "      <td>0.0244</td>\n",
       "      <td>0.000000</td>\n",
       "      <td>0.3570</td>\n",
       "      <td>0.601</td>\n",
       "      <td>92.959</td>\n",
       "      <td>4</td>\n",
       "      <td>k-pop</td>\n",
       "      <td>3.617533</td>\n",
       "      <td>2016</td>\n",
       "      <td>10</td>\n",
       "      <td>10</td>\n",
       "      <td>287.20</td>\n",
       "      <td>2016-10-10</td>\n",
       "      <td>0</td>\n",
       "    </tr>\n",
       "    <tr>\n",
       "      <th>59490</th>\n",
       "      <td>항상</td>\n",
       "      <td>j-hope - Supreme Boi</td>\n",
       "      <td>album</td>\n",
       "      <td>k-pop</td>\n",
       "      <td>4486644.0</td>\n",
       "      <td>0</td>\n",
       "      <td>Hope World</td>\n",
       "      <td>5</td>\n",
       "      <td>7</td>\n",
       "      <td>0.832</td>\n",
       "      <td>0.896</td>\n",
       "      <td>6</td>\n",
       "      <td>-4.673</td>\n",
       "      <td>1</td>\n",
       "      <td>0.2330</td>\n",
       "      <td>0.1590</td>\n",
       "      <td>0.000048</td>\n",
       "      <td>0.2470</td>\n",
       "      <td>0.618</td>\n",
       "      <td>178.998</td>\n",
       "      <td>4</td>\n",
       "      <td>k-pop</td>\n",
       "      <td>3.827933</td>\n",
       "      <td>2018</td>\n",
       "      <td>3</td>\n",
       "      <td>2</td>\n",
       "      <td>862.30</td>\n",
       "      <td>2018-03-02</td>\n",
       "      <td>4</td>\n",
       "    </tr>\n",
       "    <tr>\n",
       "      <th>59491</th>\n",
       "      <td>해와 달처럼 day and night</td>\n",
       "      <td>DAY6</td>\n",
       "      <td>album</td>\n",
       "      <td>k-pop</td>\n",
       "      <td>1724058.0</td>\n",
       "      <td>0</td>\n",
       "      <td>The Book of Us : The Demon</td>\n",
       "      <td>1</td>\n",
       "      <td>8</td>\n",
       "      <td>0.471</td>\n",
       "      <td>0.860</td>\n",
       "      <td>9</td>\n",
       "      <td>-3.375</td>\n",
       "      <td>1</td>\n",
       "      <td>0.1090</td>\n",
       "      <td>0.2090</td>\n",
       "      <td>0.000000</td>\n",
       "      <td>0.1860</td>\n",
       "      <td>0.565</td>\n",
       "      <td>101.467</td>\n",
       "      <td>4</td>\n",
       "      <td>k-pop</td>\n",
       "      <td>3.416633</td>\n",
       "      <td>2020</td>\n",
       "      <td>5</td>\n",
       "      <td>11</td>\n",
       "      <td>152.05</td>\n",
       "      <td>2020-05-11</td>\n",
       "      <td>0</td>\n",
       "    </tr>\n",
       "  </tbody>\n",
       "</table>\n",
       "<p>59492 rows × 29 columns</p>\n",
       "</div>"
      ],
      "text/plain": [
       "                      title                artist release_type  \\\n",
       "0                         !              O.S.T.R.        album   \n",
       "1                         !          Trippie Redd        album   \n",
       "2             !ill be back!                 Rilès       single   \n",
       "3             #%_! dig selv           Artigeardit        album   \n",
       "4                      #213                    YL        album   \n",
       "...                     ...                   ...          ...   \n",
       "59487               쩔어 dope                   BTS        album   \n",
       "59488                  파란 봄                 AILEE       single   \n",
       "59489                피 땀 눈물                   BTS        album   \n",
       "59490                    항상  j-hope - Supreme Boi        album   \n",
       "59491  해와 달처럼 day and night                  DAY6        album   \n",
       "\n",
       "            sub_genre  artist_followers explicit  \\\n",
       "0      polish hip hop          306856.0        0   \n",
       "1         melodic rap         5502398.0        1   \n",
       "2      french hip hop          614607.0        1   \n",
       "3      danish hip hop           19841.0        1   \n",
       "4           francoton          617156.0        1   \n",
       "...               ...               ...      ...   \n",
       "59487           k-pop        24755789.0        0   \n",
       "59488           k-pop          725478.0        0   \n",
       "59489           k-pop        24755789.0        0   \n",
       "59490           k-pop         4486644.0        0   \n",
       "59491           k-pop         1724058.0        0   \n",
       "\n",
       "                                                   album track_number  \\\n",
       "0                                  W drodze po szczęście            1   \n",
       "1                                                      !            1   \n",
       "2                                         !I'll Be Back!            1   \n",
       "3                                                  IDIOT            9   \n",
       "4                                              Vaillants            4   \n",
       "...                                                  ...          ...   \n",
       "59487      화양연화 The Most Beautiful Moment In Life, Pt. 1            5   \n",
       "59488  Dunia - Into A New World, Pt. 1 (Original Soun...            1   \n",
       "59489                                              WINGS            2   \n",
       "59490                                         Hope World            5   \n",
       "59491                         The Book of Us : The Demon            1   \n",
       "\n",
       "      tracks_in_album  danceability  energy key  loudness mode  speechiness  \\\n",
       "0                  15         0.561   0.798   1    -7.064    1       0.3200   \n",
       "1                  14         0.725   0.543   5    -6.311    1       0.0841   \n",
       "2                   1         0.823   0.612   1    -7.767    1       0.2480   \n",
       "3                  16         0.655   0.498   8    -7.297    1       0.2930   \n",
       "4                  12         0.714   0.727   4    -6.216    0       0.4160   \n",
       "...               ...           ...     ...  ..       ...  ...          ...   \n",
       "59487               9         0.619   0.889  10    -3.108    0       0.2190   \n",
       "59488               2         0.540   0.535   1    -4.860    1       0.0301   \n",
       "59489              15         0.583   0.885   0    -3.571    0       0.1060   \n",
       "59490               7         0.832   0.896   6    -4.673    1       0.2330   \n",
       "59491               8         0.471   0.860   9    -3.375    1       0.1090   \n",
       "\n",
       "       acoustics  instrumentalness  liveness  valence    tempo time_signature  \\\n",
       "0         0.3070          0.000000    0.1100    0.140  140.837              4   \n",
       "1         0.0296          0.000000    0.1770    0.693  119.961              4   \n",
       "2         0.1680          0.000000    0.1090    0.688  142.959              4   \n",
       "3         0.1250          0.000014    0.1660    0.241   94.146              4   \n",
       "4         0.2000          0.000000    0.0879    0.497  190.567              3   \n",
       "...          ...               ...       ...      ...      ...            ...   \n",
       "59487     0.0483          0.000000    0.3240    0.622   77.058              4   \n",
       "59488     0.4590          0.000000    0.1540    0.216  131.990              3   \n",
       "59489     0.0244          0.000000    0.3570    0.601   92.959              4   \n",
       "59490     0.1590          0.000048    0.2470    0.618  178.998              4   \n",
       "59491     0.2090          0.000000    0.1860    0.565  101.467              4   \n",
       "\n",
       "         genre  duration_min  release_year  release_month  release_day  \\\n",
       "0      hip hop      3.696017          2018              2           26   \n",
       "1          rap      2.255650          2019              8            9   \n",
       "2      hip hop      2.975550          2018              6           22   \n",
       "3      hip hop      3.135650          2020              1           31   \n",
       "4        indie      3.325150          2020              4           16   \n",
       "...        ...           ...           ...            ...          ...   \n",
       "59487    k-pop      4.000350          2015              4           29   \n",
       "59488    k-pop      4.194717          2018              6           24   \n",
       "59489    k-pop      3.617533          2016             10           10   \n",
       "59490    k-pop      3.827933          2018              3            2   \n",
       "59491    k-pop      3.416633          2020              5           11   \n",
       "\n",
       "       popularity release_date  weekday  \n",
       "0          866.00   2018-02-26        0  \n",
       "1         1818.55   2019-08-09        4  \n",
       "2           49.60   2018-06-22        4  \n",
       "3          413.05   2020-01-31        4  \n",
       "4           48.80   2020-04-16        3  \n",
       "...           ...          ...      ...  \n",
       "59487      712.00   2015-04-29        2  \n",
       "59488       54.40   2018-06-24        6  \n",
       "59489      287.20   2016-10-10        0  \n",
       "59490      862.30   2018-03-02        4  \n",
       "59491      152.05   2020-05-11        0  \n",
       "\n",
       "[59492 rows x 29 columns]"
      ]
     },
     "execution_count": 25,
     "metadata": {},
     "output_type": "execute_result"
    }
   ],
   "source": [
    "df['release_date'] = pd.to_datetime(df['release_year'].astype(str) + '-' + df['release_month'].astype(str) + '-' + df['release_day'].astype(str), errors='ignore')\n",
    "df['weekday'] = df['release_date'].dt.dayofweek\n",
    "df"
   ]
  },
  {
   "cell_type": "code",
   "execution_count": 26,
   "metadata": {
    "pycharm": {
     "name": "#%%\n"
    }
   },
   "outputs": [
    {
     "data": {
      "text/plain": [
       "array([0, 4, 3, 2, 1, 6, 5])"
      ]
     },
     "execution_count": 26,
     "metadata": {},
     "output_type": "execute_result"
    }
   ],
   "source": [
    "df['weekday'].unique()"
   ]
  },
  {
   "cell_type": "markdown",
   "metadata": {
    "pycharm": {
     "name": "#%% md\n"
    }
   },
   "source": [
    "#### Drop Unused Columns"
   ]
  },
  {
   "cell_type": "code",
   "execution_count": 27,
   "metadata": {
    "pycharm": {
     "name": "#%%\n"
    }
   },
   "outputs": [],
   "source": [
    "categorical_features = [\"title\", \n",
    "                        \"artist\", \n",
    "                        \"sub_genre\", \n",
    "                        \"album\", \n",
    "                        \"track_number\", \n",
    "                        \"tracks_in_album\", \n",
    "                        \"time_signature\", \n",
    "                        \"genre\"]"
   ]
  },
  {
   "cell_type": "code",
   "execution_count": 28,
   "metadata": {
    "pycharm": {
     "name": "#%%\n"
    }
   },
   "outputs": [],
   "source": [
    "numeric_features = ['popularity', 'artist_followers', 'danceability', 'energy', \n",
    "                    'loudness', 'speechiness', 'acoustics', 'instrumentalness', \n",
    "                    'liveness', 'valence', 'tempo', 'duration_min']"
   ]
  },
  {
   "cell_type": "code",
   "execution_count": 29,
   "metadata": {
    "pycharm": {
     "name": "#%%\n"
    }
   },
   "outputs": [],
   "source": [
    "df_selected = df[numeric_features]"
   ]
  },
  {
   "cell_type": "code",
   "execution_count": 30,
   "metadata": {
    "pycharm": {
     "name": "#%%\n"
    }
   },
   "outputs": [
    {
     "data": {
      "text/plain": [
       "popularity          36178\n",
       "artist_followers     9134\n",
       "danceability          990\n",
       "energy               1225\n",
       "loudness            12259\n",
       "speechiness          1512\n",
       "acoustics            3551\n",
       "instrumentalness     5061\n",
       "liveness             1727\n",
       "valence              1543\n",
       "tempo               30613\n",
       "duration_min        36712\n",
       "dtype: int64"
      ]
     },
     "execution_count": 30,
     "metadata": {},
     "output_type": "execute_result"
    }
   ],
   "source": [
    "df_selected.nunique(axis=0)"
   ]
  },
  {
   "cell_type": "markdown",
   "metadata": {
    "pycharm": {
     "name": "#%% md\n"
    }
   },
   "source": [
    "### Features Visualization\n",
    "Here we wanted to recap on how all the features behave in popularity and for a better visualization, we will scale the popularity values first into a 0-100 range."
   ]
  },
  {
   "cell_type": "code",
   "execution_count": 31,
   "metadata": {
    "pycharm": {
     "name": "#%%\n"
    }
   },
   "outputs": [
    {
     "data": {
      "text/plain": [
       "<Figure size 1080x720 with 0 Axes>"
      ]
     },
     "metadata": {},
     "output_type": "display_data"
    },
    {
     "data": {
      "image/png": "[encoded data removed]",
      "text/plain": [
       "<Figure size 540x180 with 3 Axes>"
      ]
     },
     "metadata": {
      "needs_background": "light"
     },
     "output_type": "display_data"
    }
   ],
   "source": [
    "plt.figure(figsize=(15,10))\n",
    "pp = sns.pairplot(data=df,\n",
    "                  x_vars=['artist_followers', 'loudness', 'danceability'],\n",
    "                  y_vars=['popularity'], kind=\"reg\", plot_kws={'line_kws':{'color':'red'}})\n",
    "plt.show()\n",
    "# pp.savefig('numeric1.jpg', dpi=300, bbox_inches='tight')"
   ]
  },
  {
   "cell_type": "code",
   "execution_count": 32,
   "metadata": {
    "pycharm": {
     "name": "#%%\n"
    }
   },
   "outputs": [
    {
     "data": {
      "text/plain": [
       "<Figure size 1152x576 with 0 Axes>"
      ]
     },
     "metadata": {},
     "output_type": "display_data"
    },
    {
     "data": {
      "image/png": "[encoded data removed]",
      "text/plain": [
       "<Figure size 720x180 with 4 Axes>"
      ]
     },
     "metadata": {
      "needs_background": "light"
     },
     "output_type": "display_data"
    }
   ],
   "source": [
    "plt.figure(figsize=(16, 8))\n",
    "pp = sns.pairplot(data=df,\n",
    "                  x_vars=['energy', 'speechiness', 'acoustics', 'instrumentalness'],\n",
    "                  y_vars=['popularity'], kind=\"reg\", plot_kws={'line_kws':{'color':'red'}})\n",
    "plt.show()\n",
    "# pp.savefig('numeric2.jpg', dpi=300, bbox_inches='tight')"
   ]
  },
  {
   "cell_type": "code",
   "execution_count": 33,
   "metadata": {
    "pycharm": {
     "name": "#%%\n"
    }
   },
   "outputs": [
    {
     "data": {
      "image/png": "[encoded data removed]",
      "text/plain": [
       "<Figure size 720x180 with 4 Axes>"
      ]
     },
     "metadata": {
      "needs_background": "light"
     },
     "output_type": "display_data"
    }
   ],
   "source": [
    "pp = sns.pairplot(data=df,\n",
    "                  x_vars=['liveness', 'valence', 'tempo', 'duration_min'],\n",
    "                  y_vars=['popularity'], kind=\"reg\", plot_kws={'line_kws':{'color':'red'}})\n",
    "# pp.savefig('numeric3.jpg', dpi=300, bbox_inches='tight')"
   ]
  },
  {
   "cell_type": "markdown",
   "metadata": {
    "pycharm": {
     "name": "#%% md\n"
    }
   },
   "source": [
    "### Modelling"
   ]
  },
  {
   "cell_type": "code",
   "execution_count": 34,
   "metadata": {
    "pycharm": {
     "name": "#%%\n"
    }
   },
   "outputs": [],
   "source": [
    "y = df_selected['popularity']\n",
    "X = df_selected.drop([\"popularity\"],axis=1)"
   ]
  },
  {
   "cell_type": "markdown",
   "metadata": {
    "pycharm": {
     "name": "#%% md\n"
    }
   },
   "source": [
    "#### 1. Linear Regression\n",
    "\n",
    "First, we would like to see how our numerical features perform first."
   ]
  },
  {
   "cell_type": "code",
   "execution_count": 35,
   "metadata": {
    "pycharm": {
     "name": "#%%\n"
    }
   },
   "outputs": [],
   "source": [
    "from sklearn.model_selection import train_test_split\n",
    "from sklearn import metrics\n",
    "from sklearn.model_selection import cross_val_score\n",
    "\n",
    "X_train, X_test, y_train, y_test = train_test_split(X, y, test_size=0.2, random_state=1)\n",
    "X_train, X_val, y_train, y_val = train_test_split(X_train, y_train, test_size=0.25, random_state=1)\n",
    "\n",
    "def print_evaluate(true, predicted):  \n",
    "    mae = metrics.mean_absolute_error(true, predicted)\n",
    "    mse = metrics.mean_squared_error(true, predicted)\n",
    "    rmse = np.sqrt(metrics.mean_squared_error(true, predicted))\n",
    "    r2_square = metrics.r2_score(true, predicted)\n",
    "    print('MAE:', mae)\n",
    "    print('MSE:', mse)\n",
    "    print('RMSE:', rmse)\n",
    "    print('R2 Square', r2_square)\n",
    "    print('__________________________________')\n",
    "    \n",
    "def evaluate(true, predicted):\n",
    "    mae = metrics.mean_absolute_error(true, predicted)\n",
    "    mse = metrics.mean_squared_error(true, predicted)\n",
    "    rmse = np.sqrt(metrics.mean_squared_error(true, predicted))\n",
    "    r2_square = metrics.r2_score(true, predicted)\n",
    "    return mae, mse, rmse, r2_square\n",
    "\n",
    "def cross_val(model):\n",
    "    pred = cross_val_score(model, X, y, cv=10)\n",
    "    return pred.mean()"
   ]
  },
  {
   "cell_type": "code",
   "execution_count": 36,
   "metadata": {
    "pycharm": {
     "name": "#%%\n"
    }
   },
   "outputs": [
    {
     "name": "stdout",
     "output_type": "stream",
     "text": [
      "Test set evaluation:\n",
      "_____________________________________\n",
      "MAE: 22336.189666013437\n",
      "MSE: 5798865956.591691\n",
      "RMSE: 76150.28533493287\n",
      "R2 Square 0.07742936982661597\n",
      "__________________________________\n",
      "Train set evaluation:\n",
      "_____________________________________\n",
      "MAE: 22814.022418494107\n",
      "MSE: 7867412659.334883\n",
      "RMSE: 88698.4366228339\n",
      "R2 Square 0.05404497640185191\n",
      "__________________________________\n",
      "Validation set evaluation:\n",
      "_____________________________________\n",
      "MAE: 23063.239969974777\n",
      "MSE: 7349733931.924028\n",
      "RMSE: 85730.58924283694\n",
      "R2 Square 0.049815551323180496\n",
      "__________________________________\n"
     ]
    }
   ],
   "source": [
    "from sklearn.linear_model import LinearRegression\n",
    "\n",
    "lm = LinearRegression()\n",
    "lm.fit(X_train, y_train)\n",
    "train_pred = lm.predict(X_train)\n",
    "test_pred = lm.predict(X_test)\n",
    "val_pred = lm.predict(X_val)\n",
    "\n",
    "print('Test set evaluation:\\n_____________________________________')\n",
    "print_evaluate(y_test, test_pred)\n",
    "\n",
    "print('Train set evaluation:\\n_____________________________________')\n",
    "print_evaluate(y_train, train_pred)\n",
    "\n",
    "print('Validation set evaluation:\\n_____________________________________')\n",
    "print_evaluate(y_val, val_pred)\n",
    "\n",
    "results_val_df = pd.DataFrame(data=[[\"Linear Regression\", *evaluate(y_val, val_pred) , cross_val(LinearRegression())]], \n",
    "                          columns=['Model', 'MAE', 'MSE', 'RMSE', 'R2 Square', \"Cross Validation\"])\n",
    "\n",
    "results_train_df = pd.DataFrame(data=[[\"Linear Regression\", *evaluate(y_train, train_pred) , cross_val(LinearRegression())]], \n",
    "                          columns=['Model', 'MAE', 'MSE', 'RMSE', 'R2 Square', \"Cross Validation\"])\n",
    "\n",
    "results_df = pd.DataFrame(data=[[\"Linear Regression\", *evaluate(y_test, test_pred) , cross_val(LinearRegression())]], \n",
    "                          columns=['Model', 'MAE', 'MSE', 'RMSE', 'R2 Square', \"Cross Validation\"])"
   ]
  },
  {
   "cell_type": "code",
   "execution_count": 37,
   "metadata": {
    "pycharm": {
     "name": "#%%\n"
    }
   },
   "outputs": [
    {
     "data": {
      "text/plain": [
       "(array([9794]),)"
      ]
     },
     "execution_count": 37,
     "metadata": {},
     "output_type": "execute_result"
    }
   ],
   "source": [
    "min_pred = np. where(val_pred == val_pred.min())\n",
    "min_pred"
   ]
  },
  {
   "cell_type": "code",
   "execution_count": 38,
   "metadata": {
    "pycharm": {
     "name": "#%%\n"
    }
   },
   "outputs": [
    {
     "data": {
      "text/plain": [
       "artist_followers    828615.000000\n",
       "danceability             0.196000\n",
       "energy                   0.002620\n",
       "loudness               -43.988000\n",
       "speechiness              0.034900\n",
       "acoustics                0.876000\n",
       "instrumentalness         0.042700\n",
       "liveness                 0.127000\n",
       "valence                  0.117000\n",
       "tempo                  115.546000\n",
       "duration_min             1.833333\n",
       "Name: 49304, dtype: float64"
      ]
     },
     "execution_count": 38,
     "metadata": {},
     "output_type": "execute_result"
    }
   ],
   "source": [
    "sample_min_pred = X_val.iloc[9794]\n",
    "sample_min_pred"
   ]
  },
  {
   "cell_type": "code",
   "execution_count": 39,
   "metadata": {
    "pycharm": {
     "name": "#%%\n"
    }
   },
   "outputs": [
    {
     "data": {
      "text/html": [
       "<div>\n",
       "<style scoped>\n",
       "    .dataframe tbody tr th:only-of-type {\n",
       "        vertical-align: middle;\n",
       "    }\n",
       "\n",
       "    .dataframe tbody tr th {\n",
       "        vertical-align: top;\n",
       "    }\n",
       "\n",
       "    .dataframe thead th {\n",
       "        text-align: right;\n",
       "    }\n",
       "</style>\n",
       "<table border=\"1\" class=\"dataframe\">\n",
       "  <thead>\n",
       "    <tr style=\"text-align: right;\">\n",
       "      <th></th>\n",
       "      <th>49304</th>\n",
       "    </tr>\n",
       "  </thead>\n",
       "  <tbody>\n",
       "    <tr>\n",
       "      <th>artist_followers</th>\n",
       "      <td>828615.000000</td>\n",
       "    </tr>\n",
       "    <tr>\n",
       "      <th>danceability</th>\n",
       "      <td>0.196000</td>\n",
       "    </tr>\n",
       "    <tr>\n",
       "      <th>energy</th>\n",
       "      <td>0.002620</td>\n",
       "    </tr>\n",
       "    <tr>\n",
       "      <th>loudness</th>\n",
       "      <td>-43.988000</td>\n",
       "    </tr>\n",
       "    <tr>\n",
       "      <th>speechiness</th>\n",
       "      <td>0.034900</td>\n",
       "    </tr>\n",
       "    <tr>\n",
       "      <th>acoustics</th>\n",
       "      <td>0.876000</td>\n",
       "    </tr>\n",
       "    <tr>\n",
       "      <th>instrumentalness</th>\n",
       "      <td>0.042700</td>\n",
       "    </tr>\n",
       "    <tr>\n",
       "      <th>liveness</th>\n",
       "      <td>0.127000</td>\n",
       "    </tr>\n",
       "    <tr>\n",
       "      <th>valence</th>\n",
       "      <td>0.117000</td>\n",
       "    </tr>\n",
       "    <tr>\n",
       "      <th>tempo</th>\n",
       "      <td>115.546000</td>\n",
       "    </tr>\n",
       "    <tr>\n",
       "      <th>duration_min</th>\n",
       "      <td>1.833333</td>\n",
       "    </tr>\n",
       "  </tbody>\n",
       "</table>\n",
       "</div>"
      ],
      "text/plain": [
       "                          49304\n",
       "artist_followers  828615.000000\n",
       "danceability           0.196000\n",
       "energy                 0.002620\n",
       "loudness             -43.988000\n",
       "speechiness            0.034900\n",
       "acoustics              0.876000\n",
       "instrumentalness       0.042700\n",
       "liveness               0.127000\n",
       "valence                0.117000\n",
       "tempo                115.546000\n",
       "duration_min           1.833333"
      ]
     },
     "execution_count": 39,
     "metadata": {},
     "output_type": "execute_result"
    }
   ],
   "source": [
    "pd_min_pred = pd.DataFrame(np.transpose(sample_min_pred))\n",
    "pd_min_pred"
   ]
  },
  {
   "cell_type": "code",
   "execution_count": 40,
   "metadata": {
    "pycharm": {
     "name": "#%%\n"
    }
   },
   "outputs": [
    {
     "data": {
      "text/html": [
       "<div>\n",
       "<style scoped>\n",
       "    .dataframe tbody tr th:only-of-type {\n",
       "        vertical-align: middle;\n",
       "    }\n",
       "\n",
       "    .dataframe tbody tr th {\n",
       "        vertical-align: top;\n",
       "    }\n",
       "\n",
       "    .dataframe thead th {\n",
       "        text-align: right;\n",
       "    }\n",
       "</style>\n",
       "<table border=\"1\" class=\"dataframe\">\n",
       "  <thead>\n",
       "    <tr style=\"text-align: right;\">\n",
       "      <th></th>\n",
       "      <th>Sample Song</th>\n",
       "      <th>Coefficient</th>\n",
       "    </tr>\n",
       "  </thead>\n",
       "  <tbody>\n",
       "    <tr>\n",
       "      <th>artist_followers</th>\n",
       "      <td>828615.000000</td>\n",
       "      <td>0.003013</td>\n",
       "    </tr>\n",
       "    <tr>\n",
       "      <th>danceability</th>\n",
       "      <td>0.196000</td>\n",
       "      <td>20067.534164</td>\n",
       "    </tr>\n",
       "    <tr>\n",
       "      <th>energy</th>\n",
       "      <td>0.002620</td>\n",
       "      <td>-24229.900867</td>\n",
       "    </tr>\n",
       "    <tr>\n",
       "      <th>loudness</th>\n",
       "      <td>-43.988000</td>\n",
       "      <td>2236.553138</td>\n",
       "    </tr>\n",
       "    <tr>\n",
       "      <th>speechiness</th>\n",
       "      <td>0.034900</td>\n",
       "      <td>-14761.629050</td>\n",
       "    </tr>\n",
       "    <tr>\n",
       "      <th>acoustics</th>\n",
       "      <td>0.876000</td>\n",
       "      <td>-752.453166</td>\n",
       "    </tr>\n",
       "    <tr>\n",
       "      <th>instrumentalness</th>\n",
       "      <td>0.042700</td>\n",
       "      <td>-7703.354824</td>\n",
       "    </tr>\n",
       "    <tr>\n",
       "      <th>liveness</th>\n",
       "      <td>0.127000</td>\n",
       "      <td>-10401.098639</td>\n",
       "    </tr>\n",
       "    <tr>\n",
       "      <th>valence</th>\n",
       "      <td>0.117000</td>\n",
       "      <td>7655.056570</td>\n",
       "    </tr>\n",
       "    <tr>\n",
       "      <th>tempo</th>\n",
       "      <td>115.546000</td>\n",
       "      <td>-32.459057</td>\n",
       "    </tr>\n",
       "    <tr>\n",
       "      <th>duration_min</th>\n",
       "      <td>1.833333</td>\n",
       "      <td>546.797927</td>\n",
       "    </tr>\n",
       "  </tbody>\n",
       "</table>\n",
       "</div>"
      ],
      "text/plain": [
       "                    Sample Song   Coefficient\n",
       "artist_followers  828615.000000      0.003013\n",
       "danceability           0.196000  20067.534164\n",
       "energy                 0.002620 -24229.900867\n",
       "loudness             -43.988000   2236.553138\n",
       "speechiness            0.034900 -14761.629050\n",
       "acoustics              0.876000   -752.453166\n",
       "instrumentalness       0.042700  -7703.354824\n",
       "liveness               0.127000 -10401.098639\n",
       "valence                0.117000   7655.056570\n",
       "tempo                115.546000    -32.459057\n",
       "duration_min           1.833333    546.797927"
      ]
     },
     "execution_count": 40,
     "metadata": {},
     "output_type": "execute_result"
    }
   ],
   "source": [
    "pd_min_pred['Coefficient'] = np.transpose(lm.coef_)\n",
    "pd_min_pred.rename(columns = {49304:'Sample Song'}, inplace = True)\n",
    "pd_min_pred"
   ]
  },
  {
   "cell_type": "markdown",
   "metadata": {
    "pycharm": {
     "name": "#%% md\n"
    }
   },
   "source": [
    "The lower value of MAE, MSE, and RMSE implies higher accuracy of a regression model. However, a higher value of R square is considered desirable."
   ]
  },
  {
   "cell_type": "markdown",
   "metadata": {
    "pycharm": {
     "name": "#%% md\n"
    }
   },
   "source": [
    "R-squared is always between 0 and 100%:\n",
    "\n",
    "- 0% represents a model that does not explain any of the variation in the response variable around its mean. The mean of the dependent variable predicts the dependent variable as well as the regression model.\n",
    "- 100% represents a model that explains all the variation in the response variable around its mean.\n",
    "\n",
    "So, if the R2 of a model is 0.50, then approximately half of the observed variation can be explained by the model’s inputs. And by our case, it's almost near zero, then the model doesn't represent the overall variance of the variables."
   ]
  },
  {
   "cell_type": "code",
   "execution_count": 41,
   "metadata": {
    "pycharm": {
     "name": "#%%\n"
    }
   },
   "outputs": [
    {
     "data": {
      "image/png": "[encoded data removed]",
      "text/plain": [
       "<Figure size 432x288 with 1 Axes>"
      ]
     },
     "metadata": {
      "needs_background": "light"
     },
     "output_type": "display_data"
    }
   ],
   "source": [
    "# VAL: Visualizing the differences between actual prices and predicted values\n",
    "plt.scatter(y_val, val_pred)\n",
    "plt.xlabel(\"Popularity\")\n",
    "plt.ylabel(\"Predicted popularity\")\n",
    "plt.title(\"Popularity vs Predicted popularity\")\n",
    "plt.show()"
   ]
  },
  {
   "cell_type": "code",
   "execution_count": 42,
   "metadata": {
    "pycharm": {
     "name": "#%%\n"
    }
   },
   "outputs": [
    {
     "data": {
      "image/png": "[encoded data removed]",
      "text/plain": [
       "<Figure size 432x288 with 1 Axes>"
      ]
     },
     "metadata": {
      "needs_background": "light"
     },
     "output_type": "display_data"
    }
   ],
   "source": [
    "# TRAIN: Visualizing the differences between actual prices and predicted values\n",
    "\n",
    "plt.scatter(y_train, train_pred)\n",
    "plt.xlabel(\"Popularity\")\n",
    "plt.ylabel(\"Predicted popularity\")\n",
    "plt.title(\"Popularity vs Predicted popularity\")\n",
    "plt.show()\n",
    "# plt.savefig('lm_popularity.jpg', dpi=300, bbox_inches='tight')"
   ]
  },
  {
   "cell_type": "code",
   "execution_count": 43,
   "metadata": {
    "pycharm": {
     "name": "#%%\n"
    }
   },
   "outputs": [
    {
     "data": {
      "image/png": "[encoded data removed]",
      "text/plain": [
       "<Figure size 432x288 with 1 Axes>"
      ]
     },
     "metadata": {
      "needs_background": "light"
     },
     "output_type": "display_data"
    }
   ],
   "source": [
    "# Checking residuals\n",
    "plt.scatter(val_pred,np.abs(y_val-val_pred))\n",
    "plt.title(\"Predicted vs residuals\")\n",
    "plt.xlabel(\"Predicted\")\n",
    "plt.ylabel(\"Residuals\")\n",
    "plt.show()"
   ]
  },
  {
   "cell_type": "code",
   "execution_count": 44,
   "metadata": {
    "pycharm": {
     "name": "#%%\n"
    }
   },
   "outputs": [
    {
     "data": {
      "image/png": "[encoded data removed]",
      "text/plain": [
       "<Figure size 432x288 with 1 Axes>"
      ]
     },
     "metadata": {
      "needs_background": "light"
     },
     "output_type": "display_data"
    }
   ],
   "source": [
    "# Checking Normality of errors\n",
    "sns.distplot(np.abs(y_val-val_pred))\n",
    "plt.title(\"Histogram of Residuals\")\n",
    "plt.xlabel(\"Residuals\")\n",
    "plt.ylabel(\"Frequency\")\n",
    "plt.show()"
   ]
  },
  {
   "cell_type": "code",
   "execution_count": 45,
   "metadata": {
    "pycharm": {
     "name": "#%%\n"
    }
   },
   "outputs": [
    {
     "data": {
      "image/png": "[encoded data removed]",
      "text/plain": [
       "<Figure size 576x396 with 1 Axes>"
      ]
     },
     "metadata": {},
     "output_type": "display_data"
    },
    {
     "data": {
      "text/plain": [
       "<AxesSubplot:title={'center':'Prediction Error for LinearRegression'}, xlabel='$y$', ylabel='$\\\\hat{y}$'>"
      ]
     },
     "execution_count": 45,
     "metadata": {},
     "output_type": "execute_result"
    }
   ],
   "source": [
    "from yellowbrick.regressor import PredictionError\n",
    "visualizer = PredictionError(lm)\n",
    "\n",
    "visualizer.fit(X_train, y_train)  # Fit the training data to the visualizer\n",
    "visualizer.score(X_test, y_test)  # Evaluate the model on the test data\n",
    "visualizer.show()                 # Finalize and render the figure"
   ]
  },
  {
   "cell_type": "markdown",
   "metadata": {
    "pycharm": {
     "name": "#%% md\n"
    }
   },
   "source": [
    "#### 2. Decision Tree Regressor"
   ]
  },
  {
   "cell_type": "code",
   "execution_count": 46,
   "metadata": {
    "pycharm": {
     "name": "#%%\n"
    }
   },
   "outputs": [
    {
     "name": "stdout",
     "output_type": "stream",
     "text": [
      "Test set evaluation:\n",
      "_____________________________________\n",
      "MAE: 27946.976320138947\n",
      "MSE: 12638220651.86411\n",
      "RMSE: 112419.84100622145\n",
      "R2 Square -1.0106778253438988\n",
      "__________________________________\n",
      "Train set evaluation:\n",
      "_____________________________________\n",
      "MAE: 722.6758722287593\n",
      "MSE: 141029312.4746012\n",
      "RMSE: 11875.576300735944\n",
      "R2 Square 0.9830430419266681\n",
      "__________________________________\n",
      "Validation set evaluation:\n",
      "_____________________________________\n",
      "MAE: 28661.028651567365\n",
      "MSE: 17307011721.818913\n",
      "RMSE: 131556.11624633387\n",
      "R2 Square -1.2374760152487299\n",
      "__________________________________\n"
     ]
    }
   ],
   "source": [
    "from sklearn.tree import DecisionTreeRegressor\n",
    "\n",
    "dt_reg = DecisionTreeRegressor() \n",
    "\n",
    "dt_reg.fit(X_train, y_train)\n",
    "\n",
    "test_pred = dt_reg.predict(X_test)\n",
    "train_pred = dt_reg.predict(X_train)\n",
    "val_pred = dt_reg.predict(X_val)\n",
    "\n",
    "print('Test set evaluation:\\n_____________________________________')\n",
    "print_evaluate(y_test, test_pred)\n",
    "\n",
    "print('Train set evaluation:\\n_____________________________________')\n",
    "print_evaluate(y_train, train_pred)\n",
    "\n",
    "print('Validation set evaluation:\\n_____________________________________')\n",
    "print_evaluate(y_val, val_pred)\n",
    "\n",
    "results_val_df_2 = pd.DataFrame(data=[[\"Decision Tree Regressor\", *evaluate(y_val, val_pred), cross_val(DecisionTreeRegressor())]], \n",
    "                            columns=['Model', 'MAE', 'MSE', 'RMSE', 'R2 Square', 'Cross Validation'])\n",
    "\n",
    "results_train_df_2 = pd.DataFrame(data=[[\"Decision Tree Regressor\", *evaluate(y_train, train_pred), cross_val(DecisionTreeRegressor())]], \n",
    "                            columns=['Model', 'MAE', 'MSE', 'RMSE', 'R2 Square', 'Cross Validation'])\n",
    "\n",
    "results_df_2 = pd.DataFrame(data=[[\"Decision Tree Regressor\", *evaluate(y_test, test_pred), cross_val(DecisionTreeRegressor())]], \n",
    "                            columns=['Model', 'MAE', 'MSE', 'RMSE', 'R2 Square', 'Cross Validation'])\n",
    "results_df = results_df.append(results_df_2, ignore_index=True)\n",
    "results_train_df = results_train_df.append(results_train_df_2, ignore_index=True)\n",
    "results_val_df = results_val_df.append(results_val_df_2, ignore_index=True)"
   ]
  },
  {
   "cell_type": "code",
   "execution_count": 47,
   "metadata": {
    "pycharm": {
     "name": "#%%\n"
    }
   },
   "outputs": [
    {
     "data": {
      "image/png": "[encoded data removed]",
      "text/plain": [
       "<Figure size 576x396 with 1 Axes>"
      ]
     },
     "metadata": {},
     "output_type": "display_data"
    }
   ],
   "source": [
    "# TRAIN: Visualizing the differences between actual prices and predicted values\n",
    "plt.scatter(y_train, train_pred)\n",
    "plt.xlabel(\"Popularity\")\n",
    "plt.ylabel(\"Predicted popularity\")\n",
    "plt.title(\"Popularity vs Predicted popularity\")\n",
    "plt.show()"
   ]
  },
  {
   "cell_type": "code",
   "execution_count": 48,
   "metadata": {
    "pycharm": {
     "name": "#%%\n"
    }
   },
   "outputs": [
    {
     "data": {
      "image/png": "[encoded data removed]",
      "text/plain": [
       "<Figure size 576x396 with 1 Axes>"
      ]
     },
     "metadata": {},
     "output_type": "display_data"
    }
   ],
   "source": [
    "# VAL: Visualizing the differences between actual prices and predicted values\n",
    "plt.scatter(y_val, val_pred)\n",
    "plt.xlabel(\"Popularity\")\n",
    "plt.ylabel(\"Predicted popularity\")\n",
    "plt.title(\"Popularity vs Predicted popularity\")\n",
    "plt.show()"
   ]
  },
  {
   "cell_type": "code",
   "execution_count": 49,
   "metadata": {
    "pycharm": {
     "name": "#%%\n"
    }
   },
   "outputs": [
    {
     "data": {
      "image/png": "[encoded data removed]",
      "text/plain": [
       "<Figure size 576x396 with 1 Axes>"
      ]
     },
     "metadata": {},
     "output_type": "display_data"
    }
   ],
   "source": [
    "# Checking residuals\n",
    "plt.scatter(val_pred,np.abs(y_val-val_pred))\n",
    "plt.title(\"Predicted vs residuals\")\n",
    "plt.xlabel(\"Predicted\")\n",
    "plt.ylabel(\"Residuals\")\n",
    "plt.show()"
   ]
  },
  {
   "cell_type": "code",
   "execution_count": 50,
   "metadata": {
    "pycharm": {
     "name": "#%%\n"
    }
   },
   "outputs": [
    {
     "data": {
      "image/png": "[encoded data removed]",
      "text/plain": [
       "<Figure size 576x396 with 1 Axes>"
      ]
     },
     "metadata": {},
     "output_type": "display_data"
    }
   ],
   "source": [
    "# Checking Normality of errors\n",
    "sns.distplot(np.abs(y_val-val_pred))\n",
    "plt.title(\"Histogram of Residuals\")\n",
    "plt.xlabel(\"Residuals\")\n",
    "plt.ylabel(\"Frequency\")\n",
    "plt.show()"
   ]
  }
 ],
 "metadata": {
  "kernelspec": {
   "display_name": "Python 3.8.3 ('base')",
   "language": "python",
   "name": "python3"
  },
  "language_info": {
   "codemirror_mode": {
    "name": "ipython",
    "version": 3
   },
   "file_extension": ".py",
   "mimetype": "text/x-python",
   "name": "python",
   "nbconvert_exporter": "python",
   "pygments_lexer": "ipython3",
   "version": "3.8.3"
  },
  "vscode": {
   "interpreter": {
    "hash": "f62640f3a40ec7f2e1e68e95279e3c4c53f29a19e2dfab556c2dfe07b30804aa"
   }
  }
 },
 "nbformat": 4,
 "nbformat_minor": 1
}
