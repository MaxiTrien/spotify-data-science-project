{
 "cells": [
  {
   "cell_type": "markdown",
   "metadata": {},
   "source": [
    "## Popular release weekday and popular length of a song"
   ]
  },
  {
   "cell_type": "code",
   "execution_count": 1,
   "metadata": {},
   "outputs": [],
   "source": [
    "import pandas as pd\n",
    "import numpy as np\n",
    "import matplotlib.pyplot as plt\n",
    "import seaborn as sns\n",
    "import warnings\n",
    "import datetime\n",
    "\n",
    "warnings.filterwarnings(\"ignore\")\n",
    "pd.set_option('display.max_columns', None)\n",
    "pd.set_option('display.max_rows', 500)\n",
    "%matplotlib inline"
   ]
  },
  {
   "cell_type": "code",
   "execution_count": 2,
   "metadata": {},
   "outputs": [],
   "source": [
    "df=pd.read_pickle('./dataset_/dataset_cleaned_popularity.pkl')\n",
    "df.drop(columns=['index', 'level_0'], inplace=True)  # Comes from pickeling the file\n",
    "df.reset_index(drop=True, inplace=True)"
   ]
  },
  {
   "cell_type": "code",
   "execution_count": 102,
   "metadata": {},
   "outputs": [
    {
     "data": {
      "text/html": [
       "<div>\n",
       "<style scoped>\n",
       "    .dataframe tbody tr th:only-of-type {\n",
       "        vertical-align: middle;\n",
       "    }\n",
       "\n",
       "    .dataframe tbody tr th {\n",
       "        vertical-align: top;\n",
       "    }\n",
       "\n",
       "    .dataframe thead th {\n",
       "        text-align: right;\n",
       "    }\n",
       "</style>\n",
       "<table border=\"1\" class=\"dataframe\">\n",
       "  <thead>\n",
       "    <tr style=\"text-align: right;\">\n",
       "      <th></th>\n",
       "      <th>country</th>\n",
       "      <th>uri</th>\n",
       "      <th>popularity</th>\n",
       "      <th>title</th>\n",
       "      <th>artist</th>\n",
       "      <th>release_type</th>\n",
       "      <th>sub_genre</th>\n",
       "      <th>artist_followers</th>\n",
       "      <th>explicit</th>\n",
       "      <th>album</th>\n",
       "      <th>release_date</th>\n",
       "      <th>track_number</th>\n",
       "      <th>tracks_in_album</th>\n",
       "      <th>danceability</th>\n",
       "      <th>energy</th>\n",
       "      <th>key</th>\n",
       "      <th>loudness</th>\n",
       "      <th>mode</th>\n",
       "      <th>speechiness</th>\n",
       "      <th>acoustics</th>\n",
       "      <th>instrumentalness</th>\n",
       "      <th>liveness</th>\n",
       "      <th>valence</th>\n",
       "      <th>tempo</th>\n",
       "      <th>time_signature</th>\n",
       "      <th>genre</th>\n",
       "      <th>days_since_release</th>\n",
       "      <th>released_after_2017</th>\n",
       "      <th>explicit_false</th>\n",
       "      <th>explicit_true</th>\n",
       "      <th>popu_max</th>\n",
       "      <th>top10_dummy</th>\n",
       "      <th>top50_dummy</th>\n",
       "      <th>cluster</th>\n",
       "      <th>duration_min</th>\n",
       "      <th>release_year</th>\n",
       "      <th>release_month</th>\n",
       "      <th>release_day</th>\n",
       "      <th>release_week</th>\n",
       "    </tr>\n",
       "  </thead>\n",
       "  <tbody>\n",
       "    <tr>\n",
       "      <th>166676</th>\n",
       "      <td>Taiwan</td>\n",
       "      <td>https://open.spotify.com/track/6QRRl9Yr0k88RlO...</td>\n",
       "      <td>123.2</td>\n",
       "      <td>不好說</td>\n",
       "      <td>HAOR</td>\n",
       "      <td>single</td>\n",
       "      <td>taiwan pop</td>\n",
       "      <td>2014.0</td>\n",
       "      <td>False</td>\n",
       "      <td>不好說</td>\n",
       "      <td>2018-06-26</td>\n",
       "      <td>1</td>\n",
       "      <td>1</td>\n",
       "      <td>0.751</td>\n",
       "      <td>0.361</td>\n",
       "      <td>10</td>\n",
       "      <td>-8.667</td>\n",
       "      <td>1</td>\n",
       "      <td>0.0531</td>\n",
       "      <td>0.4140</td>\n",
       "      <td>0.000000</td>\n",
       "      <td>0.0894</td>\n",
       "      <td>0.569</td>\n",
       "      <td>92.053</td>\n",
       "      <td>4</td>\n",
       "      <td>pop</td>\n",
       "      <td>872.0</td>\n",
       "      <td>1.0</td>\n",
       "      <td>1</td>\n",
       "      <td>0</td>\n",
       "      <td>112</td>\n",
       "      <td>0.0</td>\n",
       "      <td>0.0</td>\n",
       "      <td>english speaking and nordic</td>\n",
       "      <td>3.310550</td>\n",
       "      <td>2018</td>\n",
       "      <td>6</td>\n",
       "      <td>26</td>\n",
       "      <td>Tuesday</td>\n",
       "    </tr>\n",
       "    <tr>\n",
       "      <th>166677</th>\n",
       "      <td>Taiwan</td>\n",
       "      <td>https://open.spotify.com/track/4v29A51TqtD2KFS...</td>\n",
       "      <td>31.2</td>\n",
       "      <td>smalltown</td>\n",
       "      <td>Luke Christopher</td>\n",
       "      <td>single</td>\n",
       "      <td>indie pop rap</td>\n",
       "      <td>152740.0</td>\n",
       "      <td>True</td>\n",
       "      <td>SmallTown</td>\n",
       "      <td>2017-07-07</td>\n",
       "      <td>1</td>\n",
       "      <td>1</td>\n",
       "      <td>0.617</td>\n",
       "      <td>0.598</td>\n",
       "      <td>6</td>\n",
       "      <td>-6.677</td>\n",
       "      <td>1</td>\n",
       "      <td>0.1000</td>\n",
       "      <td>0.1480</td>\n",
       "      <td>0.000000</td>\n",
       "      <td>0.3330</td>\n",
       "      <td>0.526</td>\n",
       "      <td>79.974</td>\n",
       "      <td>4</td>\n",
       "      <td>pop</td>\n",
       "      <td>1226.0</td>\n",
       "      <td>1.0</td>\n",
       "      <td>0</td>\n",
       "      <td>1</td>\n",
       "      <td>162</td>\n",
       "      <td>0.0</td>\n",
       "      <td>0.0</td>\n",
       "      <td>english speaking and nordic</td>\n",
       "      <td>2.347083</td>\n",
       "      <td>2017</td>\n",
       "      <td>7</td>\n",
       "      <td>7</td>\n",
       "      <td>Friday</td>\n",
       "    </tr>\n",
       "    <tr>\n",
       "      <th>166678</th>\n",
       "      <td>Taiwan</td>\n",
       "      <td>https://open.spotify.com/track/7InvbALrXpsz58J...</td>\n",
       "      <td>156.0</td>\n",
       "      <td>灰狼</td>\n",
       "      <td>G.E.M.</td>\n",
       "      <td>album</td>\n",
       "      <td>mandopop</td>\n",
       "      <td>1225408.0</td>\n",
       "      <td>False</td>\n",
       "      <td>摩天動物園</td>\n",
       "      <td>2019-12-26</td>\n",
       "      <td>7</td>\n",
       "      <td>13</td>\n",
       "      <td>0.679</td>\n",
       "      <td>0.602</td>\n",
       "      <td>5</td>\n",
       "      <td>-8.849</td>\n",
       "      <td>0</td>\n",
       "      <td>0.1480</td>\n",
       "      <td>0.0952</td>\n",
       "      <td>0.000539</td>\n",
       "      <td>0.0921</td>\n",
       "      <td>0.316</td>\n",
       "      <td>133.951</td>\n",
       "      <td>4</td>\n",
       "      <td>pop</td>\n",
       "      <td>324.0</td>\n",
       "      <td>1.0</td>\n",
       "      <td>1</td>\n",
       "      <td>0</td>\n",
       "      <td>130</td>\n",
       "      <td>0.0</td>\n",
       "      <td>0.0</td>\n",
       "      <td>english speaking and nordic</td>\n",
       "      <td>3.390300</td>\n",
       "      <td>2019</td>\n",
       "      <td>12</td>\n",
       "      <td>26</td>\n",
       "      <td>Thursday</td>\n",
       "    </tr>\n",
       "    <tr>\n",
       "      <th>166679</th>\n",
       "      <td>Taiwan</td>\n",
       "      <td>https://open.spotify.com/track/0525Cll5exsrybt...</td>\n",
       "      <td>21.6</td>\n",
       "      <td>清晨巴士</td>\n",
       "      <td>Crowd Lu</td>\n",
       "      <td>album</td>\n",
       "      <td>chinese indie</td>\n",
       "      <td>149875.0</td>\n",
       "      <td>False</td>\n",
       "      <td>有吉他的流行歌曲</td>\n",
       "      <td>2012-11-20</td>\n",
       "      <td>13</td>\n",
       "      <td>13</td>\n",
       "      <td>0.380</td>\n",
       "      <td>0.291</td>\n",
       "      <td>0</td>\n",
       "      <td>-9.088</td>\n",
       "      <td>1</td>\n",
       "      <td>0.0350</td>\n",
       "      <td>0.8390</td>\n",
       "      <td>0.000000</td>\n",
       "      <td>0.0935</td>\n",
       "      <td>0.417</td>\n",
       "      <td>66.537</td>\n",
       "      <td>4</td>\n",
       "      <td>indie</td>\n",
       "      <td>2907.0</td>\n",
       "      <td>0.0</td>\n",
       "      <td>1</td>\n",
       "      <td>0</td>\n",
       "      <td>174</td>\n",
       "      <td>0.0</td>\n",
       "      <td>0.0</td>\n",
       "      <td>english speaking and nordic</td>\n",
       "      <td>4.408000</td>\n",
       "      <td>2012</td>\n",
       "      <td>11</td>\n",
       "      <td>20</td>\n",
       "      <td>Tuesday</td>\n",
       "    </tr>\n",
       "    <tr>\n",
       "      <th>166680</th>\n",
       "      <td>Taiwan</td>\n",
       "      <td>https://open.spotify.com/track/6IUFuke9UsBg2FD...</td>\n",
       "      <td>46.4</td>\n",
       "      <td>gettin by</td>\n",
       "      <td>ONE</td>\n",
       "      <td>single</td>\n",
       "      <td>k-rap</td>\n",
       "      <td>205012.0</td>\n",
       "      <td>False</td>\n",
       "      <td>ONE DAY</td>\n",
       "      <td>2017-07-11</td>\n",
       "      <td>1</td>\n",
       "      <td>2</td>\n",
       "      <td>0.743</td>\n",
       "      <td>0.586</td>\n",
       "      <td>0</td>\n",
       "      <td>-3.701</td>\n",
       "      <td>1</td>\n",
       "      <td>0.0558</td>\n",
       "      <td>0.2380</td>\n",
       "      <td>0.000000</td>\n",
       "      <td>0.1960</td>\n",
       "      <td>0.642</td>\n",
       "      <td>92.961</td>\n",
       "      <td>4</td>\n",
       "      <td>rap</td>\n",
       "      <td>1222.0</td>\n",
       "      <td>1.0</td>\n",
       "      <td>1</td>\n",
       "      <td>0</td>\n",
       "      <td>143</td>\n",
       "      <td>0.0</td>\n",
       "      <td>0.0</td>\n",
       "      <td>english speaking and nordic</td>\n",
       "      <td>3.559033</td>\n",
       "      <td>2017</td>\n",
       "      <td>7</td>\n",
       "      <td>11</td>\n",
       "      <td>Tuesday</td>\n",
       "    </tr>\n",
       "  </tbody>\n",
       "</table>\n",
       "</div>"
      ],
      "text/plain": [
       "       country                                                uri  popularity  \\\n",
       "166676  Taiwan  https://open.spotify.com/track/6QRRl9Yr0k88RlO...       123.2   \n",
       "166677  Taiwan  https://open.spotify.com/track/4v29A51TqtD2KFS...        31.2   \n",
       "166678  Taiwan  https://open.spotify.com/track/7InvbALrXpsz58J...       156.0   \n",
       "166679  Taiwan  https://open.spotify.com/track/0525Cll5exsrybt...        21.6   \n",
       "166680  Taiwan  https://open.spotify.com/track/6IUFuke9UsBg2FD...        46.4   \n",
       "\n",
       "            title            artist release_type      sub_genre  \\\n",
       "166676        不好說              HAOR       single     taiwan pop   \n",
       "166677  smalltown  Luke Christopher       single  indie pop rap   \n",
       "166678         灰狼            G.E.M.        album       mandopop   \n",
       "166679       清晨巴士          Crowd Lu        album  chinese indie   \n",
       "166680  gettin by               ONE       single          k-rap   \n",
       "\n",
       "        artist_followers explicit      album release_date track_number  \\\n",
       "166676            2014.0    False        不好說   2018-06-26            1   \n",
       "166677          152740.0     True  SmallTown   2017-07-07            1   \n",
       "166678         1225408.0    False      摩天動物園   2019-12-26            7   \n",
       "166679          149875.0    False   有吉他的流行歌曲   2012-11-20           13   \n",
       "166680          205012.0    False    ONE DAY   2017-07-11            1   \n",
       "\n",
       "       tracks_in_album  danceability  energy key  loudness mode  speechiness  \\\n",
       "166676               1         0.751   0.361  10    -8.667    1       0.0531   \n",
       "166677               1         0.617   0.598   6    -6.677    1       0.1000   \n",
       "166678              13         0.679   0.602   5    -8.849    0       0.1480   \n",
       "166679              13         0.380   0.291   0    -9.088    1       0.0350   \n",
       "166680               2         0.743   0.586   0    -3.701    1       0.0558   \n",
       "\n",
       "        acoustics  instrumentalness  liveness  valence    tempo  \\\n",
       "166676     0.4140          0.000000    0.0894    0.569   92.053   \n",
       "166677     0.1480          0.000000    0.3330    0.526   79.974   \n",
       "166678     0.0952          0.000539    0.0921    0.316  133.951   \n",
       "166679     0.8390          0.000000    0.0935    0.417   66.537   \n",
       "166680     0.2380          0.000000    0.1960    0.642   92.961   \n",
       "\n",
       "       time_signature  genre  days_since_release released_after_2017  \\\n",
       "166676              4    pop               872.0                 1.0   \n",
       "166677              4    pop              1226.0                 1.0   \n",
       "166678              4    pop               324.0                 1.0   \n",
       "166679              4  indie              2907.0                 0.0   \n",
       "166680              4    rap              1222.0                 1.0   \n",
       "\n",
       "        explicit_false  explicit_true  popu_max  top10_dummy  top50_dummy  \\\n",
       "166676               1              0       112          0.0          0.0   \n",
       "166677               0              1       162          0.0          0.0   \n",
       "166678               1              0       130          0.0          0.0   \n",
       "166679               1              0       174          0.0          0.0   \n",
       "166680               1              0       143          0.0          0.0   \n",
       "\n",
       "                            cluster  duration_min  release_year  \\\n",
       "166676  english speaking and nordic      3.310550          2018   \n",
       "166677  english speaking and nordic      2.347083          2017   \n",
       "166678  english speaking and nordic      3.390300          2019   \n",
       "166679  english speaking and nordic      4.408000          2012   \n",
       "166680  english speaking and nordic      3.559033          2017   \n",
       "\n",
       "        release_month  release_day release_week  \n",
       "166676              6           26      Tuesday  \n",
       "166677              7            7       Friday  \n",
       "166678             12           26     Thursday  \n",
       "166679             11           20      Tuesday  \n",
       "166680              7           11      Tuesday  "
      ]
     },
     "execution_count": 102,
     "metadata": {},
     "output_type": "execute_result"
    }
   ],
   "source": [
    "df.tail()"
   ]
  },
  {
   "cell_type": "markdown",
   "metadata": {},
   "source": [
    "# Popularity based on release_week, release_day, release_month"
   ]
  },
  {
   "cell_type": "code",
   "execution_count": 103,
   "metadata": {},
   "outputs": [],
   "source": [
    "# creating a data frame called release_week for the given release_date\n",
    "df['release_date'] = pd.to_datetime(df['release_date'])\n",
    "df['release_week'] = df['release_date'].dt.day_name()"
   ]
  },
  {
   "cell_type": "markdown",
   "metadata": {},
   "source": [
    "The basic idea here is to find out is there is any correlation between the popularity of a song based on the release weekday, release month or release day.\n",
    "Since there are high chances of sucess if the release event is near the weekend, with this pre assumption we dive into this \n",
    "task."
   ]
  },
  {
   "cell_type": "markdown",
   "metadata": {},
   "source": [
    "### For Global"
   ]
  },
  {
   "cell_type": "code",
   "execution_count": 156,
   "metadata": {},
   "outputs": [
    {
     "data": {
      "text/html": [
       "<div>\n",
       "<style scoped>\n",
       "    .dataframe tbody tr th:only-of-type {\n",
       "        vertical-align: middle;\n",
       "    }\n",
       "\n",
       "    .dataframe tbody tr th {\n",
       "        vertical-align: top;\n",
       "    }\n",
       "\n",
       "    .dataframe thead th {\n",
       "        text-align: right;\n",
       "    }\n",
       "</style>\n",
       "<table border=\"1\" class=\"dataframe\">\n",
       "  <thead>\n",
       "    <tr style=\"text-align: right;\">\n",
       "      <th></th>\n",
       "      <th>popularity</th>\n",
       "      <th>num</th>\n",
       "    </tr>\n",
       "    <tr>\n",
       "      <th>release_week</th>\n",
       "      <th></th>\n",
       "      <th></th>\n",
       "    </tr>\n",
       "  </thead>\n",
       "  <tbody>\n",
       "    <tr>\n",
       "      <th>Monday</th>\n",
       "      <td>3234.626546</td>\n",
       "      <td>1</td>\n",
       "    </tr>\n",
       "    <tr>\n",
       "      <th>Tuesday</th>\n",
       "      <td>3148.361373</td>\n",
       "      <td>2</td>\n",
       "    </tr>\n",
       "    <tr>\n",
       "      <th>Wednesday</th>\n",
       "      <td>4153.607292</td>\n",
       "      <td>3</td>\n",
       "    </tr>\n",
       "    <tr>\n",
       "      <th>Thursday</th>\n",
       "      <td>5772.598409</td>\n",
       "      <td>4</td>\n",
       "    </tr>\n",
       "    <tr>\n",
       "      <th>Friday</th>\n",
       "      <td>4917.232436</td>\n",
       "      <td>5</td>\n",
       "    </tr>\n",
       "    <tr>\n",
       "      <th>Saturday</th>\n",
       "      <td>5662.491667</td>\n",
       "      <td>6</td>\n",
       "    </tr>\n",
       "    <tr>\n",
       "      <th>Sunday</th>\n",
       "      <td>3313.337952</td>\n",
       "      <td>7</td>\n",
       "    </tr>\n",
       "  </tbody>\n",
       "</table>\n",
       "</div>"
      ],
      "text/plain": [
       "               popularity  num\n",
       "release_week                  \n",
       "Monday        3234.626546    1\n",
       "Tuesday       3148.361373    2\n",
       "Wednesday     4153.607292    3\n",
       "Thursday      5772.598409    4\n",
       "Friday        4917.232436    5\n",
       "Saturday      5662.491667    6\n",
       "Sunday        3313.337952    7"
      ]
     },
     "execution_count": 156,
     "metadata": {},
     "output_type": "execute_result"
    }
   ],
   "source": [
    "# Global popularity of song according to the release_weekday\n",
    "temp_global = df[df['country']=='Global'].groupby('release_week').mean()\n",
    "temp_global = temp_global.drop(['artist_followers', 'danceability', 'energy', 'loudness', \n",
    "'speechiness', 'acoustics', 'instrumentalness', 'liveness', 'valence', 'tempo',\n",
    " 'days_since_release', 'explicit_false', 'explicit_true', 'popu_max', 'top10_dummy',\n",
    "  'top50_dummy', 'duration_min', 'release_year', 'release_month', 'release_day'], axis=1)\n",
    "temp_global['num'] = [5, 1, 6, 7, 4, 2, 3]\n",
    "temp_global = temp_global.sort_values(by =  ['num'])\n",
    "temp_global"
   ]
  },
  {
   "cell_type": "code",
   "execution_count": 157,
   "metadata": {},
   "outputs": [
    {
     "data": {
      "image/png": "[encoded data removed]",
      "text/plain": [
       "<Figure size 432x288 with 1 Axes>"
      ]
     },
     "metadata": {
      "needs_background": "light"
     },
     "output_type": "display_data"
    }
   ],
   "source": [
    "# plot for the popularity vs release_week\n",
    "temp_global.plot(y='popularity', kind='bar')\n",
    "plt.show()"
   ]
  },
  {
   "cell_type": "markdown",
   "metadata": {},
   "source": [
    "So as the first case we took <code>Global</code> and find out that the popularity of the songs which are released on thursday, friday and saturday is more in comparision to the popularity of the songs which are released on the others weekdays. This is what we have assumed and the reason behind this is they choose the friday to release the music especially for the established artist to maximise on a full week sale, and also you will find most of the listeners egarly seeking out new music to stream and add to their playlist. \n",
    "Also the streaming and charting on the billbord they track sales from friday to thursday, and by releasing on friday they get much more sale.\n",
    "Now the trends is shifting a bit they are experimenting a bit with this by releasing the songs on thursday to give it a tepid start although it is a risky stratege but labels are using this to stand out from the friday pack."
   ]
  },
  {
   "cell_type": "markdown",
   "metadata": {},
   "source": [
    "### For Germany"
   ]
  },
  {
   "cell_type": "code",
   "execution_count": 154,
   "metadata": {},
   "outputs": [
    {
     "data": {
      "text/html": [
       "<div>\n",
       "<style scoped>\n",
       "    .dataframe tbody tr th:only-of-type {\n",
       "        vertical-align: middle;\n",
       "    }\n",
       "\n",
       "    .dataframe tbody tr th {\n",
       "        vertical-align: top;\n",
       "    }\n",
       "\n",
       "    .dataframe thead th {\n",
       "        text-align: right;\n",
       "    }\n",
       "</style>\n",
       "<table border=\"1\" class=\"dataframe\">\n",
       "  <thead>\n",
       "    <tr style=\"text-align: right;\">\n",
       "      <th></th>\n",
       "      <th>popularity</th>\n",
       "      <th>num</th>\n",
       "    </tr>\n",
       "    <tr>\n",
       "      <th>release_week</th>\n",
       "      <th></th>\n",
       "      <th></th>\n",
       "    </tr>\n",
       "  </thead>\n",
       "  <tbody>\n",
       "    <tr>\n",
       "      <th>Monday</th>\n",
       "      <td>2972.772143</td>\n",
       "      <td>1</td>\n",
       "    </tr>\n",
       "    <tr>\n",
       "      <th>Tuesday</th>\n",
       "      <td>2600.270270</td>\n",
       "      <td>2</td>\n",
       "    </tr>\n",
       "    <tr>\n",
       "      <th>Wednesday</th>\n",
       "      <td>3566.551235</td>\n",
       "      <td>3</td>\n",
       "    </tr>\n",
       "    <tr>\n",
       "      <th>Thursday</th>\n",
       "      <td>3984.619841</td>\n",
       "      <td>4</td>\n",
       "    </tr>\n",
       "    <tr>\n",
       "      <th>Friday</th>\n",
       "      <td>3966.509702</td>\n",
       "      <td>5</td>\n",
       "    </tr>\n",
       "    <tr>\n",
       "      <th>Saturday</th>\n",
       "      <td>3835.192208</td>\n",
       "      <td>6</td>\n",
       "    </tr>\n",
       "    <tr>\n",
       "      <th>Sunday</th>\n",
       "      <td>2408.732192</td>\n",
       "      <td>7</td>\n",
       "    </tr>\n",
       "  </tbody>\n",
       "</table>\n",
       "</div>"
      ],
      "text/plain": [
       "               popularity  num\n",
       "release_week                  \n",
       "Monday        2972.772143    1\n",
       "Tuesday       2600.270270    2\n",
       "Wednesday     3566.551235    3\n",
       "Thursday      3984.619841    4\n",
       "Friday        3966.509702    5\n",
       "Saturday      3835.192208    6\n",
       "Sunday        2408.732192    7"
      ]
     },
     "execution_count": 154,
     "metadata": {},
     "output_type": "execute_result"
    }
   ],
   "source": [
    "# Germany popularity of song according to the release_weekday\n",
    "temp_germany = df[df['country']=='Germany'].groupby('release_week').mean()\n",
    "temp_germany = temp_germany.drop(['artist_followers', 'danceability', 'energy', 'loudness', \n",
    "'speechiness', 'acoustics', 'instrumentalness', 'liveness', 'valence', 'tempo',\n",
    " 'days_since_release', 'explicit_false', 'explicit_true', 'popu_max', 'top10_dummy',\n",
    "  'top50_dummy', 'duration_min', 'release_year', 'release_month', 'release_day'], axis=1)\n",
    "temp_germany['num'] = [5, 1, 6, 7, 4, 2, 3]\n",
    "temp_germany = temp_germany.sort_values(by =  ['num'])\n",
    "temp_germany"
   ]
  },
  {
   "cell_type": "markdown",
   "metadata": {},
   "source": []
  },
  {
   "cell_type": "code",
   "execution_count": 162,
   "metadata": {},
   "outputs": [
    {
     "data": {
      "image/png": "[encoded data removed]",
      "text/plain": [
       "<Figure size 432x288 with 1 Axes>"
      ]
     },
     "metadata": {
      "needs_background": "light"
     },
     "output_type": "display_data"
    }
   ],
   "source": [
    "# plot for the popularity vs release_week in Germany\n",
    "temp_germany.plot(y='popularity', ylim= [0,6000], kind='bar')\n",
    "plt.show()"
   ]
  },
  {
   "cell_type": "markdown",
   "metadata": {},
   "source": [
    "### For USA"
   ]
  },
  {
   "cell_type": "code",
   "execution_count": 152,
   "metadata": {},
   "outputs": [
    {
     "data": {
      "text/html": [
       "<div>\n",
       "<style scoped>\n",
       "    .dataframe tbody tr th:only-of-type {\n",
       "        vertical-align: middle;\n",
       "    }\n",
       "\n",
       "    .dataframe tbody tr th {\n",
       "        vertical-align: top;\n",
       "    }\n",
       "\n",
       "    .dataframe thead th {\n",
       "        text-align: right;\n",
       "    }\n",
       "</style>\n",
       "<table border=\"1\" class=\"dataframe\">\n",
       "  <thead>\n",
       "    <tr style=\"text-align: right;\">\n",
       "      <th></th>\n",
       "      <th>popularity</th>\n",
       "      <th>num</th>\n",
       "    </tr>\n",
       "    <tr>\n",
       "      <th>release_week</th>\n",
       "      <th></th>\n",
       "      <th></th>\n",
       "    </tr>\n",
       "  </thead>\n",
       "  <tbody>\n",
       "    <tr>\n",
       "      <th>Monday</th>\n",
       "      <td>2929.887603</td>\n",
       "      <td>1</td>\n",
       "    </tr>\n",
       "    <tr>\n",
       "      <th>Tuesday</th>\n",
       "      <td>2828.824534</td>\n",
       "      <td>2</td>\n",
       "    </tr>\n",
       "    <tr>\n",
       "      <th>Wednesday</th>\n",
       "      <td>3587.547989</td>\n",
       "      <td>3</td>\n",
       "    </tr>\n",
       "    <tr>\n",
       "      <th>Thursday</th>\n",
       "      <td>4437.138056</td>\n",
       "      <td>4</td>\n",
       "    </tr>\n",
       "    <tr>\n",
       "      <th>Friday</th>\n",
       "      <td>4047.746297</td>\n",
       "      <td>5</td>\n",
       "    </tr>\n",
       "    <tr>\n",
       "      <th>Saturday</th>\n",
       "      <td>5761.883178</td>\n",
       "      <td>6</td>\n",
       "    </tr>\n",
       "    <tr>\n",
       "      <th>Sunday</th>\n",
       "      <td>2812.943085</td>\n",
       "      <td>7</td>\n",
       "    </tr>\n",
       "  </tbody>\n",
       "</table>\n",
       "</div>"
      ],
      "text/plain": [
       "               popularity  num\n",
       "release_week                  \n",
       "Monday        2929.887603    1\n",
       "Tuesday       2828.824534    2\n",
       "Wednesday     3587.547989    3\n",
       "Thursday      4437.138056    4\n",
       "Friday        4047.746297    5\n",
       "Saturday      5761.883178    6\n",
       "Sunday        2812.943085    7"
      ]
     },
     "execution_count": 152,
     "metadata": {},
     "output_type": "execute_result"
    }
   ],
   "source": [
    "# USA popularity of song according to the release_weekday\n",
    "temp_usa = df[df['country']=='USA'].groupby('release_week').mean()\n",
    "temp_usa = temp_usa.drop(['artist_followers', 'danceability', 'energy', 'loudness', \n",
    "'speechiness', 'acoustics', 'instrumentalness', 'liveness', 'valence', 'tempo',\n",
    " 'days_since_release', 'explicit_false', 'explicit_true', 'popu_max', 'top10_dummy',\n",
    "  'top50_dummy', 'duration_min', 'release_year', 'release_month', 'release_day'], axis=1)\n",
    "temp_usa['num'] = [5, 1, 6, 7, 4, 2, 3]\n",
    "temp_usa = temp_usa.sort_values(by =  ['num'])\n",
    "temp_usa"
   ]
  },
  {
   "cell_type": "code",
   "execution_count": 151,
   "metadata": {},
   "outputs": [
    {
     "data": {
      "image/png": "[encoded data removed]",
      "text/plain": [
       "<Figure size 432x288 with 1 Axes>"
      ]
     },
     "metadata": {
      "needs_background": "light"
     },
     "output_type": "display_data"
    }
   ],
   "source": [
    "# plot for the popularity vs release_week in USA\n",
    "temp_usa.plot(y='popularity', kind='bar')\n",
    "plt.show()"
   ]
  },
  {
   "cell_type": "markdown",
   "metadata": {},
   "source": [
    "# By Dates"
   ]
  },
  {
   "cell_type": "code",
   "execution_count": 11,
   "metadata": {},
   "outputs": [
    {
     "data": {
      "text/html": [
       "<div>\n",
       "<style scoped>\n",
       "    .dataframe tbody tr th:only-of-type {\n",
       "        vertical-align: middle;\n",
       "    }\n",
       "\n",
       "    .dataframe tbody tr th {\n",
       "        vertical-align: top;\n",
       "    }\n",
       "\n",
       "    .dataframe thead th {\n",
       "        text-align: right;\n",
       "    }\n",
       "</style>\n",
       "<table border=\"1\" class=\"dataframe\">\n",
       "  <thead>\n",
       "    <tr style=\"text-align: right;\">\n",
       "      <th></th>\n",
       "      <th>popularity</th>\n",
       "    </tr>\n",
       "    <tr>\n",
       "      <th>release_day</th>\n",
       "      <th></th>\n",
       "    </tr>\n",
       "  </thead>\n",
       "  <tbody>\n",
       "    <tr>\n",
       "      <th>1</th>\n",
       "      <td>2802.522049</td>\n",
       "    </tr>\n",
       "    <tr>\n",
       "      <th>2</th>\n",
       "      <td>4319.642857</td>\n",
       "    </tr>\n",
       "    <tr>\n",
       "      <th>3</th>\n",
       "      <td>7407.647135</td>\n",
       "    </tr>\n",
       "    <tr>\n",
       "      <th>4</th>\n",
       "      <td>5035.273016</td>\n",
       "    </tr>\n",
       "    <tr>\n",
       "      <th>5</th>\n",
       "      <td>4321.535088</td>\n",
       "    </tr>\n",
       "    <tr>\n",
       "      <th>6</th>\n",
       "      <td>5027.366071</td>\n",
       "    </tr>\n",
       "    <tr>\n",
       "      <th>7</th>\n",
       "      <td>4993.184028</td>\n",
       "    </tr>\n",
       "    <tr>\n",
       "      <th>8</th>\n",
       "      <td>4856.602381</td>\n",
       "    </tr>\n",
       "    <tr>\n",
       "      <th>9</th>\n",
       "      <td>4485.868605</td>\n",
       "    </tr>\n",
       "    <tr>\n",
       "      <th>10</th>\n",
       "      <td>4391.746681</td>\n",
       "    </tr>\n",
       "    <tr>\n",
       "      <th>11</th>\n",
       "      <td>5705.455155</td>\n",
       "    </tr>\n",
       "    <tr>\n",
       "      <th>12</th>\n",
       "      <td>5099.140625</td>\n",
       "    </tr>\n",
       "    <tr>\n",
       "      <th>13</th>\n",
       "      <td>4696.278344</td>\n",
       "    </tr>\n",
       "    <tr>\n",
       "      <th>14</th>\n",
       "      <td>5259.479188</td>\n",
       "    </tr>\n",
       "    <tr>\n",
       "      <th>15</th>\n",
       "      <td>4016.109653</td>\n",
       "    </tr>\n",
       "    <tr>\n",
       "      <th>16</th>\n",
       "      <td>6657.075000</td>\n",
       "    </tr>\n",
       "    <tr>\n",
       "      <th>17</th>\n",
       "      <td>6114.006422</td>\n",
       "    </tr>\n",
       "    <tr>\n",
       "      <th>18</th>\n",
       "      <td>4954.142442</td>\n",
       "    </tr>\n",
       "    <tr>\n",
       "      <th>19</th>\n",
       "      <td>5569.209643</td>\n",
       "    </tr>\n",
       "    <tr>\n",
       "      <th>20</th>\n",
       "      <td>6284.311567</td>\n",
       "    </tr>\n",
       "    <tr>\n",
       "      <th>21</th>\n",
       "      <td>3650.457222</td>\n",
       "    </tr>\n",
       "    <tr>\n",
       "      <th>22</th>\n",
       "      <td>3322.552513</td>\n",
       "    </tr>\n",
       "    <tr>\n",
       "      <th>23</th>\n",
       "      <td>5112.029630</td>\n",
       "    </tr>\n",
       "    <tr>\n",
       "      <th>24</th>\n",
       "      <td>4657.735052</td>\n",
       "    </tr>\n",
       "    <tr>\n",
       "      <th>25</th>\n",
       "      <td>4293.432540</td>\n",
       "    </tr>\n",
       "    <tr>\n",
       "      <th>26</th>\n",
       "      <td>3691.169143</td>\n",
       "    </tr>\n",
       "    <tr>\n",
       "      <th>27</th>\n",
       "      <td>6363.065642</td>\n",
       "    </tr>\n",
       "    <tr>\n",
       "      <th>28</th>\n",
       "      <td>5216.485340</td>\n",
       "    </tr>\n",
       "    <tr>\n",
       "      <th>29</th>\n",
       "      <td>6560.125321</td>\n",
       "    </tr>\n",
       "    <tr>\n",
       "      <th>30</th>\n",
       "      <td>3121.842553</td>\n",
       "    </tr>\n",
       "    <tr>\n",
       "      <th>31</th>\n",
       "      <td>4673.862871</td>\n",
       "    </tr>\n",
       "  </tbody>\n",
       "</table>\n",
       "</div>"
      ],
      "text/plain": [
       "              popularity\n",
       "release_day             \n",
       "1            2802.522049\n",
       "2            4319.642857\n",
       "3            7407.647135\n",
       "4            5035.273016\n",
       "5            4321.535088\n",
       "6            5027.366071\n",
       "7            4993.184028\n",
       "8            4856.602381\n",
       "9            4485.868605\n",
       "10           4391.746681\n",
       "11           5705.455155\n",
       "12           5099.140625\n",
       "13           4696.278344\n",
       "14           5259.479188\n",
       "15           4016.109653\n",
       "16           6657.075000\n",
       "17           6114.006422\n",
       "18           4954.142442\n",
       "19           5569.209643\n",
       "20           6284.311567\n",
       "21           3650.457222\n",
       "22           3322.552513\n",
       "23           5112.029630\n",
       "24           4657.735052\n",
       "25           4293.432540\n",
       "26           3691.169143\n",
       "27           6363.065642\n",
       "28           5216.485340\n",
       "29           6560.125321\n",
       "30           3121.842553\n",
       "31           4673.862871"
      ]
     },
     "execution_count": 11,
     "metadata": {},
     "output_type": "execute_result"
    }
   ],
   "source": [
    "# Global popularity of song according to the release_day\n",
    "day_global = df[df['country']=='Global'].groupby('release_day').mean()\n",
    "day_global = day_global.drop(['artist_followers', 'danceability', 'energy', 'loudness', \n",
    "'speechiness', 'acoustics', 'instrumentalness', 'liveness', 'valence', 'tempo',\n",
    " 'days_since_release', 'explicit_false', 'explicit_true', 'popu_max', 'top10_dummy',\n",
    "  'top50_dummy', 'duration_min', 'release_year', 'release_month'], axis=1)\n",
    "day_global"
   ]
  },
  {
   "cell_type": "code",
   "execution_count": 12,
   "metadata": {},
   "outputs": [
    {
     "data": {
      "image/png": "[encoded data removed]",
      "text/plain": [
       "<Figure size 432x288 with 1 Axes>"
      ]
     },
     "metadata": {
      "needs_background": "light"
     },
     "output_type": "display_data"
    }
   ],
   "source": [
    "# plot for the popularity vs release_day in Global\n",
    "day_global.plot(kind='bar')\n",
    "plt.show()"
   ]
  },
  {
   "cell_type": "code",
   "execution_count": 13,
   "metadata": {},
   "outputs": [
    {
     "data": {
      "text/html": [
       "<div>\n",
       "<style scoped>\n",
       "    .dataframe tbody tr th:only-of-type {\n",
       "        vertical-align: middle;\n",
       "    }\n",
       "\n",
       "    .dataframe tbody tr th {\n",
       "        vertical-align: top;\n",
       "    }\n",
       "\n",
       "    .dataframe thead th {\n",
       "        text-align: right;\n",
       "    }\n",
       "</style>\n",
       "<table border=\"1\" class=\"dataframe\">\n",
       "  <thead>\n",
       "    <tr style=\"text-align: right;\">\n",
       "      <th></th>\n",
       "      <th>popularity</th>\n",
       "    </tr>\n",
       "    <tr>\n",
       "      <th>release_month</th>\n",
       "      <th></th>\n",
       "    </tr>\n",
       "  </thead>\n",
       "  <tbody>\n",
       "    <tr>\n",
       "      <th>1</th>\n",
       "      <td>3782.625926</td>\n",
       "    </tr>\n",
       "    <tr>\n",
       "      <th>2</th>\n",
       "      <td>4667.523229</td>\n",
       "    </tr>\n",
       "    <tr>\n",
       "      <th>3</th>\n",
       "      <td>5938.552464</td>\n",
       "    </tr>\n",
       "    <tr>\n",
       "      <th>4</th>\n",
       "      <td>6201.253293</td>\n",
       "    </tr>\n",
       "    <tr>\n",
       "      <th>5</th>\n",
       "      <td>3960.527280</td>\n",
       "    </tr>\n",
       "    <tr>\n",
       "      <th>6</th>\n",
       "      <td>6223.131818</td>\n",
       "    </tr>\n",
       "    <tr>\n",
       "      <th>7</th>\n",
       "      <td>4332.623775</td>\n",
       "    </tr>\n",
       "    <tr>\n",
       "      <th>8</th>\n",
       "      <td>4843.201751</td>\n",
       "    </tr>\n",
       "    <tr>\n",
       "      <th>9</th>\n",
       "      <td>3754.591548</td>\n",
       "    </tr>\n",
       "    <tr>\n",
       "      <th>10</th>\n",
       "      <td>4687.427462</td>\n",
       "    </tr>\n",
       "    <tr>\n",
       "      <th>11</th>\n",
       "      <td>4536.290203</td>\n",
       "    </tr>\n",
       "    <tr>\n",
       "      <th>12</th>\n",
       "      <td>5927.546853</td>\n",
       "    </tr>\n",
       "  </tbody>\n",
       "</table>\n",
       "</div>"
      ],
      "text/plain": [
       "                popularity\n",
       "release_month             \n",
       "1              3782.625926\n",
       "2              4667.523229\n",
       "3              5938.552464\n",
       "4              6201.253293\n",
       "5              3960.527280\n",
       "6              6223.131818\n",
       "7              4332.623775\n",
       "8              4843.201751\n",
       "9              3754.591548\n",
       "10             4687.427462\n",
       "11             4536.290203\n",
       "12             5927.546853"
      ]
     },
     "execution_count": 13,
     "metadata": {},
     "output_type": "execute_result"
    }
   ],
   "source": [
    "# Global popularity of song according to the release_month in Global\n",
    "month_global = df[df['country']=='Global'].groupby('release_month').mean()\n",
    "month_global = month_global.drop(['artist_followers', 'danceability', 'energy', 'loudness', \n",
    "'speechiness', 'acoustics', 'instrumentalness', 'liveness', 'valence', 'tempo',\n",
    " 'days_since_release', 'explicit_false', 'explicit_true', 'popu_max', 'top10_dummy',\n",
    "  'top50_dummy', 'duration_min', 'release_year', 'release_day'], axis=1)\n",
    "month_global"
   ]
  },
  {
   "cell_type": "code",
   "execution_count": 14,
   "metadata": {},
   "outputs": [
    {
     "data": {
      "image/png": "[encoded data removed]",
      "text/plain": [
       "<Figure size 432x288 with 1 Axes>"
      ]
     },
     "metadata": {
      "needs_background": "light"
     },
     "output_type": "display_data"
    }
   ],
   "source": [
    "# plot for the popularity vs release_month in Global\n",
    "month_global.plot(kind='bar')\n",
    "plt.show()"
   ]
  },
  {
   "cell_type": "markdown",
   "metadata": {},
   "source": [
    "# Most popular songs length"
   ]
  },
  {
   "cell_type": "markdown",
   "metadata": {},
   "source": [
    "Here in this section we tried to look on the most ideal length of the song, because it is an intresting finding to see that does the lenght of the songs has an impact on the popularity of the songs.\n",
    "\n",
    "In order to gain insites on this first we tried to see the trends on the global set and as in the plot we can see that there is a lot going on between 2 minutes to 5.5 minutes, which clearly indicate that most of the songs length lies between this interval.\n",
    "After this when we look into the average length of songs in this global set we got an avergae of 3.43 minutes and with this we took only the average of those songs whose popularity is greater than 500000 then we got an average of 3.46 minutes, which is similar to the mean of all songs."
   ]
  },
  {
   "cell_type": "code",
   "execution_count": 318,
   "metadata": {},
   "outputs": [
    {
     "data": {
      "text/plain": [
       "[<matplotlib.lines.Line2D at 0x30889d0a0>]"
      ]
     },
     "execution_count": 318,
     "metadata": {},
     "output_type": "execute_result"
    },
    {
     "data": {
      "image/png": "[encoded data removed]",
      "text/plain": [
       "<Figure size 432x288 with 1 Axes>"
      ]
     },
     "metadata": {
      "needs_background": "light"
     },
     "output_type": "display_data"
    }
   ],
   "source": [
    "# most popular songs length globally\n",
    "global_len = df[df['country']=='Global']\n",
    "x = global_len['duration_min']\n",
    "y = global_len['popularity']\n",
    "plt.xlabel('duration_min_global')\n",
    "plt.ylabel('popularity')\n",
    "plt.ylim(0, 230000)\n",
    "plt.plot(x, y, \".\")"
   ]
  },
  {
   "cell_type": "code",
   "execution_count": 28,
   "metadata": {},
   "outputs": [
    {
     "data": {
      "text/html": [
       "<div>\n",
       "<style scoped>\n",
       "    .dataframe tbody tr th:only-of-type {\n",
       "        vertical-align: middle;\n",
       "    }\n",
       "\n",
       "    .dataframe tbody tr th {\n",
       "        vertical-align: top;\n",
       "    }\n",
       "\n",
       "    .dataframe thead th {\n",
       "        text-align: right;\n",
       "    }\n",
       "</style>\n",
       "<table border=\"1\" class=\"dataframe\">\n",
       "  <thead>\n",
       "    <tr style=\"text-align: right;\">\n",
       "      <th></th>\n",
       "      <th>country</th>\n",
       "      <th>uri</th>\n",
       "      <th>popularity</th>\n",
       "      <th>title</th>\n",
       "      <th>artist</th>\n",
       "      <th>release_type</th>\n",
       "      <th>sub_genre</th>\n",
       "      <th>artist_followers</th>\n",
       "      <th>explicit</th>\n",
       "      <th>album</th>\n",
       "      <th>release_date</th>\n",
       "      <th>track_number</th>\n",
       "      <th>tracks_in_album</th>\n",
       "      <th>danceability</th>\n",
       "      <th>energy</th>\n",
       "      <th>key</th>\n",
       "      <th>loudness</th>\n",
       "      <th>mode</th>\n",
       "      <th>speechiness</th>\n",
       "      <th>acoustics</th>\n",
       "      <th>instrumentalness</th>\n",
       "      <th>liveness</th>\n",
       "      <th>valence</th>\n",
       "      <th>tempo</th>\n",
       "      <th>time_signature</th>\n",
       "      <th>genre</th>\n",
       "      <th>days_since_release</th>\n",
       "      <th>released_after_2017</th>\n",
       "      <th>explicit_false</th>\n",
       "      <th>explicit_true</th>\n",
       "      <th>popu_max</th>\n",
       "      <th>top10_dummy</th>\n",
       "      <th>top50_dummy</th>\n",
       "      <th>cluster</th>\n",
       "      <th>duration_min</th>\n",
       "      <th>release_year</th>\n",
       "      <th>release_month</th>\n",
       "      <th>release_day</th>\n",
       "      <th>release_week</th>\n",
       "    </tr>\n",
       "  </thead>\n",
       "  <tbody>\n",
       "    <tr>\n",
       "      <th>0</th>\n",
       "      <td>Global</td>\n",
       "      <td>https://open.spotify.com/track/6FyRXC8tJUh863J...</td>\n",
       "      <td>31833.95</td>\n",
       "      <td>adan y eva</td>\n",
       "      <td>Paulo Londra</td>\n",
       "      <td>single</td>\n",
       "      <td>argentine hip hop</td>\n",
       "      <td>11427104.0</td>\n",
       "      <td>False</td>\n",
       "      <td>Adan y Eva</td>\n",
       "      <td>2018-11-05</td>\n",
       "      <td>1</td>\n",
       "      <td>1</td>\n",
       "      <td>0.767</td>\n",
       "      <td>0.709</td>\n",
       "      <td>1</td>\n",
       "      <td>-4.470</td>\n",
       "      <td>1</td>\n",
       "      <td>0.3360</td>\n",
       "      <td>0.323000</td>\n",
       "      <td>0.000000</td>\n",
       "      <td>0.0676</td>\n",
       "      <td>0.720</td>\n",
       "      <td>171.993</td>\n",
       "      <td>4</td>\n",
       "      <td>hip hop</td>\n",
       "      <td>740.0</td>\n",
       "      <td>1.0</td>\n",
       "      <td>1</td>\n",
       "      <td>0</td>\n",
       "      <td>10</td>\n",
       "      <td>1.0</td>\n",
       "      <td>1.0</td>\n",
       "      <td>global</td>\n",
       "      <td>4.310650</td>\n",
       "      <td>2018</td>\n",
       "      <td>11</td>\n",
       "      <td>5</td>\n",
       "      <td>Monday</td>\n",
       "    </tr>\n",
       "    <tr>\n",
       "      <th>16</th>\n",
       "      <td>Global</td>\n",
       "      <td>https://open.spotify.com/track/5xhJmd0I15jFcEd...</td>\n",
       "      <td>418.00</td>\n",
       "      <td>it wont kill ya</td>\n",
       "      <td>The Chainsmokers - Louane</td>\n",
       "      <td>album</td>\n",
       "      <td>dance pop</td>\n",
       "      <td>16931568.0</td>\n",
       "      <td>False</td>\n",
       "      <td>Memories...Do Not Open</td>\n",
       "      <td>2017-04-07</td>\n",
       "      <td>7</td>\n",
       "      <td>12</td>\n",
       "      <td>0.572</td>\n",
       "      <td>0.530</td>\n",
       "      <td>6</td>\n",
       "      <td>-8.521</td>\n",
       "      <td>0</td>\n",
       "      <td>0.0654</td>\n",
       "      <td>0.064700</td>\n",
       "      <td>0.000169</td>\n",
       "      <td>0.1270</td>\n",
       "      <td>0.120</td>\n",
       "      <td>170.138</td>\n",
       "      <td>4</td>\n",
       "      <td>pop</td>\n",
       "      <td>1314.0</td>\n",
       "      <td>1.0</td>\n",
       "      <td>1</td>\n",
       "      <td>0</td>\n",
       "      <td>72</td>\n",
       "      <td>0.0</td>\n",
       "      <td>0.0</td>\n",
       "      <td>global</td>\n",
       "      <td>3.626883</td>\n",
       "      <td>2017</td>\n",
       "      <td>4</td>\n",
       "      <td>7</td>\n",
       "      <td>Friday</td>\n",
       "    </tr>\n",
       "    <tr>\n",
       "      <th>39</th>\n",
       "      <td>Global</td>\n",
       "      <td>https://open.spotify.com/track/0wJJhRgdHhT93Z3...</td>\n",
       "      <td>56.00</td>\n",
       "      <td>hymn</td>\n",
       "      <td>Kesha</td>\n",
       "      <td>single</td>\n",
       "      <td>dance pop</td>\n",
       "      <td>5910376.0</td>\n",
       "      <td>True</td>\n",
       "      <td>Hymn</td>\n",
       "      <td>2017-08-03</td>\n",
       "      <td>1</td>\n",
       "      <td>1</td>\n",
       "      <td>0.488</td>\n",
       "      <td>0.538</td>\n",
       "      <td>6</td>\n",
       "      <td>-4.974</td>\n",
       "      <td>1</td>\n",
       "      <td>0.0760</td>\n",
       "      <td>0.147000</td>\n",
       "      <td>0.000000</td>\n",
       "      <td>0.3050</td>\n",
       "      <td>0.380</td>\n",
       "      <td>67.037</td>\n",
       "      <td>4</td>\n",
       "      <td>pop</td>\n",
       "      <td>1199.0</td>\n",
       "      <td>1.0</td>\n",
       "      <td>0</td>\n",
       "      <td>1</td>\n",
       "      <td>131</td>\n",
       "      <td>0.0</td>\n",
       "      <td>0.0</td>\n",
       "      <td>global</td>\n",
       "      <td>3.426667</td>\n",
       "      <td>2017</td>\n",
       "      <td>8</td>\n",
       "      <td>3</td>\n",
       "      <td>Thursday</td>\n",
       "    </tr>\n",
       "    <tr>\n",
       "      <th>58</th>\n",
       "      <td>Global</td>\n",
       "      <td>https://open.spotify.com/track/6JSryEdVJTZq6YB...</td>\n",
       "      <td>78.40</td>\n",
       "      <td>arrows</td>\n",
       "      <td>Foo Fighters</td>\n",
       "      <td>album</td>\n",
       "      <td>alternative metal</td>\n",
       "      <td>8092392.0</td>\n",
       "      <td>False</td>\n",
       "      <td>Concrete and Gold</td>\n",
       "      <td>2017-09-15</td>\n",
       "      <td>7</td>\n",
       "      <td>11</td>\n",
       "      <td>0.515</td>\n",
       "      <td>0.917</td>\n",
       "      <td>1</td>\n",
       "      <td>-7.312</td>\n",
       "      <td>1</td>\n",
       "      <td>0.0417</td>\n",
       "      <td>0.000209</td>\n",
       "      <td>0.000476</td>\n",
       "      <td>0.1450</td>\n",
       "      <td>0.409</td>\n",
       "      <td>121.988</td>\n",
       "      <td>4</td>\n",
       "      <td>metal</td>\n",
       "      <td>1156.0</td>\n",
       "      <td>1.0</td>\n",
       "      <td>1</td>\n",
       "      <td>0</td>\n",
       "      <td>103</td>\n",
       "      <td>0.0</td>\n",
       "      <td>0.0</td>\n",
       "      <td>global</td>\n",
       "      <td>4.436450</td>\n",
       "      <td>2017</td>\n",
       "      <td>9</td>\n",
       "      <td>15</td>\n",
       "      <td>Friday</td>\n",
       "    </tr>\n",
       "    <tr>\n",
       "      <th>80</th>\n",
       "      <td>Global</td>\n",
       "      <td>https://open.spotify.com/track/7nAfXgeHfDO50up...</td>\n",
       "      <td>244.95</td>\n",
       "      <td>talking to myself</td>\n",
       "      <td>Linkin Park</td>\n",
       "      <td>album</td>\n",
       "      <td>alternative metal</td>\n",
       "      <td>17132813.0</td>\n",
       "      <td>False</td>\n",
       "      <td>One More Light</td>\n",
       "      <td>2017-05-19</td>\n",
       "      <td>3</td>\n",
       "      <td>10</td>\n",
       "      <td>0.593</td>\n",
       "      <td>0.712</td>\n",
       "      <td>2</td>\n",
       "      <td>-6.325</td>\n",
       "      <td>0</td>\n",
       "      <td>0.0286</td>\n",
       "      <td>0.001840</td>\n",
       "      <td>0.000000</td>\n",
       "      <td>0.1280</td>\n",
       "      <td>0.473</td>\n",
       "      <td>124.013</td>\n",
       "      <td>4</td>\n",
       "      <td>metal</td>\n",
       "      <td>1272.0</td>\n",
       "      <td>1.0</td>\n",
       "      <td>1</td>\n",
       "      <td>0</td>\n",
       "      <td>86</td>\n",
       "      <td>0.0</td>\n",
       "      <td>0.0</td>\n",
       "      <td>global</td>\n",
       "      <td>3.855117</td>\n",
       "      <td>2017</td>\n",
       "      <td>5</td>\n",
       "      <td>19</td>\n",
       "      <td>Friday</td>\n",
       "    </tr>\n",
       "  </tbody>\n",
       "</table>\n",
       "</div>"
      ],
      "text/plain": [
       "   country                                                uri  popularity  \\\n",
       "0   Global  https://open.spotify.com/track/6FyRXC8tJUh863J...    31833.95   \n",
       "16  Global  https://open.spotify.com/track/5xhJmd0I15jFcEd...      418.00   \n",
       "39  Global  https://open.spotify.com/track/0wJJhRgdHhT93Z3...       56.00   \n",
       "58  Global  https://open.spotify.com/track/6JSryEdVJTZq6YB...       78.40   \n",
       "80  Global  https://open.spotify.com/track/7nAfXgeHfDO50up...      244.95   \n",
       "\n",
       "                title                     artist release_type  \\\n",
       "0          adan y eva               Paulo Londra       single   \n",
       "16    it wont kill ya  The Chainsmokers - Louane        album   \n",
       "39               hymn                      Kesha       single   \n",
       "58             arrows               Foo Fighters        album   \n",
       "80  talking to myself                Linkin Park        album   \n",
       "\n",
       "            sub_genre  artist_followers explicit                   album  \\\n",
       "0   argentine hip hop        11427104.0    False              Adan y Eva   \n",
       "16          dance pop        16931568.0    False  Memories...Do Not Open   \n",
       "39          dance pop         5910376.0     True                    Hymn   \n",
       "58  alternative metal         8092392.0    False       Concrete and Gold   \n",
       "80  alternative metal        17132813.0    False          One More Light   \n",
       "\n",
       "   release_date track_number tracks_in_album  danceability  energy key  \\\n",
       "0    2018-11-05            1               1         0.767   0.709   1   \n",
       "16   2017-04-07            7              12         0.572   0.530   6   \n",
       "39   2017-08-03            1               1         0.488   0.538   6   \n",
       "58   2017-09-15            7              11         0.515   0.917   1   \n",
       "80   2017-05-19            3              10         0.593   0.712   2   \n",
       "\n",
       "    loudness mode  speechiness  acoustics  instrumentalness  liveness  \\\n",
       "0     -4.470    1       0.3360   0.323000          0.000000    0.0676   \n",
       "16    -8.521    0       0.0654   0.064700          0.000169    0.1270   \n",
       "39    -4.974    1       0.0760   0.147000          0.000000    0.3050   \n",
       "58    -7.312    1       0.0417   0.000209          0.000476    0.1450   \n",
       "80    -6.325    0       0.0286   0.001840          0.000000    0.1280   \n",
       "\n",
       "    valence    tempo time_signature    genre  days_since_release  \\\n",
       "0     0.720  171.993              4  hip hop               740.0   \n",
       "16    0.120  170.138              4      pop              1314.0   \n",
       "39    0.380   67.037              4      pop              1199.0   \n",
       "58    0.409  121.988              4    metal              1156.0   \n",
       "80    0.473  124.013              4    metal              1272.0   \n",
       "\n",
       "   released_after_2017  explicit_false  explicit_true  popu_max  top10_dummy  \\\n",
       "0                  1.0               1              0        10          1.0   \n",
       "16                 1.0               1              0        72          0.0   \n",
       "39                 1.0               0              1       131          0.0   \n",
       "58                 1.0               1              0       103          0.0   \n",
       "80                 1.0               1              0        86          0.0   \n",
       "\n",
       "    top50_dummy cluster  duration_min  release_year  release_month  \\\n",
       "0           1.0  global      4.310650          2018             11   \n",
       "16          0.0  global      3.626883          2017              4   \n",
       "39          0.0  global      3.426667          2017              8   \n",
       "58          0.0  global      4.436450          2017              9   \n",
       "80          0.0  global      3.855117          2017              5   \n",
       "\n",
       "    release_day release_week  \n",
       "0             5       Monday  \n",
       "16            7       Friday  \n",
       "39            3     Thursday  \n",
       "58           15       Friday  \n",
       "80           19       Friday  "
      ]
     },
     "execution_count": 28,
     "metadata": {},
     "output_type": "execute_result"
    }
   ],
   "source": [
    "global_len.head()"
   ]
  },
  {
   "cell_type": "code",
   "execution_count": 126,
   "metadata": {},
   "outputs": [
    {
     "data": {
      "text/plain": [
       "[<matplotlib.lines.Line2D at 0x2883b1a60>]"
      ]
     },
     "execution_count": 126,
     "metadata": {},
     "output_type": "execute_result"
    },
    {
     "data": {
      "image/png": "[encoded data removed]",
      "text/plain": [
       "<Figure size 432x288 with 1 Axes>"
      ]
     },
     "metadata": {
      "needs_background": "light"
     },
     "output_type": "display_data"
    }
   ],
   "source": [
    "# closer look on the above graph\n",
    "plt.xlabel('duration_min_global')\n",
    "plt.ylabel('popularity')\n",
    "plt.axis([2.8, 5, 0, 233767])\n",
    "plt.plot(x, y, '.')"
   ]
  },
  {
   "cell_type": "code",
   "execution_count": 41,
   "metadata": {},
   "outputs": [
    {
     "data": {
      "text/plain": [
       "30282     3.524450\n",
       "30287     3.524450\n",
       "30291     3.524450\n",
       "52220     3.895217\n",
       "52226     3.895217\n",
       "52232     3.895217\n",
       "52249     3.895217\n",
       "52252     3.895217\n",
       "148758    4.788450\n",
       "154734    4.462650\n",
       "154854    5.313567\n",
       "Name: duration_min, dtype: float64"
      ]
     },
     "execution_count": 41,
     "metadata": {},
     "output_type": "execute_result"
    }
   ],
   "source": [
    "pup_len = df.loc[df['popularity'].between(200000, 270000, inclusive=False), 'duration_min']\n",
    "pup_len"
   ]
  },
  {
   "cell_type": "code",
   "execution_count": 61,
   "metadata": {},
   "outputs": [
    {
     "data": {
      "text/plain": [
       "0        4.310650\n",
       "16       3.626883\n",
       "39       3.426667\n",
       "58       4.436450\n",
       "80       3.855117\n",
       "           ...   \n",
       "83257    3.352033\n",
       "83289    2.733333\n",
       "83302    2.432867\n",
       "83308    2.872083\n",
       "83343    2.732883\n",
       "Name: duration_min, Length: 5423, dtype: float64"
      ]
     },
     "execution_count": 61,
     "metadata": {},
     "output_type": "execute_result"
    }
   ],
   "source": [
    "countries = df.loc[df['country'] == 'Global', 'duration_min']\n",
    "countries"
   ]
  },
  {
   "cell_type": "markdown",
   "metadata": {},
   "source": [
    "### Globally"
   ]
  },
  {
   "cell_type": "code",
   "execution_count": 22,
   "metadata": {},
   "outputs": [
    {
     "data": {
      "text/plain": [
       "3.430771196754564"
      ]
     },
     "execution_count": 22,
     "metadata": {},
     "output_type": "execute_result"
    }
   ],
   "source": [
    "# Average duration of songs globally\n",
    "duration_global = df[df['country']=='Global']\n",
    "duration_global['duration_min'].mean()\n"
   ]
  },
  {
   "cell_type": "code",
   "execution_count": 63,
   "metadata": {},
   "outputs": [
    {
     "data": {
      "text/plain": [
       "3.460671317829457"
      ]
     },
     "execution_count": 63,
     "metadata": {},
     "output_type": "execute_result"
    }
   ],
   "source": [
    "# Average duration of most popular songs globally\n",
    "pup_len_global = duration_global.loc[duration_global['popularity'].between(50000, 221571, inclusive=False), 'duration_min']\n",
    "pup_len_global.mean()\n"
   ]
  },
  {
   "cell_type": "code",
   "execution_count": 319,
   "metadata": {},
   "outputs": [
    {
     "data": {
      "text/plain": [
       "[<matplotlib.lines.Line2D at 0x3088f8880>]"
      ]
     },
     "execution_count": 319,
     "metadata": {},
     "output_type": "execute_result"
    },
    {
     "data": {
      "image/png": "[encoded data removed]",
      "text/plain": [
       "<Figure size 432x288 with 1 Axes>"
      ]
     },
     "metadata": {
      "needs_background": "light"
     },
     "output_type": "display_data"
    }
   ],
   "source": [
    "# popular songs lenght in Germany\n",
    "germany_len = df[df['country']=='Germany']\n",
    "x = germany_len['duration_min']\n",
    "y = germany_len['popularity']\n",
    "plt.xlabel('duration_min_germany')\n",
    "plt.ylabel('popularity')\n",
    "plt.ylim(0, 230000)\n",
    "plt.xlim(0.0, 16)\n",
    "# plt.axis([2.8, 5, 0, 233767])\n",
    "plt.plot(x, y, '.')"
   ]
  },
  {
   "cell_type": "markdown",
   "metadata": {},
   "source": [
    "### Germany"
   ]
  },
  {
   "cell_type": "code",
   "execution_count": 67,
   "metadata": {},
   "outputs": [
    {
     "data": {
      "text/plain": [
       "3.250695527438576"
      ]
     },
     "execution_count": 67,
     "metadata": {},
     "output_type": "execute_result"
    }
   ],
   "source": [
    "# Average duration of songs germany\n",
    "duration_germany = df[df['country']=='Germany']\n",
    "duration_germany['duration_min'].mean()"
   ]
  },
  {
   "cell_type": "code",
   "execution_count": 68,
   "metadata": {},
   "outputs": [
    {
     "data": {
      "text/plain": [
       "3.2899098290598294"
      ]
     },
     "execution_count": 68,
     "metadata": {},
     "output_type": "execute_result"
    }
   ],
   "source": [
    "# Average duration of most popular songs globally\n",
    "pup_len_germany = duration_germany.loc[duration_germany['popularity'].between(50000, 221571, inclusive=False), 'duration_min']\n",
    "pup_len_germany.mean()"
   ]
  },
  {
   "cell_type": "markdown",
   "metadata": {},
   "source": [
    "### USA"
   ]
  },
  {
   "cell_type": "markdown",
   "metadata": {},
   "source": [
    "Similarly when we tried to see this with the specific countries like with Gernamy the average duration of songs is 3.25 minutes and for USA it is 3.41 minutes. This boils down to a fact that moreover the popular length is between 2.5 minutes to 4.5 minutes."
   ]
  },
  {
   "cell_type": "code",
   "execution_count": 320,
   "metadata": {},
   "outputs": [
    {
     "data": {
      "text/plain": [
       "[<matplotlib.lines.Line2D at 0x3089602e0>]"
      ]
     },
     "execution_count": 320,
     "metadata": {},
     "output_type": "execute_result"
    },
    {
     "data": {
      "image/png": "[encoded data removed]",
      "text/plain": [
       "<Figure size 432x288 with 1 Axes>"
      ]
     },
     "metadata": {
      "needs_background": "light"
     },
     "output_type": "display_data"
    }
   ],
   "source": [
    "# popular songs lenght in USA\n",
    "usa_len = df[df['country']=='USA']\n",
    "x = usa_len['duration_min']\n",
    "y = usa_len['popularity']\n",
    "plt.xlabel('duration_min_usa')\n",
    "plt.ylabel('popularity')\n",
    "# plt.axis([2.8, 5, 0, 233767])\n",
    "plt.ylim(0, 230000)\n",
    "plt.plot(x, y, '.')"
   ]
  },
  {
   "cell_type": "code",
   "execution_count": 69,
   "metadata": {},
   "outputs": [
    {
     "data": {
      "text/plain": [
       "3.414180285107674"
      ]
     },
     "execution_count": 69,
     "metadata": {},
     "output_type": "execute_result"
    }
   ],
   "source": [
    "# Average duration of songs USA\n",
    "duration_usa = df[df['country']=='USA']\n",
    "duration_usa['duration_min'].mean()"
   ]
  },
  {
   "cell_type": "code",
   "execution_count": 85,
   "metadata": {},
   "outputs": [
    {
     "data": {
      "text/plain": [
       "3.3642500000000006"
      ]
     },
     "execution_count": 85,
     "metadata": {},
     "output_type": "execute_result"
    }
   ],
   "source": [
    "# Average duration of most popular songs USA\n",
    "pup_len_usa = duration_usa.loc[duration_usa['popularity'].between(50000, 221571, inclusive=False), 'duration_min']\n",
    "pup_len_usa.mean()\n"
   ]
  },
  {
   "cell_type": "markdown",
   "metadata": {},
   "source": [
    "### For all the countries"
   ]
  },
  {
   "cell_type": "code",
   "execution_count": 124,
   "metadata": {},
   "outputs": [
    {
     "data": {
      "text/plain": [
       "array(['Global', 'USA', 'Argentina', 'Belgium', 'Switzerland', 'Chile',\n",
       "       'Colombia', 'Costa Rica', 'Germany', 'Ecuador', 'Spain', 'Italy',\n",
       "       'Mexico', 'Peru', 'Portugal', 'Taiwan', 'UK', 'Austria',\n",
       "       'Australia', 'Canada', 'Finland', 'France', 'Indonesia', 'Ireland',\n",
       "       'Malaysia', 'Netherlands', 'Norway', 'New Zealand', 'Philippines',\n",
       "       'Poland', 'Sweden', 'Singapore', 'Turkey', 'Brazil', 'Denmark'],\n",
       "      dtype=object)"
      ]
     },
     "execution_count": 124,
     "metadata": {},
     "output_type": "execute_result"
    }
   ],
   "source": [
    "# list of all the countries in the dataset\n",
    "lst_countries = df['country'].unique()\n",
    "lst_countries"
   ]
  },
  {
   "cell_type": "code",
   "execution_count": 88,
   "metadata": {},
   "outputs": [
    {
     "data": {
      "text/plain": [
       "[3.430771196754564,\n",
       " 3.414180285107674,\n",
       " 3.540530278435351,\n",
       " 3.4169272157590065,\n",
       " 3.311725923958748,\n",
       " 3.6059855867720225,\n",
       " 3.613031191983122,\n",
       " 3.642379951030634,\n",
       " 3.250695527438576,\n",
       " 3.576661076962479,\n",
       " 3.433146347846776,\n",
       " 3.3176123877858585,\n",
       " 3.548596420461336,\n",
       " 3.6688706291293696,\n",
       " 3.506667397887584,\n",
       " 3.7426591073555007,\n",
       " 3.5228532061186653,\n",
       " 3.3084514635316697,\n",
       " 3.5092705970522107,\n",
       " 3.4197385072931614,\n",
       " 3.448861772322354,\n",
       " 3.3816855100970367,\n",
       " 3.6369982346305703,\n",
       " 3.5689573104919674,\n",
       " 3.5013049324618737,\n",
       " 3.2196223389142564,\n",
       " 3.3619432385057473,\n",
       " 3.492987455499344,\n",
       " 3.6025320657447844,\n",
       " 3.491656555426955,\n",
       " 3.3653354399285393,\n",
       " 3.5051485119880588,\n",
       " 3.6193087749024437,\n",
       " 3.340068350220039,\n",
       " 3.2989544302957956]"
      ]
     },
     "execution_count": 88,
     "metadata": {},
     "output_type": "execute_result"
    }
   ],
   "source": [
    "# average length of the songs in all the given countries\n",
    "lst_duration = []\n",
    "for i in lst_countries:\n",
    "    duration_song = df[df['country'] == i]\n",
    "    lst_duration.append(duration_song['duration_min'].mean())\n",
    "\n",
    "lst_duration   "
   ]
  },
  {
   "cell_type": "code",
   "execution_count": 217,
   "metadata": {},
   "outputs": [
    {
     "data": {
      "text/plain": [
       "[3.460671317829457,\n",
       " 3.3642500000000006,\n",
       " 3.7531444927536226,\n",
       " 3.3606077777777776,\n",
       " 3.3620977477477485,\n",
       " 3.865170355191257,\n",
       " 3.7265393719806763,\n",
       " 3.8190963235294118,\n",
       " 3.2899098290598294,\n",
       " 3.7356187499999995,\n",
       " 3.6846848101265826,\n",
       " 3.353044358974359,\n",
       " 3.7316594696969703,\n",
       " 3.805432014388489,\n",
       " 3.53278918128655,\n",
       " 4.016456166666666,\n",
       " 3.4372826754385963,\n",
       " 3.2749979591836738,\n",
       " 3.433923784722222,\n",
       " 3.397218131868132,\n",
       " 3.4466129629629627,\n",
       " 3.3943775641025646,\n",
       " 3.782134474885844,\n",
       " 3.396529356060606,\n",
       " 3.5069809748427665,\n",
       " 3.328041830065359,\n",
       " 3.290854273504273,\n",
       " 3.48804841954023,\n",
       " 4.027972572178478,\n",
       " 3.575385317460318,\n",
       " 3.428773333333333,\n",
       " 3.654805172413793,\n",
       " 3.7232423547400613,\n",
       " 3.137263774104683,\n",
       " 3.248086021505376]"
      ]
     },
     "execution_count": 217,
     "metadata": {},
     "output_type": "execute_result"
    }
   ],
   "source": [
    "# popular length of songs of each countries (on the basis of popularity index given in the code)\n",
    "lst_popu_duration = []\n",
    "for i in lst_countries:\n",
    "    dur_song = df[df['country'] == i]\n",
    "    lst_popu_duration.append(dur_song.loc[dur_song['popularity'].between(50000, 221571, inclusive = False), 'duration_min'].mean())\n",
    "\n",
    "lst_popu_duration    \n",
    " "
   ]
  },
  {
   "cell_type": "markdown",
   "metadata": {},
   "source": [
    "In our dataset we have total 35 countries inclusive of global, and in the below table you can see the average duration of songs for each countries, which basically gives us an average of 3.47 minutes."
   ]
  },
  {
   "cell_type": "code",
   "execution_count": 97,
   "metadata": {},
   "outputs": [
    {
     "data": {
      "image/png": "[encoded data removed]",
      "text/plain": [
       "<Figure size 432x288 with 1 Axes>"
      ]
     },
     "metadata": {
      "needs_background": "light"
     },
     "output_type": "display_data"
    }
   ],
   "source": [
    "# plot for the lenght of the songs in different countries\n",
    "plt.xlabel('countries')\n",
    "plt.ylabel('duration of songs in minutes')\n",
    "plt.plot(lst_duration)\n",
    "plt.show()"
   ]
  },
  {
   "cell_type": "code",
   "execution_count": 308,
   "metadata": {},
   "outputs": [
    {
     "data": {
      "image/png": "[encoded data removed]",
      "text/plain": [
       "<Figure size 432x288 with 1 Axes>"
      ]
     },
     "metadata": {
      "needs_background": "light"
     },
     "output_type": "display_data"
    }
   ],
   "source": [
    "# plot for the lenght of the songs in different countries according to popularity\n",
    "plt.xlabel('countries') \n",
    "plt.ylabel('duration of songs in minutes')\n",
    "plt.plot(lst_popu_duration)\n",
    "plt.show()"
   ]
  },
  {
   "cell_type": "code",
   "execution_count": 203,
   "metadata": {},
   "outputs": [
    {
     "data": {
      "text/html": [
       "<div>\n",
       "<style scoped>\n",
       "    .dataframe tbody tr th:only-of-type {\n",
       "        vertical-align: middle;\n",
       "    }\n",
       "\n",
       "    .dataframe tbody tr th {\n",
       "        vertical-align: top;\n",
       "    }\n",
       "\n",
       "    .dataframe thead th {\n",
       "        text-align: right;\n",
       "    }\n",
       "</style>\n",
       "<table border=\"1\" class=\"dataframe\">\n",
       "  <thead>\n",
       "    <tr style=\"text-align: right;\">\n",
       "      <th></th>\n",
       "      <th>0</th>\n",
       "    </tr>\n",
       "  </thead>\n",
       "  <tbody>\n",
       "    <tr>\n",
       "      <th>0</th>\n",
       "      <td>Global</td>\n",
       "    </tr>\n",
       "    <tr>\n",
       "      <th>1</th>\n",
       "      <td>USA</td>\n",
       "    </tr>\n",
       "    <tr>\n",
       "      <th>2</th>\n",
       "      <td>Argentina</td>\n",
       "    </tr>\n",
       "    <tr>\n",
       "      <th>3</th>\n",
       "      <td>Belgium</td>\n",
       "    </tr>\n",
       "    <tr>\n",
       "      <th>4</th>\n",
       "      <td>Switzerland</td>\n",
       "    </tr>\n",
       "    <tr>\n",
       "      <th>5</th>\n",
       "      <td>Chile</td>\n",
       "    </tr>\n",
       "    <tr>\n",
       "      <th>6</th>\n",
       "      <td>Colombia</td>\n",
       "    </tr>\n",
       "    <tr>\n",
       "      <th>7</th>\n",
       "      <td>Costa Rica</td>\n",
       "    </tr>\n",
       "    <tr>\n",
       "      <th>8</th>\n",
       "      <td>Germany</td>\n",
       "    </tr>\n",
       "    <tr>\n",
       "      <th>9</th>\n",
       "      <td>Ecuador</td>\n",
       "    </tr>\n",
       "    <tr>\n",
       "      <th>10</th>\n",
       "      <td>Spain</td>\n",
       "    </tr>\n",
       "    <tr>\n",
       "      <th>11</th>\n",
       "      <td>Italy</td>\n",
       "    </tr>\n",
       "    <tr>\n",
       "      <th>12</th>\n",
       "      <td>Mexico</td>\n",
       "    </tr>\n",
       "    <tr>\n",
       "      <th>13</th>\n",
       "      <td>Peru</td>\n",
       "    </tr>\n",
       "    <tr>\n",
       "      <th>14</th>\n",
       "      <td>Portugal</td>\n",
       "    </tr>\n",
       "    <tr>\n",
       "      <th>15</th>\n",
       "      <td>Taiwan</td>\n",
       "    </tr>\n",
       "    <tr>\n",
       "      <th>16</th>\n",
       "      <td>UK</td>\n",
       "    </tr>\n",
       "    <tr>\n",
       "      <th>17</th>\n",
       "      <td>Austria</td>\n",
       "    </tr>\n",
       "    <tr>\n",
       "      <th>18</th>\n",
       "      <td>Australia</td>\n",
       "    </tr>\n",
       "    <tr>\n",
       "      <th>19</th>\n",
       "      <td>Canada</td>\n",
       "    </tr>\n",
       "    <tr>\n",
       "      <th>20</th>\n",
       "      <td>Finland</td>\n",
       "    </tr>\n",
       "    <tr>\n",
       "      <th>21</th>\n",
       "      <td>France</td>\n",
       "    </tr>\n",
       "    <tr>\n",
       "      <th>22</th>\n",
       "      <td>Indonesia</td>\n",
       "    </tr>\n",
       "    <tr>\n",
       "      <th>23</th>\n",
       "      <td>Ireland</td>\n",
       "    </tr>\n",
       "    <tr>\n",
       "      <th>24</th>\n",
       "      <td>Malaysia</td>\n",
       "    </tr>\n",
       "    <tr>\n",
       "      <th>25</th>\n",
       "      <td>Netherlands</td>\n",
       "    </tr>\n",
       "    <tr>\n",
       "      <th>26</th>\n",
       "      <td>Norway</td>\n",
       "    </tr>\n",
       "    <tr>\n",
       "      <th>27</th>\n",
       "      <td>New Zealand</td>\n",
       "    </tr>\n",
       "    <tr>\n",
       "      <th>28</th>\n",
       "      <td>Philippines</td>\n",
       "    </tr>\n",
       "    <tr>\n",
       "      <th>29</th>\n",
       "      <td>Poland</td>\n",
       "    </tr>\n",
       "    <tr>\n",
       "      <th>30</th>\n",
       "      <td>Sweden</td>\n",
       "    </tr>\n",
       "    <tr>\n",
       "      <th>31</th>\n",
       "      <td>Singapore</td>\n",
       "    </tr>\n",
       "    <tr>\n",
       "      <th>32</th>\n",
       "      <td>Turkey</td>\n",
       "    </tr>\n",
       "    <tr>\n",
       "      <th>33</th>\n",
       "      <td>Brazil</td>\n",
       "    </tr>\n",
       "    <tr>\n",
       "      <th>34</th>\n",
       "      <td>Denmark</td>\n",
       "    </tr>\n",
       "  </tbody>\n",
       "</table>\n",
       "</div>"
      ],
      "text/plain": [
       "              0\n",
       "0        Global\n",
       "1           USA\n",
       "2     Argentina\n",
       "3       Belgium\n",
       "4   Switzerland\n",
       "5         Chile\n",
       "6      Colombia\n",
       "7    Costa Rica\n",
       "8       Germany\n",
       "9       Ecuador\n",
       "10        Spain\n",
       "11        Italy\n",
       "12       Mexico\n",
       "13         Peru\n",
       "14     Portugal\n",
       "15       Taiwan\n",
       "16           UK\n",
       "17      Austria\n",
       "18    Australia\n",
       "19       Canada\n",
       "20      Finland\n",
       "21       France\n",
       "22    Indonesia\n",
       "23      Ireland\n",
       "24     Malaysia\n",
       "25  Netherlands\n",
       "26       Norway\n",
       "27  New Zealand\n",
       "28  Philippines\n",
       "29       Poland\n",
       "30       Sweden\n",
       "31    Singapore\n",
       "32       Turkey\n",
       "33       Brazil\n",
       "34      Denmark"
      ]
     },
     "execution_count": 203,
     "metadata": {},
     "output_type": "execute_result"
    }
   ],
   "source": [
    "duration_countries = pd.DataFrame(lst_countries)\n",
    "duration_countries"
   ]
  },
  {
   "cell_type": "code",
   "execution_count": 205,
   "metadata": {},
   "outputs": [
    {
     "data": {
      "text/html": [
       "<div>\n",
       "<style scoped>\n",
       "    .dataframe tbody tr th:only-of-type {\n",
       "        vertical-align: middle;\n",
       "    }\n",
       "\n",
       "    .dataframe tbody tr th {\n",
       "        vertical-align: top;\n",
       "    }\n",
       "\n",
       "    .dataframe thead th {\n",
       "        text-align: right;\n",
       "    }\n",
       "</style>\n",
       "<table border=\"1\" class=\"dataframe\">\n",
       "  <thead>\n",
       "    <tr style=\"text-align: right;\">\n",
       "      <th></th>\n",
       "      <th>0</th>\n",
       "    </tr>\n",
       "  </thead>\n",
       "  <tbody>\n",
       "    <tr>\n",
       "      <th>0</th>\n",
       "      <td>3.460671</td>\n",
       "    </tr>\n",
       "    <tr>\n",
       "      <th>1</th>\n",
       "      <td>3.364250</td>\n",
       "    </tr>\n",
       "    <tr>\n",
       "      <th>2</th>\n",
       "      <td>3.753144</td>\n",
       "    </tr>\n",
       "    <tr>\n",
       "      <th>3</th>\n",
       "      <td>3.360608</td>\n",
       "    </tr>\n",
       "    <tr>\n",
       "      <th>4</th>\n",
       "      <td>3.362098</td>\n",
       "    </tr>\n",
       "    <tr>\n",
       "      <th>5</th>\n",
       "      <td>3.865170</td>\n",
       "    </tr>\n",
       "    <tr>\n",
       "      <th>6</th>\n",
       "      <td>3.726539</td>\n",
       "    </tr>\n",
       "    <tr>\n",
       "      <th>7</th>\n",
       "      <td>3.819096</td>\n",
       "    </tr>\n",
       "    <tr>\n",
       "      <th>8</th>\n",
       "      <td>3.289910</td>\n",
       "    </tr>\n",
       "    <tr>\n",
       "      <th>9</th>\n",
       "      <td>3.735619</td>\n",
       "    </tr>\n",
       "    <tr>\n",
       "      <th>10</th>\n",
       "      <td>3.684685</td>\n",
       "    </tr>\n",
       "    <tr>\n",
       "      <th>11</th>\n",
       "      <td>3.353044</td>\n",
       "    </tr>\n",
       "    <tr>\n",
       "      <th>12</th>\n",
       "      <td>3.731659</td>\n",
       "    </tr>\n",
       "    <tr>\n",
       "      <th>13</th>\n",
       "      <td>3.805432</td>\n",
       "    </tr>\n",
       "    <tr>\n",
       "      <th>14</th>\n",
       "      <td>3.532789</td>\n",
       "    </tr>\n",
       "    <tr>\n",
       "      <th>15</th>\n",
       "      <td>4.016456</td>\n",
       "    </tr>\n",
       "    <tr>\n",
       "      <th>16</th>\n",
       "      <td>3.437283</td>\n",
       "    </tr>\n",
       "    <tr>\n",
       "      <th>17</th>\n",
       "      <td>3.274998</td>\n",
       "    </tr>\n",
       "    <tr>\n",
       "      <th>18</th>\n",
       "      <td>3.433924</td>\n",
       "    </tr>\n",
       "    <tr>\n",
       "      <th>19</th>\n",
       "      <td>3.397218</td>\n",
       "    </tr>\n",
       "    <tr>\n",
       "      <th>20</th>\n",
       "      <td>3.446613</td>\n",
       "    </tr>\n",
       "    <tr>\n",
       "      <th>21</th>\n",
       "      <td>3.394378</td>\n",
       "    </tr>\n",
       "    <tr>\n",
       "      <th>22</th>\n",
       "      <td>3.782134</td>\n",
       "    </tr>\n",
       "    <tr>\n",
       "      <th>23</th>\n",
       "      <td>3.396529</td>\n",
       "    </tr>\n",
       "    <tr>\n",
       "      <th>24</th>\n",
       "      <td>3.506981</td>\n",
       "    </tr>\n",
       "    <tr>\n",
       "      <th>25</th>\n",
       "      <td>3.328042</td>\n",
       "    </tr>\n",
       "    <tr>\n",
       "      <th>26</th>\n",
       "      <td>3.290854</td>\n",
       "    </tr>\n",
       "    <tr>\n",
       "      <th>27</th>\n",
       "      <td>3.488048</td>\n",
       "    </tr>\n",
       "    <tr>\n",
       "      <th>28</th>\n",
       "      <td>4.027973</td>\n",
       "    </tr>\n",
       "    <tr>\n",
       "      <th>29</th>\n",
       "      <td>3.575385</td>\n",
       "    </tr>\n",
       "    <tr>\n",
       "      <th>30</th>\n",
       "      <td>3.428773</td>\n",
       "    </tr>\n",
       "    <tr>\n",
       "      <th>31</th>\n",
       "      <td>3.654805</td>\n",
       "    </tr>\n",
       "    <tr>\n",
       "      <th>32</th>\n",
       "      <td>3.723242</td>\n",
       "    </tr>\n",
       "    <tr>\n",
       "      <th>33</th>\n",
       "      <td>3.137264</td>\n",
       "    </tr>\n",
       "    <tr>\n",
       "      <th>34</th>\n",
       "      <td>3.248086</td>\n",
       "    </tr>\n",
       "  </tbody>\n",
       "</table>\n",
       "</div>"
      ],
      "text/plain": [
       "           0\n",
       "0   3.460671\n",
       "1   3.364250\n",
       "2   3.753144\n",
       "3   3.360608\n",
       "4   3.362098\n",
       "5   3.865170\n",
       "6   3.726539\n",
       "7   3.819096\n",
       "8   3.289910\n",
       "9   3.735619\n",
       "10  3.684685\n",
       "11  3.353044\n",
       "12  3.731659\n",
       "13  3.805432\n",
       "14  3.532789\n",
       "15  4.016456\n",
       "16  3.437283\n",
       "17  3.274998\n",
       "18  3.433924\n",
       "19  3.397218\n",
       "20  3.446613\n",
       "21  3.394378\n",
       "22  3.782134\n",
       "23  3.396529\n",
       "24  3.506981\n",
       "25  3.328042\n",
       "26  3.290854\n",
       "27  3.488048\n",
       "28  4.027973\n",
       "29  3.575385\n",
       "30  3.428773\n",
       "31  3.654805\n",
       "32  3.723242\n",
       "33  3.137264\n",
       "34  3.248086"
      ]
     },
     "execution_count": 205,
     "metadata": {},
     "output_type": "execute_result"
    }
   ],
   "source": [
    "lst_popu_duration"
   ]
  },
  {
   "cell_type": "code",
   "execution_count": 257,
   "metadata": {},
   "outputs": [
    {
     "data": {
      "text/plain": [
       "pandas.core.frame.DataFrame"
      ]
     },
     "execution_count": 257,
     "metadata": {},
     "output_type": "execute_result"
    }
   ],
   "source": [
    "lst_popu_duration = pd.DataFrame(lst_popu_duration)\n",
    "type(lst_popu_duration)"
   ]
  },
  {
   "cell_type": "code",
   "execution_count": 291,
   "metadata": {},
   "outputs": [
    {
     "data": {
      "text/html": [
       "<div>\n",
       "<style scoped>\n",
       "    .dataframe tbody tr th:only-of-type {\n",
       "        vertical-align: middle;\n",
       "    }\n",
       "\n",
       "    .dataframe tbody tr th {\n",
       "        vertical-align: top;\n",
       "    }\n",
       "\n",
       "    .dataframe thead th {\n",
       "        text-align: right;\n",
       "    }\n",
       "</style>\n",
       "<table border=\"1\" class=\"dataframe\">\n",
       "  <thead>\n",
       "    <tr style=\"text-align: right;\">\n",
       "      <th></th>\n",
       "      <th>Countries</th>\n",
       "      <th>duration of songs in minutes</th>\n",
       "    </tr>\n",
       "  </thead>\n",
       "  <tbody>\n",
       "    <tr>\n",
       "      <th>0</th>\n",
       "      <td>Global</td>\n",
       "      <td>3.460671</td>\n",
       "    </tr>\n",
       "    <tr>\n",
       "      <th>1</th>\n",
       "      <td>USA</td>\n",
       "      <td>3.364250</td>\n",
       "    </tr>\n",
       "    <tr>\n",
       "      <th>2</th>\n",
       "      <td>Argentina</td>\n",
       "      <td>3.753144</td>\n",
       "    </tr>\n",
       "    <tr>\n",
       "      <th>3</th>\n",
       "      <td>Belgium</td>\n",
       "      <td>3.360608</td>\n",
       "    </tr>\n",
       "    <tr>\n",
       "      <th>4</th>\n",
       "      <td>Switzerland</td>\n",
       "      <td>3.362098</td>\n",
       "    </tr>\n",
       "    <tr>\n",
       "      <th>5</th>\n",
       "      <td>Chile</td>\n",
       "      <td>3.865170</td>\n",
       "    </tr>\n",
       "    <tr>\n",
       "      <th>6</th>\n",
       "      <td>Colombia</td>\n",
       "      <td>3.726539</td>\n",
       "    </tr>\n",
       "    <tr>\n",
       "      <th>7</th>\n",
       "      <td>Costa Rica</td>\n",
       "      <td>3.819096</td>\n",
       "    </tr>\n",
       "    <tr>\n",
       "      <th>8</th>\n",
       "      <td>Germany</td>\n",
       "      <td>3.289910</td>\n",
       "    </tr>\n",
       "    <tr>\n",
       "      <th>9</th>\n",
       "      <td>Ecuador</td>\n",
       "      <td>3.735619</td>\n",
       "    </tr>\n",
       "    <tr>\n",
       "      <th>10</th>\n",
       "      <td>Spain</td>\n",
       "      <td>3.684685</td>\n",
       "    </tr>\n",
       "    <tr>\n",
       "      <th>11</th>\n",
       "      <td>Italy</td>\n",
       "      <td>3.353044</td>\n",
       "    </tr>\n",
       "    <tr>\n",
       "      <th>12</th>\n",
       "      <td>Mexico</td>\n",
       "      <td>3.731659</td>\n",
       "    </tr>\n",
       "    <tr>\n",
       "      <th>13</th>\n",
       "      <td>Peru</td>\n",
       "      <td>3.805432</td>\n",
       "    </tr>\n",
       "    <tr>\n",
       "      <th>14</th>\n",
       "      <td>Portugal</td>\n",
       "      <td>3.532789</td>\n",
       "    </tr>\n",
       "    <tr>\n",
       "      <th>15</th>\n",
       "      <td>Taiwan</td>\n",
       "      <td>4.016456</td>\n",
       "    </tr>\n",
       "    <tr>\n",
       "      <th>16</th>\n",
       "      <td>UK</td>\n",
       "      <td>3.437283</td>\n",
       "    </tr>\n",
       "    <tr>\n",
       "      <th>17</th>\n",
       "      <td>Austria</td>\n",
       "      <td>3.274998</td>\n",
       "    </tr>\n",
       "    <tr>\n",
       "      <th>18</th>\n",
       "      <td>Australia</td>\n",
       "      <td>3.433924</td>\n",
       "    </tr>\n",
       "    <tr>\n",
       "      <th>19</th>\n",
       "      <td>Canada</td>\n",
       "      <td>3.397218</td>\n",
       "    </tr>\n",
       "    <tr>\n",
       "      <th>20</th>\n",
       "      <td>Finland</td>\n",
       "      <td>3.446613</td>\n",
       "    </tr>\n",
       "    <tr>\n",
       "      <th>21</th>\n",
       "      <td>France</td>\n",
       "      <td>3.394378</td>\n",
       "    </tr>\n",
       "    <tr>\n",
       "      <th>22</th>\n",
       "      <td>Indonesia</td>\n",
       "      <td>3.782134</td>\n",
       "    </tr>\n",
       "    <tr>\n",
       "      <th>23</th>\n",
       "      <td>Ireland</td>\n",
       "      <td>3.396529</td>\n",
       "    </tr>\n",
       "    <tr>\n",
       "      <th>24</th>\n",
       "      <td>Malaysia</td>\n",
       "      <td>3.506981</td>\n",
       "    </tr>\n",
       "    <tr>\n",
       "      <th>25</th>\n",
       "      <td>Netherlands</td>\n",
       "      <td>3.328042</td>\n",
       "    </tr>\n",
       "    <tr>\n",
       "      <th>26</th>\n",
       "      <td>Norway</td>\n",
       "      <td>3.290854</td>\n",
       "    </tr>\n",
       "    <tr>\n",
       "      <th>27</th>\n",
       "      <td>New Zealand</td>\n",
       "      <td>3.488048</td>\n",
       "    </tr>\n",
       "    <tr>\n",
       "      <th>28</th>\n",
       "      <td>Philippines</td>\n",
       "      <td>4.027973</td>\n",
       "    </tr>\n",
       "    <tr>\n",
       "      <th>29</th>\n",
       "      <td>Poland</td>\n",
       "      <td>3.575385</td>\n",
       "    </tr>\n",
       "    <tr>\n",
       "      <th>30</th>\n",
       "      <td>Sweden</td>\n",
       "      <td>3.428773</td>\n",
       "    </tr>\n",
       "    <tr>\n",
       "      <th>31</th>\n",
       "      <td>Singapore</td>\n",
       "      <td>3.654805</td>\n",
       "    </tr>\n",
       "    <tr>\n",
       "      <th>32</th>\n",
       "      <td>Turkey</td>\n",
       "      <td>3.723242</td>\n",
       "    </tr>\n",
       "    <tr>\n",
       "      <th>33</th>\n",
       "      <td>Brazil</td>\n",
       "      <td>3.137264</td>\n",
       "    </tr>\n",
       "    <tr>\n",
       "      <th>34</th>\n",
       "      <td>Denmark</td>\n",
       "      <td>3.248086</td>\n",
       "    </tr>\n",
       "  </tbody>\n",
       "</table>\n",
       "</div>"
      ],
      "text/plain": [
       "      Countries  duration of songs in minutes\n",
       "0        Global                      3.460671\n",
       "1           USA                      3.364250\n",
       "2     Argentina                      3.753144\n",
       "3       Belgium                      3.360608\n",
       "4   Switzerland                      3.362098\n",
       "5         Chile                      3.865170\n",
       "6      Colombia                      3.726539\n",
       "7    Costa Rica                      3.819096\n",
       "8       Germany                      3.289910\n",
       "9       Ecuador                      3.735619\n",
       "10        Spain                      3.684685\n",
       "11        Italy                      3.353044\n",
       "12       Mexico                      3.731659\n",
       "13         Peru                      3.805432\n",
       "14     Portugal                      3.532789\n",
       "15       Taiwan                      4.016456\n",
       "16           UK                      3.437283\n",
       "17      Austria                      3.274998\n",
       "18    Australia                      3.433924\n",
       "19       Canada                      3.397218\n",
       "20      Finland                      3.446613\n",
       "21       France                      3.394378\n",
       "22    Indonesia                      3.782134\n",
       "23      Ireland                      3.396529\n",
       "24     Malaysia                      3.506981\n",
       "25  Netherlands                      3.328042\n",
       "26       Norway                      3.290854\n",
       "27  New Zealand                      3.488048\n",
       "28  Philippines                      4.027973\n",
       "29       Poland                      3.575385\n",
       "30       Sweden                      3.428773\n",
       "31    Singapore                      3.654805\n",
       "32       Turkey                      3.723242\n",
       "33       Brazil                      3.137264\n",
       "34      Denmark                      3.248086"
      ]
     },
     "execution_count": 291,
     "metadata": {},
     "output_type": "execute_result"
    }
   ],
   "source": [
    "\n",
    "bar_plot = pd.concat([duration_countries, lst_popu_duration], axis=1)\n",
    "# bar_plot.rename(columns={0:\"oll\", \"oll\":\"New\"} ,inplace=True)\n",
    "# bar_plot.rename(columns={ bar_plot.columns[1]: \"newe\" })\n",
    "bar_plot.columns=['Countries', 'duration of songs in minutes']\n",
    "bar_plot"
   ]
  },
  {
   "cell_type": "code",
   "execution_count": 312,
   "metadata": {},
   "outputs": [
    {
     "data": {
      "image/png": "[encoded data removed]",
      "text/plain": [
       "<Figure size 432x288 with 1 Axes>"
      ]
     },
     "metadata": {
      "needs_background": "light"
     },
     "output_type": "display_data"
    }
   ],
   "source": [
    "ax = sns.barplot(x='Countries', y='duration of songs in minutes', data = bar_plot, capsize=.2, estimator=np.mean)\n",
    "plt.xticks(rotation=90)\n",
    "plt.tight_layout()"
   ]
  },
  {
   "cell_type": "code",
   "execution_count": 244,
   "metadata": {},
   "outputs": [
    {
     "data": {
      "image/png": "[encoded data removed]",
      "text/plain": [
       "<Figure size 432x288 with 1 Axes>"
      ]
     },
     "metadata": {
      "needs_background": "light"
     },
     "output_type": "display_data"
    }
   ],
   "source": [
    "pp = pd.DataFrame({'average duration':lst_popu_duration} ,index=lst_countries)\n",
    "ax = pp.plot.bar()"
   ]
  },
  {
   "cell_type": "code",
   "execution_count": 175,
   "metadata": {},
   "outputs": [
    {
     "data": {
      "image/png": "[encoded data removed]",
      "text/plain": [
       "<Figure size 432x288 with 1 Axes>"
      ]
     },
     "metadata": {
      "needs_background": "light"
     },
     "output_type": "display_data"
    }
   ],
   "source": [
    "# plot for the popular length of songs in different countries\n",
    "plt.xlabel('countries')\n",
    "plt.ylabel('duration of songs in minutes')\n",
    "plt.plot(lst_popu_duration)\n",
    "plt.show()"
   ]
  },
  {
   "cell_type": "code",
   "execution_count": 99,
   "metadata": {},
   "outputs": [
    {
     "data": {
      "text/plain": [
       "3.47474626343126"
      ]
     },
     "execution_count": 99,
     "metadata": {},
     "output_type": "execute_result"
    }
   ],
   "source": [
    "avg_all_countries = sum(lst_duration) / len(lst_duration)\n",
    "avg_all_countries"
   ]
  },
  {
   "cell_type": "code",
   "execution_count": 100,
   "metadata": {},
   "outputs": [
    {
     "data": {
      "text/plain": [
       "3.5381057977120767"
      ]
     },
     "execution_count": 100,
     "metadata": {},
     "output_type": "execute_result"
    }
   ],
   "source": [
    "popu_avg_all_countries = sum(lst_popu_duration) / len(lst_popu_duration)\n",
    "popu_avg_all_countries"
   ]
  },
  {
   "cell_type": "markdown",
   "metadata": {},
   "source": [
    "As we can see from the above picture that the ideal songs length is equivelent to the length of the popular songs which concludes the basic thing is that the length of the songs should be between 2 to 4.5 minutes so with this we can say that it is not common for the artist as well as the listners to make and listen the lengthy songs. \n",
    "\n",
    "It is also because of the span of the listner and if an artist make songs long then the listner will not give attention to the song as much as he is giving to the shorter songs.\n",
    "Also it is a general convention especially in pop genere and related genere like rock or jazz that the songs length should be atmost 4 minute.\n",
    "\n",
    "Also from the point of the streaming platform and radios it is quite convienient to play short songs because they get to play more advertisement let's say in one hour span."
   ]
  },
  {
   "cell_type": "markdown",
   "metadata": {},
   "source": []
  },
  {
   "cell_type": "code",
   "execution_count": null,
   "metadata": {},
   "outputs": [],
   "source": []
  }
 ],
 "metadata": {
  "interpreter": {
   "hash": "f52beb384b68d5eb0d446382da2b2d4b83d52f0a9c7f36501ec716596d1ec002"
  },
  "kernelspec": {
   "display_name": "Python 3.9.12 ('venv': venv)",
   "language": "python",
   "name": "python3"
  },
  "language_info": {
   "codemirror_mode": {
    "name": "ipython",
    "version": 3
   },
   "file_extension": ".py",
   "mimetype": "text/x-python",
   "name": "python",
   "nbconvert_exporter": "python",
   "pygments_lexer": "ipython3",
   "version": "3.9.12"
  },
  "orig_nbformat": 4
 },
 "nbformat": 4,
 "nbformat_minor": 2
}
