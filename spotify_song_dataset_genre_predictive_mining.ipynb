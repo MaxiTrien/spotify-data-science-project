{
  "nbformat": 4,
  "nbformat_minor": 0,
  "metadata": {
    "colab": {
      "name": "spotify_song_dataset_predictive_mining1.ipynb",
      "provenance": [],
      "collapsed_sections": []
    },
    "kernelspec": {
      "name": "python3",
      "display_name": "Python 3"
    },
    "language_info": {
      "name": "python"
    },
    "accelerator": "GPU",
    "gpuClass": "standard"
  },
  "cells": [
    {
      "cell_type": "code",
      "execution_count": 1,
      "metadata": {
        "id": "qwJg5iLF7td0"
      },
      "outputs": [],
      "source": [
        "import pandas as pd\n",
        "import numpy as np\n",
        "import matplotlib.pyplot as plt\n",
        "import seaborn as sns\n",
        "import warnings\n",
        "import matplotlib.dates as mdates\n",
        "import plotly.express as px\n",
        "from plotly.subplots import make_subplots\n",
        "warnings.filterwarnings(\"ignore\")\n",
        "pd.set_option('display.max_columns', None)\n",
        "pd.set_option('display.max_rows', 5000)\n",
        "%matplotlib inline"
      ]
    },
    {
      "cell_type": "code",
      "source": [
        "path_to_protocol5='/content/dataset_cleaned_popularity.pkl'"
      ],
      "metadata": {
        "id": "avMIf1If9M1y"
      },
      "execution_count": 2,
      "outputs": []
    },
    {
      "cell_type": "code",
      "source": [
        "!pip3 install pickle5\n",
        "import pickle5 as pickle\n",
        "with open(path_to_protocol5, \"rb\") as fh:\n",
        "  df = pickle.load(fh)"
      ],
      "metadata": {
        "id": "4SVTXkuU9Ol3",
        "colab": {
          "base_uri": "https://localhost:8080/"
        },
        "outputId": "1c1ace69-c2d2-4619-fa2a-210fa355329c"
      },
      "execution_count": 3,
      "outputs": [
        {
          "output_type": "stream",
          "name": "stdout",
          "text": [
            "Looking in indexes: https://pypi.org/simple, https://us-python.pkg.dev/colab-wheels/public/simple/\n",
            "Requirement already satisfied: pickle5 in /usr/local/lib/python3.7/dist-packages (0.0.12)\n"
          ]
        }
      ]
    },
    {
      "cell_type": "code",
      "source": [
        "df.drop(columns=['index', 'level_0'], inplace=True)\n",
        "df.reset_index(drop=True, inplace=True)"
      ],
      "metadata": {
        "id": "8w9BBQYJ9Q8V"
      },
      "execution_count": 4,
      "outputs": []
    },
    {
      "cell_type": "code",
      "source": [
        "df.head(5)"
      ],
      "metadata": {
        "colab": {
          "base_uri": "https://localhost:8080/",
          "height": 461
        },
        "id": "BwQYcX_Z9Sm3",
        "outputId": "ea1dc137-1648-4320-c2a7-9235af8ad038"
      },
      "execution_count": 5,
      "outputs": [
        {
          "output_type": "execute_result",
          "data": {
            "text/plain": [
              "       country                                                uri  popularity  \\\n",
              "0       Global  https://open.spotify.com/track/6FyRXC8tJUh863J...    31833.95   \n",
              "1          USA  https://open.spotify.com/track/6FyRXC8tJUh863J...        8.00   \n",
              "2    Argentina  https://open.spotify.com/track/6FyRXC8tJUh863J...    76924.40   \n",
              "3      Belgium  https://open.spotify.com/track/6FyRXC8tJUh863J...      849.60   \n",
              "4  Switzerland  https://open.spotify.com/track/6FyRXC8tJUh863J...    20739.10   \n",
              "\n",
              "        title        artist release_type          sub_genre  artist_followers  \\\n",
              "0  adan y eva  Paulo Londra       single  argentine hip hop        11427104.0   \n",
              "1  adan y eva  Paulo Londra       single  argentine hip hop        11427104.0   \n",
              "2  adan y eva  Paulo Londra       single  argentine hip hop        11427104.0   \n",
              "3  adan y eva  Paulo Londra       single  argentine hip hop        11427104.0   \n",
              "4  adan y eva  Paulo Londra       single  argentine hip hop        11427104.0   \n",
              "\n",
              "  explicit       album release_date track_number tracks_in_album  \\\n",
              "0    False  Adan y Eva   2018-11-05            1               1   \n",
              "1    False  Adan y Eva   2018-11-05            1               1   \n",
              "2    False  Adan y Eva   2018-11-05            1               1   \n",
              "3    False  Adan y Eva   2018-11-05            1               1   \n",
              "4    False  Adan y Eva   2018-11-05            1               1   \n",
              "\n",
              "   danceability  energy key  loudness mode  speechiness  acoustics  \\\n",
              "0         0.767   0.709   1     -4.47    1        0.336      0.323   \n",
              "1         0.767   0.709   1     -4.47    1        0.336      0.323   \n",
              "2         0.767   0.709   1     -4.47    1        0.336      0.323   \n",
              "3         0.767   0.709   1     -4.47    1        0.336      0.323   \n",
              "4         0.767   0.709   1     -4.47    1        0.336      0.323   \n",
              "\n",
              "   instrumentalness  liveness  valence    tempo time_signature    genre  \\\n",
              "0               0.0    0.0676     0.72  171.993              4  hip hop   \n",
              "1               0.0    0.0676     0.72  171.993              4  hip hop   \n",
              "2               0.0    0.0676     0.72  171.993              4  hip hop   \n",
              "3               0.0    0.0676     0.72  171.993              4  hip hop   \n",
              "4               0.0    0.0676     0.72  171.993              4  hip hop   \n",
              "\n",
              "   days_since_release released_after_2017  explicit_false  explicit_true  \\\n",
              "0               740.0                 1.0               1              0   \n",
              "1               740.0                 1.0               1              0   \n",
              "2               740.0                 1.0               1              0   \n",
              "3               740.0                 1.0               1              0   \n",
              "4               740.0                 1.0               1              0   \n",
              "\n",
              "   popu_max  top10_dummy  top50_dummy                      cluster  \\\n",
              "0        10          1.0          1.0                       global   \n",
              "1       191          0.0          0.0  english speaking and nordic   \n",
              "2         1          1.0          1.0             spanish speaking   \n",
              "3       126          0.0          0.0  english speaking and nordic   \n",
              "4        21          0.0          1.0  english speaking and nordic   \n",
              "\n",
              "   duration_min  release_year  release_month  release_day  \n",
              "0       4.31065          2018             11            5  \n",
              "1       4.31065          2018             11            5  \n",
              "2       4.31065          2018             11            5  \n",
              "3       4.31065          2018             11            5  \n",
              "4       4.31065          2018             11            5  "
            ],
            "text/html": [
              "\n",
              "  <div id=\"df-88c80af6-fb1c-465b-b459-c56a22c14daf\">\n",
              "    <div class=\"colab-df-container\">\n",
              "      <div>\n",
              "<style scoped>\n",
              "    .dataframe tbody tr th:only-of-type {\n",
              "        vertical-align: middle;\n",
              "    }\n",
              "\n",
              "    .dataframe tbody tr th {\n",
              "        vertical-align: top;\n",
              "    }\n",
              "\n",
              "    .dataframe thead th {\n",
              "        text-align: right;\n",
              "    }\n",
              "</style>\n",
              "<table border=\"1\" class=\"dataframe\">\n",
              "  <thead>\n",
              "    <tr style=\"text-align: right;\">\n",
              "      <th></th>\n",
              "      <th>country</th>\n",
              "      <th>uri</th>\n",
              "      <th>popularity</th>\n",
              "      <th>title</th>\n",
              "      <th>artist</th>\n",
              "      <th>release_type</th>\n",
              "      <th>sub_genre</th>\n",
              "      <th>artist_followers</th>\n",
              "      <th>explicit</th>\n",
              "      <th>album</th>\n",
              "      <th>release_date</th>\n",
              "      <th>track_number</th>\n",
              "      <th>tracks_in_album</th>\n",
              "      <th>danceability</th>\n",
              "      <th>energy</th>\n",
              "      <th>key</th>\n",
              "      <th>loudness</th>\n",
              "      <th>mode</th>\n",
              "      <th>speechiness</th>\n",
              "      <th>acoustics</th>\n",
              "      <th>instrumentalness</th>\n",
              "      <th>liveness</th>\n",
              "      <th>valence</th>\n",
              "      <th>tempo</th>\n",
              "      <th>time_signature</th>\n",
              "      <th>genre</th>\n",
              "      <th>days_since_release</th>\n",
              "      <th>released_after_2017</th>\n",
              "      <th>explicit_false</th>\n",
              "      <th>explicit_true</th>\n",
              "      <th>popu_max</th>\n",
              "      <th>top10_dummy</th>\n",
              "      <th>top50_dummy</th>\n",
              "      <th>cluster</th>\n",
              "      <th>duration_min</th>\n",
              "      <th>release_year</th>\n",
              "      <th>release_month</th>\n",
              "      <th>release_day</th>\n",
              "    </tr>\n",
              "  </thead>\n",
              "  <tbody>\n",
              "    <tr>\n",
              "      <th>0</th>\n",
              "      <td>Global</td>\n",
              "      <td>https://open.spotify.com/track/6FyRXC8tJUh863J...</td>\n",
              "      <td>31833.95</td>\n",
              "      <td>adan y eva</td>\n",
              "      <td>Paulo Londra</td>\n",
              "      <td>single</td>\n",
              "      <td>argentine hip hop</td>\n",
              "      <td>11427104.0</td>\n",
              "      <td>False</td>\n",
              "      <td>Adan y Eva</td>\n",
              "      <td>2018-11-05</td>\n",
              "      <td>1</td>\n",
              "      <td>1</td>\n",
              "      <td>0.767</td>\n",
              "      <td>0.709</td>\n",
              "      <td>1</td>\n",
              "      <td>-4.47</td>\n",
              "      <td>1</td>\n",
              "      <td>0.336</td>\n",
              "      <td>0.323</td>\n",
              "      <td>0.0</td>\n",
              "      <td>0.0676</td>\n",
              "      <td>0.72</td>\n",
              "      <td>171.993</td>\n",
              "      <td>4</td>\n",
              "      <td>hip hop</td>\n",
              "      <td>740.0</td>\n",
              "      <td>1.0</td>\n",
              "      <td>1</td>\n",
              "      <td>0</td>\n",
              "      <td>10</td>\n",
              "      <td>1.0</td>\n",
              "      <td>1.0</td>\n",
              "      <td>global</td>\n",
              "      <td>4.31065</td>\n",
              "      <td>2018</td>\n",
              "      <td>11</td>\n",
              "      <td>5</td>\n",
              "    </tr>\n",
              "    <tr>\n",
              "      <th>1</th>\n",
              "      <td>USA</td>\n",
              "      <td>https://open.spotify.com/track/6FyRXC8tJUh863J...</td>\n",
              "      <td>8.00</td>\n",
              "      <td>adan y eva</td>\n",
              "      <td>Paulo Londra</td>\n",
              "      <td>single</td>\n",
              "      <td>argentine hip hop</td>\n",
              "      <td>11427104.0</td>\n",
              "      <td>False</td>\n",
              "      <td>Adan y Eva</td>\n",
              "      <td>2018-11-05</td>\n",
              "      <td>1</td>\n",
              "      <td>1</td>\n",
              "      <td>0.767</td>\n",
              "      <td>0.709</td>\n",
              "      <td>1</td>\n",
              "      <td>-4.47</td>\n",
              "      <td>1</td>\n",
              "      <td>0.336</td>\n",
              "      <td>0.323</td>\n",
              "      <td>0.0</td>\n",
              "      <td>0.0676</td>\n",
              "      <td>0.72</td>\n",
              "      <td>171.993</td>\n",
              "      <td>4</td>\n",
              "      <td>hip hop</td>\n",
              "      <td>740.0</td>\n",
              "      <td>1.0</td>\n",
              "      <td>1</td>\n",
              "      <td>0</td>\n",
              "      <td>191</td>\n",
              "      <td>0.0</td>\n",
              "      <td>0.0</td>\n",
              "      <td>english speaking and nordic</td>\n",
              "      <td>4.31065</td>\n",
              "      <td>2018</td>\n",
              "      <td>11</td>\n",
              "      <td>5</td>\n",
              "    </tr>\n",
              "    <tr>\n",
              "      <th>2</th>\n",
              "      <td>Argentina</td>\n",
              "      <td>https://open.spotify.com/track/6FyRXC8tJUh863J...</td>\n",
              "      <td>76924.40</td>\n",
              "      <td>adan y eva</td>\n",
              "      <td>Paulo Londra</td>\n",
              "      <td>single</td>\n",
              "      <td>argentine hip hop</td>\n",
              "      <td>11427104.0</td>\n",
              "      <td>False</td>\n",
              "      <td>Adan y Eva</td>\n",
              "      <td>2018-11-05</td>\n",
              "      <td>1</td>\n",
              "      <td>1</td>\n",
              "      <td>0.767</td>\n",
              "      <td>0.709</td>\n",
              "      <td>1</td>\n",
              "      <td>-4.47</td>\n",
              "      <td>1</td>\n",
              "      <td>0.336</td>\n",
              "      <td>0.323</td>\n",
              "      <td>0.0</td>\n",
              "      <td>0.0676</td>\n",
              "      <td>0.72</td>\n",
              "      <td>171.993</td>\n",
              "      <td>4</td>\n",
              "      <td>hip hop</td>\n",
              "      <td>740.0</td>\n",
              "      <td>1.0</td>\n",
              "      <td>1</td>\n",
              "      <td>0</td>\n",
              "      <td>1</td>\n",
              "      <td>1.0</td>\n",
              "      <td>1.0</td>\n",
              "      <td>spanish speaking</td>\n",
              "      <td>4.31065</td>\n",
              "      <td>2018</td>\n",
              "      <td>11</td>\n",
              "      <td>5</td>\n",
              "    </tr>\n",
              "    <tr>\n",
              "      <th>3</th>\n",
              "      <td>Belgium</td>\n",
              "      <td>https://open.spotify.com/track/6FyRXC8tJUh863J...</td>\n",
              "      <td>849.60</td>\n",
              "      <td>adan y eva</td>\n",
              "      <td>Paulo Londra</td>\n",
              "      <td>single</td>\n",
              "      <td>argentine hip hop</td>\n",
              "      <td>11427104.0</td>\n",
              "      <td>False</td>\n",
              "      <td>Adan y Eva</td>\n",
              "      <td>2018-11-05</td>\n",
              "      <td>1</td>\n",
              "      <td>1</td>\n",
              "      <td>0.767</td>\n",
              "      <td>0.709</td>\n",
              "      <td>1</td>\n",
              "      <td>-4.47</td>\n",
              "      <td>1</td>\n",
              "      <td>0.336</td>\n",
              "      <td>0.323</td>\n",
              "      <td>0.0</td>\n",
              "      <td>0.0676</td>\n",
              "      <td>0.72</td>\n",
              "      <td>171.993</td>\n",
              "      <td>4</td>\n",
              "      <td>hip hop</td>\n",
              "      <td>740.0</td>\n",
              "      <td>1.0</td>\n",
              "      <td>1</td>\n",
              "      <td>0</td>\n",
              "      <td>126</td>\n",
              "      <td>0.0</td>\n",
              "      <td>0.0</td>\n",
              "      <td>english speaking and nordic</td>\n",
              "      <td>4.31065</td>\n",
              "      <td>2018</td>\n",
              "      <td>11</td>\n",
              "      <td>5</td>\n",
              "    </tr>\n",
              "    <tr>\n",
              "      <th>4</th>\n",
              "      <td>Switzerland</td>\n",
              "      <td>https://open.spotify.com/track/6FyRXC8tJUh863J...</td>\n",
              "      <td>20739.10</td>\n",
              "      <td>adan y eva</td>\n",
              "      <td>Paulo Londra</td>\n",
              "      <td>single</td>\n",
              "      <td>argentine hip hop</td>\n",
              "      <td>11427104.0</td>\n",
              "      <td>False</td>\n",
              "      <td>Adan y Eva</td>\n",
              "      <td>2018-11-05</td>\n",
              "      <td>1</td>\n",
              "      <td>1</td>\n",
              "      <td>0.767</td>\n",
              "      <td>0.709</td>\n",
              "      <td>1</td>\n",
              "      <td>-4.47</td>\n",
              "      <td>1</td>\n",
              "      <td>0.336</td>\n",
              "      <td>0.323</td>\n",
              "      <td>0.0</td>\n",
              "      <td>0.0676</td>\n",
              "      <td>0.72</td>\n",
              "      <td>171.993</td>\n",
              "      <td>4</td>\n",
              "      <td>hip hop</td>\n",
              "      <td>740.0</td>\n",
              "      <td>1.0</td>\n",
              "      <td>1</td>\n",
              "      <td>0</td>\n",
              "      <td>21</td>\n",
              "      <td>0.0</td>\n",
              "      <td>1.0</td>\n",
              "      <td>english speaking and nordic</td>\n",
              "      <td>4.31065</td>\n",
              "      <td>2018</td>\n",
              "      <td>11</td>\n",
              "      <td>5</td>\n",
              "    </tr>\n",
              "  </tbody>\n",
              "</table>\n",
              "</div>\n",
              "      <button class=\"colab-df-convert\" onclick=\"convertToInteractive('df-88c80af6-fb1c-465b-b459-c56a22c14daf')\"\n",
              "              title=\"Convert this dataframe to an interactive table.\"\n",
              "              style=\"display:none;\">\n",
              "        \n",
              "  <svg xmlns=\"http://www.w3.org/2000/svg\" height=\"24px\"viewBox=\"0 0 24 24\"\n",
              "       width=\"24px\">\n",
              "    <path d=\"M0 0h24v24H0V0z\" fill=\"none\"/>\n",
              "    <path d=\"M18.56 5.44l.94 2.06.94-2.06 2.06-.94-2.06-.94-.94-2.06-.94 2.06-2.06.94zm-11 1L8.5 8.5l.94-2.06 2.06-.94-2.06-.94L8.5 2.5l-.94 2.06-2.06.94zm10 10l.94 2.06.94-2.06 2.06-.94-2.06-.94-.94-2.06-.94 2.06-2.06.94z\"/><path d=\"M17.41 7.96l-1.37-1.37c-.4-.4-.92-.59-1.43-.59-.52 0-1.04.2-1.43.59L10.3 9.45l-7.72 7.72c-.78.78-.78 2.05 0 2.83L4 21.41c.39.39.9.59 1.41.59.51 0 1.02-.2 1.41-.59l7.78-7.78 2.81-2.81c.8-.78.8-2.07 0-2.86zM5.41 20L4 18.59l7.72-7.72 1.47 1.35L5.41 20z\"/>\n",
              "  </svg>\n",
              "      </button>\n",
              "      \n",
              "  <style>\n",
              "    .colab-df-container {\n",
              "      display:flex;\n",
              "      flex-wrap:wrap;\n",
              "      gap: 12px;\n",
              "    }\n",
              "\n",
              "    .colab-df-convert {\n",
              "      background-color: #E8F0FE;\n",
              "      border: none;\n",
              "      border-radius: 50%;\n",
              "      cursor: pointer;\n",
              "      display: none;\n",
              "      fill: #1967D2;\n",
              "      height: 32px;\n",
              "      padding: 0 0 0 0;\n",
              "      width: 32px;\n",
              "    }\n",
              "\n",
              "    .colab-df-convert:hover {\n",
              "      background-color: #E2EBFA;\n",
              "      box-shadow: 0px 1px 2px rgba(60, 64, 67, 0.3), 0px 1px 3px 1px rgba(60, 64, 67, 0.15);\n",
              "      fill: #174EA6;\n",
              "    }\n",
              "\n",
              "    [theme=dark] .colab-df-convert {\n",
              "      background-color: #3B4455;\n",
              "      fill: #D2E3FC;\n",
              "    }\n",
              "\n",
              "    [theme=dark] .colab-df-convert:hover {\n",
              "      background-color: #434B5C;\n",
              "      box-shadow: 0px 1px 3px 1px rgba(0, 0, 0, 0.15);\n",
              "      filter: drop-shadow(0px 1px 2px rgba(0, 0, 0, 0.3));\n",
              "      fill: #FFFFFF;\n",
              "    }\n",
              "  </style>\n",
              "\n",
              "      <script>\n",
              "        const buttonEl =\n",
              "          document.querySelector('#df-88c80af6-fb1c-465b-b459-c56a22c14daf button.colab-df-convert');\n",
              "        buttonEl.style.display =\n",
              "          google.colab.kernel.accessAllowed ? 'block' : 'none';\n",
              "\n",
              "        async function convertToInteractive(key) {\n",
              "          const element = document.querySelector('#df-88c80af6-fb1c-465b-b459-c56a22c14daf');\n",
              "          const dataTable =\n",
              "            await google.colab.kernel.invokeFunction('convertToInteractive',\n",
              "                                                     [key], {});\n",
              "          if (!dataTable) return;\n",
              "\n",
              "          const docLinkHtml = 'Like what you see? Visit the ' +\n",
              "            '<a target=\"_blank\" href=https://colab.research.google.com/notebooks/data_table.ipynb>data table notebook</a>'\n",
              "            + ' to learn more about interactive tables.';\n",
              "          element.innerHTML = '';\n",
              "          dataTable['output_type'] = 'display_data';\n",
              "          await google.colab.output.renderOutput(dataTable, element);\n",
              "          const docLink = document.createElement('div');\n",
              "          docLink.innerHTML = docLinkHtml;\n",
              "          element.appendChild(docLink);\n",
              "        }\n",
              "      </script>\n",
              "    </div>\n",
              "  </div>\n",
              "  "
            ]
          },
          "metadata": {},
          "execution_count": 5
        }
      ]
    },
    {
      "cell_type": "code",
      "source": [
        "df.info()"
      ],
      "metadata": {
        "colab": {
          "base_uri": "https://localhost:8080/"
        },
        "id": "yE6C5D1tAWEe",
        "outputId": "1f2e84c4-c2f8-4c1e-949d-df5bcb17a5e6"
      },
      "execution_count": 6,
      "outputs": [
        {
          "output_type": "stream",
          "name": "stdout",
          "text": [
            "<class 'pandas.core.frame.DataFrame'>\n",
            "RangeIndex: 166681 entries, 0 to 166680\n",
            "Data columns (total 38 columns):\n",
            " #   Column               Non-Null Count   Dtype  \n",
            "---  ------               --------------   -----  \n",
            " 0   country              166681 non-null  object \n",
            " 1   uri                  166681 non-null  object \n",
            " 2   popularity           166681 non-null  float64\n",
            " 3   title                166681 non-null  object \n",
            " 4   artist               166681 non-null  object \n",
            " 5   release_type         166681 non-null  object \n",
            " 6   sub_genre            166681 non-null  object \n",
            " 7   artist_followers     166681 non-null  float64\n",
            " 8   explicit             166681 non-null  object \n",
            " 9   album                166681 non-null  object \n",
            " 10  release_date         166681 non-null  object \n",
            " 11  track_number         166681 non-null  object \n",
            " 12  tracks_in_album      166681 non-null  object \n",
            " 13  danceability         166681 non-null  float64\n",
            " 14  energy               166681 non-null  float64\n",
            " 15  key                  166681 non-null  object \n",
            " 16  loudness             166681 non-null  float64\n",
            " 17  mode                 166681 non-null  object \n",
            " 18  speechiness          166681 non-null  float64\n",
            " 19  acoustics            166681 non-null  float64\n",
            " 20  instrumentalness     166681 non-null  float64\n",
            " 21  liveness             166681 non-null  float64\n",
            " 22  valence              166681 non-null  float64\n",
            " 23  tempo                166681 non-null  float64\n",
            " 24  time_signature       166681 non-null  object \n",
            " 25  genre                166681 non-null  object \n",
            " 26  days_since_release   166681 non-null  float64\n",
            " 27  released_after_2017  166681 non-null  object \n",
            " 28  explicit_false       166681 non-null  int64  \n",
            " 29  explicit_true        166681 non-null  int64  \n",
            " 30  popu_max             166681 non-null  int64  \n",
            " 31  top10_dummy          166681 non-null  float64\n",
            " 32  top50_dummy          166681 non-null  float64\n",
            " 33  cluster              166681 non-null  object \n",
            " 34  duration_min         166681 non-null  float64\n",
            " 35  release_year         166681 non-null  int64  \n",
            " 36  release_month        166681 non-null  int64  \n",
            " 37  release_day          166681 non-null  int64  \n",
            "dtypes: float64(15), int64(6), object(17)\n",
            "memory usage: 48.3+ MB\n"
          ]
        }
      ]
    },
    {
      "cell_type": "code",
      "source": [
        "df['genre'].unique()"
      ],
      "metadata": {
        "colab": {
          "base_uri": "https://localhost:8080/"
        },
        "id": "pvMkWLGVT5W1",
        "outputId": "3c768eb8-edd4-4dc7-d43a-a62ad003685c"
      },
      "execution_count": 7,
      "outputs": [
        {
          "output_type": "execute_result",
          "data": {
            "text/plain": [
              "array(['hip hop', 'pop', 'metal', 'indie', 'rap', 'funk', 'r&b/soul',\n",
              "       'k-pop', 'rock', 'dance/electronic', 'latin', 'trap', 'country',\n",
              "       'house', 'reggaeton', 'boy band', 'else', 'bolero', 'reggae',\n",
              "       'jazz', 'opm'], dtype=object)"
            ]
          },
          "metadata": {},
          "execution_count": 7
        }
      ]
    },
    {
      "cell_type": "markdown",
      "source": [
        "## Distribution of Genres"
      ],
      "metadata": {
        "id": "cL66XMCjY3KO"
      }
    },
    {
      "cell_type": "code",
      "source": [
        "hip_hop = df[df['genre']=='hip hop']  \n",
        "pop = df[df['genre']=='pop'] \n",
        "metal = df[df['genre']=='metal'] \n",
        "indie = df[df['genre']=='indie'] \n",
        "rap = df[df['genre']=='rap'] \n",
        "funk = df[df['genre']=='funk'] \n",
        "k_pop = df[df['genre']=='k-pop'] \n",
        "rock = df[df['genre']=='rock'] \n",
        "latin = df[df['genre']=='latin'] \n",
        "trap = df[df['genre']=='trap'] \n",
        "country = df[df['genre']=='country'] \n",
        "house = df[df['genre']=='house'] \n",
        "reggaeton = df[df['genre']=='boy band'] \n",
        "boy_band = df[df['genre']=='hip hop'] \n",
        "else_genre = df[df['genre']=='else'] \n",
        "bolero = df[df['genre']=='bolero'] \n",
        "reggae = df[df['genre']=='reggae'] \n",
        "jazz = df[df['genre']=='jazz'] \n",
        "opm = df[df['genre']=='opm']                        \n",
        "rb_soul = df[df['genre']=='r&b/soul'] \n",
        "dance_electronic = df[df['genre']=='dance/electronic'] "
      ],
      "metadata": {
        "id": "973oxJWeT9kw"
      },
      "execution_count": 8,
      "outputs": []
    },
    {
      "cell_type": "code",
      "source": [
        "print(\"pop genre: %i (%.1f%%)\"%(len(pop),float(len(pop))/len(df)*100.0))\n",
        "print(\"hip_hop genre: %i (%.1f%%)\"%(len(hip_hop),float(len(hip_hop))/len(df)*100.0))\n",
        "print(\"boy_band genre: %i (%.1f%%)\"%(len(boy_band),float(len(boy_band))/len(df)*100.0))\n",
        "print(\"rap genre: %i (%.1f%%)\"%(len(rap),float(len(rap))/len(df)*100.0))\n",
        "print(\"latin genre: %i (%.1f%%)\"%(len(latin),float(len(latin))/len(df)*100.0))\n",
        "print(\"indie genre: %i (%.1f%%)\"%(len(indie),float(len(indie))/len(df)*100.0))\n",
        "print(\"rock genre: %i (%.1f%%)\"%(len(rock),float(len(rock))/len(df)*100.0))\n",
        "print(\"dance_electronic genre: %i (%.1f%%)\"%(len(dance_electronic),float(len(dance_electronic))/len(df)*100.0))\n",
        "print(\"else_genre genre: %i (%.1f%%)\"%(len(else_genre),float(len(else_genre))/len(df)*100.0))\n",
        "print(\"house genre: %i (%.1f%%)\"%(len(house),float(len(house))/len(df)*100.0))\n",
        "print(\"k_pop genre: %i (%.1f%%)\"%(len(k_pop),float(len(k_pop))/len(df)*100.0))\n",
        "print(\"rb_soul genre: %i (%.1f%%)\"%(len(rb_soul),float(len(rb_soul))/len(df)*100.0))\n",
        "print(\"metal genre: %i (%.1f%%)\"%(len(metal),float(len(metal))/len(df)*100.0))\n",
        "print(\"reggaeton genre: %i (%.1f%%)\"%(len(reggaeton),float(len(reggaeton))/len(df)*100.0))\n",
        "print(\"trap genre: %i (%.1f%%)\"%(len(trap),float(len(trap))/len(df)*100.0))\n",
        "print(\"funk genre: %i (%.1f%%)\"%(len(funk),float(len(funk))/len(df)*100.0))\n",
        "print(\"country genre: %i (%.1f%%)\"%(len(country),float(len(country))/len(df)*100.0))\n",
        "print(\"opm genre: %i (%.1f%%)\"%(len(opm),float(len(opm))/len(df)*100.0))\n",
        "print(\"reggae genre: %i (%.1f%%)\"%(len(reggae),float(len(reggae))/len(df)*100.0))\n",
        "print(\"bolero genre: %i (%.1f%%)\"%(len(bolero),float(len(bolero))/len(df)*100.0))\n",
        "print(\"jazz genre: %i (%.1f%%)\"%(len(jazz),float(len(jazz))/len(df)*100.0))\n",
        "print(\"Total: %i\"%len(df))"
      ],
      "metadata": {
        "colab": {
          "base_uri": "https://localhost:8080/"
        },
        "id": "lFenpWOVVW9G",
        "outputId": "42b61145-9d62-4937-cce8-622ca693945d"
      },
      "execution_count": 9,
      "outputs": [
        {
          "output_type": "stream",
          "name": "stdout",
          "text": [
            "pop genre: 60020 (36.0%)\n",
            "hip_hop genre: 35805 (21.5%)\n",
            "boy_band genre: 35805 (21.5%)\n",
            "rap genre: 13562 (8.1%)\n",
            "latin genre: 9675 (5.8%)\n",
            "indie genre: 7339 (4.4%)\n",
            "rock genre: 6337 (3.8%)\n",
            "dance_electronic genre: 5751 (3.5%)\n",
            "else_genre genre: 4819 (2.9%)\n",
            "house genre: 4713 (2.8%)\n",
            "k_pop genre: 4526 (2.7%)\n",
            "rb_soul genre: 4510 (2.7%)\n",
            "metal genre: 2364 (1.4%)\n",
            "reggaeton genre: 1983 (1.2%)\n",
            "trap genre: 1682 (1.0%)\n",
            "funk genre: 1052 (0.6%)\n",
            "country genre: 700 (0.4%)\n",
            "opm genre: 360 (0.2%)\n",
            "reggae genre: 136 (0.1%)\n",
            "bolero genre: 212 (0.1%)\n",
            "jazz genre: 134 (0.1%)\n",
            "Total: 166681\n"
          ]
        }
      ]
    },
    {
      "cell_type": "code",
      "source": [
        "df['genre'].value_counts()/len(df)"
      ],
      "metadata": {
        "colab": {
          "base_uri": "https://localhost:8080/"
        },
        "id": "_NQdqO6uYvQh",
        "outputId": "49eaec31-01e0-4b4c-df42-9c913fc631ca"
      },
      "execution_count": 10,
      "outputs": [
        {
          "output_type": "execute_result",
          "data": {
            "text/plain": [
              "pop                 0.360089\n",
              "hip hop             0.214812\n",
              "rap                 0.081365\n",
              "latin               0.058045\n",
              "indie               0.044030\n",
              "rock                0.038019\n",
              "dance/electronic    0.034503\n",
              "else                0.028912\n",
              "house               0.028276\n",
              "k-pop               0.027154\n",
              "r&b/soul            0.027058\n",
              "metal               0.014183\n",
              "boy band            0.011897\n",
              "trap                0.010091\n",
              "funk                0.006311\n",
              "reggaeton           0.006005\n",
              "country             0.004200\n",
              "opm                 0.002160\n",
              "bolero              0.001272\n",
              "reggae              0.000816\n",
              "jazz                0.000804\n",
              "Name: genre, dtype: float64"
            ]
          },
          "metadata": {},
          "execution_count": 10
        }
      ]
    },
    {
      "cell_type": "code",
      "source": [
        "df.columns"
      ],
      "metadata": {
        "colab": {
          "base_uri": "https://localhost:8080/"
        },
        "id": "wJMES7tqcCG5",
        "outputId": "ce782a17-4158-4d38-b0ee-66e0e464f54a"
      },
      "execution_count": 11,
      "outputs": [
        {
          "output_type": "execute_result",
          "data": {
            "text/plain": [
              "Index(['country', 'uri', 'popularity', 'title', 'artist', 'release_type',\n",
              "       'sub_genre', 'artist_followers', 'explicit', 'album', 'release_date',\n",
              "       'track_number', 'tracks_in_album', 'danceability', 'energy', 'key',\n",
              "       'loudness', 'mode', 'speechiness', 'acoustics', 'instrumentalness',\n",
              "       'liveness', 'valence', 'tempo', 'time_signature', 'genre',\n",
              "       'days_since_release', 'released_after_2017', 'explicit_false',\n",
              "       'explicit_true', 'popu_max', 'top10_dummy', 'top50_dummy', 'cluster',\n",
              "       'duration_min', 'release_year', 'release_month', 'release_day'],\n",
              "      dtype='object')"
            ]
          },
          "metadata": {},
          "execution_count": 11
        }
      ]
    },
    {
      "cell_type": "code",
      "source": [
        "df_pred = df.copy()"
      ],
      "metadata": {
        "id": "6DReG6_y4tAM"
      },
      "execution_count": 15,
      "outputs": []
    },
    {
      "cell_type": "code",
      "source": [
        "df_pred = df_pred.drop(columns=['uri','title', 'artist', 'release_type', 'artist_followers', 'explicit', 'album', 'release_date',\n",
        "       'track_number', 'tracks_in_album', 'days_since_release', 'released_after_2017', 'explicit_false',\n",
        "       'explicit_true', 'popu_max', 'top10_dummy', 'top50_dummy', 'cluster',\n",
        "       'release_year', 'release_month', 'release_day', 'sub_genre']).reset_index(drop=True)\n",
        "df_pred.head()"
      ],
      "metadata": {
        "colab": {
          "base_uri": "https://localhost:8080/",
          "height": 357
        },
        "id": "dwBtlChKb9Je",
        "outputId": "81f22f01-ee49-4d2d-8abd-5e68f02fcba2"
      },
      "execution_count": 40,
      "outputs": [
        {
          "output_type": "execute_result",
          "data": {
            "text/plain": [
              "       country  popularity  danceability  energy  key  loudness  mode  \\\n",
              "0       Global    31833.95         0.767   0.709    1     -4.47     1   \n",
              "1          USA        8.00         0.767   0.709    1     -4.47     1   \n",
              "2    Argentina    76924.40         0.767   0.709    1     -4.47     1   \n",
              "3      Belgium      849.60         0.767   0.709    1     -4.47     1   \n",
              "4  Switzerland    20739.10         0.767   0.709    1     -4.47     1   \n",
              "\n",
              "   speechiness  acoustics  instrumentalness  liveness  valence    tempo  \\\n",
              "0        0.336      0.323               0.0    0.0676     0.72  171.993   \n",
              "1        0.336      0.323               0.0    0.0676     0.72  171.993   \n",
              "2        0.336      0.323               0.0    0.0676     0.72  171.993   \n",
              "3        0.336      0.323               0.0    0.0676     0.72  171.993   \n",
              "4        0.336      0.323               0.0    0.0676     0.72  171.993   \n",
              "\n",
              "   time_signature    genre  duration_min  \n",
              "0             4.0  hip hop       4.31065  \n",
              "1             4.0  hip hop       4.31065  \n",
              "2             4.0  hip hop       4.31065  \n",
              "3             4.0  hip hop       4.31065  \n",
              "4             4.0  hip hop       4.31065  "
            ],
            "text/html": [
              "\n",
              "  <div id=\"df-292c26f1-1689-4288-add1-67dba8ad4f23\">\n",
              "    <div class=\"colab-df-container\">\n",
              "      <div>\n",
              "<style scoped>\n",
              "    .dataframe tbody tr th:only-of-type {\n",
              "        vertical-align: middle;\n",
              "    }\n",
              "\n",
              "    .dataframe tbody tr th {\n",
              "        vertical-align: top;\n",
              "    }\n",
              "\n",
              "    .dataframe thead th {\n",
              "        text-align: right;\n",
              "    }\n",
              "</style>\n",
              "<table border=\"1\" class=\"dataframe\">\n",
              "  <thead>\n",
              "    <tr style=\"text-align: right;\">\n",
              "      <th></th>\n",
              "      <th>country</th>\n",
              "      <th>popularity</th>\n",
              "      <th>danceability</th>\n",
              "      <th>energy</th>\n",
              "      <th>key</th>\n",
              "      <th>loudness</th>\n",
              "      <th>mode</th>\n",
              "      <th>speechiness</th>\n",
              "      <th>acoustics</th>\n",
              "      <th>instrumentalness</th>\n",
              "      <th>liveness</th>\n",
              "      <th>valence</th>\n",
              "      <th>tempo</th>\n",
              "      <th>time_signature</th>\n",
              "      <th>genre</th>\n",
              "      <th>duration_min</th>\n",
              "    </tr>\n",
              "  </thead>\n",
              "  <tbody>\n",
              "    <tr>\n",
              "      <th>0</th>\n",
              "      <td>Global</td>\n",
              "      <td>31833.95</td>\n",
              "      <td>0.767</td>\n",
              "      <td>0.709</td>\n",
              "      <td>1</td>\n",
              "      <td>-4.47</td>\n",
              "      <td>1</td>\n",
              "      <td>0.336</td>\n",
              "      <td>0.323</td>\n",
              "      <td>0.0</td>\n",
              "      <td>0.0676</td>\n",
              "      <td>0.72</td>\n",
              "      <td>171.993</td>\n",
              "      <td>4.0</td>\n",
              "      <td>hip hop</td>\n",
              "      <td>4.31065</td>\n",
              "    </tr>\n",
              "    <tr>\n",
              "      <th>1</th>\n",
              "      <td>USA</td>\n",
              "      <td>8.00</td>\n",
              "      <td>0.767</td>\n",
              "      <td>0.709</td>\n",
              "      <td>1</td>\n",
              "      <td>-4.47</td>\n",
              "      <td>1</td>\n",
              "      <td>0.336</td>\n",
              "      <td>0.323</td>\n",
              "      <td>0.0</td>\n",
              "      <td>0.0676</td>\n",
              "      <td>0.72</td>\n",
              "      <td>171.993</td>\n",
              "      <td>4.0</td>\n",
              "      <td>hip hop</td>\n",
              "      <td>4.31065</td>\n",
              "    </tr>\n",
              "    <tr>\n",
              "      <th>2</th>\n",
              "      <td>Argentina</td>\n",
              "      <td>76924.40</td>\n",
              "      <td>0.767</td>\n",
              "      <td>0.709</td>\n",
              "      <td>1</td>\n",
              "      <td>-4.47</td>\n",
              "      <td>1</td>\n",
              "      <td>0.336</td>\n",
              "      <td>0.323</td>\n",
              "      <td>0.0</td>\n",
              "      <td>0.0676</td>\n",
              "      <td>0.72</td>\n",
              "      <td>171.993</td>\n",
              "      <td>4.0</td>\n",
              "      <td>hip hop</td>\n",
              "      <td>4.31065</td>\n",
              "    </tr>\n",
              "    <tr>\n",
              "      <th>3</th>\n",
              "      <td>Belgium</td>\n",
              "      <td>849.60</td>\n",
              "      <td>0.767</td>\n",
              "      <td>0.709</td>\n",
              "      <td>1</td>\n",
              "      <td>-4.47</td>\n",
              "      <td>1</td>\n",
              "      <td>0.336</td>\n",
              "      <td>0.323</td>\n",
              "      <td>0.0</td>\n",
              "      <td>0.0676</td>\n",
              "      <td>0.72</td>\n",
              "      <td>171.993</td>\n",
              "      <td>4.0</td>\n",
              "      <td>hip hop</td>\n",
              "      <td>4.31065</td>\n",
              "    </tr>\n",
              "    <tr>\n",
              "      <th>4</th>\n",
              "      <td>Switzerland</td>\n",
              "      <td>20739.10</td>\n",
              "      <td>0.767</td>\n",
              "      <td>0.709</td>\n",
              "      <td>1</td>\n",
              "      <td>-4.47</td>\n",
              "      <td>1</td>\n",
              "      <td>0.336</td>\n",
              "      <td>0.323</td>\n",
              "      <td>0.0</td>\n",
              "      <td>0.0676</td>\n",
              "      <td>0.72</td>\n",
              "      <td>171.993</td>\n",
              "      <td>4.0</td>\n",
              "      <td>hip hop</td>\n",
              "      <td>4.31065</td>\n",
              "    </tr>\n",
              "  </tbody>\n",
              "</table>\n",
              "</div>\n",
              "      <button class=\"colab-df-convert\" onclick=\"convertToInteractive('df-292c26f1-1689-4288-add1-67dba8ad4f23')\"\n",
              "              title=\"Convert this dataframe to an interactive table.\"\n",
              "              style=\"display:none;\">\n",
              "        \n",
              "  <svg xmlns=\"http://www.w3.org/2000/svg\" height=\"24px\"viewBox=\"0 0 24 24\"\n",
              "       width=\"24px\">\n",
              "    <path d=\"M0 0h24v24H0V0z\" fill=\"none\"/>\n",
              "    <path d=\"M18.56 5.44l.94 2.06.94-2.06 2.06-.94-2.06-.94-.94-2.06-.94 2.06-2.06.94zm-11 1L8.5 8.5l.94-2.06 2.06-.94-2.06-.94L8.5 2.5l-.94 2.06-2.06.94zm10 10l.94 2.06.94-2.06 2.06-.94-2.06-.94-.94-2.06-.94 2.06-2.06.94z\"/><path d=\"M17.41 7.96l-1.37-1.37c-.4-.4-.92-.59-1.43-.59-.52 0-1.04.2-1.43.59L10.3 9.45l-7.72 7.72c-.78.78-.78 2.05 0 2.83L4 21.41c.39.39.9.59 1.41.59.51 0 1.02-.2 1.41-.59l7.78-7.78 2.81-2.81c.8-.78.8-2.07 0-2.86zM5.41 20L4 18.59l7.72-7.72 1.47 1.35L5.41 20z\"/>\n",
              "  </svg>\n",
              "      </button>\n",
              "      \n",
              "  <style>\n",
              "    .colab-df-container {\n",
              "      display:flex;\n",
              "      flex-wrap:wrap;\n",
              "      gap: 12px;\n",
              "    }\n",
              "\n",
              "    .colab-df-convert {\n",
              "      background-color: #E8F0FE;\n",
              "      border: none;\n",
              "      border-radius: 50%;\n",
              "      cursor: pointer;\n",
              "      display: none;\n",
              "      fill: #1967D2;\n",
              "      height: 32px;\n",
              "      padding: 0 0 0 0;\n",
              "      width: 32px;\n",
              "    }\n",
              "\n",
              "    .colab-df-convert:hover {\n",
              "      background-color: #E2EBFA;\n",
              "      box-shadow: 0px 1px 2px rgba(60, 64, 67, 0.3), 0px 1px 3px 1px rgba(60, 64, 67, 0.15);\n",
              "      fill: #174EA6;\n",
              "    }\n",
              "\n",
              "    [theme=dark] .colab-df-convert {\n",
              "      background-color: #3B4455;\n",
              "      fill: #D2E3FC;\n",
              "    }\n",
              "\n",
              "    [theme=dark] .colab-df-convert:hover {\n",
              "      background-color: #434B5C;\n",
              "      box-shadow: 0px 1px 3px 1px rgba(0, 0, 0, 0.15);\n",
              "      filter: drop-shadow(0px 1px 2px rgba(0, 0, 0, 0.3));\n",
              "      fill: #FFFFFF;\n",
              "    }\n",
              "  </style>\n",
              "\n",
              "      <script>\n",
              "        const buttonEl =\n",
              "          document.querySelector('#df-292c26f1-1689-4288-add1-67dba8ad4f23 button.colab-df-convert');\n",
              "        buttonEl.style.display =\n",
              "          google.colab.kernel.accessAllowed ? 'block' : 'none';\n",
              "\n",
              "        async function convertToInteractive(key) {\n",
              "          const element = document.querySelector('#df-292c26f1-1689-4288-add1-67dba8ad4f23');\n",
              "          const dataTable =\n",
              "            await google.colab.kernel.invokeFunction('convertToInteractive',\n",
              "                                                     [key], {});\n",
              "          if (!dataTable) return;\n",
              "\n",
              "          const docLinkHtml = 'Like what you see? Visit the ' +\n",
              "            '<a target=\"_blank\" href=https://colab.research.google.com/notebooks/data_table.ipynb>data table notebook</a>'\n",
              "            + ' to learn more about interactive tables.';\n",
              "          element.innerHTML = '';\n",
              "          dataTable['output_type'] = 'display_data';\n",
              "          await google.colab.output.renderOutput(dataTable, element);\n",
              "          const docLink = document.createElement('div');\n",
              "          docLink.innerHTML = docLinkHtml;\n",
              "          element.appendChild(docLink);\n",
              "        }\n",
              "      </script>\n",
              "    </div>\n",
              "  </div>\n",
              "  "
            ]
          },
          "metadata": {},
          "execution_count": 40
        }
      ]
    },
    {
      "cell_type": "code",
      "source": [
        "df_pred['key'] = df_pred['key'].astype(int)\n",
        "df_pred['mode'] = df_pred['mode'].astype(int)\n",
        "df_pred['time_signature'] = df_pred['time_signature'].astype(float)"
      ],
      "metadata": {
        "id": "vYVmMqCNs66d"
      },
      "execution_count": 41,
      "outputs": []
    },
    {
      "cell_type": "code",
      "source": [
        "df_pred.info()"
      ],
      "metadata": {
        "colab": {
          "base_uri": "https://localhost:8080/"
        },
        "id": "hP-9z72wfPJ_",
        "outputId": "24956360-98b6-43e4-88e6-65c18c08755a"
      },
      "execution_count": 42,
      "outputs": [
        {
          "output_type": "stream",
          "name": "stdout",
          "text": [
            "<class 'pandas.core.frame.DataFrame'>\n",
            "RangeIndex: 166681 entries, 0 to 166680\n",
            "Data columns (total 16 columns):\n",
            " #   Column            Non-Null Count   Dtype  \n",
            "---  ------            --------------   -----  \n",
            " 0   country           166681 non-null  object \n",
            " 1   popularity        166681 non-null  float64\n",
            " 2   danceability      166681 non-null  float64\n",
            " 3   energy            166681 non-null  float64\n",
            " 4   key               166681 non-null  int64  \n",
            " 5   loudness          166681 non-null  float64\n",
            " 6   mode              166681 non-null  int64  \n",
            " 7   speechiness       166681 non-null  float64\n",
            " 8   acoustics         166681 non-null  float64\n",
            " 9   instrumentalness  166681 non-null  float64\n",
            " 10  liveness          166681 non-null  float64\n",
            " 11  valence           166681 non-null  float64\n",
            " 12  tempo             166681 non-null  float64\n",
            " 13  time_signature    166681 non-null  float64\n",
            " 14  genre             166681 non-null  object \n",
            " 15  duration_min      166681 non-null  float64\n",
            "dtypes: float64(12), int64(2), object(2)\n",
            "memory usage: 20.3+ MB\n"
          ]
        }
      ]
    },
    {
      "cell_type": "code",
      "source": [
        "df_pred.describe()"
      ],
      "metadata": {
        "colab": {
          "base_uri": "https://localhost:8080/",
          "height": 364
        },
        "id": "Q08dtYMVtjTp",
        "outputId": "39bb25a0-14a1-4569-c2b7-a2ab51dbf477"
      },
      "execution_count": 43,
      "outputs": [
        {
          "output_type": "execute_result",
          "data": {
            "text/plain": [
              "          popularity   danceability         energy            key  \\\n",
              "count  166681.000000  166681.000000  166681.000000  166681.000000   \n",
              "mean     5511.366120       0.667507       0.642905       5.273876   \n",
              "std     13236.831027       0.144698       0.172137       3.640508   \n",
              "min         0.800000       0.000000       0.002620       0.000000   \n",
              "25%        78.400000       0.578000       0.539000       2.000000   \n",
              "50%       530.400000       0.684000       0.662000       5.000000   \n",
              "75%      3995.050000       0.772000       0.770000       8.000000   \n",
              "max    233766.900000       0.983000       1.000000      11.000000   \n",
              "\n",
              "            loudness           mode    speechiness      acoustics  \\\n",
              "count  166681.000000  166681.000000  166681.000000  166681.000000   \n",
              "mean       -6.526561       0.564923       0.123948       0.241169   \n",
              "std         2.611996       0.495769       0.116585       0.247521   \n",
              "min       -43.988000       0.000000       0.000000       0.000002   \n",
              "25%        -7.680000       0.000000       0.042900       0.045500   \n",
              "50%        -6.113000       1.000000       0.071800       0.151000   \n",
              "75%        -4.821000       1.000000       0.169000       0.367000   \n",
              "max         1.634000       1.000000       0.955000       0.995000   \n",
              "\n",
              "       instrumentalness       liveness        valence          tempo  \\\n",
              "count     166681.000000  166681.000000  166681.000000  166681.000000   \n",
              "mean           0.014143       0.176447       0.491854     120.967824   \n",
              "std            0.086087       0.136795       0.222129      28.839627   \n",
              "min            0.000000       0.011900       0.000000       0.000000   \n",
              "25%            0.000000       0.095300       0.322000      98.001000   \n",
              "50%            0.000000       0.123000       0.486000     119.934000   \n",
              "75%            0.000039       0.210000       0.662000     140.007000   \n",
              "max            0.987000       0.991000       0.989000     230.270000   \n",
              "\n",
              "       time_signature   duration_min  \n",
              "count   166681.000000  166681.000000  \n",
              "mean         3.962599       3.451090  \n",
              "std          0.311784       0.837369  \n",
              "min          0.000000       0.502217  \n",
              "25%          4.000000       2.989683  \n",
              "50%          4.000000       3.379100  \n",
              "75%          4.000000       3.808033  \n",
              "max          5.000000      60.899283  "
            ],
            "text/html": [
              "\n",
              "  <div id=\"df-1ee73b47-6aae-457b-8839-d7359235a434\">\n",
              "    <div class=\"colab-df-container\">\n",
              "      <div>\n",
              "<style scoped>\n",
              "    .dataframe tbody tr th:only-of-type {\n",
              "        vertical-align: middle;\n",
              "    }\n",
              "\n",
              "    .dataframe tbody tr th {\n",
              "        vertical-align: top;\n",
              "    }\n",
              "\n",
              "    .dataframe thead th {\n",
              "        text-align: right;\n",
              "    }\n",
              "</style>\n",
              "<table border=\"1\" class=\"dataframe\">\n",
              "  <thead>\n",
              "    <tr style=\"text-align: right;\">\n",
              "      <th></th>\n",
              "      <th>popularity</th>\n",
              "      <th>danceability</th>\n",
              "      <th>energy</th>\n",
              "      <th>key</th>\n",
              "      <th>loudness</th>\n",
              "      <th>mode</th>\n",
              "      <th>speechiness</th>\n",
              "      <th>acoustics</th>\n",
              "      <th>instrumentalness</th>\n",
              "      <th>liveness</th>\n",
              "      <th>valence</th>\n",
              "      <th>tempo</th>\n",
              "      <th>time_signature</th>\n",
              "      <th>duration_min</th>\n",
              "    </tr>\n",
              "  </thead>\n",
              "  <tbody>\n",
              "    <tr>\n",
              "      <th>count</th>\n",
              "      <td>166681.000000</td>\n",
              "      <td>166681.000000</td>\n",
              "      <td>166681.000000</td>\n",
              "      <td>166681.000000</td>\n",
              "      <td>166681.000000</td>\n",
              "      <td>166681.000000</td>\n",
              "      <td>166681.000000</td>\n",
              "      <td>166681.000000</td>\n",
              "      <td>166681.000000</td>\n",
              "      <td>166681.000000</td>\n",
              "      <td>166681.000000</td>\n",
              "      <td>166681.000000</td>\n",
              "      <td>166681.000000</td>\n",
              "      <td>166681.000000</td>\n",
              "    </tr>\n",
              "    <tr>\n",
              "      <th>mean</th>\n",
              "      <td>5511.366120</td>\n",
              "      <td>0.667507</td>\n",
              "      <td>0.642905</td>\n",
              "      <td>5.273876</td>\n",
              "      <td>-6.526561</td>\n",
              "      <td>0.564923</td>\n",
              "      <td>0.123948</td>\n",
              "      <td>0.241169</td>\n",
              "      <td>0.014143</td>\n",
              "      <td>0.176447</td>\n",
              "      <td>0.491854</td>\n",
              "      <td>120.967824</td>\n",
              "      <td>3.962599</td>\n",
              "      <td>3.451090</td>\n",
              "    </tr>\n",
              "    <tr>\n",
              "      <th>std</th>\n",
              "      <td>13236.831027</td>\n",
              "      <td>0.144698</td>\n",
              "      <td>0.172137</td>\n",
              "      <td>3.640508</td>\n",
              "      <td>2.611996</td>\n",
              "      <td>0.495769</td>\n",
              "      <td>0.116585</td>\n",
              "      <td>0.247521</td>\n",
              "      <td>0.086087</td>\n",
              "      <td>0.136795</td>\n",
              "      <td>0.222129</td>\n",
              "      <td>28.839627</td>\n",
              "      <td>0.311784</td>\n",
              "      <td>0.837369</td>\n",
              "    </tr>\n",
              "    <tr>\n",
              "      <th>min</th>\n",
              "      <td>0.800000</td>\n",
              "      <td>0.000000</td>\n",
              "      <td>0.002620</td>\n",
              "      <td>0.000000</td>\n",
              "      <td>-43.988000</td>\n",
              "      <td>0.000000</td>\n",
              "      <td>0.000000</td>\n",
              "      <td>0.000002</td>\n",
              "      <td>0.000000</td>\n",
              "      <td>0.011900</td>\n",
              "      <td>0.000000</td>\n",
              "      <td>0.000000</td>\n",
              "      <td>0.000000</td>\n",
              "      <td>0.502217</td>\n",
              "    </tr>\n",
              "    <tr>\n",
              "      <th>25%</th>\n",
              "      <td>78.400000</td>\n",
              "      <td>0.578000</td>\n",
              "      <td>0.539000</td>\n",
              "      <td>2.000000</td>\n",
              "      <td>-7.680000</td>\n",
              "      <td>0.000000</td>\n",
              "      <td>0.042900</td>\n",
              "      <td>0.045500</td>\n",
              "      <td>0.000000</td>\n",
              "      <td>0.095300</td>\n",
              "      <td>0.322000</td>\n",
              "      <td>98.001000</td>\n",
              "      <td>4.000000</td>\n",
              "      <td>2.989683</td>\n",
              "    </tr>\n",
              "    <tr>\n",
              "      <th>50%</th>\n",
              "      <td>530.400000</td>\n",
              "      <td>0.684000</td>\n",
              "      <td>0.662000</td>\n",
              "      <td>5.000000</td>\n",
              "      <td>-6.113000</td>\n",
              "      <td>1.000000</td>\n",
              "      <td>0.071800</td>\n",
              "      <td>0.151000</td>\n",
              "      <td>0.000000</td>\n",
              "      <td>0.123000</td>\n",
              "      <td>0.486000</td>\n",
              "      <td>119.934000</td>\n",
              "      <td>4.000000</td>\n",
              "      <td>3.379100</td>\n",
              "    </tr>\n",
              "    <tr>\n",
              "      <th>75%</th>\n",
              "      <td>3995.050000</td>\n",
              "      <td>0.772000</td>\n",
              "      <td>0.770000</td>\n",
              "      <td>8.000000</td>\n",
              "      <td>-4.821000</td>\n",
              "      <td>1.000000</td>\n",
              "      <td>0.169000</td>\n",
              "      <td>0.367000</td>\n",
              "      <td>0.000039</td>\n",
              "      <td>0.210000</td>\n",
              "      <td>0.662000</td>\n",
              "      <td>140.007000</td>\n",
              "      <td>4.000000</td>\n",
              "      <td>3.808033</td>\n",
              "    </tr>\n",
              "    <tr>\n",
              "      <th>max</th>\n",
              "      <td>233766.900000</td>\n",
              "      <td>0.983000</td>\n",
              "      <td>1.000000</td>\n",
              "      <td>11.000000</td>\n",
              "      <td>1.634000</td>\n",
              "      <td>1.000000</td>\n",
              "      <td>0.955000</td>\n",
              "      <td>0.995000</td>\n",
              "      <td>0.987000</td>\n",
              "      <td>0.991000</td>\n",
              "      <td>0.989000</td>\n",
              "      <td>230.270000</td>\n",
              "      <td>5.000000</td>\n",
              "      <td>60.899283</td>\n",
              "    </tr>\n",
              "  </tbody>\n",
              "</table>\n",
              "</div>\n",
              "      <button class=\"colab-df-convert\" onclick=\"convertToInteractive('df-1ee73b47-6aae-457b-8839-d7359235a434')\"\n",
              "              title=\"Convert this dataframe to an interactive table.\"\n",
              "              style=\"display:none;\">\n",
              "        \n",
              "  <svg xmlns=\"http://www.w3.org/2000/svg\" height=\"24px\"viewBox=\"0 0 24 24\"\n",
              "       width=\"24px\">\n",
              "    <path d=\"M0 0h24v24H0V0z\" fill=\"none\"/>\n",
              "    <path d=\"M18.56 5.44l.94 2.06.94-2.06 2.06-.94-2.06-.94-.94-2.06-.94 2.06-2.06.94zm-11 1L8.5 8.5l.94-2.06 2.06-.94-2.06-.94L8.5 2.5l-.94 2.06-2.06.94zm10 10l.94 2.06.94-2.06 2.06-.94-2.06-.94-.94-2.06-.94 2.06-2.06.94z\"/><path d=\"M17.41 7.96l-1.37-1.37c-.4-.4-.92-.59-1.43-.59-.52 0-1.04.2-1.43.59L10.3 9.45l-7.72 7.72c-.78.78-.78 2.05 0 2.83L4 21.41c.39.39.9.59 1.41.59.51 0 1.02-.2 1.41-.59l7.78-7.78 2.81-2.81c.8-.78.8-2.07 0-2.86zM5.41 20L4 18.59l7.72-7.72 1.47 1.35L5.41 20z\"/>\n",
              "  </svg>\n",
              "      </button>\n",
              "      \n",
              "  <style>\n",
              "    .colab-df-container {\n",
              "      display:flex;\n",
              "      flex-wrap:wrap;\n",
              "      gap: 12px;\n",
              "    }\n",
              "\n",
              "    .colab-df-convert {\n",
              "      background-color: #E8F0FE;\n",
              "      border: none;\n",
              "      border-radius: 50%;\n",
              "      cursor: pointer;\n",
              "      display: none;\n",
              "      fill: #1967D2;\n",
              "      height: 32px;\n",
              "      padding: 0 0 0 0;\n",
              "      width: 32px;\n",
              "    }\n",
              "\n",
              "    .colab-df-convert:hover {\n",
              "      background-color: #E2EBFA;\n",
              "      box-shadow: 0px 1px 2px rgba(60, 64, 67, 0.3), 0px 1px 3px 1px rgba(60, 64, 67, 0.15);\n",
              "      fill: #174EA6;\n",
              "    }\n",
              "\n",
              "    [theme=dark] .colab-df-convert {\n",
              "      background-color: #3B4455;\n",
              "      fill: #D2E3FC;\n",
              "    }\n",
              "\n",
              "    [theme=dark] .colab-df-convert:hover {\n",
              "      background-color: #434B5C;\n",
              "      box-shadow: 0px 1px 3px 1px rgba(0, 0, 0, 0.15);\n",
              "      filter: drop-shadow(0px 1px 2px rgba(0, 0, 0, 0.3));\n",
              "      fill: #FFFFFF;\n",
              "    }\n",
              "  </style>\n",
              "\n",
              "      <script>\n",
              "        const buttonEl =\n",
              "          document.querySelector('#df-1ee73b47-6aae-457b-8839-d7359235a434 button.colab-df-convert');\n",
              "        buttonEl.style.display =\n",
              "          google.colab.kernel.accessAllowed ? 'block' : 'none';\n",
              "\n",
              "        async function convertToInteractive(key) {\n",
              "          const element = document.querySelector('#df-1ee73b47-6aae-457b-8839-d7359235a434');\n",
              "          const dataTable =\n",
              "            await google.colab.kernel.invokeFunction('convertToInteractive',\n",
              "                                                     [key], {});\n",
              "          if (!dataTable) return;\n",
              "\n",
              "          const docLinkHtml = 'Like what you see? Visit the ' +\n",
              "            '<a target=\"_blank\" href=https://colab.research.google.com/notebooks/data_table.ipynb>data table notebook</a>'\n",
              "            + ' to learn more about interactive tables.';\n",
              "          element.innerHTML = '';\n",
              "          dataTable['output_type'] = 'display_data';\n",
              "          await google.colab.output.renderOutput(dataTable, element);\n",
              "          const docLink = document.createElement('div');\n",
              "          docLink.innerHTML = docLinkHtml;\n",
              "          element.appendChild(docLink);\n",
              "        }\n",
              "      </script>\n",
              "    </div>\n",
              "  </div>\n",
              "  "
            ]
          },
          "metadata": {},
          "execution_count": 43
        }
      ]
    },
    {
      "cell_type": "code",
      "source": [
        "df_pred.hist(figsize = (15,15))\n",
        "plt.show()"
      ],
      "metadata": {
        "colab": {
          "base_uri": "https://localhost:8080/",
          "height": 879
        },
        "id": "RrFrqf_cuWYw",
        "outputId": "30309beb-f2ce-4885-8015-4189ec23bd1e"
      },
      "execution_count": 44,
      "outputs": [
        {
          "output_type": "display_data",
          "data": {
            "text/plain": [
              "<Figure size 1080x1080 with 16 Axes>"
            ],
            "image/png": "[encoded data removed]"
          },
          "metadata": {
            "needs_background": "light"
          }
        }
      ]
    },
    {
      "cell_type": "markdown",
      "source": [
        "## Removing Outliers\n",
        "\n",
        "According the distributions of features, outliers removed.\n",
        "* First method is Z-score method for the features whose distribution is close to the normal distribution, drop those farther than 3 standard deviations from the mean.\n",
        "\n",
        "* Second method is interquartile range method for the features whose distribution is collected on one side.Outliers are calculated by the difference between the first quarter and the third quarter and determines the min and max points accordingly.\n"
      ],
      "metadata": {
        "id": "ubDLpeKTldPr"
      }
    },
    {
      "cell_type": "code",
      "source": [
        "def remove_outliers(df,name='feature'):\n",
        "    #Store the 25th and 75th percentile \n",
        "    q25,q75=np.percentile(df[name],25),np.percentile(df[name],75)\n",
        "    #Calculate the Interquartile range\n",
        "    iqr_cut=1.5*(q75-q25)\n",
        "    #Create variable of lower and upper cut\n",
        "    lower,upper=q25-iqr_cut,q75+iqr_cut\n",
        "    #Remove the outliers\n",
        "    df=df[(df[name] >= lower) & (df[name] <= upper)]\n",
        "    return df\n",
        "\n",
        "def remove_outliers_gaussian(df,name='feature'):\n",
        "    #calculate the mean and standard deviation\n",
        "    mean,std=np.mean(df[name]),np.std(df[name])\n",
        "    #create the cut variable\n",
        "    std_cut= 3*std\n",
        "    #create variable of lower and upper cut\n",
        "    lower,upper=mean-std_cut,mean+std_cut\n",
        "    #Remove outliers\n",
        "    df=df[(df[name] >= lower) & (df[name] <= upper)]\n",
        "    return df"
      ],
      "metadata": {
        "id": "ESYBnNUAy1nV"
      },
      "execution_count": 24,
      "outputs": []
    },
    {
      "cell_type": "code",
      "source": [
        "df1=df_pred.copy()\n",
        "print(len(df1))\n",
        "df1=remove_outliers(df1,'acoustics')\n",
        "print(len(df1))"
      ],
      "metadata": {
        "colab": {
          "base_uri": "https://localhost:8080/"
        },
        "id": "OFkFyomAy9bS",
        "outputId": "ca29a2a3-2118-4871-e382-d92098ebb019"
      },
      "execution_count": 45,
      "outputs": [
        {
          "output_type": "stream",
          "name": "stdout",
          "text": [
            "166681\n",
            "161204\n"
          ]
        }
      ]
    },
    {
      "cell_type": "code",
      "source": [
        "print(len(df1))\n",
        "df1=remove_outliers(df1,'speechiness')\n",
        "print(len(df1))"
      ],
      "metadata": {
        "colab": {
          "base_uri": "https://localhost:8080/"
        },
        "id": "Wu1SgJTBz6PQ",
        "outputId": "89ac709e-8c97-4f1b-e66e-3ffe051e9fb8"
      },
      "execution_count": 46,
      "outputs": [
        {
          "output_type": "stream",
          "name": "stdout",
          "text": [
            "161204\n",
            "153009\n"
          ]
        }
      ]
    },
    {
      "cell_type": "code",
      "source": [
        "print(len(df1))\n",
        "df1=remove_outliers(df1,'liveness')\n",
        "print(len(df1))"
      ],
      "metadata": {
        "colab": {
          "base_uri": "https://localhost:8080/"
        },
        "id": "sc8XJ8N1z8Ee",
        "outputId": "568ad1ab-6755-4b55-efd2-d003c1499ce7"
      },
      "execution_count": 47,
      "outputs": [
        {
          "output_type": "stream",
          "name": "stdout",
          "text": [
            "153009\n",
            "142571\n"
          ]
        }
      ]
    },
    {
      "cell_type": "code",
      "source": [
        "print(len(df1))\n",
        "df1=remove_outliers_gaussian(df1,'danceability')\n",
        "print(len(df1))"
      ],
      "metadata": {
        "colab": {
          "base_uri": "https://localhost:8080/"
        },
        "id": "YrzXGP7ozQap",
        "outputId": "36a380c6-05a2-4d5d-93f9-6501a9a612a8"
      },
      "execution_count": 48,
      "outputs": [
        {
          "output_type": "stream",
          "name": "stdout",
          "text": [
            "142571\n",
            "142006\n"
          ]
        }
      ]
    },
    {
      "cell_type": "code",
      "source": [
        "print(len(df1))\n",
        "df1=remove_outliers_gaussian(df1,'energy')\n",
        "print(len(df1))"
      ],
      "metadata": {
        "colab": {
          "base_uri": "https://localhost:8080/"
        },
        "id": "MqgzIC0CzkIp",
        "outputId": "31356550-51ca-4584-98a4-67481795833a"
      },
      "execution_count": 49,
      "outputs": [
        {
          "output_type": "stream",
          "name": "stdout",
          "text": [
            "142006\n",
            "141574\n"
          ]
        }
      ]
    },
    {
      "cell_type": "code",
      "source": [
        "print(len(df1))\n",
        "df1=remove_outliers_gaussian(df1,'valence')\n",
        "print(len(df1))"
      ],
      "metadata": {
        "colab": {
          "base_uri": "https://localhost:8080/"
        },
        "id": "gwnumjsWzn7T",
        "outputId": "066b8f2e-368a-4c0c-aad3-9d726a24527a"
      },
      "execution_count": 50,
      "outputs": [
        {
          "output_type": "stream",
          "name": "stdout",
          "text": [
            "141574\n",
            "141574\n"
          ]
        }
      ]
    },
    {
      "cell_type": "code",
      "source": [
        "print(len(df1))\n",
        "df1=remove_outliers_gaussian(df1,'tempo')\n",
        "print(len(df1))"
      ],
      "metadata": {
        "colab": {
          "base_uri": "https://localhost:8080/"
        },
        "id": "rk3L-DatzsiQ",
        "outputId": "a3e3c819-bb30-4365-efd4-8749f286390a"
      },
      "execution_count": 52,
      "outputs": [
        {
          "output_type": "stream",
          "name": "stdout",
          "text": [
            "141475\n",
            "141467\n"
          ]
        }
      ]
    },
    {
      "cell_type": "code",
      "source": [
        "df1.info()"
      ],
      "metadata": {
        "colab": {
          "base_uri": "https://localhost:8080/"
        },
        "id": "W2zkNxkD2ivQ",
        "outputId": "c8cfcb1f-5dee-4220-d191-f9e1f7020675"
      },
      "execution_count": 53,
      "outputs": [
        {
          "output_type": "stream",
          "name": "stdout",
          "text": [
            "<class 'pandas.core.frame.DataFrame'>\n",
            "Int64Index: 141467 entries, 0 to 166680\n",
            "Data columns (total 16 columns):\n",
            " #   Column            Non-Null Count   Dtype  \n",
            "---  ------            --------------   -----  \n",
            " 0   country           141467 non-null  object \n",
            " 1   popularity        141467 non-null  float64\n",
            " 2   danceability      141467 non-null  float64\n",
            " 3   energy            141467 non-null  float64\n",
            " 4   key               141467 non-null  int64  \n",
            " 5   loudness          141467 non-null  float64\n",
            " 6   mode              141467 non-null  int64  \n",
            " 7   speechiness       141467 non-null  float64\n",
            " 8   acoustics         141467 non-null  float64\n",
            " 9   instrumentalness  141467 non-null  float64\n",
            " 10  liveness          141467 non-null  float64\n",
            " 11  valence           141467 non-null  float64\n",
            " 12  tempo             141467 non-null  float64\n",
            " 13  time_signature    141467 non-null  float64\n",
            " 14  genre             141467 non-null  object \n",
            " 15  duration_min      141467 non-null  float64\n",
            "dtypes: float64(12), int64(2), object(2)\n",
            "memory usage: 18.3+ MB\n"
          ]
        }
      ]
    },
    {
      "cell_type": "code",
      "source": [
        "X = df1.drop(columns=['genre'])\n",
        "y = df1['genre']"
      ],
      "metadata": {
        "id": "NKSgLP-sf9J_"
      },
      "execution_count": 54,
      "outputs": []
    },
    {
      "cell_type": "markdown",
      "source": [
        "**Split the dataset**"
      ],
      "metadata": {
        "id": "ENTpJPb9m-4d"
      }
    },
    {
      "cell_type": "code",
      "source": [
        "from sklearn.model_selection import train_test_split\n",
        "train_val_df,test_df=train_test_split(df1,test_size=0.2,random_state=42)\n",
        "train_df,val_df=train_test_split(train_val_df,test_size=0.25,random_state=42)"
      ],
      "metadata": {
        "id": "V-OIWGoHerWP"
      },
      "execution_count": 59,
      "outputs": []
    },
    {
      "cell_type": "code",
      "source": [
        "print('Train_df.shape:',train_df.shape)\n",
        "print('Val_df.shape:',val_df.shape)\n",
        "print('Test_df.shape',test_df.shape)"
      ],
      "metadata": {
        "colab": {
          "base_uri": "https://localhost:8080/"
        },
        "id": "pr5ZIGRo7MAy",
        "outputId": "5a06a299-9802-48fe-8d72-e93b861353fa"
      },
      "execution_count": 60,
      "outputs": [
        {
          "output_type": "stream",
          "name": "stdout",
          "text": [
            "Train_df.shape: (84879, 16)\n",
            "Val_df.shape: (28294, 16)\n",
            "Test_df.shape (28294, 16)\n"
          ]
        }
      ]
    },
    {
      "cell_type": "code",
      "source": [
        "inputs_cols=df1.columns.tolist()[:-1]\n",
        "target_col='genre'"
      ],
      "metadata": {
        "id": "woLXmq-97Pxi"
      },
      "execution_count": 63,
      "outputs": []
    },
    {
      "cell_type": "code",
      "source": [
        "#Create train inputs and target\n",
        "train_inputs=train_df[inputs_cols].copy()\n",
        "train_target=train_df[target_col].copy()\n",
        "\n",
        "#Create val inputs and target\n",
        "val_inputs=val_df[inputs_cols].copy()\n",
        "val_target=val_df[target_col].copy()\n",
        "\n",
        "#Create test inputs and target\n",
        "test_inputs=test_df[inputs_cols].copy()\n",
        "test_target=test_df[target_col].copy()"
      ],
      "metadata": {
        "id": "1cQczqLH7a7P"
      },
      "execution_count": 64,
      "outputs": []
    },
    {
      "cell_type": "code",
      "source": [
        "numerical_cols=train_inputs.select_dtypes(include=['float64','int64']).columns.tolist()\n",
        "encoded_cols=['mode']\n",
        "categorical_cols=train_inputs.select_dtypes(include=['object']).columns.tolist()"
      ],
      "metadata": {
        "id": "cIgWmT_Y7g-0"
      },
      "execution_count": 67,
      "outputs": []
    },
    {
      "cell_type": "markdown",
      "source": [
        "**Min-Max Scaling**"
      ],
      "metadata": {
        "id": "_jCma8-xE8Ef"
      }
    },
    {
      "cell_type": "code",
      "source": [
        "from sklearn.preprocessing import MinMaxScaler\n",
        "scaler=MinMaxScaler()\n",
        "\n",
        "train_inputs[numerical_cols]=scaler.fit_transform(train_inputs[numerical_cols])\n",
        "val_inputs[numerical_cols]=scaler.fit_transform(val_inputs[numerical_cols])\n",
        "test_inputs[numerical_cols]=scaler.fit_transform(test_inputs[numerical_cols])"
      ],
      "metadata": {
        "id": "w_9A7vq470TC"
      },
      "execution_count": 68,
      "outputs": []
    },
    {
      "cell_type": "code",
      "source": [
        "train_inputs[numerical_cols].describe()"
      ],
      "metadata": {
        "colab": {
          "base_uri": "https://localhost:8080/",
          "height": 364
        },
        "id": "p15ihTX876Fi",
        "outputId": "ef6a1ba1-f31d-4b23-b3b6-7e1fc0487fa6"
      },
      "execution_count": 69,
      "outputs": [
        {
          "output_type": "execute_result",
          "data": {
            "text/plain": [
              "         popularity  danceability        energy           key      loudness  \\\n",
              "count  84879.000000  84879.000000  84879.000000  84879.000000  84879.000000   \n",
              "mean       0.024752      0.580685      0.578056      0.480239      0.659025   \n",
              "std        0.058280      0.188746      0.189828      0.331888      0.095367   \n",
              "min        0.000000      0.000000      0.000000      0.000000      0.000000   \n",
              "25%        0.000339      0.461538      0.451970      0.181818      0.608908   \n",
              "50%        0.002443      0.601648      0.593596      0.545455      0.671591   \n",
              "75%        0.018916      0.715659      0.719212      0.727273      0.724253   \n",
              "max        1.000000      1.000000      1.000000      1.000000      1.000000   \n",
              "\n",
              "               mode   speechiness     acoustics  instrumentalness  \\\n",
              "count  84879.000000  84879.000000  84879.000000      84879.000000   \n",
              "mean       0.560633      0.248723      0.255776          0.012499   \n",
              "std        0.496313      0.254557      0.255604          0.079270   \n",
              "min        0.000000      0.000000      0.000000          0.000000   \n",
              "25%        0.000000      0.059689      0.049233          0.000000   \n",
              "50%        1.000000      0.137832      0.164898          0.000000   \n",
              "75%        1.000000      0.368512      0.392225          0.000039   \n",
              "max        1.000000      1.000000      1.000000          1.000000   \n",
              "\n",
              "           liveness       valence         tempo  time_signature  \n",
              "count  84879.000000  84879.000000  84879.000000    84879.000000  \n",
              "mean       0.361802      0.489751      0.471862        0.742672  \n",
              "std        0.220659      0.231325      0.176174        0.068740  \n",
              "min        0.000000      0.000000      0.000000        0.000000  \n",
              "25%        0.213362      0.310524      0.333590        0.750000  \n",
              "50%        0.280711      0.486273      0.465014        0.750000  \n",
              "75%        0.450431      0.667221      0.590644        0.750000  \n",
              "max        1.000000      1.000000      1.000000        1.000000  "
            ],
            "text/html": [
              "\n",
              "  <div id=\"df-473be18d-474d-4d70-88b3-731a1b26abfa\">\n",
              "    <div class=\"colab-df-container\">\n",
              "      <div>\n",
              "<style scoped>\n",
              "    .dataframe tbody tr th:only-of-type {\n",
              "        vertical-align: middle;\n",
              "    }\n",
              "\n",
              "    .dataframe tbody tr th {\n",
              "        vertical-align: top;\n",
              "    }\n",
              "\n",
              "    .dataframe thead th {\n",
              "        text-align: right;\n",
              "    }\n",
              "</style>\n",
              "<table border=\"1\" class=\"dataframe\">\n",
              "  <thead>\n",
              "    <tr style=\"text-align: right;\">\n",
              "      <th></th>\n",
              "      <th>popularity</th>\n",
              "      <th>danceability</th>\n",
              "      <th>energy</th>\n",
              "      <th>key</th>\n",
              "      <th>loudness</th>\n",
              "      <th>mode</th>\n",
              "      <th>speechiness</th>\n",
              "      <th>acoustics</th>\n",
              "      <th>instrumentalness</th>\n",
              "      <th>liveness</th>\n",
              "      <th>valence</th>\n",
              "      <th>tempo</th>\n",
              "      <th>time_signature</th>\n",
              "    </tr>\n",
              "  </thead>\n",
              "  <tbody>\n",
              "    <tr>\n",
              "      <th>count</th>\n",
              "      <td>84879.000000</td>\n",
              "      <td>84879.000000</td>\n",
              "      <td>84879.000000</td>\n",
              "      <td>84879.000000</td>\n",
              "      <td>84879.000000</td>\n",
              "      <td>84879.000000</td>\n",
              "      <td>84879.000000</td>\n",
              "      <td>84879.000000</td>\n",
              "      <td>84879.000000</td>\n",
              "      <td>84879.000000</td>\n",
              "      <td>84879.000000</td>\n",
              "      <td>84879.000000</td>\n",
              "      <td>84879.000000</td>\n",
              "    </tr>\n",
              "    <tr>\n",
              "      <th>mean</th>\n",
              "      <td>0.024752</td>\n",
              "      <td>0.580685</td>\n",
              "      <td>0.578056</td>\n",
              "      <td>0.480239</td>\n",
              "      <td>0.659025</td>\n",
              "      <td>0.560633</td>\n",
              "      <td>0.248723</td>\n",
              "      <td>0.255776</td>\n",
              "      <td>0.012499</td>\n",
              "      <td>0.361802</td>\n",
              "      <td>0.489751</td>\n",
              "      <td>0.471862</td>\n",
              "      <td>0.742672</td>\n",
              "    </tr>\n",
              "    <tr>\n",
              "      <th>std</th>\n",
              "      <td>0.058280</td>\n",
              "      <td>0.188746</td>\n",
              "      <td>0.189828</td>\n",
              "      <td>0.331888</td>\n",
              "      <td>0.095367</td>\n",
              "      <td>0.496313</td>\n",
              "      <td>0.254557</td>\n",
              "      <td>0.255604</td>\n",
              "      <td>0.079270</td>\n",
              "      <td>0.220659</td>\n",
              "      <td>0.231325</td>\n",
              "      <td>0.176174</td>\n",
              "      <td>0.068740</td>\n",
              "    </tr>\n",
              "    <tr>\n",
              "      <th>min</th>\n",
              "      <td>0.000000</td>\n",
              "      <td>0.000000</td>\n",
              "      <td>0.000000</td>\n",
              "      <td>0.000000</td>\n",
              "      <td>0.000000</td>\n",
              "      <td>0.000000</td>\n",
              "      <td>0.000000</td>\n",
              "      <td>0.000000</td>\n",
              "      <td>0.000000</td>\n",
              "      <td>0.000000</td>\n",
              "      <td>0.000000</td>\n",
              "      <td>0.000000</td>\n",
              "      <td>0.000000</td>\n",
              "    </tr>\n",
              "    <tr>\n",
              "      <th>25%</th>\n",
              "      <td>0.000339</td>\n",
              "      <td>0.461538</td>\n",
              "      <td>0.451970</td>\n",
              "      <td>0.181818</td>\n",
              "      <td>0.608908</td>\n",
              "      <td>0.000000</td>\n",
              "      <td>0.059689</td>\n",
              "      <td>0.049233</td>\n",
              "      <td>0.000000</td>\n",
              "      <td>0.213362</td>\n",
              "      <td>0.310524</td>\n",
              "      <td>0.333590</td>\n",
              "      <td>0.750000</td>\n",
              "    </tr>\n",
              "    <tr>\n",
              "      <th>50%</th>\n",
              "      <td>0.002443</td>\n",
              "      <td>0.601648</td>\n",
              "      <td>0.593596</td>\n",
              "      <td>0.545455</td>\n",
              "      <td>0.671591</td>\n",
              "      <td>1.000000</td>\n",
              "      <td>0.137832</td>\n",
              "      <td>0.164898</td>\n",
              "      <td>0.000000</td>\n",
              "      <td>0.280711</td>\n",
              "      <td>0.486273</td>\n",
              "      <td>0.465014</td>\n",
              "      <td>0.750000</td>\n",
              "    </tr>\n",
              "    <tr>\n",
              "      <th>75%</th>\n",
              "      <td>0.018916</td>\n",
              "      <td>0.715659</td>\n",
              "      <td>0.719212</td>\n",
              "      <td>0.727273</td>\n",
              "      <td>0.724253</td>\n",
              "      <td>1.000000</td>\n",
              "      <td>0.368512</td>\n",
              "      <td>0.392225</td>\n",
              "      <td>0.000039</td>\n",
              "      <td>0.450431</td>\n",
              "      <td>0.667221</td>\n",
              "      <td>0.590644</td>\n",
              "      <td>0.750000</td>\n",
              "    </tr>\n",
              "    <tr>\n",
              "      <th>max</th>\n",
              "      <td>1.000000</td>\n",
              "      <td>1.000000</td>\n",
              "      <td>1.000000</td>\n",
              "      <td>1.000000</td>\n",
              "      <td>1.000000</td>\n",
              "      <td>1.000000</td>\n",
              "      <td>1.000000</td>\n",
              "      <td>1.000000</td>\n",
              "      <td>1.000000</td>\n",
              "      <td>1.000000</td>\n",
              "      <td>1.000000</td>\n",
              "      <td>1.000000</td>\n",
              "      <td>1.000000</td>\n",
              "    </tr>\n",
              "  </tbody>\n",
              "</table>\n",
              "</div>\n",
              "      <button class=\"colab-df-convert\" onclick=\"convertToInteractive('df-473be18d-474d-4d70-88b3-731a1b26abfa')\"\n",
              "              title=\"Convert this dataframe to an interactive table.\"\n",
              "              style=\"display:none;\">\n",
              "        \n",
              "  <svg xmlns=\"http://www.w3.org/2000/svg\" height=\"24px\"viewBox=\"0 0 24 24\"\n",
              "       width=\"24px\">\n",
              "    <path d=\"M0 0h24v24H0V0z\" fill=\"none\"/>\n",
              "    <path d=\"M18.56 5.44l.94 2.06.94-2.06 2.06-.94-2.06-.94-.94-2.06-.94 2.06-2.06.94zm-11 1L8.5 8.5l.94-2.06 2.06-.94-2.06-.94L8.5 2.5l-.94 2.06-2.06.94zm10 10l.94 2.06.94-2.06 2.06-.94-2.06-.94-.94-2.06-.94 2.06-2.06.94z\"/><path d=\"M17.41 7.96l-1.37-1.37c-.4-.4-.92-.59-1.43-.59-.52 0-1.04.2-1.43.59L10.3 9.45l-7.72 7.72c-.78.78-.78 2.05 0 2.83L4 21.41c.39.39.9.59 1.41.59.51 0 1.02-.2 1.41-.59l7.78-7.78 2.81-2.81c.8-.78.8-2.07 0-2.86zM5.41 20L4 18.59l7.72-7.72 1.47 1.35L5.41 20z\"/>\n",
              "  </svg>\n",
              "      </button>\n",
              "      \n",
              "  <style>\n",
              "    .colab-df-container {\n",
              "      display:flex;\n",
              "      flex-wrap:wrap;\n",
              "      gap: 12px;\n",
              "    }\n",
              "\n",
              "    .colab-df-convert {\n",
              "      background-color: #E8F0FE;\n",
              "      border: none;\n",
              "      border-radius: 50%;\n",
              "      cursor: pointer;\n",
              "      display: none;\n",
              "      fill: #1967D2;\n",
              "      height: 32px;\n",
              "      padding: 0 0 0 0;\n",
              "      width: 32px;\n",
              "    }\n",
              "\n",
              "    .colab-df-convert:hover {\n",
              "      background-color: #E2EBFA;\n",
              "      box-shadow: 0px 1px 2px rgba(60, 64, 67, 0.3), 0px 1px 3px 1px rgba(60, 64, 67, 0.15);\n",
              "      fill: #174EA6;\n",
              "    }\n",
              "\n",
              "    [theme=dark] .colab-df-convert {\n",
              "      background-color: #3B4455;\n",
              "      fill: #D2E3FC;\n",
              "    }\n",
              "\n",
              "    [theme=dark] .colab-df-convert:hover {\n",
              "      background-color: #434B5C;\n",
              "      box-shadow: 0px 1px 3px 1px rgba(0, 0, 0, 0.15);\n",
              "      filter: drop-shadow(0px 1px 2px rgba(0, 0, 0, 0.3));\n",
              "      fill: #FFFFFF;\n",
              "    }\n",
              "  </style>\n",
              "\n",
              "      <script>\n",
              "        const buttonEl =\n",
              "          document.querySelector('#df-473be18d-474d-4d70-88b3-731a1b26abfa button.colab-df-convert');\n",
              "        buttonEl.style.display =\n",
              "          google.colab.kernel.accessAllowed ? 'block' : 'none';\n",
              "\n",
              "        async function convertToInteractive(key) {\n",
              "          const element = document.querySelector('#df-473be18d-474d-4d70-88b3-731a1b26abfa');\n",
              "          const dataTable =\n",
              "            await google.colab.kernel.invokeFunction('convertToInteractive',\n",
              "                                                     [key], {});\n",
              "          if (!dataTable) return;\n",
              "\n",
              "          const docLinkHtml = 'Like what you see? Visit the ' +\n",
              "            '<a target=\"_blank\" href=https://colab.research.google.com/notebooks/data_table.ipynb>data table notebook</a>'\n",
              "            + ' to learn more about interactive tables.';\n",
              "          element.innerHTML = '';\n",
              "          dataTable['output_type'] = 'display_data';\n",
              "          await google.colab.output.renderOutput(dataTable, element);\n",
              "          const docLink = document.createElement('div');\n",
              "          docLink.innerHTML = docLinkHtml;\n",
              "          element.appendChild(docLink);\n",
              "        }\n",
              "      </script>\n",
              "    </div>\n",
              "  </div>\n",
              "  "
            ]
          },
          "metadata": {},
          "execution_count": 69
        }
      ]
    },
    {
      "cell_type": "markdown",
      "source": [
        "### Encode the categorical features to numerical values "
      ],
      "metadata": {
        "id": "Chl96EiSnGnP"
      }
    },
    {
      "cell_type": "code",
      "source": [
        "from sklearn.preprocessing import LabelEncoder\n",
        "\n",
        "encoder=LabelEncoder()\n",
        "\n",
        "train_inputs['country']=encoder.fit_transform(train_inputs['country'])\n",
        "val_inputs['country']=encoder.fit_transform(val_inputs['country'])\n",
        "test_inputs['country']=encoder.fit_transform(test_inputs['country'])"
      ],
      "metadata": {
        "id": "CqOeM-xt24Yd"
      },
      "execution_count": 71,
      "outputs": []
    },
    {
      "cell_type": "code",
      "source": [
        "encoded_cols=['country']"
      ],
      "metadata": {
        "id": "ic9BHiy48kkv"
      },
      "execution_count": 94,
      "outputs": []
    },
    {
      "cell_type": "code",
      "source": [
        "X_train=train_inputs[numerical_cols + encoded_cols]\n",
        "X_val= val_inputs[numerical_cols + encoded_cols]\n",
        "X_test=test_inputs[numerical_cols + encoded_cols]"
      ],
      "metadata": {
        "id": "JIgK0V-38nwf"
      },
      "execution_count": 95,
      "outputs": []
    },
    {
      "cell_type": "markdown",
      "source": [
        "## Logistic Regression"
      ],
      "metadata": {
        "id": "e6KJpadonTqK"
      }
    },
    {
      "cell_type": "code",
      "source": [
        "from sklearn.linear_model import LogisticRegression\n",
        "from sklearn.metrics import accuracy_score,confusion_matrix\n",
        "model = LogisticRegression(multi_class = 'multinomial')"
      ],
      "metadata": {
        "id": "xxooVk9ne2mI"
      },
      "execution_count": 97,
      "outputs": []
    },
    {
      "cell_type": "code",
      "source": [
        "model.fit(X_train,train_target)\n",
        "y_pred = model.predict(X_test)"
      ],
      "metadata": {
        "id": "JoCwqYNae8d7"
      },
      "execution_count": 107,
      "outputs": []
    },
    {
      "cell_type": "code",
      "source": [
        "accuracy_score(test_target,y_pred)"
      ],
      "metadata": {
        "colab": {
          "base_uri": "https://localhost:8080/"
        },
        "id": "rh8grFVt9eSW",
        "outputId": "c4b8b3b3-9e15-42f5-c5a3-55a159936e81"
      },
      "execution_count": 108,
      "outputs": [
        {
          "output_type": "execute_result",
          "data": {
            "text/plain": [
              "0.8469640206404184"
            ]
          },
          "metadata": {},
          "execution_count": 108
        }
      ]
    },
    {
      "cell_type": "markdown",
      "source": [
        "## Random Forest Classifier"
      ],
      "metadata": {
        "id": "JTju3HA2_A2f"
      }
    },
    {
      "cell_type": "code",
      "source": [
        "from sklearn.ensemble import RandomForestClassifier\n",
        "model = RandomForestClassifier(n_jobs=-1, random_state=2).fit(X_train,train_target)\n",
        "model.score(X_train,train_target)"
      ],
      "metadata": {
        "colab": {
          "base_uri": "https://localhost:8080/"
        },
        "id": "7sfXjLRR-RdF",
        "outputId": "82bce5a3-e8c0-4575-975c-6b6a19e17f6b"
      },
      "execution_count": 106,
      "outputs": [
        {
          "output_type": "execute_result",
          "data": {
            "text/plain": [
              "1.0"
            ]
          },
          "metadata": {},
          "execution_count": 106
        }
      ]
    },
    {
      "cell_type": "code",
      "source": [
        "model.score(X_val,val_target)"
      ],
      "metadata": {
        "colab": {
          "base_uri": "https://localhost:8080/"
        },
        "id": "-3GYDgjI-bop",
        "outputId": "d1707bd5-5a5e-4e1b-838b-7ba79f0d24b0"
      },
      "execution_count": 105,
      "outputs": [
        {
          "output_type": "execute_result",
          "data": {
            "text/plain": [
              "0.823425461228529"
            ]
          },
          "metadata": {},
          "execution_count": 105
        }
      ]
    },
    {
      "cell_type": "code",
      "source": [
        "model.score(X_test,test_target)"
      ],
      "metadata": {
        "colab": {
          "base_uri": "https://localhost:8080/"
        },
        "id": "2LbZ7Ii2D5lC",
        "outputId": "44741d18-c213-48bb-cab6-b03b47d3295b"
      },
      "execution_count": 104,
      "outputs": [
        {
          "output_type": "execute_result",
          "data": {
            "text/plain": [
              "0.8469640206404184"
            ]
          },
          "metadata": {},
          "execution_count": 104
        }
      ]
    },
    {
      "cell_type": "markdown",
      "source": [
        "## Feature Importance"
      ],
      "metadata": {
        "id": "bjj2T18lnY2D"
      }
    },
    {
      "cell_type": "code",
      "source": [
        "importance_df= pd.DataFrame({\n",
        "    'feature': X_train.columns,\n",
        "    'importance':model.feature_importances_\n",
        "}).sort_values('importance',ascending=False)\n",
        "importance_df"
      ],
      "metadata": {
        "colab": {
          "base_uri": "https://localhost:8080/",
          "height": 488
        },
        "id": "Pfy4UzG3-fLn",
        "outputId": "294d4e7d-d6fe-470e-e86d-213624a5a500"
      },
      "execution_count": 103,
      "outputs": [
        {
          "output_type": "execute_result",
          "data": {
            "text/plain": [
              "             feature  importance\n",
              "6        speechiness    0.124703\n",
              "1       danceability    0.103513\n",
              "11             tempo    0.102656\n",
              "4           loudness    0.096966\n",
              "2             energy    0.093973\n",
              "10           valence    0.093723\n",
              "7          acoustics    0.093526\n",
              "9           liveness    0.083880\n",
              "8   instrumentalness    0.055656\n",
              "3                key    0.055369\n",
              "0         popularity    0.043073\n",
              "13           country    0.030510\n",
              "5               mode    0.015593\n",
              "12    time_signature    0.006860"
            ],
            "text/html": [
              "\n",
              "  <div id=\"df-1f896d04-7cff-46f4-a7b7-1ee55358c5e7\">\n",
              "    <div class=\"colab-df-container\">\n",
              "      <div>\n",
              "<style scoped>\n",
              "    .dataframe tbody tr th:only-of-type {\n",
              "        vertical-align: middle;\n",
              "    }\n",
              "\n",
              "    .dataframe tbody tr th {\n",
              "        vertical-align: top;\n",
              "    }\n",
              "\n",
              "    .dataframe thead th {\n",
              "        text-align: right;\n",
              "    }\n",
              "</style>\n",
              "<table border=\"1\" class=\"dataframe\">\n",
              "  <thead>\n",
              "    <tr style=\"text-align: right;\">\n",
              "      <th></th>\n",
              "      <th>feature</th>\n",
              "      <th>importance</th>\n",
              "    </tr>\n",
              "  </thead>\n",
              "  <tbody>\n",
              "    <tr>\n",
              "      <th>6</th>\n",
              "      <td>speechiness</td>\n",
              "      <td>0.124703</td>\n",
              "    </tr>\n",
              "    <tr>\n",
              "      <th>1</th>\n",
              "      <td>danceability</td>\n",
              "      <td>0.103513</td>\n",
              "    </tr>\n",
              "    <tr>\n",
              "      <th>11</th>\n",
              "      <td>tempo</td>\n",
              "      <td>0.102656</td>\n",
              "    </tr>\n",
              "    <tr>\n",
              "      <th>4</th>\n",
              "      <td>loudness</td>\n",
              "      <td>0.096966</td>\n",
              "    </tr>\n",
              "    <tr>\n",
              "      <th>2</th>\n",
              "      <td>energy</td>\n",
              "      <td>0.093973</td>\n",
              "    </tr>\n",
              "    <tr>\n",
              "      <th>10</th>\n",
              "      <td>valence</td>\n",
              "      <td>0.093723</td>\n",
              "    </tr>\n",
              "    <tr>\n",
              "      <th>7</th>\n",
              "      <td>acoustics</td>\n",
              "      <td>0.093526</td>\n",
              "    </tr>\n",
              "    <tr>\n",
              "      <th>9</th>\n",
              "      <td>liveness</td>\n",
              "      <td>0.083880</td>\n",
              "    </tr>\n",
              "    <tr>\n",
              "      <th>8</th>\n",
              "      <td>instrumentalness</td>\n",
              "      <td>0.055656</td>\n",
              "    </tr>\n",
              "    <tr>\n",
              "      <th>3</th>\n",
              "      <td>key</td>\n",
              "      <td>0.055369</td>\n",
              "    </tr>\n",
              "    <tr>\n",
              "      <th>0</th>\n",
              "      <td>popularity</td>\n",
              "      <td>0.043073</td>\n",
              "    </tr>\n",
              "    <tr>\n",
              "      <th>13</th>\n",
              "      <td>country</td>\n",
              "      <td>0.030510</td>\n",
              "    </tr>\n",
              "    <tr>\n",
              "      <th>5</th>\n",
              "      <td>mode</td>\n",
              "      <td>0.015593</td>\n",
              "    </tr>\n",
              "    <tr>\n",
              "      <th>12</th>\n",
              "      <td>time_signature</td>\n",
              "      <td>0.006860</td>\n",
              "    </tr>\n",
              "  </tbody>\n",
              "</table>\n",
              "</div>\n",
              "      <button class=\"colab-df-convert\" onclick=\"convertToInteractive('df-1f896d04-7cff-46f4-a7b7-1ee55358c5e7')\"\n",
              "              title=\"Convert this dataframe to an interactive table.\"\n",
              "              style=\"display:none;\">\n",
              "        \n",
              "  <svg xmlns=\"http://www.w3.org/2000/svg\" height=\"24px\"viewBox=\"0 0 24 24\"\n",
              "       width=\"24px\">\n",
              "    <path d=\"M0 0h24v24H0V0z\" fill=\"none\"/>\n",
              "    <path d=\"M18.56 5.44l.94 2.06.94-2.06 2.06-.94-2.06-.94-.94-2.06-.94 2.06-2.06.94zm-11 1L8.5 8.5l.94-2.06 2.06-.94-2.06-.94L8.5 2.5l-.94 2.06-2.06.94zm10 10l.94 2.06.94-2.06 2.06-.94-2.06-.94-.94-2.06-.94 2.06-2.06.94z\"/><path d=\"M17.41 7.96l-1.37-1.37c-.4-.4-.92-.59-1.43-.59-.52 0-1.04.2-1.43.59L10.3 9.45l-7.72 7.72c-.78.78-.78 2.05 0 2.83L4 21.41c.39.39.9.59 1.41.59.51 0 1.02-.2 1.41-.59l7.78-7.78 2.81-2.81c.8-.78.8-2.07 0-2.86zM5.41 20L4 18.59l7.72-7.72 1.47 1.35L5.41 20z\"/>\n",
              "  </svg>\n",
              "      </button>\n",
              "      \n",
              "  <style>\n",
              "    .colab-df-container {\n",
              "      display:flex;\n",
              "      flex-wrap:wrap;\n",
              "      gap: 12px;\n",
              "    }\n",
              "\n",
              "    .colab-df-convert {\n",
              "      background-color: #E8F0FE;\n",
              "      border: none;\n",
              "      border-radius: 50%;\n",
              "      cursor: pointer;\n",
              "      display: none;\n",
              "      fill: #1967D2;\n",
              "      height: 32px;\n",
              "      padding: 0 0 0 0;\n",
              "      width: 32px;\n",
              "    }\n",
              "\n",
              "    .colab-df-convert:hover {\n",
              "      background-color: #E2EBFA;\n",
              "      box-shadow: 0px 1px 2px rgba(60, 64, 67, 0.3), 0px 1px 3px 1px rgba(60, 64, 67, 0.15);\n",
              "      fill: #174EA6;\n",
              "    }\n",
              "\n",
              "    [theme=dark] .colab-df-convert {\n",
              "      background-color: #3B4455;\n",
              "      fill: #D2E3FC;\n",
              "    }\n",
              "\n",
              "    [theme=dark] .colab-df-convert:hover {\n",
              "      background-color: #434B5C;\n",
              "      box-shadow: 0px 1px 3px 1px rgba(0, 0, 0, 0.15);\n",
              "      filter: drop-shadow(0px 1px 2px rgba(0, 0, 0, 0.3));\n",
              "      fill: #FFFFFF;\n",
              "    }\n",
              "  </style>\n",
              "\n",
              "      <script>\n",
              "        const buttonEl =\n",
              "          document.querySelector('#df-1f896d04-7cff-46f4-a7b7-1ee55358c5e7 button.colab-df-convert');\n",
              "        buttonEl.style.display =\n",
              "          google.colab.kernel.accessAllowed ? 'block' : 'none';\n",
              "\n",
              "        async function convertToInteractive(key) {\n",
              "          const element = document.querySelector('#df-1f896d04-7cff-46f4-a7b7-1ee55358c5e7');\n",
              "          const dataTable =\n",
              "            await google.colab.kernel.invokeFunction('convertToInteractive',\n",
              "                                                     [key], {});\n",
              "          if (!dataTable) return;\n",
              "\n",
              "          const docLinkHtml = 'Like what you see? Visit the ' +\n",
              "            '<a target=\"_blank\" href=https://colab.research.google.com/notebooks/data_table.ipynb>data table notebook</a>'\n",
              "            + ' to learn more about interactive tables.';\n",
              "          element.innerHTML = '';\n",
              "          dataTable['output_type'] = 'display_data';\n",
              "          await google.colab.output.renderOutput(dataTable, element);\n",
              "          const docLink = document.createElement('div');\n",
              "          docLink.innerHTML = docLinkHtml;\n",
              "          element.appendChild(docLink);\n",
              "        }\n",
              "      </script>\n",
              "    </div>\n",
              "  </div>\n",
              "  "
            ]
          },
          "metadata": {},
          "execution_count": 103
        }
      ]
    }
  ]
}