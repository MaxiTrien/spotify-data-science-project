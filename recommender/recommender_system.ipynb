{
 "cells": [
  {
   "cell_type": "markdown",
   "metadata": {},
   "source": [
    "# Recommender System"
   ]
  },
  {
   "cell_type": "code",
   "execution_count": 43,
   "metadata": {},
   "outputs": [
    {
     "data": {
      "text/html": [
       "        <script type=\"text/javascript\">\n",
       "        window.PlotlyConfig = {MathJaxConfig: 'local'};\n",
       "        if (window.MathJax && window.MathJax.Hub && window.MathJax.Hub.Config) {window.MathJax.Hub.Config({SVG: {font: \"STIX-Web\"}});}\n",
       "        if (typeof require !== 'undefined') {\n",
       "        require.undef(\"plotly\");\n",
       "        requirejs.config({\n",
       "            paths: {\n",
       "                'plotly': ['https://cdn.plot.ly/plotly-2.12.1.min']\n",
       "            }\n",
       "        });\n",
       "        require(['plotly'], function(Plotly) {\n",
       "            window._Plotly = Plotly;\n",
       "        });\n",
       "        }\n",
       "        </script>\n",
       "        "
      ]
     },
     "metadata": {},
     "output_type": "display_data"
    }
   ],
   "source": [
    "import requests\n",
    "from io import BytesIO\n",
    "import matplotlib.pyplot as plt\n",
    "import numpy as np\n",
    "import pandas as pd\n",
    "import warnings\n",
    "from bs4 import BeautifulSoup\n",
    "from nltk.corpus import stopwords\n",
    "from nltk.tokenize import word_tokenize\n",
    "import nltk\n",
    "import math\n",
    "import time\n",
    "import re\n",
    "import os\n",
    "import seaborn as sns\n",
    "from collections import Counter\n",
    "from sklearn.feature_extraction.text import CountVectorizer\n",
    "from sklearn.feature_extraction.text import TfidfVectorizer\n",
    "from sklearn.metrics.pairwise import cosine_similarity  \n",
    "from sklearn.metrics import pairwise_distances\n",
    "from sklearn.metrics.pairwise import manhattan_distances\n",
    "from sklearn.preprocessing import MinMaxScaler\n",
    "from matplotlib import gridspec\n",
    "from scipy.sparse import hstack\n",
    "import plotly\n",
    "import plotly.figure_factory as ff\n",
    "from plotly.graph_objs import Scatter, Layout\n",
    "\n",
    "plotly.offline.init_notebook_mode(connected=True)\n",
    "warnings.filterwarnings(\"ignore\")"
   ]
  },
  {
   "cell_type": "code",
   "execution_count": 2,
   "metadata": {},
   "outputs": [
    {
     "data": {
      "text/html": [
       "<div>\n",
       "<style scoped>\n",
       "    .dataframe tbody tr th:only-of-type {\n",
       "        vertical-align: middle;\n",
       "    }\n",
       "\n",
       "    .dataframe tbody tr th {\n",
       "        vertical-align: top;\n",
       "    }\n",
       "\n",
       "    .dataframe thead th {\n",
       "        text-align: right;\n",
       "    }\n",
       "</style>\n",
       "<table border=\"1\" class=\"dataframe\">\n",
       "  <thead>\n",
       "    <tr style=\"text-align: right;\">\n",
       "      <th></th>\n",
       "      <th>Unnamed: 0</th>\n",
       "      <th>country</th>\n",
       "      <th>uri</th>\n",
       "      <th>popularity</th>\n",
       "      <th>title</th>\n",
       "      <th>artist</th>\n",
       "      <th>release_type</th>\n",
       "      <th>sub_genre</th>\n",
       "      <th>artist_followers</th>\n",
       "      <th>explicit</th>\n",
       "      <th>...</th>\n",
       "      <th>explicit_false</th>\n",
       "      <th>explicit_true</th>\n",
       "      <th>popu_max</th>\n",
       "      <th>top10_dummy</th>\n",
       "      <th>top50_dummy</th>\n",
       "      <th>cluster</th>\n",
       "      <th>duration_min</th>\n",
       "      <th>release_year</th>\n",
       "      <th>release_month</th>\n",
       "      <th>release_day</th>\n",
       "    </tr>\n",
       "  </thead>\n",
       "  <tbody>\n",
       "    <tr>\n",
       "      <th>0</th>\n",
       "      <td>0</td>\n",
       "      <td>Global</td>\n",
       "      <td>https://open.spotify.com/track/6FyRXC8tJUh863J...</td>\n",
       "      <td>31833.95</td>\n",
       "      <td>adan y eva</td>\n",
       "      <td>Paulo Londra</td>\n",
       "      <td>single</td>\n",
       "      <td>argentine hip hop</td>\n",
       "      <td>11427104.0</td>\n",
       "      <td>False</td>\n",
       "      <td>...</td>\n",
       "      <td>1</td>\n",
       "      <td>0</td>\n",
       "      <td>10</td>\n",
       "      <td>1.0</td>\n",
       "      <td>1.0</td>\n",
       "      <td>global</td>\n",
       "      <td>4.31065</td>\n",
       "      <td>2018</td>\n",
       "      <td>11</td>\n",
       "      <td>5</td>\n",
       "    </tr>\n",
       "    <tr>\n",
       "      <th>1</th>\n",
       "      <td>1</td>\n",
       "      <td>USA</td>\n",
       "      <td>https://open.spotify.com/track/6FyRXC8tJUh863J...</td>\n",
       "      <td>8.00</td>\n",
       "      <td>adan y eva</td>\n",
       "      <td>Paulo Londra</td>\n",
       "      <td>single</td>\n",
       "      <td>argentine hip hop</td>\n",
       "      <td>11427104.0</td>\n",
       "      <td>False</td>\n",
       "      <td>...</td>\n",
       "      <td>1</td>\n",
       "      <td>0</td>\n",
       "      <td>191</td>\n",
       "      <td>0.0</td>\n",
       "      <td>0.0</td>\n",
       "      <td>english speaking and nordic</td>\n",
       "      <td>4.31065</td>\n",
       "      <td>2018</td>\n",
       "      <td>11</td>\n",
       "      <td>5</td>\n",
       "    </tr>\n",
       "    <tr>\n",
       "      <th>2</th>\n",
       "      <td>2</td>\n",
       "      <td>Argentina</td>\n",
       "      <td>https://open.spotify.com/track/6FyRXC8tJUh863J...</td>\n",
       "      <td>76924.40</td>\n",
       "      <td>adan y eva</td>\n",
       "      <td>Paulo Londra</td>\n",
       "      <td>single</td>\n",
       "      <td>argentine hip hop</td>\n",
       "      <td>11427104.0</td>\n",
       "      <td>False</td>\n",
       "      <td>...</td>\n",
       "      <td>1</td>\n",
       "      <td>0</td>\n",
       "      <td>1</td>\n",
       "      <td>1.0</td>\n",
       "      <td>1.0</td>\n",
       "      <td>spanish speaking</td>\n",
       "      <td>4.31065</td>\n",
       "      <td>2018</td>\n",
       "      <td>11</td>\n",
       "      <td>5</td>\n",
       "    </tr>\n",
       "    <tr>\n",
       "      <th>3</th>\n",
       "      <td>3</td>\n",
       "      <td>Belgium</td>\n",
       "      <td>https://open.spotify.com/track/6FyRXC8tJUh863J...</td>\n",
       "      <td>849.60</td>\n",
       "      <td>adan y eva</td>\n",
       "      <td>Paulo Londra</td>\n",
       "      <td>single</td>\n",
       "      <td>argentine hip hop</td>\n",
       "      <td>11427104.0</td>\n",
       "      <td>False</td>\n",
       "      <td>...</td>\n",
       "      <td>1</td>\n",
       "      <td>0</td>\n",
       "      <td>126</td>\n",
       "      <td>0.0</td>\n",
       "      <td>0.0</td>\n",
       "      <td>english speaking and nordic</td>\n",
       "      <td>4.31065</td>\n",
       "      <td>2018</td>\n",
       "      <td>11</td>\n",
       "      <td>5</td>\n",
       "    </tr>\n",
       "    <tr>\n",
       "      <th>4</th>\n",
       "      <td>4</td>\n",
       "      <td>Switzerland</td>\n",
       "      <td>https://open.spotify.com/track/6FyRXC8tJUh863J...</td>\n",
       "      <td>20739.10</td>\n",
       "      <td>adan y eva</td>\n",
       "      <td>Paulo Londra</td>\n",
       "      <td>single</td>\n",
       "      <td>argentine hip hop</td>\n",
       "      <td>11427104.0</td>\n",
       "      <td>False</td>\n",
       "      <td>...</td>\n",
       "      <td>1</td>\n",
       "      <td>0</td>\n",
       "      <td>21</td>\n",
       "      <td>0.0</td>\n",
       "      <td>1.0</td>\n",
       "      <td>english speaking and nordic</td>\n",
       "      <td>4.31065</td>\n",
       "      <td>2018</td>\n",
       "      <td>11</td>\n",
       "      <td>5</td>\n",
       "    </tr>\n",
       "  </tbody>\n",
       "</table>\n",
       "<p>5 rows × 39 columns</p>\n",
       "</div>"
      ],
      "text/plain": [
       "   Unnamed: 0      country                                                uri  \\\n",
       "0           0       Global  https://open.spotify.com/track/6FyRXC8tJUh863J...   \n",
       "1           1          USA  https://open.spotify.com/track/6FyRXC8tJUh863J...   \n",
       "2           2    Argentina  https://open.spotify.com/track/6FyRXC8tJUh863J...   \n",
       "3           3      Belgium  https://open.spotify.com/track/6FyRXC8tJUh863J...   \n",
       "4           4  Switzerland  https://open.spotify.com/track/6FyRXC8tJUh863J...   \n",
       "\n",
       "   popularity       title        artist release_type          sub_genre  \\\n",
       "0    31833.95  adan y eva  Paulo Londra       single  argentine hip hop   \n",
       "1        8.00  adan y eva  Paulo Londra       single  argentine hip hop   \n",
       "2    76924.40  adan y eva  Paulo Londra       single  argentine hip hop   \n",
       "3      849.60  adan y eva  Paulo Londra       single  argentine hip hop   \n",
       "4    20739.10  adan y eva  Paulo Londra       single  argentine hip hop   \n",
       "\n",
       "   artist_followers  explicit  ... explicit_false explicit_true  popu_max  \\\n",
       "0        11427104.0     False  ...              1             0        10   \n",
       "1        11427104.0     False  ...              1             0       191   \n",
       "2        11427104.0     False  ...              1             0         1   \n",
       "3        11427104.0     False  ...              1             0       126   \n",
       "4        11427104.0     False  ...              1             0        21   \n",
       "\n",
       "   top10_dummy  top50_dummy                      cluster  duration_min  \\\n",
       "0          1.0          1.0                       global       4.31065   \n",
       "1          0.0          0.0  english speaking and nordic       4.31065   \n",
       "2          1.0          1.0             spanish speaking       4.31065   \n",
       "3          0.0          0.0  english speaking and nordic       4.31065   \n",
       "4          0.0          1.0  english speaking and nordic       4.31065   \n",
       "\n",
       "   release_year  release_month  release_day  \n",
       "0          2018             11            5  \n",
       "1          2018             11            5  \n",
       "2          2018             11            5  \n",
       "3          2018             11            5  \n",
       "4          2018             11            5  \n",
       "\n",
       "[5 rows x 39 columns]"
      ]
     },
     "execution_count": 2,
     "metadata": {},
     "output_type": "execute_result"
    }
   ],
   "source": [
    "df = pd.read_csv('./dataset_/cleaned_dataset.csv')\n",
    "df.head()"
   ]
  },
  {
   "cell_type": "code",
   "execution_count": 3,
   "metadata": {},
   "outputs": [
    {
     "data": {
      "text/plain": [
       "(170628, 39)"
      ]
     },
     "execution_count": 3,
     "metadata": {},
     "output_type": "execute_result"
    }
   ],
   "source": [
    "df.shape"
   ]
  },
  {
   "cell_type": "code",
   "execution_count": 4,
   "metadata": {},
   "outputs": [
    {
     "data": {
      "text/html": [
       "<div>\n",
       "<style scoped>\n",
       "    .dataframe tbody tr th:only-of-type {\n",
       "        vertical-align: middle;\n",
       "    }\n",
       "\n",
       "    .dataframe tbody tr th {\n",
       "        vertical-align: top;\n",
       "    }\n",
       "\n",
       "    .dataframe thead th {\n",
       "        text-align: right;\n",
       "    }\n",
       "</style>\n",
       "<table border=\"1\" class=\"dataframe\">\n",
       "  <thead>\n",
       "    <tr style=\"text-align: right;\">\n",
       "      <th></th>\n",
       "      <th>Unnamed: 0</th>\n",
       "      <th>country</th>\n",
       "      <th>uri</th>\n",
       "      <th>popularity</th>\n",
       "      <th>title</th>\n",
       "      <th>artist</th>\n",
       "      <th>release_type</th>\n",
       "      <th>sub_genre</th>\n",
       "      <th>artist_followers</th>\n",
       "      <th>explicit</th>\n",
       "      <th>...</th>\n",
       "      <th>explicit_true</th>\n",
       "      <th>popu_max</th>\n",
       "      <th>top10_dummy</th>\n",
       "      <th>top50_dummy</th>\n",
       "      <th>cluster</th>\n",
       "      <th>duration_min</th>\n",
       "      <th>release_year</th>\n",
       "      <th>release_month</th>\n",
       "      <th>release_day</th>\n",
       "      <th>artists_song</th>\n",
       "    </tr>\n",
       "  </thead>\n",
       "  <tbody>\n",
       "    <tr>\n",
       "      <th>0</th>\n",
       "      <td>0</td>\n",
       "      <td>Global</td>\n",
       "      <td>https://open.spotify.com/track/6FyRXC8tJUh863J...</td>\n",
       "      <td>31833.95</td>\n",
       "      <td>adan y eva</td>\n",
       "      <td>Paulo Londra</td>\n",
       "      <td>single</td>\n",
       "      <td>argentine hip hop</td>\n",
       "      <td>11427104.0</td>\n",
       "      <td>False</td>\n",
       "      <td>...</td>\n",
       "      <td>0</td>\n",
       "      <td>10</td>\n",
       "      <td>1.0</td>\n",
       "      <td>1.0</td>\n",
       "      <td>global</td>\n",
       "      <td>4.310650</td>\n",
       "      <td>2018</td>\n",
       "      <td>11</td>\n",
       "      <td>5</td>\n",
       "      <td>Paulo Londraadan y eva</td>\n",
       "    </tr>\n",
       "    <tr>\n",
       "      <th>16</th>\n",
       "      <td>16</td>\n",
       "      <td>Global</td>\n",
       "      <td>https://open.spotify.com/track/5xhJmd0I15jFcEd...</td>\n",
       "      <td>418.00</td>\n",
       "      <td>it wont kill ya</td>\n",
       "      <td>The Chainsmokers - Louane</td>\n",
       "      <td>album</td>\n",
       "      <td>dance pop</td>\n",
       "      <td>16931568.0</td>\n",
       "      <td>False</td>\n",
       "      <td>...</td>\n",
       "      <td>0</td>\n",
       "      <td>72</td>\n",
       "      <td>0.0</td>\n",
       "      <td>0.0</td>\n",
       "      <td>global</td>\n",
       "      <td>3.626883</td>\n",
       "      <td>2017</td>\n",
       "      <td>4</td>\n",
       "      <td>7</td>\n",
       "      <td>The Chainsmokers - Louaneit wont kill ya</td>\n",
       "    </tr>\n",
       "    <tr>\n",
       "      <th>39</th>\n",
       "      <td>39</td>\n",
       "      <td>Global</td>\n",
       "      <td>https://open.spotify.com/track/0wJJhRgdHhT93Z3...</td>\n",
       "      <td>56.00</td>\n",
       "      <td>hymn</td>\n",
       "      <td>Kesha</td>\n",
       "      <td>single</td>\n",
       "      <td>dance pop</td>\n",
       "      <td>5910376.0</td>\n",
       "      <td>True</td>\n",
       "      <td>...</td>\n",
       "      <td>1</td>\n",
       "      <td>131</td>\n",
       "      <td>0.0</td>\n",
       "      <td>0.0</td>\n",
       "      <td>global</td>\n",
       "      <td>3.426667</td>\n",
       "      <td>2017</td>\n",
       "      <td>8</td>\n",
       "      <td>3</td>\n",
       "      <td>Keshahymn</td>\n",
       "    </tr>\n",
       "    <tr>\n",
       "      <th>58</th>\n",
       "      <td>58</td>\n",
       "      <td>Global</td>\n",
       "      <td>https://open.spotify.com/track/6JSryEdVJTZq6YB...</td>\n",
       "      <td>78.40</td>\n",
       "      <td>arrows</td>\n",
       "      <td>Foo Fighters</td>\n",
       "      <td>album</td>\n",
       "      <td>alternative metal</td>\n",
       "      <td>8092392.0</td>\n",
       "      <td>False</td>\n",
       "      <td>...</td>\n",
       "      <td>0</td>\n",
       "      <td>103</td>\n",
       "      <td>0.0</td>\n",
       "      <td>0.0</td>\n",
       "      <td>global</td>\n",
       "      <td>4.436450</td>\n",
       "      <td>2017</td>\n",
       "      <td>9</td>\n",
       "      <td>15</td>\n",
       "      <td>Foo Fightersarrows</td>\n",
       "    </tr>\n",
       "    <tr>\n",
       "      <th>80</th>\n",
       "      <td>80</td>\n",
       "      <td>Global</td>\n",
       "      <td>https://open.spotify.com/track/7nAfXgeHfDO50up...</td>\n",
       "      <td>244.95</td>\n",
       "      <td>talking to myself</td>\n",
       "      <td>Linkin Park</td>\n",
       "      <td>album</td>\n",
       "      <td>alternative metal</td>\n",
       "      <td>17132813.0</td>\n",
       "      <td>False</td>\n",
       "      <td>...</td>\n",
       "      <td>0</td>\n",
       "      <td>86</td>\n",
       "      <td>0.0</td>\n",
       "      <td>0.0</td>\n",
       "      <td>global</td>\n",
       "      <td>3.855117</td>\n",
       "      <td>2017</td>\n",
       "      <td>5</td>\n",
       "      <td>19</td>\n",
       "      <td>Linkin Parktalking to myself</td>\n",
       "    </tr>\n",
       "  </tbody>\n",
       "</table>\n",
       "<p>5 rows × 40 columns</p>\n",
       "</div>"
      ],
      "text/plain": [
       "    Unnamed: 0 country                                                uri  \\\n",
       "0            0  Global  https://open.spotify.com/track/6FyRXC8tJUh863J...   \n",
       "16          16  Global  https://open.spotify.com/track/5xhJmd0I15jFcEd...   \n",
       "39          39  Global  https://open.spotify.com/track/0wJJhRgdHhT93Z3...   \n",
       "58          58  Global  https://open.spotify.com/track/6JSryEdVJTZq6YB...   \n",
       "80          80  Global  https://open.spotify.com/track/7nAfXgeHfDO50up...   \n",
       "\n",
       "    popularity              title                     artist release_type  \\\n",
       "0     31833.95         adan y eva               Paulo Londra       single   \n",
       "16      418.00    it wont kill ya  The Chainsmokers - Louane        album   \n",
       "39       56.00               hymn                      Kesha       single   \n",
       "58       78.40             arrows               Foo Fighters        album   \n",
       "80      244.95  talking to myself                Linkin Park        album   \n",
       "\n",
       "            sub_genre  artist_followers  explicit  ... explicit_true popu_max  \\\n",
       "0   argentine hip hop        11427104.0     False  ...             0       10   \n",
       "16          dance pop        16931568.0     False  ...             0       72   \n",
       "39          dance pop         5910376.0      True  ...             1      131   \n",
       "58  alternative metal         8092392.0     False  ...             0      103   \n",
       "80  alternative metal        17132813.0     False  ...             0       86   \n",
       "\n",
       "    top10_dummy  top50_dummy  cluster  duration_min  release_year  \\\n",
       "0           1.0          1.0   global      4.310650          2018   \n",
       "16          0.0          0.0   global      3.626883          2017   \n",
       "39          0.0          0.0   global      3.426667          2017   \n",
       "58          0.0          0.0   global      4.436450          2017   \n",
       "80          0.0          0.0   global      3.855117          2017   \n",
       "\n",
       "    release_month  release_day                              artists_song  \n",
       "0              11            5                    Paulo Londraadan y eva  \n",
       "16              4            7  The Chainsmokers - Louaneit wont kill ya  \n",
       "39              8            3                                 Keshahymn  \n",
       "58              9           15                        Foo Fightersarrows  \n",
       "80              5           19              Linkin Parktalking to myself  \n",
       "\n",
       "[5 rows x 40 columns]"
      ]
     },
     "execution_count": 4,
     "metadata": {},
     "output_type": "execute_result"
    }
   ],
   "source": [
    "# drop songs duplication on the basis of same artist name and title of the song\n",
    "df['artists_song'] = df.apply(lambda row: row['artist']+row['title'],axis = 1)\n",
    "data = df.drop_duplicates('artists_song')\n",
    "data.head()"
   ]
  },
  {
   "cell_type": "code",
   "execution_count": 5,
   "metadata": {},
   "outputs": [],
   "source": [
    "df2 = df.drop_duplicates(subset=['title'], keep='first')"
   ]
  },
  {
   "cell_type": "code",
   "execution_count": 6,
   "metadata": {},
   "outputs": [],
   "source": [
    "data = df2[['artist', 'genre', 'country', 'title']]\n"
   ]
  },
  {
   "cell_type": "code",
   "execution_count": 7,
   "metadata": {},
   "outputs": [
    {
     "name": "stdout",
     "output_type": "stream",
     "text": [
      "count     47044\n",
      "unique    21718\n",
      "top         Jul\n",
      "freq        173\n",
      "Name: artist, dtype: object\n"
     ]
    }
   ],
   "source": [
    "# names of different artists\n",
    "print(data['artist'].describe())\n",
    "\n",
    "# All songs have an artist name\n",
    "# we have 21718 unique Artist\n",
    "# 0.0087% (1487/170633) of the songs are of Ariana Grande who is the most occured singer."
   ]
  },
  {
   "cell_type": "code",
   "execution_count": 8,
   "metadata": {},
   "outputs": [
    {
     "data": {
      "text/plain": [
       "[('Jul', 173),\n",
       " ('BTS', 80),\n",
       " ('Future', 78),\n",
       " ('Drake', 71),\n",
       " ('Kim Larsen', 71),\n",
       " ('Djadja & Dinaz', 70),\n",
       " ('Taylor Swift', 66),\n",
       " ('Mayday', 59),\n",
       " ('Ufo361', 55),\n",
       " ('Luis Miguel', 55)]"
      ]
     },
     "execution_count": 8,
     "metadata": {},
     "output_type": "execute_result"
    }
   ],
   "source": [
    "# find the 10 most frequent artist.\n",
    "Artist_count = Counter(list(data['artist']))\n",
    "Artist_count.most_common(10)"
   ]
  },
  {
   "cell_type": "code",
   "execution_count": 9,
   "metadata": {},
   "outputs": [
    {
     "name": "stdout",
     "output_type": "stream",
     "text": [
      "count     47044\n",
      "unique       20\n",
      "top         pop\n",
      "freq      18646\n",
      "Name: genre, dtype: object\n"
     ]
    }
   ],
   "source": [
    "# names of different Genre \n",
    "print(data['genre'].describe())"
   ]
  },
  {
   "cell_type": "code",
   "execution_count": 10,
   "metadata": {},
   "outputs": [
    {
     "data": {
      "text/plain": [
       "[('pop', 18646),\n",
       " ('hip hop', 12389),\n",
       " ('indie', 3552),\n",
       " ('latin', 2513),\n",
       " ('rap', 2412),\n",
       " ('rock', 1477),\n",
       " ('dance/electronic', 1382),\n",
       " ('r&b/soul', 707),\n",
       " ('k-pop', 652),\n",
       " ('house', 650)]"
      ]
     },
     "execution_count": 10,
     "metadata": {},
     "output_type": "execute_result"
    }
   ],
   "source": [
    "# find the 10 most frequent genre.\n",
    "Genre_count = Counter(list(data['genre']))\n",
    "Genre_count.most_common(10)"
   ]
  },
  {
   "cell_type": "code",
   "execution_count": 11,
   "metadata": {},
   "outputs": [
    {
     "name": "stdout",
     "output_type": "stream",
     "text": [
      "count      47044\n",
      "unique        35\n",
      "top       Global\n",
      "freq        4456\n",
      "Name: country, dtype: object\n"
     ]
    }
   ],
   "source": [
    "# names of different Country \n",
    "print(data['country'].describe())\n",
    "\n",
    "# we have 35 unique Country\n",
    "# 4.5% (7686/170633) of the songs are from Switzerland."
   ]
  },
  {
   "cell_type": "markdown",
   "metadata": {},
   "source": [
    "### Bag of words"
   ]
  },
  {
   "cell_type": "code",
   "execution_count": 23,
   "metadata": {},
   "outputs": [],
   "source": [
    "sample = data.head(2000) # Sample\n",
    "# sample = data"
   ]
  },
  {
   "cell_type": "code",
   "execution_count": 24,
   "metadata": {},
   "outputs": [
    {
     "data": {
      "text/plain": [
       "(2000, 1434)"
      ]
     },
     "execution_count": 24,
     "metadata": {},
     "output_type": "execute_result"
    }
   ],
   "source": [
    "from sklearn.feature_extraction.text import CountVectorizer\n",
    "title_vectorizer = CountVectorizer()\n",
    "title_features   = title_vectorizer.fit_transform(sample['artist'])\n",
    "title_features.get_shape() # get number of rows and columns in feature matrix."
   ]
  },
  {
   "cell_type": "code",
   "execution_count": 25,
   "metadata": {},
   "outputs": [
    {
     "data": {
      "text/html": [
       "<div>\n",
       "<style scoped>\n",
       "    .dataframe tbody tr th:only-of-type {\n",
       "        vertical-align: middle;\n",
       "    }\n",
       "\n",
       "    .dataframe tbody tr th {\n",
       "        vertical-align: top;\n",
       "    }\n",
       "\n",
       "    .dataframe thead th {\n",
       "        text-align: right;\n",
       "    }\n",
       "</style>\n",
       "<table border=\"1\" class=\"dataframe\">\n",
       "  <thead>\n",
       "    <tr style=\"text-align: right;\">\n",
       "      <th></th>\n",
       "      <th>0</th>\n",
       "      <th>1</th>\n",
       "      <th>2</th>\n",
       "      <th>3</th>\n",
       "      <th>4</th>\n",
       "      <th>5</th>\n",
       "      <th>6</th>\n",
       "      <th>7</th>\n",
       "      <th>8</th>\n",
       "      <th>9</th>\n",
       "      <th>...</th>\n",
       "      <th>1424</th>\n",
       "      <th>1425</th>\n",
       "      <th>1426</th>\n",
       "      <th>1427</th>\n",
       "      <th>1428</th>\n",
       "      <th>1429</th>\n",
       "      <th>1430</th>\n",
       "      <th>1431</th>\n",
       "      <th>1432</th>\n",
       "      <th>1433</th>\n",
       "    </tr>\n",
       "  </thead>\n",
       "  <tbody>\n",
       "    <tr>\n",
       "      <th>0</th>\n",
       "      <td>0</td>\n",
       "      <td>0</td>\n",
       "      <td>0</td>\n",
       "      <td>0</td>\n",
       "      <td>0</td>\n",
       "      <td>0</td>\n",
       "      <td>0</td>\n",
       "      <td>0</td>\n",
       "      <td>0</td>\n",
       "      <td>0</td>\n",
       "      <td>...</td>\n",
       "      <td>0</td>\n",
       "      <td>0</td>\n",
       "      <td>0</td>\n",
       "      <td>0</td>\n",
       "      <td>0</td>\n",
       "      <td>0</td>\n",
       "      <td>0</td>\n",
       "      <td>0</td>\n",
       "      <td>0</td>\n",
       "      <td>0</td>\n",
       "    </tr>\n",
       "    <tr>\n",
       "      <th>1</th>\n",
       "      <td>0</td>\n",
       "      <td>0</td>\n",
       "      <td>0</td>\n",
       "      <td>0</td>\n",
       "      <td>0</td>\n",
       "      <td>0</td>\n",
       "      <td>0</td>\n",
       "      <td>0</td>\n",
       "      <td>0</td>\n",
       "      <td>0</td>\n",
       "      <td>...</td>\n",
       "      <td>0</td>\n",
       "      <td>0</td>\n",
       "      <td>0</td>\n",
       "      <td>0</td>\n",
       "      <td>0</td>\n",
       "      <td>0</td>\n",
       "      <td>0</td>\n",
       "      <td>0</td>\n",
       "      <td>0</td>\n",
       "      <td>0</td>\n",
       "    </tr>\n",
       "    <tr>\n",
       "      <th>2</th>\n",
       "      <td>0</td>\n",
       "      <td>0</td>\n",
       "      <td>0</td>\n",
       "      <td>0</td>\n",
       "      <td>0</td>\n",
       "      <td>0</td>\n",
       "      <td>0</td>\n",
       "      <td>0</td>\n",
       "      <td>0</td>\n",
       "      <td>0</td>\n",
       "      <td>...</td>\n",
       "      <td>0</td>\n",
       "      <td>0</td>\n",
       "      <td>0</td>\n",
       "      <td>0</td>\n",
       "      <td>0</td>\n",
       "      <td>0</td>\n",
       "      <td>0</td>\n",
       "      <td>0</td>\n",
       "      <td>0</td>\n",
       "      <td>0</td>\n",
       "    </tr>\n",
       "    <tr>\n",
       "      <th>3</th>\n",
       "      <td>0</td>\n",
       "      <td>0</td>\n",
       "      <td>0</td>\n",
       "      <td>0</td>\n",
       "      <td>0</td>\n",
       "      <td>0</td>\n",
       "      <td>0</td>\n",
       "      <td>0</td>\n",
       "      <td>0</td>\n",
       "      <td>0</td>\n",
       "      <td>...</td>\n",
       "      <td>0</td>\n",
       "      <td>0</td>\n",
       "      <td>0</td>\n",
       "      <td>0</td>\n",
       "      <td>0</td>\n",
       "      <td>0</td>\n",
       "      <td>0</td>\n",
       "      <td>0</td>\n",
       "      <td>0</td>\n",
       "      <td>0</td>\n",
       "    </tr>\n",
       "    <tr>\n",
       "      <th>4</th>\n",
       "      <td>0</td>\n",
       "      <td>0</td>\n",
       "      <td>0</td>\n",
       "      <td>0</td>\n",
       "      <td>0</td>\n",
       "      <td>0</td>\n",
       "      <td>0</td>\n",
       "      <td>0</td>\n",
       "      <td>0</td>\n",
       "      <td>0</td>\n",
       "      <td>...</td>\n",
       "      <td>0</td>\n",
       "      <td>0</td>\n",
       "      <td>0</td>\n",
       "      <td>0</td>\n",
       "      <td>0</td>\n",
       "      <td>0</td>\n",
       "      <td>0</td>\n",
       "      <td>0</td>\n",
       "      <td>0</td>\n",
       "      <td>0</td>\n",
       "    </tr>\n",
       "  </tbody>\n",
       "</table>\n",
       "<p>5 rows × 1434 columns</p>\n",
       "</div>"
      ],
      "text/plain": [
       "   0     1     2     3     4     5     6     7     8     9     ...  1424  \\\n",
       "0     0     0     0     0     0     0     0     0     0     0  ...     0   \n",
       "1     0     0     0     0     0     0     0     0     0     0  ...     0   \n",
       "2     0     0     0     0     0     0     0     0     0     0  ...     0   \n",
       "3     0     0     0     0     0     0     0     0     0     0  ...     0   \n",
       "4     0     0     0     0     0     0     0     0     0     0  ...     0   \n",
       "\n",
       "   1425  1426  1427  1428  1429  1430  1431  1432  1433  \n",
       "0     0     0     0     0     0     0     0     0     0  \n",
       "1     0     0     0     0     0     0     0     0     0  \n",
       "2     0     0     0     0     0     0     0     0     0  \n",
       "3     0     0     0     0     0     0     0     0     0  \n",
       "4     0     0     0     0     0     0     0     0     0  \n",
       "\n",
       "[5 rows x 1434 columns]"
      ]
     },
     "execution_count": 25,
     "metadata": {},
     "output_type": "execute_result"
    }
   ],
   "source": [
    "# Convert matrix to dataframe\n",
    "artist_df = pd.DataFrame(title_features.toarray())\n",
    "artist_df.head()"
   ]
  },
  {
   "cell_type": "code",
   "execution_count": 26,
   "metadata": {},
   "outputs": [],
   "source": [
    "# Utility Functions which we will use through the rest of the code\n",
    "\n",
    "\n",
    "# #Display an image  \n",
    "#plotting code to understand the algorithm's decision.\n",
    "def plot_heatmap(keys, values, labels, text, title):\n",
    "        # keys: list of words of recommended title\n",
    "    \n",
    "    # we will devide the whole figure into two parts\n",
    "    gs = gridspec.GridSpec(2, 2, width_ratios=[4,1], height_ratios=[4,1]) \n",
    "    fig = plt.figure(figsize=(25,3))\n",
    "    \n",
    "    ax = plt.subplot(gs[0])\n",
    "    ax = sns.heatmap(np.array([values]), annot=np.array([labels]))\n",
    "    ax.set_xticklabels(keys) \n",
    "    ax.set_title(title) \n",
    "    \n",
    "    \n",
    "    ax = plt.subplot(gs[1])\n",
    "    ax.grid(False)\n",
    "    ax.set_xticks([])\n",
    "    ax.set_yticks([])\n",
    "    plt.show()\n",
    "    \n",
    "def plot_heatmap_image(doc_id, vec1, vec2, text, title, model):\n",
    "\n",
    "\n",
    "    # we find the common words in both titles, because these only words contribute to the distance between two title vec's\n",
    "    intersection = set(vec1.keys()) & set(vec2.keys()) \n",
    "    for i in vec2:\n",
    "        if i not in intersection:\n",
    "            vec2[i]=0\n",
    "\n",
    "    \n",
    "    keys = list(vec2.keys())\n",
    "   \n",
    "    values = [vec2[x] for x in vec2.keys()]\n",
    "\n",
    "    if model == 'bag_of_words':\n",
    "        labels = values\n",
    "    elif model == 'tfidf':\n",
    "        labels = []\n",
    "        for x in vec2.keys():\n",
    "            if x in  tfidf_artist_vectorizer.vocabulary_:\n",
    "                labels.append(tfidf_artist_vectorizer[doc_id, tfidf_artist_vectorizer.vocabulary_[x]])\n",
    "            else:\n",
    "                labels.append(0)\n",
    "    elif model == 'idf':\n",
    "        labels = []\n",
    "        for x in vec2.keys():\n",
    "            \n",
    "            if x in  tfidf_artist_vectorizer.vocabulary_:\n",
    "                labels.append(tfidf_artist_vectorizer[doc_id, tfidf_artist_vectorizer.vocabulary_[x]])\n",
    "            else:\n",
    "                labels.append(0)\n",
    "\n",
    "    plot_heatmap(keys, values, labels, text, title)\n",
    "\n",
    "\n",
    "def text_to_vector(text):\n",
    "    word = re.compile(r'\\w+')\n",
    "    words = word.findall(text)\n",
    "    return Counter(words) \n",
    "\n",
    "\n",
    "\n",
    "def get_result(doc_id, content_a, content_b, title, model):\n",
    "    text1 = content_a\n",
    "    text2 = content_b\n",
    "    \n",
    "    vector1 = text_to_vector(text1)\n",
    "\n",
    "    vector2 = text_to_vector(text2)\n",
    "\n",
    "    plot_heatmap_image(doc_id, vector1, vector2, text2, title, model)"
   ]
  },
  {
   "cell_type": "code",
   "execution_count": 27,
   "metadata": {},
   "outputs": [
    {
     "name": "stdout",
     "output_type": "stream",
     "text": [
      "Paulo Londra\n"
     ]
    }
   ],
   "source": [
    "# get_result(indices[i],data['artist'].loc[df_indices[0]], data['artist'].loc[df_indices[i]], data['title'].loc[df_indices[i]], 'bag_of_words')\n",
    "print(data['artist'].loc[0])\n"
   ]
  },
  {
   "cell_type": "code",
   "execution_count": 28,
   "metadata": {},
   "outputs": [
    {
     "data": {
      "image/png": "[encoded data removed]",
      "text/plain": [
       "<Figure size 1800x216 with 3 Axes>"
      ]
     },
     "metadata": {
      "needs_background": "light"
     },
     "output_type": "display_data"
    },
    {
     "name": "stdout",
     "output_type": "stream",
     "text": [
      "Artist : Black Eyed Peas - Ozuna - J. Rey Soul\n",
      "Genre: pop\n",
      "Country: Singapore\n",
      "Title: mamacita\n",
      "Euclidean similarity with the query song : 0.0\n",
      "============================================================\n"
     ]
    },
    {
     "data": {
      "image/png": "[encoded data removed]",
      "text/plain": [
       "<Figure size 1800x216 with 3 Axes>"
      ]
     },
     "metadata": {
      "needs_background": "light"
     },
     "output_type": "display_data"
    },
    {
     "name": "stdout",
     "output_type": "stream",
     "text": [
      "Artist : Black Eyed Peas\n",
      "Genre: pop\n",
      "Country: Global\n",
      "Title: i gotta feeling\n",
      "Euclidean similarity with the query song : 1.7320508075688772\n",
      "============================================================\n"
     ]
    },
    {
     "data": {
      "image/png": "[encoded data removed]",
      "text/plain": [
       "<Figure size 1800x216 with 3 Axes>"
      ]
     },
     "metadata": {
      "needs_background": "light"
     },
     "output_type": "display_data"
    },
    {
     "name": "stdout",
     "output_type": "stream",
     "text": [
      "Artist : Black Eyed Peas - J Balvin\n",
      "Genre: pop\n",
      "Country: Brazil\n",
      "Title: ritmo\n",
      "Euclidean similarity with the query song : 2.0\n",
      "============================================================\n"
     ]
    },
    {
     "data": {
      "image/png": "[encoded data removed]",
      "text/plain": [
       "<Figure size 1800x216 with 3 Axes>"
      ]
     },
     "metadata": {
      "needs_background": "light"
     },
     "output_type": "display_data"
    },
    {
     "name": "stdout",
     "output_type": "stream",
     "text": [
      "Artist : Ozuna\n",
      "Genre: latin\n",
      "Country: Global\n",
      "Title: caramelo\n",
      "Euclidean similarity with the query song : 2.23606797749979\n",
      "============================================================\n"
     ]
    },
    {
     "data": {
      "image/png": "[encoded data removed]",
      "text/plain": [
       "<Figure size 1800x216 with 3 Axes>"
      ]
     },
     "metadata": {
      "needs_background": "light"
     },
     "output_type": "display_data"
    },
    {
     "name": "stdout",
     "output_type": "stream",
     "text": [
      "Artist : Ozuna\n",
      "Genre: latin\n",
      "Country: Global\n",
      "Title: devuelveme\n",
      "Euclidean similarity with the query song : 2.23606797749979\n",
      "============================================================\n"
     ]
    }
   ],
   "source": [
    "\n",
    "def bag_of_words_model(song_id, num_results):\n",
    "    \n",
    "    # pairwise_dist or euclidean distance\n",
    "    pairwise_dist = pairwise_distances(title_features,title_features[song_id])\n",
    "    # print(pairwise_dist)\n",
    "    indices = np.argsort(pairwise_dist.flatten())[0:num_results]\n",
    "    pdists  = np.sort(pairwise_dist.flatten())[0:num_results]\n",
    "\n",
    "    df_indices = list(data.index[indices])\n",
    "    \n",
    "    for i in range(0,len(indices)):\n",
    "        get_result(indices[i],data['artist'].loc[df_indices[0]], data['artist'].loc[df_indices[i]], data['title'].loc[df_indices[i]], 'bag_of_words')\n",
    "        print('Artist :',data['artist'].loc[df_indices[i]])\n",
    "        print ('Genre:', data['genre'].loc[df_indices[i]])\n",
    "        print ('Country:', data['country'].loc[df_indices[i]])\n",
    "        print ('Title:', data['title'].loc[df_indices[i]])\n",
    "        print ('Euclidean similarity with the query song :', pdists[i])\n",
    "        print('='*60)\n",
    "\n",
    "#call the bag-of-words model for a product to get similar products.\n",
    "bag_of_words_model(58, 5)"
   ]
  },
  {
   "cell_type": "markdown",
   "metadata": {},
   "source": [
    "### TF-IDF"
   ]
  },
  {
   "cell_type": "code",
   "execution_count": 29,
   "metadata": {},
   "outputs": [],
   "source": [
    "tfidf_artist_vectorizer = TfidfVectorizer(min_df = 0)\n",
    "tfidf_artist_features = tfidf_artist_vectorizer.fit_transform(data['artist'])"
   ]
  },
  {
   "cell_type": "code",
   "execution_count": 30,
   "metadata": {},
   "outputs": [
    {
     "data": {
      "image/png": "[encoded data removed]",
      "text/plain": [
       "<Figure size 1800x216 with 3 Axes>"
      ]
     },
     "metadata": {
      "needs_background": "light"
     },
     "output_type": "display_data"
    },
    {
     "name": "stdout",
     "output_type": "stream",
     "text": [
      "Artist : Famous Dex\n",
      "Genre: rap\n",
      "Country: Global\n",
      "Title: japan\n",
      "Eucliden distance from the given image : 0.0\n",
      "=============================================================================================================================\n"
     ]
    },
    {
     "data": {
      "image/png": "[encoded data removed]",
      "text/plain": [
       "<Figure size 1800x216 with 3 Axes>"
      ]
     },
     "metadata": {
      "needs_background": "light"
     },
     "output_type": "display_data"
    },
    {
     "name": "stdout",
     "output_type": "stream",
     "text": [
      "Artist : Famous Dex - A$AP Rocky\n",
      "Genre: rap\n",
      "Country: Global\n",
      "Title: pick it up\n",
      "Eucliden distance from the given image : 0.6929246795363126\n",
      "=============================================================================================================================\n"
     ]
    },
    {
     "data": {
      "image/png": "[encoded data removed]",
      "text/plain": [
       "<Figure size 1800x216 with 3 Axes>"
      ]
     },
     "metadata": {
      "needs_background": "light"
     },
     "output_type": "display_data"
    },
    {
     "name": "stdout",
     "output_type": "stream",
     "text": [
      "Artist : HAYES - Wiktoria - Famous Dex\n",
      "Genre: pop\n",
      "Country: Norway\n",
      "Title: fuck this place up\n",
      "Eucliden distance from the given image : 0.8162586087366992\n",
      "=============================================================================================================================\n"
     ]
    },
    {
     "data": {
      "image/png": "[encoded data removed]",
      "text/plain": [
       "<Figure size 1800x216 with 3 Axes>"
      ]
     },
     "metadata": {
      "needs_background": "light"
     },
     "output_type": "display_data"
    },
    {
     "name": "stdout",
     "output_type": "stream",
     "text": [
      "Artist : Reggie Mills - Famous Dex - Sfera Ebbasta\n",
      "Genre: pop\n",
      "Country: Italy\n",
      "Title: ballin in fendi\n",
      "Eucliden distance from the given image : 0.935071980248401\n",
      "=============================================================================================================================\n"
     ]
    },
    {
     "data": {
      "image/png": "[encoded data removed]",
      "text/plain": [
       "<Figure size 1800x216 with 3 Axes>"
      ]
     },
     "metadata": {
      "needs_background": "light"
     },
     "output_type": "display_data"
    },
    {
     "name": "stdout",
     "output_type": "stream",
     "text": [
      "Artist : Reggie Mills - Sick Luke - Rich The Kid - Famous Dex\n",
      "Genre: pop\n",
      "Country: Germany\n",
      "Title: racks on me\n",
      "Eucliden distance from the given image : 0.9991681168583613\n",
      "=============================================================================================================================\n"
     ]
    }
   ],
   "source": [
    "def tfidf_model(song_id, num_results):\n",
    "    \n",
    "    # pairwise_dist or euclidean distance\n",
    "    pairwise_dist = pairwise_distances(tfidf_artist_features,tfidf_artist_features[song_id])\n",
    "\n",
    "    # np.argsort will return indices of 9 smallest distances\n",
    "    indices = np.argsort(pairwise_dist.flatten())[0:num_results]\n",
    "    #pdists will store the 9 smallest distances\n",
    "    pdists  = np.sort(pairwise_dist.flatten())[0:num_results]\n",
    "\n",
    "    #data frame indices of the 9 smallest distace's\n",
    "    df_indices = list(data.index[indices])\n",
    "\n",
    "    for i in range(0,len(indices)):\n",
    "        # we will pass 1. doc_id, 2. title1, 3. title2, url, model\n",
    "        get_result(indices[i],data['artist'].loc[df_indices[0]], data['artist'].loc[df_indices[i]], data['title'].loc[df_indices[i]], 'tfidf')\n",
    "        print('Artist :',data['artist'].loc[df_indices[i]])\n",
    "        print ('Genre:', data['genre'].loc[df_indices[i]])\n",
    "        print ('Country:', data['country'].loc[df_indices[i]])\n",
    "        print ('Title:', data['title'].loc[df_indices[i]])\n",
    "        print ('Eucliden distance from the given image :', pdists[i])\n",
    "        print('='*125)\n",
    "tfidf_model(12, 5)"
   ]
  },
  {
   "cell_type": "markdown",
   "metadata": {},
   "source": [
    "### Bag of word for all three features"
   ]
  },
  {
   "cell_type": "code",
   "execution_count": 31,
   "metadata": {},
   "outputs": [],
   "source": [
    "sample = data.head(2000) # Sample"
   ]
  },
  {
   "cell_type": "code",
   "execution_count": 32,
   "metadata": {},
   "outputs": [],
   "source": [
    "artist_vectorizer = CountVectorizer()\n",
    "artist_features = artist_vectorizer.fit_transform(sample['artist'])\n",
    "\n",
    "genre_vectorizer = CountVectorizer()\n",
    "genre_features = genre_vectorizer.fit_transform(sample['genre'])\n",
    "\n",
    "country_vectorizer = CountVectorizer()\n",
    "country_features = genre_vectorizer.fit_transform(sample['country'])\n",
    "\n",
    "extra_features = hstack((artist_features, genre_features, country_features)).tocsr()"
   ]
  },
  {
   "cell_type": "code",
   "execution_count": 33,
   "metadata": {},
   "outputs": [
    {
     "data": {
      "text/plain": [
       "<2000x1479 sparse matrix of type '<class 'numpy.int64'>'\n",
       "\twith 10096 stored elements in Compressed Sparse Row format>"
      ]
     },
     "execution_count": 33,
     "metadata": {},
     "output_type": "execute_result"
    }
   ],
   "source": [
    "extra_features"
   ]
  },
  {
   "cell_type": "code",
   "execution_count": 34,
   "metadata": {},
   "outputs": [
    {
     "data": {
      "text/html": [
       "<div>\n",
       "<style scoped>\n",
       "    .dataframe tbody tr th:only-of-type {\n",
       "        vertical-align: middle;\n",
       "    }\n",
       "\n",
       "    .dataframe tbody tr th {\n",
       "        vertical-align: top;\n",
       "    }\n",
       "\n",
       "    .dataframe thead th {\n",
       "        text-align: right;\n",
       "    }\n",
       "</style>\n",
       "<table border=\"1\" class=\"dataframe\">\n",
       "  <thead>\n",
       "    <tr style=\"text-align: right;\">\n",
       "      <th></th>\n",
       "      <th>0</th>\n",
       "      <th>1</th>\n",
       "      <th>2</th>\n",
       "      <th>3</th>\n",
       "      <th>4</th>\n",
       "      <th>5</th>\n",
       "      <th>6</th>\n",
       "      <th>7</th>\n",
       "      <th>8</th>\n",
       "      <th>9</th>\n",
       "      <th>...</th>\n",
       "      <th>1469</th>\n",
       "      <th>1470</th>\n",
       "      <th>1471</th>\n",
       "      <th>1472</th>\n",
       "      <th>1473</th>\n",
       "      <th>1474</th>\n",
       "      <th>1475</th>\n",
       "      <th>1476</th>\n",
       "      <th>1477</th>\n",
       "      <th>1478</th>\n",
       "    </tr>\n",
       "  </thead>\n",
       "  <tbody>\n",
       "    <tr>\n",
       "      <th>0</th>\n",
       "      <td>0</td>\n",
       "      <td>0</td>\n",
       "      <td>0</td>\n",
       "      <td>0</td>\n",
       "      <td>0</td>\n",
       "      <td>0</td>\n",
       "      <td>0</td>\n",
       "      <td>0</td>\n",
       "      <td>0</td>\n",
       "      <td>0</td>\n",
       "      <td>...</td>\n",
       "      <td>0</td>\n",
       "      <td>0</td>\n",
       "      <td>0</td>\n",
       "      <td>0</td>\n",
       "      <td>0</td>\n",
       "      <td>0</td>\n",
       "      <td>0</td>\n",
       "      <td>0</td>\n",
       "      <td>0</td>\n",
       "      <td>0</td>\n",
       "    </tr>\n",
       "    <tr>\n",
       "      <th>1</th>\n",
       "      <td>0</td>\n",
       "      <td>0</td>\n",
       "      <td>0</td>\n",
       "      <td>0</td>\n",
       "      <td>0</td>\n",
       "      <td>0</td>\n",
       "      <td>0</td>\n",
       "      <td>0</td>\n",
       "      <td>0</td>\n",
       "      <td>0</td>\n",
       "      <td>...</td>\n",
       "      <td>0</td>\n",
       "      <td>0</td>\n",
       "      <td>0</td>\n",
       "      <td>0</td>\n",
       "      <td>0</td>\n",
       "      <td>0</td>\n",
       "      <td>0</td>\n",
       "      <td>0</td>\n",
       "      <td>0</td>\n",
       "      <td>0</td>\n",
       "    </tr>\n",
       "    <tr>\n",
       "      <th>2</th>\n",
       "      <td>0</td>\n",
       "      <td>0</td>\n",
       "      <td>0</td>\n",
       "      <td>0</td>\n",
       "      <td>0</td>\n",
       "      <td>0</td>\n",
       "      <td>0</td>\n",
       "      <td>0</td>\n",
       "      <td>0</td>\n",
       "      <td>0</td>\n",
       "      <td>...</td>\n",
       "      <td>0</td>\n",
       "      <td>0</td>\n",
       "      <td>0</td>\n",
       "      <td>0</td>\n",
       "      <td>0</td>\n",
       "      <td>0</td>\n",
       "      <td>0</td>\n",
       "      <td>0</td>\n",
       "      <td>0</td>\n",
       "      <td>0</td>\n",
       "    </tr>\n",
       "    <tr>\n",
       "      <th>3</th>\n",
       "      <td>0</td>\n",
       "      <td>0</td>\n",
       "      <td>0</td>\n",
       "      <td>0</td>\n",
       "      <td>0</td>\n",
       "      <td>0</td>\n",
       "      <td>0</td>\n",
       "      <td>0</td>\n",
       "      <td>0</td>\n",
       "      <td>0</td>\n",
       "      <td>...</td>\n",
       "      <td>0</td>\n",
       "      <td>0</td>\n",
       "      <td>0</td>\n",
       "      <td>0</td>\n",
       "      <td>0</td>\n",
       "      <td>0</td>\n",
       "      <td>0</td>\n",
       "      <td>0</td>\n",
       "      <td>0</td>\n",
       "      <td>0</td>\n",
       "    </tr>\n",
       "    <tr>\n",
       "      <th>4</th>\n",
       "      <td>0</td>\n",
       "      <td>0</td>\n",
       "      <td>0</td>\n",
       "      <td>0</td>\n",
       "      <td>0</td>\n",
       "      <td>0</td>\n",
       "      <td>0</td>\n",
       "      <td>0</td>\n",
       "      <td>0</td>\n",
       "      <td>0</td>\n",
       "      <td>...</td>\n",
       "      <td>0</td>\n",
       "      <td>0</td>\n",
       "      <td>0</td>\n",
       "      <td>0</td>\n",
       "      <td>0</td>\n",
       "      <td>0</td>\n",
       "      <td>0</td>\n",
       "      <td>0</td>\n",
       "      <td>0</td>\n",
       "      <td>0</td>\n",
       "    </tr>\n",
       "  </tbody>\n",
       "</table>\n",
       "<p>5 rows × 1479 columns</p>\n",
       "</div>"
      ],
      "text/plain": [
       "   0     1     2     3     4     5     6     7     8     9     ...  1469  \\\n",
       "0     0     0     0     0     0     0     0     0     0     0  ...     0   \n",
       "1     0     0     0     0     0     0     0     0     0     0  ...     0   \n",
       "2     0     0     0     0     0     0     0     0     0     0  ...     0   \n",
       "3     0     0     0     0     0     0     0     0     0     0  ...     0   \n",
       "4     0     0     0     0     0     0     0     0     0     0  ...     0   \n",
       "\n",
       "   1470  1471  1472  1473  1474  1475  1476  1477  1478  \n",
       "0     0     0     0     0     0     0     0     0     0  \n",
       "1     0     0     0     0     0     0     0     0     0  \n",
       "2     0     0     0     0     0     0     0     0     0  \n",
       "3     0     0     0     0     0     0     0     0     0  \n",
       "4     0     0     0     0     0     0     0     0     0  \n",
       "\n",
       "[5 rows x 1479 columns]"
      ]
     },
     "execution_count": 34,
     "metadata": {},
     "output_type": "execute_result"
    }
   ],
   "source": [
    "# Convert matrix to dataframe\n",
    "three_feat = pd.DataFrame(extra_features.toarray())\n",
    "three_feat.head()"
   ]
  },
  {
   "cell_type": "code",
   "execution_count": 35,
   "metadata": {},
   "outputs": [
    {
     "data": {
      "image/png": "[encoded data removed]",
      "text/plain": [
       "<Figure size 1800x216 with 3 Axes>"
      ]
     },
     "metadata": {
      "needs_background": "light"
     },
     "output_type": "display_data"
    },
    {
     "name": "stdout",
     "output_type": "stream",
     "text": [
      "Artist : Lil Xan\n",
      "Genre: rap\n",
      "Country: Global\n",
      "Title: betrayed\n",
      "Euclidean similarity with the query song : 0.0\n",
      "============================================================\n"
     ]
    },
    {
     "data": {
      "image/png": "[encoded data removed]",
      "text/plain": [
       "<Figure size 1800x216 with 3 Axes>"
      ]
     },
     "metadata": {
      "needs_background": "light"
     },
     "output_type": "display_data"
    },
    {
     "name": "stdout",
     "output_type": "stream",
     "text": [
      "Artist : Lil Mosey\n",
      "Genre: rap\n",
      "Country: Global\n",
      "Title: blueberry faygo\n",
      "Euclidean similarity with the query song : 1.4142135623730951\n",
      "============================================================\n"
     ]
    },
    {
     "data": {
      "image/png": "[encoded data removed]",
      "text/plain": [
       "<Figure size 1800x216 with 3 Axes>"
      ]
     },
     "metadata": {
      "needs_background": "light"
     },
     "output_type": "display_data"
    },
    {
     "name": "stdout",
     "output_type": "stream",
     "text": [
      "Artist : Lil Tecca\n",
      "Genre: rap\n",
      "Country: Global\n",
      "Title: ransom\n",
      "Euclidean similarity with the query song : 1.4142135623730951\n",
      "============================================================\n"
     ]
    },
    {
     "data": {
      "image/png": "[encoded data removed]",
      "text/plain": [
       "<Figure size 1800x216 with 3 Axes>"
      ]
     },
     "metadata": {
      "needs_background": "light"
     },
     "output_type": "display_data"
    },
    {
     "name": "stdout",
     "output_type": "stream",
     "text": [
      "Artist : Lil Pump\n",
      "Genre: rap\n",
      "Country: Global\n",
      "Title: racks on racks\n",
      "Euclidean similarity with the query song : 1.4142135623730951\n",
      "============================================================\n"
     ]
    },
    {
     "data": {
      "image/png": "[encoded data removed]",
      "text/plain": [
       "<Figure size 1800x216 with 3 Axes>"
      ]
     },
     "metadata": {
      "needs_background": "light"
     },
     "output_type": "display_data"
    },
    {
     "name": "stdout",
     "output_type": "stream",
     "text": [
      "Artist : Lil Tecca\n",
      "Genre: rap\n",
      "Country: Global\n",
      "Title: did it again\n",
      "Euclidean similarity with the query song : 1.4142135623730951\n",
      "============================================================\n"
     ]
    }
   ],
   "source": [
    "def bag_of_words_model(song_id, num_results):\n",
    "    \n",
    "    # pairwise_dist or euclidean distance\n",
    "    pairwise_dist = pairwise_distances(extra_features, extra_features[song_id])\n",
    "    \n",
    "   \n",
    "    indices = np.argsort(pairwise_dist.flatten())[0:num_results]\n",
    "   \n",
    "    pdists  = np.sort(pairwise_dist.flatten())[0:num_results]\n",
    "\n",
    "    df_indices = list(data.index[indices])\n",
    "    \n",
    "    for i in range(0,len(indices)):\n",
    "        get_result(indices[i],data['artist'].loc[df_indices[0]], data['artist'].loc[df_indices[i]], data['title'].loc[df_indices[i]], 'bag_of_words')\n",
    "        print('Artist :',data['artist'].loc[df_indices[i]])\n",
    "        print ('Genre:', data['genre'].loc[df_indices[i]])\n",
    "        print ('Country:', data['country'].loc[df_indices[i]])\n",
    "        print ('Title:', data['title'].loc[df_indices[i]])\n",
    "        print ('Euclidean similarity with the query song :', pdists[i])\n",
    "        print('='*60)\n",
    "\n",
    "#call the bag-of-words model for a product to get similar products.\n",
    "bag_of_words_model(10, 5)"
   ]
  },
  {
   "cell_type": "markdown",
   "metadata": {},
   "source": [
    "### Again with cosine distance"
   ]
  },
  {
   "cell_type": "markdown",
   "metadata": {},
   "source": [
    "#### Bag of words"
   ]
  },
  {
   "cell_type": "code",
   "execution_count": 36,
   "metadata": {},
   "outputs": [
    {
     "data": {
      "image/png": "[encoded data removed]",
      "text/plain": [
       "<Figure size 1800x216 with 3 Axes>"
      ]
     },
     "metadata": {
      "needs_background": "light"
     },
     "output_type": "display_data"
    },
    {
     "name": "stdout",
     "output_type": "stream",
     "text": [
      "Artist : Paulo Londra\n",
      "Genre: hip hop\n",
      "Country: Global\n",
      "Title: adan y eva\n",
      "Cosine similarity with the query song : 0.0\n",
      "============================================================\n"
     ]
    },
    {
     "data": {
      "image/png": "[encoded data removed]",
      "text/plain": [
       "<Figure size 1800x216 with 3 Axes>"
      ]
     },
     "metadata": {
      "needs_background": "light"
     },
     "output_type": "display_data"
    },
    {
     "name": "stdout",
     "output_type": "stream",
     "text": [
      "Artist : PARTYNEXTDOOR - Drake\n",
      "Genre: pop\n",
      "Country: Global\n",
      "Title: loyal\n",
      "Cosine similarity with the query song : 0.0\n",
      "============================================================\n"
     ]
    },
    {
     "data": {
      "image/png": "[encoded data removed]",
      "text/plain": [
       "<Figure size 1800x216 with 3 Axes>"
      ]
     },
     "metadata": {
      "needs_background": "light"
     },
     "output_type": "display_data"
    },
    {
     "name": "stdout",
     "output_type": "stream",
     "text": [
      "Artist : Bazzi\n",
      "Genre: pop\n",
      "Country: Global\n",
      "Title: i.f.l.y.\n",
      "Cosine similarity with the query song : 0.0\n",
      "============================================================\n"
     ]
    },
    {
     "data": {
      "image/png": "[encoded data removed]",
      "text/plain": [
       "<Figure size 1800x216 with 3 Axes>"
      ]
     },
     "metadata": {
      "needs_background": "light"
     },
     "output_type": "display_data"
    },
    {
     "name": "stdout",
     "output_type": "stream",
     "text": [
      "Artist : Daddy Yankee - Snow\n",
      "Genre: latin\n",
      "Country: Global\n",
      "Title: con calma\n",
      "Cosine similarity with the query song : 0.0\n",
      "============================================================\n"
     ]
    },
    {
     "data": {
      "image/png": "[encoded data removed]",
      "text/plain": [
       "<Figure size 1800x216 with 3 Axes>"
      ]
     },
     "metadata": {
      "needs_background": "light"
     },
     "output_type": "display_data"
    },
    {
     "name": "stdout",
     "output_type": "stream",
     "text": [
      "Artist : Gambi\n",
      "Genre: hip hop\n",
      "Country: Global\n",
      "Title: popopop\n",
      "Cosine similarity with the query song : 0.0\n",
      "============================================================\n"
     ]
    }
   ],
   "source": [
    "def bag_of_words_model(song_id, num_results):\n",
    "    \n",
    "    #cosine distance\n",
    "    cosine_dist = cosine_similarity(title_features,title_features[song_id])\n",
    "    \n",
    "    indices = np.argsort(cosine_dist.flatten())[0:num_results]\n",
    "    pdists  = np.sort(cosine_dist.flatten())[0:num_results]\n",
    "\n",
    "    df_indices = list(data.index[indices])\n",
    "    \n",
    "    for i in range(0,len(indices)):\n",
    "        get_result(indices[i],data['artist'].loc[df_indices[0]], data['artist'].loc[df_indices[i]], data['title'].loc[df_indices[i]], 'bag_of_words')\n",
    "        print('Artist :',data['artist'].loc[df_indices[i]])\n",
    "        print ('Genre:', data['genre'].loc[df_indices[i]])\n",
    "        print ('Country:', data['country'].loc[df_indices[i]])\n",
    "        print ('Title:', data['title'].loc[df_indices[i]])\n",
    "        print ('Cosine similarity with the query song :', pdists[i])\n",
    "        print('='*60)\n",
    "\n",
    "#call the bag-of-words model for a product to get similar products.\n",
    "bag_of_words_model(80, 5)"
   ]
  },
  {
   "cell_type": "markdown",
   "metadata": {},
   "source": [
    "#### TF-IDF"
   ]
  },
  {
   "cell_type": "code",
   "execution_count": 37,
   "metadata": {},
   "outputs": [
    {
     "data": {
      "image/png": "[encoded data removed]",
      "text/plain": [
       "<Figure size 1800x216 with 3 Axes>"
      ]
     },
     "metadata": {
      "needs_background": "light"
     },
     "output_type": "display_data"
    },
    {
     "name": "stdout",
     "output_type": "stream",
     "text": [
      "Artist : Paulo Londra\n",
      "Genre: hip hop\n",
      "Country: Global\n",
      "Title: adan y eva\n",
      "Cosine distance from the given image : 0.0\n",
      "=============================================================================================================================\n"
     ]
    },
    {
     "data": {
      "image/png": "[encoded data removed]",
      "text/plain": [
       "<Figure size 1800x216 with 3 Axes>"
      ]
     },
     "metadata": {
      "needs_background": "light"
     },
     "output_type": "display_data"
    },
    {
     "name": "stdout",
     "output_type": "stream",
     "text": [
      "Artist : LIBERATO\n",
      "Genre: hip hop\n",
      "Country: Italy\n",
      "Title: gaiola\n",
      "Cosine distance from the given image : 0.0\n",
      "=============================================================================================================================\n"
     ]
    },
    {
     "data": {
      "image/png": "[encoded data removed]",
      "text/plain": [
       "<Figure size 1800x216 with 3 Axes>"
      ]
     },
     "metadata": {
      "needs_background": "light"
     },
     "output_type": "display_data"
    },
    {
     "name": "stdout",
     "output_type": "stream",
     "text": [
      "Artist : Ernia\n",
      "Genre: hip hop\n",
      "Country: Italy\n",
      "Title: tosse\n",
      "Cosine distance from the given image : 0.0\n",
      "=============================================================================================================================\n"
     ]
    },
    {
     "data": {
      "image/png": "[encoded data removed]",
      "text/plain": [
       "<Figure size 1800x216 with 3 Axes>"
      ]
     },
     "metadata": {
      "needs_background": "light"
     },
     "output_type": "display_data"
    },
    {
     "name": "stdout",
     "output_type": "stream",
     "text": [
      "Artist : Benji & Fede - Annalisa - SDJM\n",
      "Genre: pop\n",
      "Country: Italy\n",
      "Title: tutto per una ragione  - sdjm remix\n",
      "Cosine distance from the given image : 0.0\n",
      "=============================================================================================================================\n"
     ]
    },
    {
     "data": {
      "image/png": "[encoded data removed]",
      "text/plain": [
       "<Figure size 1800x216 with 3 Axes>"
      ]
     },
     "metadata": {
      "needs_background": "light"
     },
     "output_type": "display_data"
    },
    {
     "name": "stdout",
     "output_type": "stream",
     "text": [
      "Artist : J-AX\n",
      "Genre: pop\n",
      "Country: Italy\n",
      "Title: quando piove, diluvia\n",
      "Cosine distance from the given image : 0.0\n",
      "=============================================================================================================================\n"
     ]
    }
   ],
   "source": [
    "def tfidf_model(song_id, num_results):\n",
    "    \n",
    "    #cosine distance\n",
    "    cosine_dist = cosine_similarity(tfidf_artist_features,tfidf_artist_features[song_id])\n",
    "\n",
    "    indices = np.argsort(cosine_dist.flatten())[0:num_results]\n",
    "    pdists  = np.sort(cosine_dist.flatten())[0:num_results]\n",
    "\n",
    "    df_indices = list(data.index[indices])\n",
    "\n",
    "    for i in range(0,len(indices)):\n",
    "        get_result(indices[i],data['artist'].loc[df_indices[0]], data['artist'].loc[df_indices[i]], data['title'].loc[df_indices[i]], 'tfidf')\n",
    "        print('Artist :',data['artist'].loc[df_indices[i]])\n",
    "        print ('Genre:', data['genre'].loc[df_indices[i]])\n",
    "        print ('Country:', data['country'].loc[df_indices[i]])\n",
    "        print ('Title:', data['title'].loc[df_indices[i]])\n",
    "        print ('Cosine distance from the given image :', pdists[i])\n",
    "        print('='*125)\n",
    "tfidf_model(12, 5)"
   ]
  },
  {
   "cell_type": "markdown",
   "metadata": {},
   "source": [
    "#### using all the three features"
   ]
  },
  {
   "cell_type": "code",
   "execution_count": 38,
   "metadata": {},
   "outputs": [
    {
     "data": {
      "image/png": "[encoded data removed]",
      "text/plain": [
       "<Figure size 1800x216 with 3 Axes>"
      ]
     },
     "metadata": {
      "needs_background": "light"
     },
     "output_type": "display_data"
    },
    {
     "name": "stdout",
     "output_type": "stream",
     "text": [
      "Artist : Billie Eilish\n",
      "Genre: pop\n",
      "Country: Malaysia\n",
      "Title: ocean eyes\n",
      "Cosine similarity with the query song : 0.0\n",
      "============================================================\n"
     ]
    },
    {
     "data": {
      "image/png": "[encoded data removed]",
      "text/plain": [
       "<Figure size 1800x216 with 3 Axes>"
      ]
     },
     "metadata": {
      "needs_background": "light"
     },
     "output_type": "display_data"
    },
    {
     "name": "stdout",
     "output_type": "stream",
     "text": [
      "Artist : Ariana Grande - The Weeknd\n",
      "Genre: pop\n",
      "Country: Argentina\n",
      "Title: off the table\n",
      "Cosine similarity with the query song : 0.0\n",
      "============================================================\n"
     ]
    },
    {
     "data": {
      "image/png": "[encoded data removed]",
      "text/plain": [
       "<Figure size 1800x216 with 3 Axes>"
      ]
     },
     "metadata": {
      "needs_background": "light"
     },
     "output_type": "display_data"
    },
    {
     "name": "stdout",
     "output_type": "stream",
     "text": [
      "Artist : Shawn Hook - Vanessa Hudgens\n",
      "Genre: pop\n",
      "Country: Sweden\n",
      "Title: reminding me\n",
      "Cosine similarity with the query song : 0.0\n",
      "============================================================\n"
     ]
    },
    {
     "data": {
      "image/png": "[encoded data removed]",
      "text/plain": [
       "<Figure size 1800x216 with 3 Axes>"
      ]
     },
     "metadata": {
      "needs_background": "light"
     },
     "output_type": "display_data"
    },
    {
     "name": "stdout",
     "output_type": "stream",
     "text": [
      "Artist : NAV - The Weeknd\n",
      "Genre: hip hop\n",
      "Country: USA\n",
      "Title: price on my head\n",
      "Cosine similarity with the query song : 0.0\n",
      "============================================================\n"
     ]
    },
    {
     "data": {
      "image/png": "[encoded data removed]",
      "text/plain": [
       "<Figure size 1800x216 with 3 Axes>"
      ]
     },
     "metadata": {
      "needs_background": "light"
     },
     "output_type": "display_data"
    },
    {
     "name": "stdout",
     "output_type": "stream",
     "text": [
      "Artist : Niall Horan - Maren Morris\n",
      "Genre: pop\n",
      "Country: Australia\n",
      "Title: seeing blind\n",
      "Cosine similarity with the query song : 0.0\n",
      "============================================================\n"
     ]
    }
   ],
   "source": [
    "\n",
    "\n",
    "def bag_of_words_model(song_id, num_results):\n",
    "    \n",
    "    #cosine distance \n",
    "    cosine_dist = cosine_similarity(extra_features, extra_features[song_id])\n",
    "    \n",
    "    indices = np.argsort(cosine_dist.flatten())[0:num_results]\n",
    "    pdists  = np.sort(cosine_dist.flatten())[0:num_results]\n",
    "\n",
    "    df_indices = list(data.index[indices])\n",
    "    \n",
    "    for i in range(0,len(indices)):\n",
    "        get_result(indices[i],data['artist'].loc[df_indices[0]], data['artist'].loc[df_indices[i]], data['title'].loc[df_indices[i]], 'bag_of_words')\n",
    "        print('Artist :',data['artist'].loc[df_indices[i]])\n",
    "        print ('Genre:', data['genre'].loc[df_indices[i]])\n",
    "        print ('Country:', data['country'].loc[df_indices[i]])\n",
    "        print ('Title:', data['title'].loc[df_indices[i]])\n",
    "        print ('Cosine similarity with the query song :', pdists[i])\n",
    "        print('='*60)\n",
    "\n",
    "#call the bag-of-words model for a product to get similar products.\n",
    "bag_of_words_model(10, 5)"
   ]
  },
  {
   "cell_type": "markdown",
   "metadata": {},
   "source": [
    "### Using manhattan distance"
   ]
  },
  {
   "cell_type": "code",
   "execution_count": 39,
   "metadata": {},
   "outputs": [
    {
     "data": {
      "image/png": "[encoded data removed]",
      "text/plain": [
       "<Figure size 1800x216 with 3 Axes>"
      ]
     },
     "metadata": {
      "needs_background": "light"
     },
     "output_type": "display_data"
    },
    {
     "name": "stdout",
     "output_type": "stream",
     "text": [
      "Artist : Lil Xan\n",
      "Genre: rap\n",
      "Country: Global\n",
      "Title: betrayed\n",
      "Cosine similarity with the query song : 0.0\n",
      "============================================================\n"
     ]
    },
    {
     "data": {
      "image/png": "[encoded data removed]",
      "text/plain": [
       "<Figure size 1800x216 with 3 Axes>"
      ]
     },
     "metadata": {
      "needs_background": "light"
     },
     "output_type": "display_data"
    },
    {
     "name": "stdout",
     "output_type": "stream",
     "text": [
      "Artist : Lil Pump\n",
      "Genre: rap\n",
      "Country: Global\n",
      "Title: racks on racks\n",
      "Cosine similarity with the query song : 2.0\n",
      "============================================================\n"
     ]
    },
    {
     "data": {
      "image/png": "[encoded data removed]",
      "text/plain": [
       "<Figure size 1800x216 with 3 Axes>"
      ]
     },
     "metadata": {
      "needs_background": "light"
     },
     "output_type": "display_data"
    },
    {
     "name": "stdout",
     "output_type": "stream",
     "text": [
      "Artist : Lil Tecca\n",
      "Genre: rap\n",
      "Country: Global\n",
      "Title: love me\n",
      "Cosine similarity with the query song : 2.0\n",
      "============================================================\n"
     ]
    },
    {
     "data": {
      "image/png": "[encoded data removed]",
      "text/plain": [
       "<Figure size 1800x216 with 3 Axes>"
      ]
     },
     "metadata": {
      "needs_background": "light"
     },
     "output_type": "display_data"
    },
    {
     "name": "stdout",
     "output_type": "stream",
     "text": [
      "Artist : Lil Pump\n",
      "Genre: rap\n",
      "Country: Global\n",
      "Title: boss\n",
      "Cosine similarity with the query song : 2.0\n",
      "============================================================\n"
     ]
    },
    {
     "data": {
      "image/png": "[encoded data removed]",
      "text/plain": [
       "<Figure size 1800x216 with 3 Axes>"
      ]
     },
     "metadata": {
      "needs_background": "light"
     },
     "output_type": "display_data"
    },
    {
     "name": "stdout",
     "output_type": "stream",
     "text": [
      "Artist : Lil Nas X\n",
      "Genre: rap\n",
      "Country: Global\n",
      "Title: panini\n",
      "Cosine similarity with the query song : 2.0\n",
      "============================================================\n"
     ]
    }
   ],
   "source": [
    "\n",
    "\n",
    "def bag_of_words_model(song_id, num_results):\n",
    "    \n",
    "    # manhattan distance\n",
    "    manhat_dist = manhattan_distances(extra_features, extra_features[song_id])\n",
    "    \n",
    "    indices = np.argsort(manhat_dist.flatten())[0:num_results]\n",
    "    pdists  = np.sort(manhat_dist.flatten())[0:num_results]\n",
    "\n",
    "    df_indices = list(data.index[indices])\n",
    "    \n",
    "    for i in range(0,len(indices)):\n",
    "        get_result(indices[i],data['artist'].loc[df_indices[0]], data['artist'].loc[df_indices[i]], data['title'].loc[df_indices[i]], 'bag_of_words')\n",
    "        print('Artist :',data['artist'].loc[df_indices[i]])\n",
    "        print ('Genre:', data['genre'].loc[df_indices[i]])\n",
    "        print ('Country:', data['country'].loc[df_indices[i]])\n",
    "        print ('Title:', data['title'].loc[df_indices[i]])\n",
    "        print ('Cosine similarity with the query song :', pdists[i])\n",
    "        print('='*60)\n",
    "\n",
    "#call the bag-of-words model for a product to get similar products.\n",
    "bag_of_words_model(10, 5)"
   ]
  },
  {
   "cell_type": "markdown",
   "metadata": {},
   "source": [
    "# With other features\n",
    "## Remove duplicate to get better results"
   ]
  },
  {
   "cell_type": "code",
   "execution_count": 40,
   "metadata": {},
   "outputs": [],
   "source": [
    "df = df.drop_duplicates(subset=['title'], keep='first')"
   ]
  },
  {
   "cell_type": "code",
   "execution_count": 41,
   "metadata": {},
   "outputs": [],
   "source": [
    "data = df[['artist', 'genre', 'country', 'title', 'danceability', 'energy', 'loudness', 'mode', 'speechiness', 'acoustics']]"
   ]
  },
  {
   "cell_type": "code",
   "execution_count": 44,
   "metadata": {},
   "outputs": [],
   "source": [
    "scaler = MinMaxScaler()\n",
    "data['loudness'] = scaler.fit_transform(data['loudness'].values.reshape(-1, 1))"
   ]
  },
  {
   "cell_type": "code",
   "execution_count": 45,
   "metadata": {},
   "outputs": [
    {
     "data": {
      "text/plain": [
       "count    47044.000000\n",
       "mean         0.861592\n",
       "std          0.045312\n",
       "min          0.000000\n",
       "25%          0.841581\n",
       "50%          0.868815\n",
       "75%          0.890542\n",
       "max          1.000000\n",
       "Name: loudness, dtype: float64"
      ]
     },
     "execution_count": 45,
     "metadata": {},
     "output_type": "execute_result"
    }
   ],
   "source": [
    "data['loudness'].describe()"
   ]
  },
  {
   "cell_type": "code",
   "execution_count": 46,
   "metadata": {},
   "outputs": [],
   "source": [
    "scaler = MinMaxScaler()\n",
    "data['danceability'] = scaler.fit_transform(data['danceability'].values.reshape(-1, 1))"
   ]
  },
  {
   "cell_type": "code",
   "execution_count": 47,
   "metadata": {},
   "outputs": [],
   "source": [
    "scaler = MinMaxScaler()\n",
    "data['energy'] = scaler.fit_transform(data['energy'].values.reshape(-1, 1))"
   ]
  },
  {
   "cell_type": "code",
   "execution_count": 48,
   "metadata": {},
   "outputs": [],
   "source": [
    "scaler = MinMaxScaler()\n",
    "data['mode'] = scaler.fit_transform(data['mode'].values.reshape(-1, 1))"
   ]
  },
  {
   "cell_type": "code",
   "execution_count": 49,
   "metadata": {},
   "outputs": [],
   "source": [
    "scaler = MinMaxScaler()\n",
    "data['speechiness'] = scaler.fit_transform(data['speechiness'].values.reshape(-1, 1))"
   ]
  },
  {
   "cell_type": "code",
   "execution_count": 50,
   "metadata": {},
   "outputs": [],
   "source": [
    "scaler = MinMaxScaler()\n",
    "data['acoustics'] = scaler.fit_transform(data['acoustics'].values.reshape(-1, 1))"
   ]
  },
  {
   "cell_type": "code",
   "execution_count": 51,
   "metadata": {},
   "outputs": [],
   "source": [
    "# data = data.head(200)      # 200 Sample taken because data is note cleaned\n",
    "# all_data = all_data.head(200)"
   ]
  },
  {
   "cell_type": "code",
   "execution_count": 52,
   "metadata": {},
   "outputs": [
    {
     "name": "stdout",
     "output_type": "stream",
     "text": [
      "<class 'pandas.core.frame.DataFrame'>\n",
      "Int64Index: 47044 entries, 0 to 170627\n",
      "Data columns (total 10 columns):\n",
      " #   Column        Non-Null Count  Dtype  \n",
      "---  ------        --------------  -----  \n",
      " 0   artist        47044 non-null  object \n",
      " 1   genre         47044 non-null  object \n",
      " 2   country       47044 non-null  object \n",
      " 3   title         47044 non-null  object \n",
      " 4   danceability  47044 non-null  float64\n",
      " 5   energy        47044 non-null  float64\n",
      " 6   loudness      47044 non-null  float64\n",
      " 7   mode          47044 non-null  float64\n",
      " 8   speechiness   47044 non-null  float64\n",
      " 9   acoustics     47044 non-null  float64\n",
      "dtypes: float64(6), object(4)\n",
      "memory usage: 3.9+ MB\n"
     ]
    }
   ],
   "source": [
    "# Check the DTYPE\n",
    "data.info()"
   ]
  },
  {
   "cell_type": "code",
   "execution_count": 53,
   "metadata": {},
   "outputs": [],
   "source": [
    "# Convert all the datatype to numeric\n",
    "# numeric_df = data.apply(pd.to_numeric)\n",
    "# numeric_df.info()"
   ]
  },
  {
   "cell_type": "code",
   "execution_count": 54,
   "metadata": {},
   "outputs": [],
   "source": [
    "# Select Features\n",
    "sample_data = df[['danceability', 'energy', 'loudness', 'mode', 'speechiness', 'acoustics']]"
   ]
  },
  {
   "cell_type": "code",
   "execution_count": 55,
   "metadata": {},
   "outputs": [
    {
     "name": "stdout",
     "output_type": "stream",
     "text": [
      "[[1.        ]\n",
      " [0.96403453]\n",
      " [0.99392408]\n",
      " ...\n",
      " [0.96919727]\n",
      " [0.97693228]\n",
      " [0.99711189]]\n"
     ]
    }
   ],
   "source": [
    "# Cosine distance between 0th datapoint wrt all rows of the dataframe\n",
    "cosine_dist = cosine_similarity(sample_data, sample_data.iloc[0].values.reshape(1, -1))\n",
    "print(cosine_dist)"
   ]
  },
  {
   "cell_type": "code",
   "execution_count": 56,
   "metadata": {},
   "outputs": [
    {
     "name": "stdout",
     "output_type": "stream",
     "text": [
      "[ 6919  2982 22617 ...  2395 11672     0]\n",
      "[-0.62512658 -0.53471761 -0.13206219 -0.07942404 -0.0306228  -0.01368303\n",
      "  0.10919647  0.13321148  0.16893864  0.19675968]\n",
      "[ 0.19675968  0.16893864  0.13321148  0.10919647 -0.01368303 -0.0306228\n",
      " -0.07942404 -0.13206219 -0.53471761 -0.62512658]\n"
     ]
    }
   ],
   "source": [
    "indices = np.argsort(cosine_dist.flatten())     # indices after sorting the cosine scores\n",
    "print(indices)\n",
    "pdists  = np.sort(cosine_dist.flatten())[0:10]    # distance of the sorted indices\n",
    "print(pdists)\n",
    "print(pdists[::-1])"
   ]
  },
  {
   "cell_type": "code",
   "execution_count": 57,
   "metadata": {},
   "outputs": [
    {
     "data": {
      "text/plain": [
       "array([-0.53471761, -0.62512658, -0.0306228 , -0.01368303, -0.07942404,\n",
       "       -0.13206219])"
      ]
     },
     "execution_count": 57,
     "metadata": {},
     "output_type": "execute_result"
    }
   ],
   "source": [
    "cosine_dist[cosine_dist < 0]"
   ]
  },
  {
   "cell_type": "code",
   "execution_count": 58,
   "metadata": {},
   "outputs": [
    {
     "data": {
      "text/plain": [
       "array([-0.53471761])"
      ]
     },
     "execution_count": 58,
     "metadata": {},
     "output_type": "execute_result"
    }
   ],
   "source": [
    "cosine_dist[2982]"
   ]
  },
  {
   "cell_type": "code",
   "execution_count": null,
   "metadata": {},
   "outputs": [],
   "source": [
    "cosine_list = list(cosine_dist.flatten())\n",
    "cosine_list"
   ]
  },
  {
   "cell_type": "code",
   "execution_count": 60,
   "metadata": {},
   "outputs": [
    {
     "data": {
      "text/plain": [
       "[-0.5347176104931053,\n",
       " -0.6251265766310811,\n",
       " -0.030622798709229418,\n",
       " -0.013683031368302843,\n",
       " -0.07942403557026848,\n",
       " -0.1320621908934179]"
      ]
     },
     "execution_count": 60,
     "metadata": {},
     "output_type": "execute_result"
    }
   ],
   "source": [
    "neg_nos = [num for num in cosine_list if num < 0]\n",
    "neg_nos"
   ]
  },
  {
   "cell_type": "code",
   "execution_count": 63,
   "metadata": {},
   "outputs": [],
   "source": [
    "# print(cosine_list.index(-0.5347176104931053))\n",
    "# print(cosine_list.index(-0.6251265766310811))\n",
    "# print(cosine_list.index(-0.030622798709229432))\n",
    "# print(cosine_list.index(-0.013683031368302841))\n",
    "# print(cosine_list.index(-0.07942403557026846))\n",
    "# print(cosine_list.index(-0.13206219089341792))"
   ]
  },
  {
   "cell_type": "code",
   "execution_count": 64,
   "metadata": {},
   "outputs": [
    {
     "name": "stdout",
     "output_type": "stream",
     "text": [
      "[[0.962  0.787  1.509  0.     0.0554 0.666 ]]\n",
      "[[ 0.767  0.709 -4.47   1.     0.336  0.323]]\n",
      "[[-0.53471761]]\n"
     ]
    }
   ],
   "source": [
    "print(sample_data.iloc[2982].values.reshape(1, -1))\n",
    "print(sample_data.iloc[0].values.reshape(1, -1))\n",
    "cosine_dist = cosine_similarity(sample_data.iloc[2982].values.reshape(1, -1), sample_data.iloc[0].values.reshape(1, -1))\n",
    "print(cosine_dist) "
   ]
  },
  {
   "cell_type": "code",
   "execution_count": 65,
   "metadata": {},
   "outputs": [
    {
     "data": {
      "text/plain": [
       "1"
      ]
     },
     "execution_count": 65,
     "metadata": {},
     "output_type": "execute_result"
    }
   ],
   "source": [
    "len(cosine_dist[0])"
   ]
  },
  {
   "cell_type": "code",
   "execution_count": 66,
   "metadata": {},
   "outputs": [
    {
     "name": "stdout",
     "output_type": "stream",
     "text": [
      "adan y eva\n"
     ]
    },
    {
     "data": {
      "text/plain": [
       "[]"
      ]
     },
     "execution_count": 66,
     "metadata": {},
     "output_type": "execute_result"
    },
    {
     "data": {
      "image/png": "[encoded data removed]",
      "text/plain": [
       "<Figure size 1800x216 with 3 Axes>"
      ]
     },
     "metadata": {
      "needs_background": "light"
     },
     "output_type": "display_data"
    }
   ],
   "source": [
    "# heatmap\n",
    "text = data['title'].iloc[0]\n",
    "values = sample_data.iloc[0].values\n",
    "keys = sample_data.columns\n",
    "print(text)\n",
    "gs = gridspec.GridSpec(2, 2, width_ratios=[4,1], height_ratios=[4,1]) \n",
    "fig = plt.figure(figsize=(25,3))\n",
    "ax = plt.subplot(gs[0])\n",
    "ax = sns.heatmap(np.array([values]), annot=True)\n",
    "ax.set_xticklabels(keys) \n",
    "ax.set_title(text) \n",
    "ax = plt.subplot(gs[1])\n",
    "ax.grid(False)\n",
    "ax.set_xticks([])\n",
    "ax.set_yticks([])"
   ]
  },
  {
   "cell_type": "code",
   "execution_count": 67,
   "metadata": {},
   "outputs": [
    {
     "name": "stdout",
     "output_type": "stream",
     "text": [
      "[0]\n"
     ]
    },
    {
     "data": {
      "text/plain": [
       "array([-0.53471761])"
      ]
     },
     "execution_count": 67,
     "metadata": {},
     "output_type": "execute_result"
    }
   ],
   "source": [
    "indices = np.argsort(cosine_dist.flatten())     # indices after sorting the cosine scores\n",
    "print(indices)\n",
    "pdists  = np.sort(cosine_dist.flatten())[0:10]    # distance of the sorted indices\n",
    "pdists"
   ]
  },
  {
   "cell_type": "code",
   "execution_count": 68,
   "metadata": {},
   "outputs": [
    {
     "name": "stdout",
     "output_type": "stream",
     "text": [
      "[0]\n"
     ]
    }
   ],
   "source": [
    "df_indices = list(data.index[indices])\n",
    "print(df_indices)"
   ]
  },
  {
   "cell_type": "code",
   "execution_count": 69,
   "metadata": {},
   "outputs": [],
   "source": [
    "def plot_heatmap_numeric(keys, values, title):\n",
    "    gs = gridspec.GridSpec(2, 2, width_ratios=[4,1], height_ratios=[4,1]) \n",
    "    fig = plt.figure(figsize=(25,3))\n",
    "    \n",
    "    ax = plt.subplot(gs[0])\n",
    "    ax = sns.heatmap(np.array([values]), annot=True)\n",
    "    ax.set_xticklabels(keys) \n",
    "    ax.set_title(title)   \n",
    "    \n",
    "    ax = plt.subplot(gs[1])\n",
    "    ax.grid(False)\n",
    "    ax.set_xticks([])\n",
    "    ax.set_yticks([])\n",
    "    plt.show()\n",
    "\n",
    "# plot_heatmap(keys, values, title)\n"
   ]
  },
  {
   "cell_type": "code",
   "execution_count": 81,
   "metadata": {},
   "outputs": [
    {
     "name": "stdout",
     "output_type": "stream",
     "text": [
      "Query song\n",
      "\n",
      "Recommendation 0\n",
      "Artist : The Chainsmokers - Louane\n",
      "Genre: pop\n",
      "Country: Global\n",
      "Title: it wont kill ya\n",
      "Cosine distance from the given query : 1.0000000000000002\n",
      "=============================================================================================================================\n",
      "Recommendation 1\n",
      "Artist : SVEA\n",
      "Genre: pop\n",
      "Country: Sweden\n",
      "Title: all my exes\n",
      "Cosine distance from the given query : 0.9998182147103069\n",
      "=============================================================================================================================\n",
      "Recommendation 2\n",
      "Artist : Petter - Joel Alme\n",
      "Genre: hip hop\n",
      "Country: Sweden\n",
      "Title: barnängens ängar\n",
      "Cosine distance from the given query : 0.9996880611105337\n",
      "=============================================================================================================================\n",
      "Recommendation 3\n",
      "Artist : Lady Gaga\n",
      "Genre: pop\n",
      "Country: Ireland\n",
      "Title: heal me\n",
      "Cosine distance from the given query : 0.9995968565213865\n",
      "=============================================================================================================================\n",
      "Recommendation 4\n",
      "Artist : Page Four\n",
      "Genre: pop\n",
      "Country: Denmark\n",
      "Title: koldt udenfor\n",
      "Cosine distance from the given query : 0.9995305939689436\n",
      "=============================================================================================================================\n",
      "Recommendation 5\n",
      "Artist : Juice WRLD\n",
      "Genre: rap\n",
      "Country: Global\n",
      "Title: screw juice\n",
      "Cosine distance from the given query : 0.9995286464610459\n",
      "=============================================================================================================================\n",
      "Recommendation 6\n",
      "Artist : Joey Moe\n",
      "Genre: hip hop\n",
      "Country: Denmark\n",
      "Title: hey mor\n",
      "Cosine distance from the given query : 0.9994470134421046\n",
      "=============================================================================================================================\n",
      "Recommendation 7\n",
      "Artist : Luche\n",
      "Genre: hip hop\n",
      "Country: Italy\n",
      "Title: gli altri\n",
      "Cosine distance from the given query : 0.9994258526847056\n",
      "=============================================================================================================================\n"
     ]
    }
   ],
   "source": [
    "def other_model(song_id, num_results, all_data):\n",
    "    \n",
    "    #cosine distance  \n",
    "    data = all_data[['danceability', 'energy', 'loudness', 'mode', 'speechiness', 'acoustics']]\n",
    "    cosine_dist = cosine_similarity(data.iloc[song_id].values.reshape(1, -1), data)\n",
    "\n",
    "    indices = np.argsort(cosine_dist.flatten())[::-1][0:num_results]\n",
    "    pdists  = np.sort(cosine_dist.flatten())[::-1][0:num_results]\n",
    "\n",
    "    df_indices = list(data.index[indices])\n",
    "    print(\"Query song\")\n",
    "    print()\n",
    "    # plot_heatmap_numeric(data.columns, data.iloc[song_id], all_data['title'].iloc[song_id])\n",
    "\n",
    "\n",
    "    for i in range(0,len(indices)):\n",
    "        # ['danceability', 'energy', 'loudness', 'mode', 'speechiness', 'acoustics']\n",
    "        # get_result(indices[i],all_data['artist'].loc[df_indices[0]], all_data['artist'].loc[df_indices[i]], all_data['title'].loc[df_indices[i]], 'other features, ')\n",
    "        # print()\n",
    "        # print()\n",
    "        print(\"Recommendation\", i)\n",
    "        # plot_heatmap_numeric(data.columns, data.loc[df_indices[i]], all_data['title'].loc[df_indices[i]])\n",
    "        # print()\n",
    "        print('Artist :',all_data['artist'].loc[df_indices[i]])\n",
    "        print ('Genre:', all_data['genre'].loc[df_indices[i]])\n",
    "        print ('Country:', all_data['country'].loc[df_indices[i]])\n",
    "        print ('Title:', all_data['title'].loc[df_indices[i]])\n",
    "        print ('Cosine distance from the given query :', pdists[i])\n",
    "        print('='*125)\n",
    "other_model(1, 8, data)"
   ]
  },
  {
   "cell_type": "code",
   "execution_count": 71,
   "metadata": {},
   "outputs": [
    {
     "data": {
      "text/plain": [
       "artist          Douglas & Vinicius - MC Bruninho\n",
       "genre                                        pop\n",
       "country                                   Global\n",
       "title                        figurinha - ao vivo\n",
       "danceability                            0.601221\n",
       "energy                                     0.757\n",
       "loudness                                0.920322\n",
       "mode                                         1.0\n",
       "speechiness                             0.075983\n",
       "acoustics                                0.34739\n",
       "Name: 191, dtype: object"
      ]
     },
     "execution_count": 71,
     "metadata": {},
     "output_type": "execute_result"
    }
   ],
   "source": [
    "data.iloc[11]  "
   ]
  },
  {
   "cell_type": "code",
   "execution_count": 72,
   "metadata": {},
   "outputs": [
    {
     "data": {
      "text/html": [
       "<div>\n",
       "<style scoped>\n",
       "    .dataframe tbody tr th:only-of-type {\n",
       "        vertical-align: middle;\n",
       "    }\n",
       "\n",
       "    .dataframe tbody tr th {\n",
       "        vertical-align: top;\n",
       "    }\n",
       "\n",
       "    .dataframe thead th {\n",
       "        text-align: right;\n",
       "    }\n",
       "</style>\n",
       "<table border=\"1\" class=\"dataframe\">\n",
       "  <thead>\n",
       "    <tr style=\"text-align: right;\">\n",
       "      <th></th>\n",
       "      <th>artist</th>\n",
       "      <th>genre</th>\n",
       "      <th>country</th>\n",
       "      <th>title</th>\n",
       "      <th>danceability</th>\n",
       "      <th>energy</th>\n",
       "      <th>loudness</th>\n",
       "      <th>mode</th>\n",
       "      <th>speechiness</th>\n",
       "      <th>acoustics</th>\n",
       "    </tr>\n",
       "  </thead>\n",
       "  <tbody>\n",
       "    <tr>\n",
       "      <th>90829</th>\n",
       "      <td>Justice - Simian</td>\n",
       "      <td>dance/electronic</td>\n",
       "      <td>UK</td>\n",
       "      <td>we are your friends - justice vs. simian</td>\n",
       "      <td>0.657172</td>\n",
       "      <td>0.977</td>\n",
       "      <td>1.0</td>\n",
       "      <td>0.0</td>\n",
       "      <td>0.172878</td>\n",
       "      <td>0.010241</td>\n",
       "    </tr>\n",
       "  </tbody>\n",
       "</table>\n",
       "</div>"
      ],
      "text/plain": [
       "                 artist             genre country  \\\n",
       "90829  Justice - Simian  dance/electronic      UK   \n",
       "\n",
       "                                          title  danceability  energy  \\\n",
       "90829  we are your friends - justice vs. simian      0.657172   0.977   \n",
       "\n",
       "       loudness  mode  speechiness  acoustics  \n",
       "90829       1.0   0.0     0.172878   0.010241  "
      ]
     },
     "execution_count": 72,
     "metadata": {},
     "output_type": "execute_result"
    }
   ],
   "source": [
    "data[data['title'] == 'we are your friends - justice vs. simian']"
   ]
  },
  {
   "cell_type": "code",
   "execution_count": 73,
   "metadata": {},
   "outputs": [
    {
     "data": {
      "text/plain": [
       "count    47044.000000\n",
       "mean         0.861592\n",
       "std          0.045312\n",
       "min          0.000000\n",
       "25%          0.841581\n",
       "50%          0.868815\n",
       "75%          0.890542\n",
       "max          1.000000\n",
       "Name: loudness, dtype: float64"
      ]
     },
     "execution_count": 73,
     "metadata": {},
     "output_type": "execute_result"
    }
   ],
   "source": [
    "data['loudness'].describe()"
   ]
  },
  {
   "cell_type": "markdown",
   "metadata": {},
   "source": [
    "#### usually a value higher than 0.5 shows strong similarities.\n",
    "\n",
    "#### A cosine value of 0 means that the two vectors are at 90 degrees to each other (orthogonal) and have no match. The closer the cosine value to 1, the smaller the angle and the greater the match between vectors."
   ]
  },
  {
   "cell_type": "markdown",
   "metadata": {},
   "source": [
    "# Combining features"
   ]
  },
  {
   "cell_type": "code",
   "execution_count": 74,
   "metadata": {},
   "outputs": [
    {
     "data": {
      "text/html": [
       "<div>\n",
       "<style scoped>\n",
       "    .dataframe tbody tr th:only-of-type {\n",
       "        vertical-align: middle;\n",
       "    }\n",
       "\n",
       "    .dataframe tbody tr th {\n",
       "        vertical-align: top;\n",
       "    }\n",
       "\n",
       "    .dataframe thead th {\n",
       "        text-align: right;\n",
       "    }\n",
       "</style>\n",
       "<table border=\"1\" class=\"dataframe\">\n",
       "  <thead>\n",
       "    <tr style=\"text-align: right;\">\n",
       "      <th></th>\n",
       "      <th>0</th>\n",
       "      <th>1</th>\n",
       "      <th>2</th>\n",
       "      <th>3</th>\n",
       "      <th>4</th>\n",
       "      <th>5</th>\n",
       "      <th>6</th>\n",
       "      <th>7</th>\n",
       "      <th>8</th>\n",
       "      <th>9</th>\n",
       "      <th>...</th>\n",
       "      <th>1424</th>\n",
       "      <th>1425</th>\n",
       "      <th>1426</th>\n",
       "      <th>1427</th>\n",
       "      <th>1428</th>\n",
       "      <th>1429</th>\n",
       "      <th>1430</th>\n",
       "      <th>1431</th>\n",
       "      <th>1432</th>\n",
       "      <th>1433</th>\n",
       "    </tr>\n",
       "  </thead>\n",
       "  <tbody>\n",
       "    <tr>\n",
       "      <th>0</th>\n",
       "      <td>0</td>\n",
       "      <td>0</td>\n",
       "      <td>0</td>\n",
       "      <td>0</td>\n",
       "      <td>0</td>\n",
       "      <td>0</td>\n",
       "      <td>0</td>\n",
       "      <td>0</td>\n",
       "      <td>0</td>\n",
       "      <td>0</td>\n",
       "      <td>...</td>\n",
       "      <td>0</td>\n",
       "      <td>0</td>\n",
       "      <td>0</td>\n",
       "      <td>0</td>\n",
       "      <td>0</td>\n",
       "      <td>0</td>\n",
       "      <td>0</td>\n",
       "      <td>0</td>\n",
       "      <td>0</td>\n",
       "      <td>0</td>\n",
       "    </tr>\n",
       "    <tr>\n",
       "      <th>1</th>\n",
       "      <td>0</td>\n",
       "      <td>0</td>\n",
       "      <td>0</td>\n",
       "      <td>0</td>\n",
       "      <td>0</td>\n",
       "      <td>0</td>\n",
       "      <td>0</td>\n",
       "      <td>0</td>\n",
       "      <td>0</td>\n",
       "      <td>0</td>\n",
       "      <td>...</td>\n",
       "      <td>0</td>\n",
       "      <td>0</td>\n",
       "      <td>0</td>\n",
       "      <td>0</td>\n",
       "      <td>0</td>\n",
       "      <td>0</td>\n",
       "      <td>0</td>\n",
       "      <td>0</td>\n",
       "      <td>0</td>\n",
       "      <td>0</td>\n",
       "    </tr>\n",
       "    <tr>\n",
       "      <th>2</th>\n",
       "      <td>0</td>\n",
       "      <td>0</td>\n",
       "      <td>0</td>\n",
       "      <td>0</td>\n",
       "      <td>0</td>\n",
       "      <td>0</td>\n",
       "      <td>0</td>\n",
       "      <td>0</td>\n",
       "      <td>0</td>\n",
       "      <td>0</td>\n",
       "      <td>...</td>\n",
       "      <td>0</td>\n",
       "      <td>0</td>\n",
       "      <td>0</td>\n",
       "      <td>0</td>\n",
       "      <td>0</td>\n",
       "      <td>0</td>\n",
       "      <td>0</td>\n",
       "      <td>0</td>\n",
       "      <td>0</td>\n",
       "      <td>0</td>\n",
       "    </tr>\n",
       "    <tr>\n",
       "      <th>3</th>\n",
       "      <td>0</td>\n",
       "      <td>0</td>\n",
       "      <td>0</td>\n",
       "      <td>0</td>\n",
       "      <td>0</td>\n",
       "      <td>0</td>\n",
       "      <td>0</td>\n",
       "      <td>0</td>\n",
       "      <td>0</td>\n",
       "      <td>0</td>\n",
       "      <td>...</td>\n",
       "      <td>0</td>\n",
       "      <td>0</td>\n",
       "      <td>0</td>\n",
       "      <td>0</td>\n",
       "      <td>0</td>\n",
       "      <td>0</td>\n",
       "      <td>0</td>\n",
       "      <td>0</td>\n",
       "      <td>0</td>\n",
       "      <td>0</td>\n",
       "    </tr>\n",
       "    <tr>\n",
       "      <th>4</th>\n",
       "      <td>0</td>\n",
       "      <td>0</td>\n",
       "      <td>0</td>\n",
       "      <td>0</td>\n",
       "      <td>0</td>\n",
       "      <td>0</td>\n",
       "      <td>0</td>\n",
       "      <td>0</td>\n",
       "      <td>0</td>\n",
       "      <td>0</td>\n",
       "      <td>...</td>\n",
       "      <td>0</td>\n",
       "      <td>0</td>\n",
       "      <td>0</td>\n",
       "      <td>0</td>\n",
       "      <td>0</td>\n",
       "      <td>0</td>\n",
       "      <td>0</td>\n",
       "      <td>0</td>\n",
       "      <td>0</td>\n",
       "      <td>0</td>\n",
       "    </tr>\n",
       "    <tr>\n",
       "      <th>...</th>\n",
       "      <td>...</td>\n",
       "      <td>...</td>\n",
       "      <td>...</td>\n",
       "      <td>...</td>\n",
       "      <td>...</td>\n",
       "      <td>...</td>\n",
       "      <td>...</td>\n",
       "      <td>...</td>\n",
       "      <td>...</td>\n",
       "      <td>...</td>\n",
       "      <td>...</td>\n",
       "      <td>...</td>\n",
       "      <td>...</td>\n",
       "      <td>...</td>\n",
       "      <td>...</td>\n",
       "      <td>...</td>\n",
       "      <td>...</td>\n",
       "      <td>...</td>\n",
       "      <td>...</td>\n",
       "      <td>...</td>\n",
       "      <td>...</td>\n",
       "    </tr>\n",
       "    <tr>\n",
       "      <th>1995</th>\n",
       "      <td>0</td>\n",
       "      <td>0</td>\n",
       "      <td>0</td>\n",
       "      <td>0</td>\n",
       "      <td>0</td>\n",
       "      <td>0</td>\n",
       "      <td>0</td>\n",
       "      <td>0</td>\n",
       "      <td>0</td>\n",
       "      <td>0</td>\n",
       "      <td>...</td>\n",
       "      <td>0</td>\n",
       "      <td>0</td>\n",
       "      <td>0</td>\n",
       "      <td>0</td>\n",
       "      <td>0</td>\n",
       "      <td>0</td>\n",
       "      <td>0</td>\n",
       "      <td>0</td>\n",
       "      <td>0</td>\n",
       "      <td>0</td>\n",
       "    </tr>\n",
       "    <tr>\n",
       "      <th>1996</th>\n",
       "      <td>0</td>\n",
       "      <td>0</td>\n",
       "      <td>0</td>\n",
       "      <td>0</td>\n",
       "      <td>0</td>\n",
       "      <td>0</td>\n",
       "      <td>0</td>\n",
       "      <td>0</td>\n",
       "      <td>0</td>\n",
       "      <td>0</td>\n",
       "      <td>...</td>\n",
       "      <td>0</td>\n",
       "      <td>0</td>\n",
       "      <td>0</td>\n",
       "      <td>0</td>\n",
       "      <td>0</td>\n",
       "      <td>0</td>\n",
       "      <td>0</td>\n",
       "      <td>0</td>\n",
       "      <td>0</td>\n",
       "      <td>0</td>\n",
       "    </tr>\n",
       "    <tr>\n",
       "      <th>1997</th>\n",
       "      <td>0</td>\n",
       "      <td>0</td>\n",
       "      <td>0</td>\n",
       "      <td>0</td>\n",
       "      <td>0</td>\n",
       "      <td>0</td>\n",
       "      <td>0</td>\n",
       "      <td>0</td>\n",
       "      <td>0</td>\n",
       "      <td>0</td>\n",
       "      <td>...</td>\n",
       "      <td>0</td>\n",
       "      <td>0</td>\n",
       "      <td>0</td>\n",
       "      <td>0</td>\n",
       "      <td>0</td>\n",
       "      <td>0</td>\n",
       "      <td>0</td>\n",
       "      <td>0</td>\n",
       "      <td>0</td>\n",
       "      <td>0</td>\n",
       "    </tr>\n",
       "    <tr>\n",
       "      <th>1998</th>\n",
       "      <td>0</td>\n",
       "      <td>0</td>\n",
       "      <td>0</td>\n",
       "      <td>0</td>\n",
       "      <td>0</td>\n",
       "      <td>0</td>\n",
       "      <td>0</td>\n",
       "      <td>0</td>\n",
       "      <td>0</td>\n",
       "      <td>0</td>\n",
       "      <td>...</td>\n",
       "      <td>0</td>\n",
       "      <td>0</td>\n",
       "      <td>0</td>\n",
       "      <td>0</td>\n",
       "      <td>0</td>\n",
       "      <td>0</td>\n",
       "      <td>0</td>\n",
       "      <td>0</td>\n",
       "      <td>0</td>\n",
       "      <td>0</td>\n",
       "    </tr>\n",
       "    <tr>\n",
       "      <th>1999</th>\n",
       "      <td>0</td>\n",
       "      <td>0</td>\n",
       "      <td>0</td>\n",
       "      <td>0</td>\n",
       "      <td>0</td>\n",
       "      <td>0</td>\n",
       "      <td>0</td>\n",
       "      <td>0</td>\n",
       "      <td>0</td>\n",
       "      <td>0</td>\n",
       "      <td>...</td>\n",
       "      <td>0</td>\n",
       "      <td>0</td>\n",
       "      <td>0</td>\n",
       "      <td>0</td>\n",
       "      <td>0</td>\n",
       "      <td>0</td>\n",
       "      <td>0</td>\n",
       "      <td>0</td>\n",
       "      <td>0</td>\n",
       "      <td>0</td>\n",
       "    </tr>\n",
       "  </tbody>\n",
       "</table>\n",
       "<p>2000 rows × 1434 columns</p>\n",
       "</div>"
      ],
      "text/plain": [
       "      0     1     2     3     4     5     6     7     8     9     ...  1424  \\\n",
       "0        0     0     0     0     0     0     0     0     0     0  ...     0   \n",
       "1        0     0     0     0     0     0     0     0     0     0  ...     0   \n",
       "2        0     0     0     0     0     0     0     0     0     0  ...     0   \n",
       "3        0     0     0     0     0     0     0     0     0     0  ...     0   \n",
       "4        0     0     0     0     0     0     0     0     0     0  ...     0   \n",
       "...    ...   ...   ...   ...   ...   ...   ...   ...   ...   ...  ...   ...   \n",
       "1995     0     0     0     0     0     0     0     0     0     0  ...     0   \n",
       "1996     0     0     0     0     0     0     0     0     0     0  ...     0   \n",
       "1997     0     0     0     0     0     0     0     0     0     0  ...     0   \n",
       "1998     0     0     0     0     0     0     0     0     0     0  ...     0   \n",
       "1999     0     0     0     0     0     0     0     0     0     0  ...     0   \n",
       "\n",
       "      1425  1426  1427  1428  1429  1430  1431  1432  1433  \n",
       "0        0     0     0     0     0     0     0     0     0  \n",
       "1        0     0     0     0     0     0     0     0     0  \n",
       "2        0     0     0     0     0     0     0     0     0  \n",
       "3        0     0     0     0     0     0     0     0     0  \n",
       "4        0     0     0     0     0     0     0     0     0  \n",
       "...    ...   ...   ...   ...   ...   ...   ...   ...   ...  \n",
       "1995     0     0     0     0     0     0     0     0     0  \n",
       "1996     0     0     0     0     0     0     0     0     0  \n",
       "1997     0     0     0     0     0     0     0     0     0  \n",
       "1998     0     0     0     0     0     0     0     0     0  \n",
       "1999     0     0     0     0     0     0     0     0     0  \n",
       "\n",
       "[2000 rows x 1434 columns]"
      ]
     },
     "execution_count": 74,
     "metadata": {},
     "output_type": "execute_result"
    }
   ],
   "source": [
    "artist_df"
   ]
  },
  {
   "cell_type": "code",
   "execution_count": 75,
   "metadata": {},
   "outputs": [
    {
     "data": {
      "text/html": [
       "<div>\n",
       "<style scoped>\n",
       "    .dataframe tbody tr th:only-of-type {\n",
       "        vertical-align: middle;\n",
       "    }\n",
       "\n",
       "    .dataframe tbody tr th {\n",
       "        vertical-align: top;\n",
       "    }\n",
       "\n",
       "    .dataframe thead th {\n",
       "        text-align: right;\n",
       "    }\n",
       "</style>\n",
       "<table border=\"1\" class=\"dataframe\">\n",
       "  <thead>\n",
       "    <tr style=\"text-align: right;\">\n",
       "      <th></th>\n",
       "      <th>danceability</th>\n",
       "      <th>energy</th>\n",
       "      <th>loudness</th>\n",
       "      <th>mode</th>\n",
       "      <th>speechiness</th>\n",
       "      <th>acoustics</th>\n",
       "      <th>0</th>\n",
       "      <th>1</th>\n",
       "      <th>2</th>\n",
       "      <th>3</th>\n",
       "      <th>...</th>\n",
       "      <th>1424</th>\n",
       "      <th>1425</th>\n",
       "      <th>1426</th>\n",
       "      <th>1427</th>\n",
       "      <th>1428</th>\n",
       "      <th>1429</th>\n",
       "      <th>1430</th>\n",
       "      <th>1431</th>\n",
       "      <th>1432</th>\n",
       "      <th>1433</th>\n",
       "    </tr>\n",
       "  </thead>\n",
       "  <tbody>\n",
       "    <tr>\n",
       "      <th>0</th>\n",
       "      <td>0.780264</td>\n",
       "      <td>0.709</td>\n",
       "      <td>0.901681</td>\n",
       "      <td>1.0</td>\n",
       "      <td>0.347826</td>\n",
       "      <td>0.324297</td>\n",
       "      <td>0</td>\n",
       "      <td>0</td>\n",
       "      <td>0</td>\n",
       "      <td>0</td>\n",
       "      <td>...</td>\n",
       "      <td>0</td>\n",
       "      <td>0</td>\n",
       "      <td>0</td>\n",
       "      <td>0</td>\n",
       "      <td>0</td>\n",
       "      <td>0</td>\n",
       "      <td>0</td>\n",
       "      <td>0</td>\n",
       "      <td>0</td>\n",
       "      <td>0</td>\n",
       "    </tr>\n",
       "    <tr>\n",
       "      <th>1</th>\n",
       "      <td>0.581892</td>\n",
       "      <td>0.530</td>\n",
       "      <td>0.835902</td>\n",
       "      <td>0.0</td>\n",
       "      <td>0.067702</td>\n",
       "      <td>0.064960</td>\n",
       "      <td>0</td>\n",
       "      <td>0</td>\n",
       "      <td>0</td>\n",
       "      <td>0</td>\n",
       "      <td>...</td>\n",
       "      <td>0</td>\n",
       "      <td>0</td>\n",
       "      <td>0</td>\n",
       "      <td>0</td>\n",
       "      <td>0</td>\n",
       "      <td>0</td>\n",
       "      <td>0</td>\n",
       "      <td>0</td>\n",
       "      <td>0</td>\n",
       "      <td>0</td>\n",
       "    </tr>\n",
       "    <tr>\n",
       "      <th>2</th>\n",
       "      <td>0.496439</td>\n",
       "      <td>0.538</td>\n",
       "      <td>0.893497</td>\n",
       "      <td>1.0</td>\n",
       "      <td>0.078675</td>\n",
       "      <td>0.147590</td>\n",
       "      <td>0</td>\n",
       "      <td>0</td>\n",
       "      <td>0</td>\n",
       "      <td>0</td>\n",
       "      <td>...</td>\n",
       "      <td>0</td>\n",
       "      <td>0</td>\n",
       "      <td>0</td>\n",
       "      <td>0</td>\n",
       "      <td>0</td>\n",
       "      <td>0</td>\n",
       "      <td>0</td>\n",
       "      <td>0</td>\n",
       "      <td>0</td>\n",
       "      <td>0</td>\n",
       "    </tr>\n",
       "    <tr>\n",
       "      <th>3</th>\n",
       "      <td>0.523906</td>\n",
       "      <td>0.917</td>\n",
       "      <td>0.855533</td>\n",
       "      <td>1.0</td>\n",
       "      <td>0.043168</td>\n",
       "      <td>0.000210</td>\n",
       "      <td>0</td>\n",
       "      <td>0</td>\n",
       "      <td>0</td>\n",
       "      <td>0</td>\n",
       "      <td>...</td>\n",
       "      <td>0</td>\n",
       "      <td>0</td>\n",
       "      <td>0</td>\n",
       "      <td>0</td>\n",
       "      <td>0</td>\n",
       "      <td>0</td>\n",
       "      <td>0</td>\n",
       "      <td>0</td>\n",
       "      <td>0</td>\n",
       "      <td>0</td>\n",
       "    </tr>\n",
       "    <tr>\n",
       "      <th>4</th>\n",
       "      <td>0.603255</td>\n",
       "      <td>0.712</td>\n",
       "      <td>0.871560</td>\n",
       "      <td>0.0</td>\n",
       "      <td>0.029607</td>\n",
       "      <td>0.001847</td>\n",
       "      <td>0</td>\n",
       "      <td>0</td>\n",
       "      <td>0</td>\n",
       "      <td>0</td>\n",
       "      <td>...</td>\n",
       "      <td>0</td>\n",
       "      <td>0</td>\n",
       "      <td>0</td>\n",
       "      <td>0</td>\n",
       "      <td>0</td>\n",
       "      <td>0</td>\n",
       "      <td>0</td>\n",
       "      <td>0</td>\n",
       "      <td>0</td>\n",
       "      <td>0</td>\n",
       "    </tr>\n",
       "    <tr>\n",
       "      <th>...</th>\n",
       "      <td>...</td>\n",
       "      <td>...</td>\n",
       "      <td>...</td>\n",
       "      <td>...</td>\n",
       "      <td>...</td>\n",
       "      <td>...</td>\n",
       "      <td>...</td>\n",
       "      <td>...</td>\n",
       "      <td>...</td>\n",
       "      <td>...</td>\n",
       "      <td>...</td>\n",
       "      <td>...</td>\n",
       "      <td>...</td>\n",
       "      <td>...</td>\n",
       "      <td>...</td>\n",
       "      <td>...</td>\n",
       "      <td>...</td>\n",
       "      <td>...</td>\n",
       "      <td>...</td>\n",
       "      <td>...</td>\n",
       "      <td>...</td>\n",
       "    </tr>\n",
       "    <tr>\n",
       "      <th>1995</th>\n",
       "      <td>0.679552</td>\n",
       "      <td>0.826</td>\n",
       "      <td>0.901746</td>\n",
       "      <td>1.0</td>\n",
       "      <td>0.039648</td>\n",
       "      <td>0.023695</td>\n",
       "      <td>0</td>\n",
       "      <td>0</td>\n",
       "      <td>0</td>\n",
       "      <td>0</td>\n",
       "      <td>...</td>\n",
       "      <td>0</td>\n",
       "      <td>0</td>\n",
       "      <td>0</td>\n",
       "      <td>0</td>\n",
       "      <td>0</td>\n",
       "      <td>0</td>\n",
       "      <td>0</td>\n",
       "      <td>0</td>\n",
       "      <td>0</td>\n",
       "      <td>0</td>\n",
       "    </tr>\n",
       "    <tr>\n",
       "      <th>1996</th>\n",
       "      <td>0.687691</td>\n",
       "      <td>0.869</td>\n",
       "      <td>0.948721</td>\n",
       "      <td>1.0</td>\n",
       "      <td>0.043789</td>\n",
       "      <td>0.115462</td>\n",
       "      <td>0</td>\n",
       "      <td>0</td>\n",
       "      <td>0</td>\n",
       "      <td>0</td>\n",
       "      <td>...</td>\n",
       "      <td>0</td>\n",
       "      <td>0</td>\n",
       "      <td>0</td>\n",
       "      <td>0</td>\n",
       "      <td>0</td>\n",
       "      <td>0</td>\n",
       "      <td>0</td>\n",
       "      <td>0</td>\n",
       "      <td>0</td>\n",
       "      <td>0</td>\n",
       "    </tr>\n",
       "    <tr>\n",
       "      <th>1997</th>\n",
       "      <td>0.761953</td>\n",
       "      <td>0.774</td>\n",
       "      <td>0.873248</td>\n",
       "      <td>1.0</td>\n",
       "      <td>0.124224</td>\n",
       "      <td>0.086044</td>\n",
       "      <td>0</td>\n",
       "      <td>0</td>\n",
       "      <td>0</td>\n",
       "      <td>0</td>\n",
       "      <td>...</td>\n",
       "      <td>0</td>\n",
       "      <td>0</td>\n",
       "      <td>0</td>\n",
       "      <td>0</td>\n",
       "      <td>0</td>\n",
       "      <td>0</td>\n",
       "      <td>0</td>\n",
       "      <td>0</td>\n",
       "      <td>0</td>\n",
       "      <td>0</td>\n",
       "    </tr>\n",
       "    <tr>\n",
       "      <th>1998</th>\n",
       "      <td>0.397762</td>\n",
       "      <td>0.595</td>\n",
       "      <td>0.859073</td>\n",
       "      <td>0.0</td>\n",
       "      <td>0.042547</td>\n",
       "      <td>0.916667</td>\n",
       "      <td>0</td>\n",
       "      <td>0</td>\n",
       "      <td>0</td>\n",
       "      <td>0</td>\n",
       "      <td>...</td>\n",
       "      <td>0</td>\n",
       "      <td>0</td>\n",
       "      <td>0</td>\n",
       "      <td>0</td>\n",
       "      <td>0</td>\n",
       "      <td>0</td>\n",
       "      <td>0</td>\n",
       "      <td>0</td>\n",
       "      <td>0</td>\n",
       "      <td>0</td>\n",
       "    </tr>\n",
       "    <tr>\n",
       "      <th>1999</th>\n",
       "      <td>0.707019</td>\n",
       "      <td>0.620</td>\n",
       "      <td>0.843030</td>\n",
       "      <td>0.0</td>\n",
       "      <td>0.053934</td>\n",
       "      <td>0.088454</td>\n",
       "      <td>0</td>\n",
       "      <td>0</td>\n",
       "      <td>0</td>\n",
       "      <td>0</td>\n",
       "      <td>...</td>\n",
       "      <td>0</td>\n",
       "      <td>0</td>\n",
       "      <td>0</td>\n",
       "      <td>0</td>\n",
       "      <td>0</td>\n",
       "      <td>0</td>\n",
       "      <td>0</td>\n",
       "      <td>0</td>\n",
       "      <td>0</td>\n",
       "      <td>0</td>\n",
       "    </tr>\n",
       "  </tbody>\n",
       "</table>\n",
       "<p>2000 rows × 1440 columns</p>\n",
       "</div>"
      ],
      "text/plain": [
       "      danceability  energy  loudness  mode  speechiness  acoustics  0  1  2  \\\n",
       "0         0.780264   0.709  0.901681   1.0     0.347826   0.324297  0  0  0   \n",
       "1         0.581892   0.530  0.835902   0.0     0.067702   0.064960  0  0  0   \n",
       "2         0.496439   0.538  0.893497   1.0     0.078675   0.147590  0  0  0   \n",
       "3         0.523906   0.917  0.855533   1.0     0.043168   0.000210  0  0  0   \n",
       "4         0.603255   0.712  0.871560   0.0     0.029607   0.001847  0  0  0   \n",
       "...            ...     ...       ...   ...          ...        ... .. .. ..   \n",
       "1995      0.679552   0.826  0.901746   1.0     0.039648   0.023695  0  0  0   \n",
       "1996      0.687691   0.869  0.948721   1.0     0.043789   0.115462  0  0  0   \n",
       "1997      0.761953   0.774  0.873248   1.0     0.124224   0.086044  0  0  0   \n",
       "1998      0.397762   0.595  0.859073   0.0     0.042547   0.916667  0  0  0   \n",
       "1999      0.707019   0.620  0.843030   0.0     0.053934   0.088454  0  0  0   \n",
       "\n",
       "      3  ...  1424  1425  1426  1427  1428  1429  1430  1431  1432  1433  \n",
       "0     0  ...     0     0     0     0     0     0     0     0     0     0  \n",
       "1     0  ...     0     0     0     0     0     0     0     0     0     0  \n",
       "2     0  ...     0     0     0     0     0     0     0     0     0     0  \n",
       "3     0  ...     0     0     0     0     0     0     0     0     0     0  \n",
       "4     0  ...     0     0     0     0     0     0     0     0     0     0  \n",
       "...  ..  ...   ...   ...   ...   ...   ...   ...   ...   ...   ...   ...  \n",
       "1995  0  ...     0     0     0     0     0     0     0     0     0     0  \n",
       "1996  0  ...     0     0     0     0     0     0     0     0     0     0  \n",
       "1997  0  ...     0     0     0     0     0     0     0     0     0     0  \n",
       "1998  0  ...     0     0     0     0     0     0     0     0     0     0  \n",
       "1999  0  ...     0     0     0     0     0     0     0     0     0     0  \n",
       "\n",
       "[2000 rows x 1440 columns]"
      ]
     },
     "execution_count": 75,
     "metadata": {},
     "output_type": "execute_result"
    }
   ],
   "source": [
    "all_features = data[['artist', 'genre', 'country', 'title', 'danceability', 'energy', 'loudness', 'mode', 'speechiness', 'acoustics']]\n",
    "num_features = data[['danceability', 'energy', 'loudness', 'mode', 'speechiness', 'acoustics']]\n",
    "numerical_features = num_features.head(2000)\n",
    "numerical_features.reset_index(drop = True, inplace=True)\n",
    "frames = [numerical_features, artist_df]\n",
    "combined_df = pd.concat(frames, axis=1)\n",
    "combined_df"
   ]
  },
  {
   "cell_type": "code",
   "execution_count": 76,
   "metadata": {},
   "outputs": [
    {
     "name": "stdout",
     "output_type": "stream",
     "text": [
      "Artist : The Chainsmokers - Louane\n",
      "Genre: pop\n",
      "Country: Global\n",
      "Title: it wont kill ya\n",
      "Cosine distance from the given query : 1.0\n",
      "=============================================================================================================================\n",
      "Artist : The Chainsmokers\n",
      "Genre: pop\n",
      "Country: Global\n",
      "Title: honest\n",
      "Cosine distance from the given query : 0.8748835733917032\n",
      "=============================================================================================================================\n",
      "Artist : The Chainsmokers\n",
      "Genre: pop\n",
      "Country: Global\n",
      "Title: kills you slowly\n",
      "Cosine distance from the given query : 0.8734488335759865\n",
      "=============================================================================================================================\n",
      "Artist : The Chainsmokers\n",
      "Genre: pop\n",
      "Country: Global\n",
      "Title: you owe me\n",
      "Cosine distance from the given query : 0.8703186007234981\n",
      "=============================================================================================================================\n",
      "Artist : The Chainsmokers\n",
      "Genre: pop\n",
      "Country: Global\n",
      "Title: paris\n",
      "Cosine distance from the given query : 0.7741496870970489\n",
      "=============================================================================================================================\n",
      "Artist : The Chainsmokers - Coldplay\n",
      "Genre: pop\n",
      "Country: Global\n",
      "Title: something just like this\n",
      "Cosine distance from the given query : 0.7731529733611496\n",
      "=============================================================================================================================\n",
      "Artist : Coldplay - The Chainsmokers\n",
      "Genre: indie\n",
      "Country: Global\n",
      "Title: something just like this - tokyo remix\n",
      "Cosine distance from the given query : 0.7592769374738421\n",
      "=============================================================================================================================\n",
      "Artist : The Chainsmokers - Kygo\n",
      "Genre: pop\n",
      "Country: Global\n",
      "Title: family\n",
      "Cosine distance from the given query : 0.6917202021405464\n",
      "=============================================================================================================================\n"
     ]
    }
   ],
   "source": [
    "def other_model(song_id, num_results, all_data):\n",
    "    \n",
    "    #cosine distance  \n",
    "    # data = all_data[['danceability', 'energy', 'loudness', 'mode', 'speechiness', 'acoustics']]\n",
    "    cosine_dist = cosine_similarity(all_data.iloc[song_id].values.reshape(1, -1), all_data)\n",
    "\n",
    "    indices = np.argsort(cosine_dist.flatten())[::-1][0:num_results]\n",
    "    pdists  = np.sort(cosine_dist.flatten())[::-1][0:num_results]\n",
    "\n",
    "    df_indices = list(data.index[indices])\n",
    "\n",
    "    for i in range(0,len(indices)):\n",
    "        # ['danceability', 'energy', 'loudness', 'mode', 'speechiness', 'acoustics']\n",
    "        # get_result(indices[i],all_data['artist'].loc[df_indices[0]], all_data['artist'].loc[df_indices[i]], all_data['title'].loc[df_indices[i]], 'other features, ')\n",
    "        print('Artist :',all_features['artist'].loc[df_indices[i]])\n",
    "        print ('Genre:', all_features['genre'].loc[df_indices[i]])\n",
    "        print ('Country:', all_features['country'].loc[df_indices[i]])\n",
    "        print ('Title:', all_features['title'].loc[df_indices[i]])\n",
    "        print ('Cosine distance from the given query :', pdists[i])\n",
    "        print('='*125)\n",
    "other_model(1, 8, combined_df)"
   ]
  },
  {
   "cell_type": "markdown",
   "metadata": {},
   "source": [
    "## Combining three features with numerical features"
   ]
  },
  {
   "cell_type": "code",
   "execution_count": 77,
   "metadata": {},
   "outputs": [
    {
     "data": {
      "text/html": [
       "<div>\n",
       "<style scoped>\n",
       "    .dataframe tbody tr th:only-of-type {\n",
       "        vertical-align: middle;\n",
       "    }\n",
       "\n",
       "    .dataframe tbody tr th {\n",
       "        vertical-align: top;\n",
       "    }\n",
       "\n",
       "    .dataframe thead th {\n",
       "        text-align: right;\n",
       "    }\n",
       "</style>\n",
       "<table border=\"1\" class=\"dataframe\">\n",
       "  <thead>\n",
       "    <tr style=\"text-align: right;\">\n",
       "      <th></th>\n",
       "      <th>danceability</th>\n",
       "      <th>energy</th>\n",
       "      <th>loudness</th>\n",
       "      <th>mode</th>\n",
       "      <th>speechiness</th>\n",
       "      <th>acoustics</th>\n",
       "      <th>0</th>\n",
       "      <th>1</th>\n",
       "      <th>2</th>\n",
       "      <th>3</th>\n",
       "      <th>...</th>\n",
       "      <th>1469</th>\n",
       "      <th>1470</th>\n",
       "      <th>1471</th>\n",
       "      <th>1472</th>\n",
       "      <th>1473</th>\n",
       "      <th>1474</th>\n",
       "      <th>1475</th>\n",
       "      <th>1476</th>\n",
       "      <th>1477</th>\n",
       "      <th>1478</th>\n",
       "    </tr>\n",
       "  </thead>\n",
       "  <tbody>\n",
       "    <tr>\n",
       "      <th>0</th>\n",
       "      <td>0.780264</td>\n",
       "      <td>0.709</td>\n",
       "      <td>0.901681</td>\n",
       "      <td>1.0</td>\n",
       "      <td>0.347826</td>\n",
       "      <td>0.324297</td>\n",
       "      <td>0</td>\n",
       "      <td>0</td>\n",
       "      <td>0</td>\n",
       "      <td>0</td>\n",
       "      <td>...</td>\n",
       "      <td>0</td>\n",
       "      <td>0</td>\n",
       "      <td>0</td>\n",
       "      <td>0</td>\n",
       "      <td>0</td>\n",
       "      <td>0</td>\n",
       "      <td>0</td>\n",
       "      <td>0</td>\n",
       "      <td>0</td>\n",
       "      <td>0</td>\n",
       "    </tr>\n",
       "    <tr>\n",
       "      <th>1</th>\n",
       "      <td>0.581892</td>\n",
       "      <td>0.530</td>\n",
       "      <td>0.835902</td>\n",
       "      <td>0.0</td>\n",
       "      <td>0.067702</td>\n",
       "      <td>0.064960</td>\n",
       "      <td>0</td>\n",
       "      <td>0</td>\n",
       "      <td>0</td>\n",
       "      <td>0</td>\n",
       "      <td>...</td>\n",
       "      <td>0</td>\n",
       "      <td>0</td>\n",
       "      <td>0</td>\n",
       "      <td>0</td>\n",
       "      <td>0</td>\n",
       "      <td>0</td>\n",
       "      <td>0</td>\n",
       "      <td>0</td>\n",
       "      <td>0</td>\n",
       "      <td>0</td>\n",
       "    </tr>\n",
       "    <tr>\n",
       "      <th>2</th>\n",
       "      <td>0.496439</td>\n",
       "      <td>0.538</td>\n",
       "      <td>0.893497</td>\n",
       "      <td>1.0</td>\n",
       "      <td>0.078675</td>\n",
       "      <td>0.147590</td>\n",
       "      <td>0</td>\n",
       "      <td>0</td>\n",
       "      <td>0</td>\n",
       "      <td>0</td>\n",
       "      <td>...</td>\n",
       "      <td>0</td>\n",
       "      <td>0</td>\n",
       "      <td>0</td>\n",
       "      <td>0</td>\n",
       "      <td>0</td>\n",
       "      <td>0</td>\n",
       "      <td>0</td>\n",
       "      <td>0</td>\n",
       "      <td>0</td>\n",
       "      <td>0</td>\n",
       "    </tr>\n",
       "    <tr>\n",
       "      <th>3</th>\n",
       "      <td>0.523906</td>\n",
       "      <td>0.917</td>\n",
       "      <td>0.855533</td>\n",
       "      <td>1.0</td>\n",
       "      <td>0.043168</td>\n",
       "      <td>0.000210</td>\n",
       "      <td>0</td>\n",
       "      <td>0</td>\n",
       "      <td>0</td>\n",
       "      <td>0</td>\n",
       "      <td>...</td>\n",
       "      <td>0</td>\n",
       "      <td>0</td>\n",
       "      <td>0</td>\n",
       "      <td>0</td>\n",
       "      <td>0</td>\n",
       "      <td>0</td>\n",
       "      <td>0</td>\n",
       "      <td>0</td>\n",
       "      <td>0</td>\n",
       "      <td>0</td>\n",
       "    </tr>\n",
       "    <tr>\n",
       "      <th>4</th>\n",
       "      <td>0.603255</td>\n",
       "      <td>0.712</td>\n",
       "      <td>0.871560</td>\n",
       "      <td>0.0</td>\n",
       "      <td>0.029607</td>\n",
       "      <td>0.001847</td>\n",
       "      <td>0</td>\n",
       "      <td>0</td>\n",
       "      <td>0</td>\n",
       "      <td>0</td>\n",
       "      <td>...</td>\n",
       "      <td>0</td>\n",
       "      <td>0</td>\n",
       "      <td>0</td>\n",
       "      <td>0</td>\n",
       "      <td>0</td>\n",
       "      <td>0</td>\n",
       "      <td>0</td>\n",
       "      <td>0</td>\n",
       "      <td>0</td>\n",
       "      <td>0</td>\n",
       "    </tr>\n",
       "    <tr>\n",
       "      <th>...</th>\n",
       "      <td>...</td>\n",
       "      <td>...</td>\n",
       "      <td>...</td>\n",
       "      <td>...</td>\n",
       "      <td>...</td>\n",
       "      <td>...</td>\n",
       "      <td>...</td>\n",
       "      <td>...</td>\n",
       "      <td>...</td>\n",
       "      <td>...</td>\n",
       "      <td>...</td>\n",
       "      <td>...</td>\n",
       "      <td>...</td>\n",
       "      <td>...</td>\n",
       "      <td>...</td>\n",
       "      <td>...</td>\n",
       "      <td>...</td>\n",
       "      <td>...</td>\n",
       "      <td>...</td>\n",
       "      <td>...</td>\n",
       "      <td>...</td>\n",
       "    </tr>\n",
       "    <tr>\n",
       "      <th>1995</th>\n",
       "      <td>0.679552</td>\n",
       "      <td>0.826</td>\n",
       "      <td>0.901746</td>\n",
       "      <td>1.0</td>\n",
       "      <td>0.039648</td>\n",
       "      <td>0.023695</td>\n",
       "      <td>0</td>\n",
       "      <td>0</td>\n",
       "      <td>0</td>\n",
       "      <td>0</td>\n",
       "      <td>...</td>\n",
       "      <td>0</td>\n",
       "      <td>0</td>\n",
       "      <td>0</td>\n",
       "      <td>0</td>\n",
       "      <td>0</td>\n",
       "      <td>0</td>\n",
       "      <td>0</td>\n",
       "      <td>0</td>\n",
       "      <td>0</td>\n",
       "      <td>0</td>\n",
       "    </tr>\n",
       "    <tr>\n",
       "      <th>1996</th>\n",
       "      <td>0.687691</td>\n",
       "      <td>0.869</td>\n",
       "      <td>0.948721</td>\n",
       "      <td>1.0</td>\n",
       "      <td>0.043789</td>\n",
       "      <td>0.115462</td>\n",
       "      <td>0</td>\n",
       "      <td>0</td>\n",
       "      <td>0</td>\n",
       "      <td>0</td>\n",
       "      <td>...</td>\n",
       "      <td>0</td>\n",
       "      <td>0</td>\n",
       "      <td>0</td>\n",
       "      <td>0</td>\n",
       "      <td>0</td>\n",
       "      <td>0</td>\n",
       "      <td>0</td>\n",
       "      <td>0</td>\n",
       "      <td>0</td>\n",
       "      <td>0</td>\n",
       "    </tr>\n",
       "    <tr>\n",
       "      <th>1997</th>\n",
       "      <td>0.761953</td>\n",
       "      <td>0.774</td>\n",
       "      <td>0.873248</td>\n",
       "      <td>1.0</td>\n",
       "      <td>0.124224</td>\n",
       "      <td>0.086044</td>\n",
       "      <td>0</td>\n",
       "      <td>0</td>\n",
       "      <td>0</td>\n",
       "      <td>0</td>\n",
       "      <td>...</td>\n",
       "      <td>0</td>\n",
       "      <td>0</td>\n",
       "      <td>0</td>\n",
       "      <td>0</td>\n",
       "      <td>0</td>\n",
       "      <td>0</td>\n",
       "      <td>0</td>\n",
       "      <td>0</td>\n",
       "      <td>0</td>\n",
       "      <td>0</td>\n",
       "    </tr>\n",
       "    <tr>\n",
       "      <th>1998</th>\n",
       "      <td>0.397762</td>\n",
       "      <td>0.595</td>\n",
       "      <td>0.859073</td>\n",
       "      <td>0.0</td>\n",
       "      <td>0.042547</td>\n",
       "      <td>0.916667</td>\n",
       "      <td>0</td>\n",
       "      <td>0</td>\n",
       "      <td>0</td>\n",
       "      <td>0</td>\n",
       "      <td>...</td>\n",
       "      <td>0</td>\n",
       "      <td>0</td>\n",
       "      <td>0</td>\n",
       "      <td>0</td>\n",
       "      <td>0</td>\n",
       "      <td>0</td>\n",
       "      <td>0</td>\n",
       "      <td>0</td>\n",
       "      <td>0</td>\n",
       "      <td>0</td>\n",
       "    </tr>\n",
       "    <tr>\n",
       "      <th>1999</th>\n",
       "      <td>0.707019</td>\n",
       "      <td>0.620</td>\n",
       "      <td>0.843030</td>\n",
       "      <td>0.0</td>\n",
       "      <td>0.053934</td>\n",
       "      <td>0.088454</td>\n",
       "      <td>0</td>\n",
       "      <td>0</td>\n",
       "      <td>0</td>\n",
       "      <td>0</td>\n",
       "      <td>...</td>\n",
       "      <td>0</td>\n",
       "      <td>0</td>\n",
       "      <td>0</td>\n",
       "      <td>0</td>\n",
       "      <td>0</td>\n",
       "      <td>0</td>\n",
       "      <td>0</td>\n",
       "      <td>0</td>\n",
       "      <td>0</td>\n",
       "      <td>0</td>\n",
       "    </tr>\n",
       "  </tbody>\n",
       "</table>\n",
       "<p>2000 rows × 1485 columns</p>\n",
       "</div>"
      ],
      "text/plain": [
       "      danceability  energy  loudness  mode  speechiness  acoustics  0  1  2  \\\n",
       "0         0.780264   0.709  0.901681   1.0     0.347826   0.324297  0  0  0   \n",
       "1         0.581892   0.530  0.835902   0.0     0.067702   0.064960  0  0  0   \n",
       "2         0.496439   0.538  0.893497   1.0     0.078675   0.147590  0  0  0   \n",
       "3         0.523906   0.917  0.855533   1.0     0.043168   0.000210  0  0  0   \n",
       "4         0.603255   0.712  0.871560   0.0     0.029607   0.001847  0  0  0   \n",
       "...            ...     ...       ...   ...          ...        ... .. .. ..   \n",
       "1995      0.679552   0.826  0.901746   1.0     0.039648   0.023695  0  0  0   \n",
       "1996      0.687691   0.869  0.948721   1.0     0.043789   0.115462  0  0  0   \n",
       "1997      0.761953   0.774  0.873248   1.0     0.124224   0.086044  0  0  0   \n",
       "1998      0.397762   0.595  0.859073   0.0     0.042547   0.916667  0  0  0   \n",
       "1999      0.707019   0.620  0.843030   0.0     0.053934   0.088454  0  0  0   \n",
       "\n",
       "      3  ...  1469  1470  1471  1472  1473  1474  1475  1476  1477  1478  \n",
       "0     0  ...     0     0     0     0     0     0     0     0     0     0  \n",
       "1     0  ...     0     0     0     0     0     0     0     0     0     0  \n",
       "2     0  ...     0     0     0     0     0     0     0     0     0     0  \n",
       "3     0  ...     0     0     0     0     0     0     0     0     0     0  \n",
       "4     0  ...     0     0     0     0     0     0     0     0     0     0  \n",
       "...  ..  ...   ...   ...   ...   ...   ...   ...   ...   ...   ...   ...  \n",
       "1995  0  ...     0     0     0     0     0     0     0     0     0     0  \n",
       "1996  0  ...     0     0     0     0     0     0     0     0     0     0  \n",
       "1997  0  ...     0     0     0     0     0     0     0     0     0     0  \n",
       "1998  0  ...     0     0     0     0     0     0     0     0     0     0  \n",
       "1999  0  ...     0     0     0     0     0     0     0     0     0     0  \n",
       "\n",
       "[2000 rows x 1485 columns]"
      ]
     },
     "execution_count": 77,
     "metadata": {},
     "output_type": "execute_result"
    }
   ],
   "source": [
    "all_features = data[['artist', 'genre', 'country', 'title', 'danceability', 'energy', 'loudness', 'mode', 'speechiness', 'acoustics']]\n",
    "num_features = data[['danceability', 'energy', 'loudness', 'mode', 'speechiness', 'acoustics']]\n",
    "numerical_features = num_features.head(2000)\n",
    "numerical_features.reset_index(drop = True, inplace=True)\n",
    "frames = [numerical_features, three_feat]\n",
    "combined_df = pd.concat(frames, axis=1)\n",
    "combined_df"
   ]
  },
  {
   "cell_type": "code",
   "execution_count": 82,
   "metadata": {},
   "outputs": [
    {
     "name": "stdout",
     "output_type": "stream",
     "text": [
      "Artist : Gorillaz - De La Soul\n",
      "Genre: hip hop\n",
      "Country: Global\n",
      "Title: momentz\n",
      "Cosine distance from the given query : 1.0\n",
      "=============================================================================================================================\n",
      "Artist : Gorillaz\n",
      "Genre: hip hop\n",
      "Country: Global\n",
      "Title: kansas\n",
      "Cosine distance from the given query : 0.838139220211969\n",
      "=============================================================================================================================\n",
      "Artist : Gorillaz - Jehnny Beth\n",
      "Genre: hip hop\n",
      "Country: Global\n",
      "Title: we got the power\n",
      "Cosine distance from the given query : 0.7408090432239375\n",
      "=============================================================================================================================\n",
      "Artist : Gorillaz - Kali Uchis\n",
      "Genre: hip hop\n",
      "Country: Global\n",
      "Title: shes my collar\n",
      "Cosine distance from the given query : 0.7400197260349223\n",
      "=============================================================================================================================\n",
      "Artist : Logic\n",
      "Genre: hip hop\n",
      "Country: Global\n",
      "Title: everybody dies\n",
      "Cosine distance from the given query : 0.7292166874323488\n",
      "=============================================================================================================================\n",
      "Artist : Logic\n",
      "Genre: hip hop\n",
      "Country: Global\n",
      "Title: keanu reeves\n",
      "Cosine distance from the given query : 0.7284871730351354\n",
      "=============================================================================================================================\n",
      "Artist : Salmo\n",
      "Genre: hip hop\n",
      "Country: Global\n",
      "Title: ho paura di uscire\n",
      "Cosine distance from the given query : 0.7270629688873288\n",
      "=============================================================================================================================\n",
      "Artist : Eminem\n",
      "Genre: hip hop\n",
      "Country: Global\n",
      "Title: stepdad\n",
      "Cosine distance from the given query : 0.7269339525290311\n",
      "=============================================================================================================================\n"
     ]
    }
   ],
   "source": [
    "def other_model(song_id, num_results, all_data):\n",
    "    \n",
    "    #cosine distance  \n",
    "    # data = all_data[['danceability', 'energy', 'loudness', 'mode', 'speechiness', 'acoustics']]\n",
    "    cosine_dist = cosine_similarity(all_data.iloc[song_id].values.reshape(1, -1), all_data)\n",
    "\n",
    "    indices = np.argsort(cosine_dist.flatten())[::-1][0:num_results]\n",
    "    pdists  = np.sort(cosine_dist.flatten())[::-1][0:num_results]\n",
    "\n",
    "    df_indices = list(data.index[indices])\n",
    "\n",
    "    for i in range(0,len(indices)):\n",
    "        # ['danceability', 'energy', 'loudness', 'mode', 'speechiness', 'acoustics']\n",
    "        # get_result(indices[i],all_data['artist'].loc[df_indices[0]], all_data['artist'].loc[df_indices[i]], all_data['title'].loc[df_indices[i]], 'other features, ')\n",
    "        print('Artist :',all_features['artist'].loc[df_indices[i]])\n",
    "        print ('Genre:', all_features['genre'].loc[df_indices[i]])\n",
    "        print ('Country:', all_features['country'].loc[df_indices[i]])\n",
    "        print ('Title:', all_features['title'].loc[df_indices[i]])\n",
    "        print ('Cosine distance from the given query :', pdists[i])\n",
    "        print('='*125)\n",
    "other_model(19, 8, combined_df)"
   ]
  },
  {
   "cell_type": "code",
   "execution_count": null,
   "metadata": {},
   "outputs": [],
   "source": []
  }
 ],
 "metadata": {
  "interpreter": {
   "hash": "f52beb384b68d5eb0d446382da2b2d4b83d52f0a9c7f36501ec716596d1ec002"
  },
  "kernelspec": {
   "display_name": "Python 3.9.12 ('venv': venv)",
   "language": "python",
   "name": "python3"
  },
  "language_info": {
   "codemirror_mode": {
    "name": "ipython",
    "version": 3
   },
   "file_extension": ".py",
   "mimetype": "text/x-python",
   "name": "python",
   "nbconvert_exporter": "python",
   "pygments_lexer": "ipython3",
   "version": "3.9.12"
  },
  "orig_nbformat": 4
 },
 "nbformat": 4,
 "nbformat_minor": 2
}
