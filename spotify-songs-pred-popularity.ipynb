{
 "cells": [
  {
   "cell_type": "code",
   "execution_count": 1,
   "metadata": {
    "pycharm": {
     "name": "#%%\n"
    }
   },
   "outputs": [],
   "source": [
    "import pandas as pd\n",
    "import numpy as np\n",
    "import matplotlib.pyplot as plt\n",
    "import seaborn as sns\n",
    "import warnings\n",
    "import colorcet as cc\n",
    "import plotly.express as px\n",
    "\n",
    "from sklearn.preprocessing import RobustScaler\n",
    "from sklearn.preprocessing import Normalizer\n",
    "from sklearn.preprocessing import QuantileTransformer\n",
    "from sklearn.preprocessing import PowerTransformer\n",
    "\n",
    "warnings.filterwarnings(\"ignore\")\n",
    "pd.set_option('display.max_columns', None)\n",
    "pd.set_option('display.max_rows', 500)\n",
    "%matplotlib inline\n",
    "\n",
    "config = {\n",
    "  'toImageButtonOptions': {\n",
    "    'format': 'png', # one of png, svg, jpeg, webp\n",
    "    'filename': 'newplot',\n",
    "    'height': 500,\n",
    "    'width': 900,\n",
    "    'scale': 5 # Multiply title/legend/axis/canvas sizes by this factor\n",
    "  }\n",
    "}"
   ]
  },
  {
   "cell_type": "code",
   "execution_count": 2,
   "metadata": {
    "pycharm": {
     "name": "#%%\n"
    }
   },
   "outputs": [],
   "source": [
    "df=pd.read_pickle('./dataset_/dataset_cleaned_popularity.pkl')\n",
    "df.drop(columns=['index', 'level_0'], inplace=True)  # Comes from pickeling the file\n",
    "df.reset_index(drop=True, inplace=True)"
   ]
  },
  {
   "cell_type": "code",
   "execution_count": 3,
   "metadata": {
    "pycharm": {
     "name": "#%%\n"
    }
   },
   "outputs": [
    {
     "data": {
      "text/plain": [
       "count    166681.000000\n",
       "mean       5511.366120\n",
       "std       13236.831027\n",
       "min           0.800000\n",
       "25%          78.400000\n",
       "50%         530.400000\n",
       "75%        3995.050000\n",
       "max      233766.900000\n",
       "Name: popularity, dtype: float64"
      ]
     },
     "execution_count": 3,
     "metadata": {},
     "output_type": "execute_result"
    }
   ],
   "source": [
    "df['popularity'].describe()"
   ]
  },
  {
   "cell_type": "markdown",
   "metadata": {
    "pycharm": {
     "name": "#%% md\n"
    }
   },
   "source": [
    "## Popularity Prediction\n",
    "This week, we started to work on our predictive mining tasks, one of them is song popularity prediction. By the end of this project, we hope that we can see what is the typical song that is getting more popular than the others in Spotify. We got two ideas in mind, which are popularity score prediction and popularity classification (popular / not popular)."
   ]
  },
  {
   "cell_type": "markdown",
   "metadata": {
    "pycharm": {
     "name": "#%% md\n"
    }
   },
   "source": [
    "### Data Pre-processing\n",
    "Before jump into the main modelling task, here we'll process all of our our possible features based on its data type:\n",
    "\n",
    "**Numerical Features**\n",
    "* popularity\n",
    "* artist_followers\n",
    "* danceability\n",
    "* energy\n",
    "* loudness\n",
    "* speechiness\n",
    "* acoustics\n",
    "* instrumentalness\n",
    "* liveness\n",
    "* valence\n",
    "* duration_min\n",
    "\n",
    "**Categorical Features**\n",
    "* explicit\n",
    "* key\n",
    "* mode\n",
    "* release_day\n",
    "\n",
    "For the first round selection, we selected the features based on our knowledge and common sense, later we'll try to fit in all these features into some models first and see how they perform.\n",
    "#### Popularity\n",
    "The original value of our popularity score is the calculation of number of days and position they stayed in the Top 200 Playlist and the score is also difference for each country."
   ]
  },
  {
   "cell_type": "code",
   "execution_count": 4,
   "metadata": {
    "pycharm": {
     "name": "#%%\n"
    }
   },
   "outputs": [
    {
     "data": {
      "text/html": [
       "<div>\n",
       "<style scoped>\n",
       "    .dataframe tbody tr th:only-of-type {\n",
       "        vertical-align: middle;\n",
       "    }\n",
       "\n",
       "    .dataframe tbody tr th {\n",
       "        vertical-align: top;\n",
       "    }\n",
       "\n",
       "    .dataframe thead th {\n",
       "        text-align: right;\n",
       "    }\n",
       "</style>\n",
       "<table border=\"1\" class=\"dataframe\">\n",
       "  <thead>\n",
       "    <tr style=\"text-align: right;\">\n",
       "      <th></th>\n",
       "      <th>country</th>\n",
       "      <th>uri</th>\n",
       "      <th>popularity</th>\n",
       "      <th>title</th>\n",
       "      <th>artist</th>\n",
       "      <th>release_type</th>\n",
       "      <th>sub_genre</th>\n",
       "      <th>artist_followers</th>\n",
       "      <th>explicit</th>\n",
       "      <th>album</th>\n",
       "      <th>release_date</th>\n",
       "      <th>track_number</th>\n",
       "      <th>tracks_in_album</th>\n",
       "      <th>danceability</th>\n",
       "      <th>energy</th>\n",
       "      <th>key</th>\n",
       "      <th>loudness</th>\n",
       "      <th>mode</th>\n",
       "      <th>speechiness</th>\n",
       "      <th>acoustics</th>\n",
       "      <th>instrumentalness</th>\n",
       "      <th>liveness</th>\n",
       "      <th>valence</th>\n",
       "      <th>tempo</th>\n",
       "      <th>time_signature</th>\n",
       "      <th>genre</th>\n",
       "      <th>days_since_release</th>\n",
       "      <th>released_after_2017</th>\n",
       "      <th>explicit_false</th>\n",
       "      <th>explicit_true</th>\n",
       "      <th>popu_max</th>\n",
       "      <th>top10_dummy</th>\n",
       "      <th>top50_dummy</th>\n",
       "      <th>cluster</th>\n",
       "      <th>duration_min</th>\n",
       "      <th>release_year</th>\n",
       "      <th>release_month</th>\n",
       "      <th>release_day</th>\n",
       "    </tr>\n",
       "  </thead>\n",
       "  <tbody>\n",
       "    <tr>\n",
       "      <th>52226</th>\n",
       "      <td>Belgium</td>\n",
       "      <td>https://open.spotify.com/track/7qiZfU4dY1lWllz...</td>\n",
       "      <td>233766.9</td>\n",
       "      <td>shape of you</td>\n",
       "      <td>Ed Sheeran</td>\n",
       "      <td>album</td>\n",
       "      <td>pop</td>\n",
       "      <td>71783101.0</td>\n",
       "      <td>False</td>\n",
       "      <td>÷ (Deluxe)</td>\n",
       "      <td>2017-03-03</td>\n",
       "      <td>4</td>\n",
       "      <td>16</td>\n",
       "      <td>0.825</td>\n",
       "      <td>0.652</td>\n",
       "      <td>1</td>\n",
       "      <td>-3.183</td>\n",
       "      <td>0</td>\n",
       "      <td>0.0802</td>\n",
       "      <td>0.581</td>\n",
       "      <td>0.0</td>\n",
       "      <td>0.0931</td>\n",
       "      <td>0.931</td>\n",
       "      <td>95.977</td>\n",
       "      <td>4</td>\n",
       "      <td>pop</td>\n",
       "      <td>1349.0</td>\n",
       "      <td>1.0</td>\n",
       "      <td>1</td>\n",
       "      <td>0</td>\n",
       "      <td>1</td>\n",
       "      <td>1.0</td>\n",
       "      <td>1.0</td>\n",
       "      <td>english speaking and nordic</td>\n",
       "      <td>3.895217</td>\n",
       "      <td>2017</td>\n",
       "      <td>3</td>\n",
       "      <td>3</td>\n",
       "    </tr>\n",
       "    <tr>\n",
       "      <th>52232</th>\n",
       "      <td>Costa Rica</td>\n",
       "      <td>https://open.spotify.com/track/7qiZfU4dY1lWllz...</td>\n",
       "      <td>228707.2</td>\n",
       "      <td>shape of you</td>\n",
       "      <td>Ed Sheeran</td>\n",
       "      <td>album</td>\n",
       "      <td>pop</td>\n",
       "      <td>71783101.0</td>\n",
       "      <td>False</td>\n",
       "      <td>÷ (Deluxe)</td>\n",
       "      <td>2017-03-03</td>\n",
       "      <td>4</td>\n",
       "      <td>16</td>\n",
       "      <td>0.825</td>\n",
       "      <td>0.652</td>\n",
       "      <td>1</td>\n",
       "      <td>-3.183</td>\n",
       "      <td>0</td>\n",
       "      <td>0.0802</td>\n",
       "      <td>0.581</td>\n",
       "      <td>0.0</td>\n",
       "      <td>0.0931</td>\n",
       "      <td>0.931</td>\n",
       "      <td>95.977</td>\n",
       "      <td>4</td>\n",
       "      <td>pop</td>\n",
       "      <td>1349.0</td>\n",
       "      <td>1.0</td>\n",
       "      <td>1</td>\n",
       "      <td>0</td>\n",
       "      <td>1</td>\n",
       "      <td>1.0</td>\n",
       "      <td>1.0</td>\n",
       "      <td>spanish speaking</td>\n",
       "      <td>3.895217</td>\n",
       "      <td>2017</td>\n",
       "      <td>3</td>\n",
       "      <td>3</td>\n",
       "    </tr>\n",
       "    <tr>\n",
       "      <th>52220</th>\n",
       "      <td>Global</td>\n",
       "      <td>https://open.spotify.com/track/7qiZfU4dY1lWllz...</td>\n",
       "      <td>221571.0</td>\n",
       "      <td>shape of you</td>\n",
       "      <td>Ed Sheeran</td>\n",
       "      <td>album</td>\n",
       "      <td>pop</td>\n",
       "      <td>71783101.0</td>\n",
       "      <td>False</td>\n",
       "      <td>÷ (Deluxe)</td>\n",
       "      <td>2017-03-03</td>\n",
       "      <td>4</td>\n",
       "      <td>16</td>\n",
       "      <td>0.825</td>\n",
       "      <td>0.652</td>\n",
       "      <td>1</td>\n",
       "      <td>-3.183</td>\n",
       "      <td>0</td>\n",
       "      <td>0.0802</td>\n",
       "      <td>0.581</td>\n",
       "      <td>0.0</td>\n",
       "      <td>0.0931</td>\n",
       "      <td>0.931</td>\n",
       "      <td>95.977</td>\n",
       "      <td>4</td>\n",
       "      <td>pop</td>\n",
       "      <td>1349.0</td>\n",
       "      <td>1.0</td>\n",
       "      <td>1</td>\n",
       "      <td>0</td>\n",
       "      <td>1</td>\n",
       "      <td>1.0</td>\n",
       "      <td>1.0</td>\n",
       "      <td>global</td>\n",
       "      <td>3.895217</td>\n",
       "      <td>2017</td>\n",
       "      <td>3</td>\n",
       "      <td>3</td>\n",
       "    </tr>\n",
       "    <tr>\n",
       "      <th>30287</th>\n",
       "      <td>Philippines</td>\n",
       "      <td>https://open.spotify.com/track/5uCax9HTNlzGybI...</td>\n",
       "      <td>217605.8</td>\n",
       "      <td>say you wont let go</td>\n",
       "      <td>James Arthur</td>\n",
       "      <td>album</td>\n",
       "      <td>pop</td>\n",
       "      <td>6843219.0</td>\n",
       "      <td>False</td>\n",
       "      <td>Back from the Edge</td>\n",
       "      <td>2016-10-28</td>\n",
       "      <td>2</td>\n",
       "      <td>17</td>\n",
       "      <td>0.358</td>\n",
       "      <td>0.557</td>\n",
       "      <td>10</td>\n",
       "      <td>-7.398</td>\n",
       "      <td>1</td>\n",
       "      <td>0.0590</td>\n",
       "      <td>0.695</td>\n",
       "      <td>0.0</td>\n",
       "      <td>0.0902</td>\n",
       "      <td>0.494</td>\n",
       "      <td>85.043</td>\n",
       "      <td>4</td>\n",
       "      <td>pop</td>\n",
       "      <td>1469.0</td>\n",
       "      <td>0.0</td>\n",
       "      <td>1</td>\n",
       "      <td>0</td>\n",
       "      <td>2</td>\n",
       "      <td>1.0</td>\n",
       "      <td>1.0</td>\n",
       "      <td>southern europe and portuguese heritage</td>\n",
       "      <td>3.524450</td>\n",
       "      <td>2016</td>\n",
       "      <td>10</td>\n",
       "      <td>28</td>\n",
       "    </tr>\n",
       "    <tr>\n",
       "      <th>52252</th>\n",
       "      <td>Singapore</td>\n",
       "      <td>https://open.spotify.com/track/7qiZfU4dY1lWllz...</td>\n",
       "      <td>217307.4</td>\n",
       "      <td>shape of you</td>\n",
       "      <td>Ed Sheeran</td>\n",
       "      <td>album</td>\n",
       "      <td>pop</td>\n",
       "      <td>71783101.0</td>\n",
       "      <td>False</td>\n",
       "      <td>÷ (Deluxe)</td>\n",
       "      <td>2017-03-03</td>\n",
       "      <td>4</td>\n",
       "      <td>16</td>\n",
       "      <td>0.825</td>\n",
       "      <td>0.652</td>\n",
       "      <td>1</td>\n",
       "      <td>-3.183</td>\n",
       "      <td>0</td>\n",
       "      <td>0.0802</td>\n",
       "      <td>0.581</td>\n",
       "      <td>0.0</td>\n",
       "      <td>0.0931</td>\n",
       "      <td>0.931</td>\n",
       "      <td>95.977</td>\n",
       "      <td>4</td>\n",
       "      <td>pop</td>\n",
       "      <td>1349.0</td>\n",
       "      <td>1.0</td>\n",
       "      <td>1</td>\n",
       "      <td>0</td>\n",
       "      <td>1</td>\n",
       "      <td>1.0</td>\n",
       "      <td>1.0</td>\n",
       "      <td>english speaking and nordic</td>\n",
       "      <td>3.895217</td>\n",
       "      <td>2017</td>\n",
       "      <td>3</td>\n",
       "      <td>3</td>\n",
       "    </tr>\n",
       "  </tbody>\n",
       "</table>\n",
       "</div>"
      ],
      "text/plain": [
       "           country                                                uri  \\\n",
       "52226      Belgium  https://open.spotify.com/track/7qiZfU4dY1lWllz...   \n",
       "52232   Costa Rica  https://open.spotify.com/track/7qiZfU4dY1lWllz...   \n",
       "52220       Global  https://open.spotify.com/track/7qiZfU4dY1lWllz...   \n",
       "30287  Philippines  https://open.spotify.com/track/5uCax9HTNlzGybI...   \n",
       "52252    Singapore  https://open.spotify.com/track/7qiZfU4dY1lWllz...   \n",
       "\n",
       "       popularity                title        artist release_type sub_genre  \\\n",
       "52226    233766.9         shape of you    Ed Sheeran        album       pop   \n",
       "52232    228707.2         shape of you    Ed Sheeran        album       pop   \n",
       "52220    221571.0         shape of you    Ed Sheeran        album       pop   \n",
       "30287    217605.8  say you wont let go  James Arthur        album       pop   \n",
       "52252    217307.4         shape of you    Ed Sheeran        album       pop   \n",
       "\n",
       "       artist_followers explicit               album release_date  \\\n",
       "52226        71783101.0    False          ÷ (Deluxe)   2017-03-03   \n",
       "52232        71783101.0    False          ÷ (Deluxe)   2017-03-03   \n",
       "52220        71783101.0    False          ÷ (Deluxe)   2017-03-03   \n",
       "30287         6843219.0    False  Back from the Edge   2016-10-28   \n",
       "52252        71783101.0    False          ÷ (Deluxe)   2017-03-03   \n",
       "\n",
       "      track_number tracks_in_album  danceability  energy key  loudness mode  \\\n",
       "52226            4              16         0.825   0.652   1    -3.183    0   \n",
       "52232            4              16         0.825   0.652   1    -3.183    0   \n",
       "52220            4              16         0.825   0.652   1    -3.183    0   \n",
       "30287            2              17         0.358   0.557  10    -7.398    1   \n",
       "52252            4              16         0.825   0.652   1    -3.183    0   \n",
       "\n",
       "       speechiness  acoustics  instrumentalness  liveness  valence   tempo  \\\n",
       "52226       0.0802      0.581               0.0    0.0931    0.931  95.977   \n",
       "52232       0.0802      0.581               0.0    0.0931    0.931  95.977   \n",
       "52220       0.0802      0.581               0.0    0.0931    0.931  95.977   \n",
       "30287       0.0590      0.695               0.0    0.0902    0.494  85.043   \n",
       "52252       0.0802      0.581               0.0    0.0931    0.931  95.977   \n",
       "\n",
       "      time_signature genre  days_since_release released_after_2017  \\\n",
       "52226              4   pop              1349.0                 1.0   \n",
       "52232              4   pop              1349.0                 1.0   \n",
       "52220              4   pop              1349.0                 1.0   \n",
       "30287              4   pop              1469.0                 0.0   \n",
       "52252              4   pop              1349.0                 1.0   \n",
       "\n",
       "       explicit_false  explicit_true  popu_max  top10_dummy  top50_dummy  \\\n",
       "52226               1              0         1          1.0          1.0   \n",
       "52232               1              0         1          1.0          1.0   \n",
       "52220               1              0         1          1.0          1.0   \n",
       "30287               1              0         2          1.0          1.0   \n",
       "52252               1              0         1          1.0          1.0   \n",
       "\n",
       "                                       cluster  duration_min  release_year  \\\n",
       "52226              english speaking and nordic      3.895217          2017   \n",
       "52232                         spanish speaking      3.895217          2017   \n",
       "52220                                   global      3.895217          2017   \n",
       "30287  southern europe and portuguese heritage      3.524450          2016   \n",
       "52252              english speaking and nordic      3.895217          2017   \n",
       "\n",
       "       release_month  release_day  \n",
       "52226              3            3  \n",
       "52232              3            3  \n",
       "52220              3            3  \n",
       "30287             10           28  \n",
       "52252              3            3  "
      ]
     },
     "execution_count": 4,
     "metadata": {},
     "output_type": "execute_result"
    }
   ],
   "source": [
    "df.sort_values(by='popularity', ascending=False).head(5)"
   ]
  },
  {
   "cell_type": "markdown",
   "metadata": {
    "pycharm": {
     "name": "#%% md\n"
    }
   },
   "source": [
    "As you can see in the table, there are multiple countries that have \"Shape of You\" as their top popular song, and this also means that this song is very popular compared to a song that only appears in one coutnry top playlist, right?\n",
    "\n",
    "So, in order to get a unique song popularity score, we decided to sum up the every country's popularity score for each song, since the higher value they got, means the more popular they are."
   ]
  },
  {
   "cell_type": "code",
   "execution_count": 5,
   "metadata": {
    "pycharm": {
     "name": "#%%\n"
    }
   },
   "outputs": [
    {
     "data": {
      "text/html": [
       "<div>\n",
       "<style scoped>\n",
       "    .dataframe tbody tr th:only-of-type {\n",
       "        vertical-align: middle;\n",
       "    }\n",
       "\n",
       "    .dataframe tbody tr th {\n",
       "        vertical-align: top;\n",
       "    }\n",
       "\n",
       "    .dataframe thead th {\n",
       "        text-align: right;\n",
       "    }\n",
       "</style>\n",
       "<table border=\"1\" class=\"dataframe\">\n",
       "  <thead>\n",
       "    <tr style=\"text-align: right;\">\n",
       "      <th></th>\n",
       "      <th>title</th>\n",
       "      <th>artist</th>\n",
       "      <th>release_type</th>\n",
       "      <th>sub_genre</th>\n",
       "      <th>artist_followers</th>\n",
       "      <th>explicit</th>\n",
       "      <th>album</th>\n",
       "      <th>track_number</th>\n",
       "      <th>tracks_in_album</th>\n",
       "      <th>danceability</th>\n",
       "      <th>energy</th>\n",
       "      <th>key</th>\n",
       "      <th>loudness</th>\n",
       "      <th>mode</th>\n",
       "      <th>speechiness</th>\n",
       "      <th>acoustics</th>\n",
       "      <th>instrumentalness</th>\n",
       "      <th>liveness</th>\n",
       "      <th>valence</th>\n",
       "      <th>tempo</th>\n",
       "      <th>time_signature</th>\n",
       "      <th>genre</th>\n",
       "      <th>duration_min</th>\n",
       "      <th>release_year</th>\n",
       "      <th>release_month</th>\n",
       "      <th>release_day</th>\n",
       "      <th>popularity</th>\n",
       "    </tr>\n",
       "  </thead>\n",
       "  <tbody>\n",
       "    <tr>\n",
       "      <th>44367</th>\n",
       "      <td>shape of you</td>\n",
       "      <td>Ed Sheeran</td>\n",
       "      <td>album</td>\n",
       "      <td>pop</td>\n",
       "      <td>71783101.0</td>\n",
       "      <td>False</td>\n",
       "      <td>÷ (Deluxe)</td>\n",
       "      <td>4</td>\n",
       "      <td>16</td>\n",
       "      <td>0.825</td>\n",
       "      <td>0.652</td>\n",
       "      <td>1</td>\n",
       "      <td>-3.183</td>\n",
       "      <td>0</td>\n",
       "      <td>0.0802</td>\n",
       "      <td>0.581</td>\n",
       "      <td>0.000000</td>\n",
       "      <td>0.0931</td>\n",
       "      <td>0.931</td>\n",
       "      <td>95.977</td>\n",
       "      <td>4</td>\n",
       "      <td>pop</td>\n",
       "      <td>3.895217</td>\n",
       "      <td>2017</td>\n",
       "      <td>3</td>\n",
       "      <td>3</td>\n",
       "      <td>5732932.35</td>\n",
       "    </tr>\n",
       "    <tr>\n",
       "      <th>11089</th>\n",
       "      <td>dance monkey</td>\n",
       "      <td>Tones And I</td>\n",
       "      <td>single</td>\n",
       "      <td>australian pop</td>\n",
       "      <td>2283019.0</td>\n",
       "      <td>False</td>\n",
       "      <td>Dance Monkey</td>\n",
       "      <td>1</td>\n",
       "      <td>1</td>\n",
       "      <td>0.825</td>\n",
       "      <td>0.593</td>\n",
       "      <td>6</td>\n",
       "      <td>-6.401</td>\n",
       "      <td>0</td>\n",
       "      <td>0.0988</td>\n",
       "      <td>0.688</td>\n",
       "      <td>0.000161</td>\n",
       "      <td>0.1700</td>\n",
       "      <td>0.540</td>\n",
       "      <td>98.078</td>\n",
       "      <td>4</td>\n",
       "      <td>pop</td>\n",
       "      <td>3.495917</td>\n",
       "      <td>2019</td>\n",
       "      <td>5</td>\n",
       "      <td>10</td>\n",
       "      <td>3624590.65</td>\n",
       "    </tr>\n",
       "    <tr>\n",
       "      <th>38669</th>\n",
       "      <td>perfect</td>\n",
       "      <td>Ed Sheeran</td>\n",
       "      <td>album</td>\n",
       "      <td>pop</td>\n",
       "      <td>71783101.0</td>\n",
       "      <td>False</td>\n",
       "      <td>÷ (Deluxe)</td>\n",
       "      <td>5</td>\n",
       "      <td>16</td>\n",
       "      <td>0.599</td>\n",
       "      <td>0.448</td>\n",
       "      <td>8</td>\n",
       "      <td>-6.312</td>\n",
       "      <td>1</td>\n",
       "      <td>0.0232</td>\n",
       "      <td>0.163</td>\n",
       "      <td>0.000000</td>\n",
       "      <td>0.1060</td>\n",
       "      <td>0.168</td>\n",
       "      <td>95.050</td>\n",
       "      <td>3</td>\n",
       "      <td>pop</td>\n",
       "      <td>4.390000</td>\n",
       "      <td>2017</td>\n",
       "      <td>3</td>\n",
       "      <td>3</td>\n",
       "      <td>2933691.50</td>\n",
       "    </tr>\n",
       "    <tr>\n",
       "      <th>4480</th>\n",
       "      <td>bad guy</td>\n",
       "      <td>Billie Eilish</td>\n",
       "      <td>album</td>\n",
       "      <td>electropop</td>\n",
       "      <td>34697267.0</td>\n",
       "      <td>False</td>\n",
       "      <td>WHEN WE ALL FALL ASLEEP, WHERE DO WE GO?</td>\n",
       "      <td>2</td>\n",
       "      <td>14</td>\n",
       "      <td>0.701</td>\n",
       "      <td>0.425</td>\n",
       "      <td>7</td>\n",
       "      <td>-10.965</td>\n",
       "      <td>1</td>\n",
       "      <td>0.3750</td>\n",
       "      <td>0.328</td>\n",
       "      <td>0.130000</td>\n",
       "      <td>0.1000</td>\n",
       "      <td>0.562</td>\n",
       "      <td>135.128</td>\n",
       "      <td>4</td>\n",
       "      <td>pop</td>\n",
       "      <td>3.234800</td>\n",
       "      <td>2019</td>\n",
       "      <td>3</td>\n",
       "      <td>29</td>\n",
       "      <td>2812179.25</td>\n",
       "    </tr>\n",
       "    <tr>\n",
       "      <th>44341</th>\n",
       "      <td>shallow</td>\n",
       "      <td>Lady Gaga - Bradley Cooper</td>\n",
       "      <td>album</td>\n",
       "      <td>dance pop</td>\n",
       "      <td>14439685.0</td>\n",
       "      <td>False</td>\n",
       "      <td>A Star Is Born Soundtrack</td>\n",
       "      <td>12</td>\n",
       "      <td>34</td>\n",
       "      <td>0.572</td>\n",
       "      <td>0.385</td>\n",
       "      <td>7</td>\n",
       "      <td>-6.362</td>\n",
       "      <td>1</td>\n",
       "      <td>0.0308</td>\n",
       "      <td>0.371</td>\n",
       "      <td>0.000000</td>\n",
       "      <td>0.2310</td>\n",
       "      <td>0.323</td>\n",
       "      <td>95.799</td>\n",
       "      <td>4</td>\n",
       "      <td>pop</td>\n",
       "      <td>3.595550</td>\n",
       "      <td>2018</td>\n",
       "      <td>10</td>\n",
       "      <td>5</td>\n",
       "      <td>2600171.85</td>\n",
       "    </tr>\n",
       "  </tbody>\n",
       "</table>\n",
       "</div>"
      ],
      "text/plain": [
       "              title                      artist release_type       sub_genre  \\\n",
       "44367  shape of you                  Ed Sheeran        album             pop   \n",
       "11089  dance monkey                 Tones And I       single  australian pop   \n",
       "38669       perfect                  Ed Sheeran        album             pop   \n",
       "4480        bad guy               Billie Eilish        album      electropop   \n",
       "44341       shallow  Lady Gaga - Bradley Cooper        album       dance pop   \n",
       "\n",
       "       artist_followers explicit                                     album  \\\n",
       "44367        71783101.0    False                                ÷ (Deluxe)   \n",
       "11089         2283019.0    False                              Dance Monkey   \n",
       "38669        71783101.0    False                                ÷ (Deluxe)   \n",
       "4480         34697267.0    False  WHEN WE ALL FALL ASLEEP, WHERE DO WE GO?   \n",
       "44341        14439685.0    False                 A Star Is Born Soundtrack   \n",
       "\n",
       "      track_number tracks_in_album  danceability  energy key  loudness mode  \\\n",
       "44367            4              16         0.825   0.652   1    -3.183    0   \n",
       "11089            1               1         0.825   0.593   6    -6.401    0   \n",
       "38669            5              16         0.599   0.448   8    -6.312    1   \n",
       "4480             2              14         0.701   0.425   7   -10.965    1   \n",
       "44341           12              34         0.572   0.385   7    -6.362    1   \n",
       "\n",
       "       speechiness  acoustics  instrumentalness  liveness  valence    tempo  \\\n",
       "44367       0.0802      0.581          0.000000    0.0931    0.931   95.977   \n",
       "11089       0.0988      0.688          0.000161    0.1700    0.540   98.078   \n",
       "38669       0.0232      0.163          0.000000    0.1060    0.168   95.050   \n",
       "4480        0.3750      0.328          0.130000    0.1000    0.562  135.128   \n",
       "44341       0.0308      0.371          0.000000    0.2310    0.323   95.799   \n",
       "\n",
       "      time_signature genre  duration_min  release_year  release_month  \\\n",
       "44367              4   pop      3.895217          2017              3   \n",
       "11089              4   pop      3.495917          2019              5   \n",
       "38669              3   pop      4.390000          2017              3   \n",
       "4480               4   pop      3.234800          2019              3   \n",
       "44341              4   pop      3.595550          2018             10   \n",
       "\n",
       "       release_day  popularity  \n",
       "44367            3  5732932.35  \n",
       "11089           10  3624590.65  \n",
       "38669            3  2933691.50  \n",
       "4480            29  2812179.25  \n",
       "44341            5  2600171.85  "
      ]
     },
     "execution_count": 5,
     "metadata": {},
     "output_type": "execute_result"
    }
   ],
   "source": [
    "df = df.groupby(['title', 'artist', 'release_type', 'sub_genre', 'artist_followers', 'explicit', 'album', 'track_number', 'tracks_in_album', 'danceability', 'energy', 'key', 'loudness', 'mode', 'speechiness', 'acoustics', 'instrumentalness', 'liveness', 'valence', 'tempo', 'time_signature', 'genre', 'duration_min', 'release_year', 'release_month', 'release_day'])['popularity'].sum().reset_index(name='popularity')\n",
    "df.sort_values(by='popularity', ascending=False).head(5)"
   ]
  },
  {
   "cell_type": "code",
   "execution_count": 36,
   "metadata": {},
   "outputs": [
    {
     "name": "stdout",
     "output_type": "stream",
     "text": [
      "<class 'pandas.core.frame.DataFrame'>\n",
      "RangeIndex: 59492 entries, 0 to 59491\n",
      "Data columns (total 29 columns):\n",
      " #   Column            Non-Null Count  Dtype         \n",
      "---  ------            --------------  -----         \n",
      " 0   title             59492 non-null  object        \n",
      " 1   artist            59492 non-null  object        \n",
      " 2   release_type      59492 non-null  object        \n",
      " 3   sub_genre         59492 non-null  object        \n",
      " 4   artist_followers  59492 non-null  float64       \n",
      " 5   explicit          59492 non-null  object        \n",
      " 6   album             59492 non-null  object        \n",
      " 7   track_number      59492 non-null  object        \n",
      " 8   tracks_in_album   59492 non-null  object        \n",
      " 9   danceability      59492 non-null  float64       \n",
      " 10  energy            59492 non-null  float64       \n",
      " 11  key               59492 non-null  object        \n",
      " 12  loudness          59492 non-null  float64       \n",
      " 13  mode              59492 non-null  object        \n",
      " 14  speechiness       59492 non-null  float64       \n",
      " 15  acoustics         59492 non-null  float64       \n",
      " 16  instrumentalness  59492 non-null  float64       \n",
      " 17  liveness          59492 non-null  float64       \n",
      " 18  valence           59492 non-null  float64       \n",
      " 19  tempo             59492 non-null  float64       \n",
      " 20  time_signature    59492 non-null  object        \n",
      " 21  genre             59492 non-null  object        \n",
      " 22  duration_min      59492 non-null  float64       \n",
      " 23  release_year      59492 non-null  int64         \n",
      " 24  release_month     59492 non-null  int64         \n",
      " 25  release_day       59492 non-null  int64         \n",
      " 26  popularity        59492 non-null  float64       \n",
      " 27  release_date      59492 non-null  datetime64[ns]\n",
      " 28  weekday           59492 non-null  int64         \n",
      "dtypes: datetime64[ns](1), float64(12), int64(4), object(12)\n",
      "memory usage: 13.2+ MB\n"
     ]
    }
   ],
   "source": [
    "df.info()"
   ]
  },
  {
   "cell_type": "markdown",
   "metadata": {
    "pycharm": {
     "name": "#%% md\n"
    }
   },
   "source": [
    "As a result, we got 59,492 unique songs."
   ]
  },
  {
   "cell_type": "markdown",
   "metadata": {
    "pycharm": {
     "name": "#%% md\n"
    }
   },
   "source": [
    "The mean is way too shifted to the left, even from 59k songs, 51k songs are below average, because the dataset has a few extreme popular songs. But it's not possible to enrich the data again, because the calculation of popularity in our dataset is different between the Spotify one. Consequently, we'll work on the data as it is."
   ]
  },
  {
   "cell_type": "code",
   "execution_count": 6,
   "metadata": {
    "pycharm": {
     "name": "#%%\n"
    }
   },
   "outputs": [
    {
     "data": {
      "image/png": "[encoded data removed]",
      "text/plain": [
       "<Figure size 720x576 with 1 Axes>"
      ]
     },
     "metadata": {
      "needs_background": "light"
     },
     "output_type": "display_data"
    }
   ],
   "source": [
    "plt.figure(figsize=(10, 8))\n",
    "sns.kdeplot(df['popularity'])\n",
    "\n",
    "plt.axvline(df['popularity'].mean(), linewidth = 2, color = 'r')\n",
    "plt.axvline(df['popularity'].median(), linewidth = 2, color = 'k')\n",
    "plt.show()"
   ]
  },
  {
   "cell_type": "markdown",
   "metadata": {},
   "source": [
    "After that, we checked again which feature is needed to be processed."
   ]
  },
  {
   "cell_type": "code",
   "execution_count": 7,
   "metadata": {},
   "outputs": [
    {
     "data": {
      "text/plain": [
       "title               44954\n",
       "artist              23360\n",
       "release_type            3\n",
       "sub_genre            1119\n",
       "artist_followers     9134\n",
       "explicit                4\n",
       "album               32653\n",
       "track_number           73\n",
       "tracks_in_album       136\n",
       "danceability          990\n",
       "energy               1225\n",
       "key                    24\n",
       "loudness            12259\n",
       "mode                    4\n",
       "speechiness          1512\n",
       "acoustics            3551\n",
       "instrumentalness     5061\n",
       "liveness             1727\n",
       "valence              1543\n",
       "tempo               30613\n",
       "time_signature          9\n",
       "genre                  21\n",
       "duration_min        36712\n",
       "release_year           79\n",
       "release_month          12\n",
       "release_day            31\n",
       "popularity          36178\n",
       "dtype: int64"
      ]
     },
     "execution_count": 7,
     "metadata": {},
     "output_type": "execute_result"
    }
   ],
   "source": [
    "df.nunique(axis=0)"
   ]
  },
  {
   "cell_type": "markdown",
   "metadata": {},
   "source": [
    "From the result above, you can see that explicit and mode is supposed to have only binary value, but there is 4 unique values instead."
   ]
  },
  {
   "cell_type": "markdown",
   "metadata": {},
   "source": [
    "#### Explicit\n",
    "We will change the string value of \"True\" and \"False\" into a boolean one."
   ]
  },
  {
   "cell_type": "code",
   "execution_count": 8,
   "metadata": {},
   "outputs": [
    {
     "data": {
      "text/plain": [
       "array([False, True, 'True', 'False'], dtype=object)"
      ]
     },
     "execution_count": 8,
     "metadata": {},
     "output_type": "execute_result"
    }
   ],
   "source": [
    "df['explicit'].unique()"
   ]
  },
  {
   "cell_type": "code",
   "execution_count": 9,
   "metadata": {},
   "outputs": [],
   "source": [
    "df.loc[df.explicit == 'True', 'explicit'] = 1\n",
    "df.loc[df.explicit == 'False', 'explicit'] = 0\n",
    "df.loc[df.explicit == True, 'explicit'] = 1\n",
    "df.loc[df.explicit == False, 'explicit'] = 0"
   ]
  },
  {
   "cell_type": "code",
   "execution_count": 10,
   "metadata": {},
   "outputs": [
    {
     "data": {
      "text/plain": [
       "array([0, 1], dtype=object)"
      ]
     },
     "execution_count": 10,
     "metadata": {},
     "output_type": "execute_result"
    }
   ],
   "source": [
    "df['explicit'].unique()"
   ]
  },
  {
   "cell_type": "markdown",
   "metadata": {},
   "source": [
    "#### Mode\n",
    "We will change the string value of \"0\" and \"1\" into a numeric one."
   ]
  },
  {
   "cell_type": "code",
   "execution_count": 11,
   "metadata": {},
   "outputs": [
    {
     "data": {
      "text/plain": [
       "array([1, 0, '1', '0'], dtype=object)"
      ]
     },
     "execution_count": 11,
     "metadata": {},
     "output_type": "execute_result"
    }
   ],
   "source": [
    "df['mode'].unique()"
   ]
  },
  {
   "cell_type": "code",
   "execution_count": 12,
   "metadata": {},
   "outputs": [],
   "source": [
    "df.loc[df['mode'] == '0', 'mode'] = 0\n",
    "df.loc[df['mode'] == '1', 'mode'] = 1"
   ]
  },
  {
   "cell_type": "code",
   "execution_count": 13,
   "metadata": {},
   "outputs": [
    {
     "data": {
      "text/plain": [
       "array([1, 0], dtype=object)"
      ]
     },
     "execution_count": 13,
     "metadata": {},
     "output_type": "execute_result"
    }
   ],
   "source": [
    "df['mode'].unique()"
   ]
  },
  {
   "cell_type": "code",
   "execution_count": 14,
   "metadata": {},
   "outputs": [
    {
     "data": {
      "text/plain": [
       "title               44954\n",
       "artist              23360\n",
       "release_type            3\n",
       "sub_genre            1119\n",
       "artist_followers     9134\n",
       "explicit                2\n",
       "album               32653\n",
       "track_number           73\n",
       "tracks_in_album       136\n",
       "danceability          990\n",
       "energy               1225\n",
       "key                    24\n",
       "loudness            12259\n",
       "mode                    2\n",
       "speechiness          1512\n",
       "acoustics            3551\n",
       "instrumentalness     5061\n",
       "liveness             1727\n",
       "valence              1543\n",
       "tempo               30613\n",
       "time_signature          9\n",
       "genre                  21\n",
       "duration_min        36712\n",
       "release_year           79\n",
       "release_month          12\n",
       "release_day            31\n",
       "popularity          36178\n",
       "dtype: int64"
      ]
     },
     "execution_count": 14,
     "metadata": {},
     "output_type": "execute_result"
    }
   ],
   "source": [
    "df.nunique(axis=0)"
   ]
  },
  {
   "cell_type": "markdown",
   "metadata": {
    "pycharm": {
     "name": "#%% md\n"
    }
   },
   "source": [
    "#### Key\n",
    "There are duplicated keys, so we tried to convert all of them into numeric values."
   ]
  },
  {
   "cell_type": "code",
   "execution_count": 15,
   "metadata": {
    "pycharm": {
     "name": "#%%\n"
    }
   },
   "outputs": [
    {
     "data": {
      "text/plain": [
       "array([1, 5, 8, 4, 11, 10, 9, 0, '1', 2, 7, 6, '9', '10', '0', 3, '5',\n",
       "       '11', '4', '7', '2', '3', '6', '8'], dtype=object)"
      ]
     },
     "execution_count": 15,
     "metadata": {},
     "output_type": "execute_result"
    }
   ],
   "source": [
    "df['key'].unique()"
   ]
  },
  {
   "cell_type": "code",
   "execution_count": 16,
   "metadata": {},
   "outputs": [],
   "source": [
    "df.loc[df['key'] == '9', 'key'] = 9\n",
    "df.loc[df['key'] == '10', 'key'] = 10\n",
    "df.loc[df['key'] == '0', 'key'] = 0\n",
    "df.loc[df['key'] == '5', 'key'] = 5\n",
    "df.loc[df['key'] == '11', 'key'] = 11\n",
    "df.loc[df['key'] == '4', 'key'] = 4\n",
    "df.loc[df['key'] == '7', 'key'] = 7\n",
    "df.loc[df['key'] == '2', 'key'] = 2\n",
    "df.loc[df['key'] == '3', 'key'] = 3\n",
    "df.loc[df['key'] == '6', 'key'] = 6\n",
    "df.loc[df['key'] == '8', 'key'] = 8\n",
    "df.loc[df['key'] == '1', 'key'] = 1"
   ]
  },
  {
   "cell_type": "code",
   "execution_count": 17,
   "metadata": {},
   "outputs": [
    {
     "data": {
      "text/plain": [
       "array([1, 5, 8, 4, 11, 10, 9, 0, 2, 7, 6, 3], dtype=object)"
      ]
     },
     "execution_count": 17,
     "metadata": {},
     "output_type": "execute_result"
    }
   ],
   "source": [
    "df['key'].unique()"
   ]
  },
  {
   "cell_type": "markdown",
   "metadata": {},
   "source": [
    "#### Release Day"
   ]
  },
  {
   "cell_type": "code",
   "execution_count": 18,
   "metadata": {},
   "outputs": [
    {
     "data": {
      "text/html": [
       "<div>\n",
       "<style scoped>\n",
       "    .dataframe tbody tr th:only-of-type {\n",
       "        vertical-align: middle;\n",
       "    }\n",
       "\n",
       "    .dataframe tbody tr th {\n",
       "        vertical-align: top;\n",
       "    }\n",
       "\n",
       "    .dataframe thead th {\n",
       "        text-align: right;\n",
       "    }\n",
       "</style>\n",
       "<table border=\"1\" class=\"dataframe\">\n",
       "  <thead>\n",
       "    <tr style=\"text-align: right;\">\n",
       "      <th></th>\n",
       "      <th>title</th>\n",
       "      <th>artist</th>\n",
       "      <th>release_type</th>\n",
       "      <th>sub_genre</th>\n",
       "      <th>artist_followers</th>\n",
       "      <th>explicit</th>\n",
       "      <th>album</th>\n",
       "      <th>track_number</th>\n",
       "      <th>tracks_in_album</th>\n",
       "      <th>danceability</th>\n",
       "      <th>energy</th>\n",
       "      <th>key</th>\n",
       "      <th>loudness</th>\n",
       "      <th>mode</th>\n",
       "      <th>speechiness</th>\n",
       "      <th>acoustics</th>\n",
       "      <th>instrumentalness</th>\n",
       "      <th>liveness</th>\n",
       "      <th>valence</th>\n",
       "      <th>tempo</th>\n",
       "      <th>time_signature</th>\n",
       "      <th>genre</th>\n",
       "      <th>duration_min</th>\n",
       "      <th>release_year</th>\n",
       "      <th>release_month</th>\n",
       "      <th>release_day</th>\n",
       "      <th>popularity</th>\n",
       "      <th>release_date</th>\n",
       "      <th>weekday</th>\n",
       "    </tr>\n",
       "  </thead>\n",
       "  <tbody>\n",
       "    <tr>\n",
       "      <th>0</th>\n",
       "      <td>!</td>\n",
       "      <td>O.S.T.R.</td>\n",
       "      <td>album</td>\n",
       "      <td>polish hip hop</td>\n",
       "      <td>306856.0</td>\n",
       "      <td>0</td>\n",
       "      <td>W drodze po szczęście</td>\n",
       "      <td>1</td>\n",
       "      <td>15</td>\n",
       "      <td>0.561</td>\n",
       "      <td>0.798</td>\n",
       "      <td>1</td>\n",
       "      <td>-7.064</td>\n",
       "      <td>1</td>\n",
       "      <td>0.3200</td>\n",
       "      <td>0.3070</td>\n",
       "      <td>0.000000</td>\n",
       "      <td>0.1100</td>\n",
       "      <td>0.140</td>\n",
       "      <td>140.837</td>\n",
       "      <td>4</td>\n",
       "      <td>hip hop</td>\n",
       "      <td>3.696017</td>\n",
       "      <td>2018</td>\n",
       "      <td>2</td>\n",
       "      <td>26</td>\n",
       "      <td>866.00</td>\n",
       "      <td>2018-02-26</td>\n",
       "      <td>0</td>\n",
       "    </tr>\n",
       "    <tr>\n",
       "      <th>1</th>\n",
       "      <td>!</td>\n",
       "      <td>Trippie Redd</td>\n",
       "      <td>album</td>\n",
       "      <td>melodic rap</td>\n",
       "      <td>5502398.0</td>\n",
       "      <td>1</td>\n",
       "      <td>!</td>\n",
       "      <td>1</td>\n",
       "      <td>14</td>\n",
       "      <td>0.725</td>\n",
       "      <td>0.543</td>\n",
       "      <td>5</td>\n",
       "      <td>-6.311</td>\n",
       "      <td>1</td>\n",
       "      <td>0.0841</td>\n",
       "      <td>0.0296</td>\n",
       "      <td>0.000000</td>\n",
       "      <td>0.1770</td>\n",
       "      <td>0.693</td>\n",
       "      <td>119.961</td>\n",
       "      <td>4</td>\n",
       "      <td>rap</td>\n",
       "      <td>2.255650</td>\n",
       "      <td>2019</td>\n",
       "      <td>8</td>\n",
       "      <td>9</td>\n",
       "      <td>1818.55</td>\n",
       "      <td>2019-08-09</td>\n",
       "      <td>4</td>\n",
       "    </tr>\n",
       "    <tr>\n",
       "      <th>2</th>\n",
       "      <td>!ill be back!</td>\n",
       "      <td>Rilès</td>\n",
       "      <td>single</td>\n",
       "      <td>french hip hop</td>\n",
       "      <td>614607.0</td>\n",
       "      <td>1</td>\n",
       "      <td>!I'll Be Back!</td>\n",
       "      <td>1</td>\n",
       "      <td>1</td>\n",
       "      <td>0.823</td>\n",
       "      <td>0.612</td>\n",
       "      <td>1</td>\n",
       "      <td>-7.767</td>\n",
       "      <td>1</td>\n",
       "      <td>0.2480</td>\n",
       "      <td>0.1680</td>\n",
       "      <td>0.000000</td>\n",
       "      <td>0.1090</td>\n",
       "      <td>0.688</td>\n",
       "      <td>142.959</td>\n",
       "      <td>4</td>\n",
       "      <td>hip hop</td>\n",
       "      <td>2.975550</td>\n",
       "      <td>2018</td>\n",
       "      <td>6</td>\n",
       "      <td>22</td>\n",
       "      <td>49.60</td>\n",
       "      <td>2018-06-22</td>\n",
       "      <td>4</td>\n",
       "    </tr>\n",
       "    <tr>\n",
       "      <th>3</th>\n",
       "      <td>#%_! dig selv</td>\n",
       "      <td>Artigeardit</td>\n",
       "      <td>album</td>\n",
       "      <td>danish hip hop</td>\n",
       "      <td>19841.0</td>\n",
       "      <td>1</td>\n",
       "      <td>IDIOT</td>\n",
       "      <td>9</td>\n",
       "      <td>16</td>\n",
       "      <td>0.655</td>\n",
       "      <td>0.498</td>\n",
       "      <td>8</td>\n",
       "      <td>-7.297</td>\n",
       "      <td>1</td>\n",
       "      <td>0.2930</td>\n",
       "      <td>0.1250</td>\n",
       "      <td>0.000014</td>\n",
       "      <td>0.1660</td>\n",
       "      <td>0.241</td>\n",
       "      <td>94.146</td>\n",
       "      <td>4</td>\n",
       "      <td>hip hop</td>\n",
       "      <td>3.135650</td>\n",
       "      <td>2020</td>\n",
       "      <td>1</td>\n",
       "      <td>31</td>\n",
       "      <td>413.05</td>\n",
       "      <td>2020-01-31</td>\n",
       "      <td>4</td>\n",
       "    </tr>\n",
       "    <tr>\n",
       "      <th>4</th>\n",
       "      <td>#213</td>\n",
       "      <td>YL</td>\n",
       "      <td>album</td>\n",
       "      <td>francoton</td>\n",
       "      <td>617156.0</td>\n",
       "      <td>1</td>\n",
       "      <td>Vaillants</td>\n",
       "      <td>4</td>\n",
       "      <td>12</td>\n",
       "      <td>0.714</td>\n",
       "      <td>0.727</td>\n",
       "      <td>4</td>\n",
       "      <td>-6.216</td>\n",
       "      <td>0</td>\n",
       "      <td>0.4160</td>\n",
       "      <td>0.2000</td>\n",
       "      <td>0.000000</td>\n",
       "      <td>0.0879</td>\n",
       "      <td>0.497</td>\n",
       "      <td>190.567</td>\n",
       "      <td>3</td>\n",
       "      <td>indie</td>\n",
       "      <td>3.325150</td>\n",
       "      <td>2020</td>\n",
       "      <td>4</td>\n",
       "      <td>16</td>\n",
       "      <td>48.80</td>\n",
       "      <td>2020-04-16</td>\n",
       "      <td>3</td>\n",
       "    </tr>\n",
       "    <tr>\n",
       "      <th>...</th>\n",
       "      <td>...</td>\n",
       "      <td>...</td>\n",
       "      <td>...</td>\n",
       "      <td>...</td>\n",
       "      <td>...</td>\n",
       "      <td>...</td>\n",
       "      <td>...</td>\n",
       "      <td>...</td>\n",
       "      <td>...</td>\n",
       "      <td>...</td>\n",
       "      <td>...</td>\n",
       "      <td>...</td>\n",
       "      <td>...</td>\n",
       "      <td>...</td>\n",
       "      <td>...</td>\n",
       "      <td>...</td>\n",
       "      <td>...</td>\n",
       "      <td>...</td>\n",
       "      <td>...</td>\n",
       "      <td>...</td>\n",
       "      <td>...</td>\n",
       "      <td>...</td>\n",
       "      <td>...</td>\n",
       "      <td>...</td>\n",
       "      <td>...</td>\n",
       "      <td>...</td>\n",
       "      <td>...</td>\n",
       "      <td>...</td>\n",
       "      <td>...</td>\n",
       "    </tr>\n",
       "    <tr>\n",
       "      <th>59487</th>\n",
       "      <td>쩔어 dope</td>\n",
       "      <td>BTS</td>\n",
       "      <td>album</td>\n",
       "      <td>k-pop</td>\n",
       "      <td>24755789.0</td>\n",
       "      <td>0</td>\n",
       "      <td>화양연화 The Most Beautiful Moment In Life, Pt. 1</td>\n",
       "      <td>5</td>\n",
       "      <td>9</td>\n",
       "      <td>0.619</td>\n",
       "      <td>0.889</td>\n",
       "      <td>10</td>\n",
       "      <td>-3.108</td>\n",
       "      <td>0</td>\n",
       "      <td>0.2190</td>\n",
       "      <td>0.0483</td>\n",
       "      <td>0.000000</td>\n",
       "      <td>0.3240</td>\n",
       "      <td>0.622</td>\n",
       "      <td>77.058</td>\n",
       "      <td>4</td>\n",
       "      <td>k-pop</td>\n",
       "      <td>4.000350</td>\n",
       "      <td>2015</td>\n",
       "      <td>4</td>\n",
       "      <td>29</td>\n",
       "      <td>712.00</td>\n",
       "      <td>2015-04-29</td>\n",
       "      <td>2</td>\n",
       "    </tr>\n",
       "    <tr>\n",
       "      <th>59488</th>\n",
       "      <td>파란 봄</td>\n",
       "      <td>AILEE</td>\n",
       "      <td>single</td>\n",
       "      <td>k-pop</td>\n",
       "      <td>725478.0</td>\n",
       "      <td>0</td>\n",
       "      <td>Dunia - Into A New World, Pt. 1 (Original Soun...</td>\n",
       "      <td>1</td>\n",
       "      <td>2</td>\n",
       "      <td>0.540</td>\n",
       "      <td>0.535</td>\n",
       "      <td>1</td>\n",
       "      <td>-4.860</td>\n",
       "      <td>1</td>\n",
       "      <td>0.0301</td>\n",
       "      <td>0.4590</td>\n",
       "      <td>0.000000</td>\n",
       "      <td>0.1540</td>\n",
       "      <td>0.216</td>\n",
       "      <td>131.990</td>\n",
       "      <td>3</td>\n",
       "      <td>k-pop</td>\n",
       "      <td>4.194717</td>\n",
       "      <td>2018</td>\n",
       "      <td>6</td>\n",
       "      <td>24</td>\n",
       "      <td>54.40</td>\n",
       "      <td>2018-06-24</td>\n",
       "      <td>6</td>\n",
       "    </tr>\n",
       "    <tr>\n",
       "      <th>59489</th>\n",
       "      <td>피 땀 눈물</td>\n",
       "      <td>BTS</td>\n",
       "      <td>album</td>\n",
       "      <td>k-pop</td>\n",
       "      <td>24755789.0</td>\n",
       "      <td>0</td>\n",
       "      <td>WINGS</td>\n",
       "      <td>2</td>\n",
       "      <td>15</td>\n",
       "      <td>0.583</td>\n",
       "      <td>0.885</td>\n",
       "      <td>0</td>\n",
       "      <td>-3.571</td>\n",
       "      <td>0</td>\n",
       "      <td>0.1060</td>\n",
       "      <td>0.0244</td>\n",
       "      <td>0.000000</td>\n",
       "      <td>0.3570</td>\n",
       "      <td>0.601</td>\n",
       "      <td>92.959</td>\n",
       "      <td>4</td>\n",
       "      <td>k-pop</td>\n",
       "      <td>3.617533</td>\n",
       "      <td>2016</td>\n",
       "      <td>10</td>\n",
       "      <td>10</td>\n",
       "      <td>287.20</td>\n",
       "      <td>2016-10-10</td>\n",
       "      <td>0</td>\n",
       "    </tr>\n",
       "    <tr>\n",
       "      <th>59490</th>\n",
       "      <td>항상</td>\n",
       "      <td>j-hope - Supreme Boi</td>\n",
       "      <td>album</td>\n",
       "      <td>k-pop</td>\n",
       "      <td>4486644.0</td>\n",
       "      <td>0</td>\n",
       "      <td>Hope World</td>\n",
       "      <td>5</td>\n",
       "      <td>7</td>\n",
       "      <td>0.832</td>\n",
       "      <td>0.896</td>\n",
       "      <td>6</td>\n",
       "      <td>-4.673</td>\n",
       "      <td>1</td>\n",
       "      <td>0.2330</td>\n",
       "      <td>0.1590</td>\n",
       "      <td>0.000048</td>\n",
       "      <td>0.2470</td>\n",
       "      <td>0.618</td>\n",
       "      <td>178.998</td>\n",
       "      <td>4</td>\n",
       "      <td>k-pop</td>\n",
       "      <td>3.827933</td>\n",
       "      <td>2018</td>\n",
       "      <td>3</td>\n",
       "      <td>2</td>\n",
       "      <td>862.30</td>\n",
       "      <td>2018-03-02</td>\n",
       "      <td>4</td>\n",
       "    </tr>\n",
       "    <tr>\n",
       "      <th>59491</th>\n",
       "      <td>해와 달처럼 day and night</td>\n",
       "      <td>DAY6</td>\n",
       "      <td>album</td>\n",
       "      <td>k-pop</td>\n",
       "      <td>1724058.0</td>\n",
       "      <td>0</td>\n",
       "      <td>The Book of Us : The Demon</td>\n",
       "      <td>1</td>\n",
       "      <td>8</td>\n",
       "      <td>0.471</td>\n",
       "      <td>0.860</td>\n",
       "      <td>9</td>\n",
       "      <td>-3.375</td>\n",
       "      <td>1</td>\n",
       "      <td>0.1090</td>\n",
       "      <td>0.2090</td>\n",
       "      <td>0.000000</td>\n",
       "      <td>0.1860</td>\n",
       "      <td>0.565</td>\n",
       "      <td>101.467</td>\n",
       "      <td>4</td>\n",
       "      <td>k-pop</td>\n",
       "      <td>3.416633</td>\n",
       "      <td>2020</td>\n",
       "      <td>5</td>\n",
       "      <td>11</td>\n",
       "      <td>152.05</td>\n",
       "      <td>2020-05-11</td>\n",
       "      <td>0</td>\n",
       "    </tr>\n",
       "  </tbody>\n",
       "</table>\n",
       "<p>59492 rows × 29 columns</p>\n",
       "</div>"
      ],
      "text/plain": [
       "                      title                artist release_type  \\\n",
       "0                         !              O.S.T.R.        album   \n",
       "1                         !          Trippie Redd        album   \n",
       "2             !ill be back!                 Rilès       single   \n",
       "3             #%_! dig selv           Artigeardit        album   \n",
       "4                      #213                    YL        album   \n",
       "...                     ...                   ...          ...   \n",
       "59487               쩔어 dope                   BTS        album   \n",
       "59488                  파란 봄                 AILEE       single   \n",
       "59489                피 땀 눈물                   BTS        album   \n",
       "59490                    항상  j-hope - Supreme Boi        album   \n",
       "59491  해와 달처럼 day and night                  DAY6        album   \n",
       "\n",
       "            sub_genre  artist_followers explicit  \\\n",
       "0      polish hip hop          306856.0        0   \n",
       "1         melodic rap         5502398.0        1   \n",
       "2      french hip hop          614607.0        1   \n",
       "3      danish hip hop           19841.0        1   \n",
       "4           francoton          617156.0        1   \n",
       "...               ...               ...      ...   \n",
       "59487           k-pop        24755789.0        0   \n",
       "59488           k-pop          725478.0        0   \n",
       "59489           k-pop        24755789.0        0   \n",
       "59490           k-pop         4486644.0        0   \n",
       "59491           k-pop         1724058.0        0   \n",
       "\n",
       "                                                   album track_number  \\\n",
       "0                                  W drodze po szczęście            1   \n",
       "1                                                      !            1   \n",
       "2                                         !I'll Be Back!            1   \n",
       "3                                                  IDIOT            9   \n",
       "4                                              Vaillants            4   \n",
       "...                                                  ...          ...   \n",
       "59487      화양연화 The Most Beautiful Moment In Life, Pt. 1            5   \n",
       "59488  Dunia - Into A New World, Pt. 1 (Original Soun...            1   \n",
       "59489                                              WINGS            2   \n",
       "59490                                         Hope World            5   \n",
       "59491                         The Book of Us : The Demon            1   \n",
       "\n",
       "      tracks_in_album  danceability  energy key  loudness mode  speechiness  \\\n",
       "0                  15         0.561   0.798   1    -7.064    1       0.3200   \n",
       "1                  14         0.725   0.543   5    -6.311    1       0.0841   \n",
       "2                   1         0.823   0.612   1    -7.767    1       0.2480   \n",
       "3                  16         0.655   0.498   8    -7.297    1       0.2930   \n",
       "4                  12         0.714   0.727   4    -6.216    0       0.4160   \n",
       "...               ...           ...     ...  ..       ...  ...          ...   \n",
       "59487               9         0.619   0.889  10    -3.108    0       0.2190   \n",
       "59488               2         0.540   0.535   1    -4.860    1       0.0301   \n",
       "59489              15         0.583   0.885   0    -3.571    0       0.1060   \n",
       "59490               7         0.832   0.896   6    -4.673    1       0.2330   \n",
       "59491               8         0.471   0.860   9    -3.375    1       0.1090   \n",
       "\n",
       "       acoustics  instrumentalness  liveness  valence    tempo time_signature  \\\n",
       "0         0.3070          0.000000    0.1100    0.140  140.837              4   \n",
       "1         0.0296          0.000000    0.1770    0.693  119.961              4   \n",
       "2         0.1680          0.000000    0.1090    0.688  142.959              4   \n",
       "3         0.1250          0.000014    0.1660    0.241   94.146              4   \n",
       "4         0.2000          0.000000    0.0879    0.497  190.567              3   \n",
       "...          ...               ...       ...      ...      ...            ...   \n",
       "59487     0.0483          0.000000    0.3240    0.622   77.058              4   \n",
       "59488     0.4590          0.000000    0.1540    0.216  131.990              3   \n",
       "59489     0.0244          0.000000    0.3570    0.601   92.959              4   \n",
       "59490     0.1590          0.000048    0.2470    0.618  178.998              4   \n",
       "59491     0.2090          0.000000    0.1860    0.565  101.467              4   \n",
       "\n",
       "         genre  duration_min  release_year  release_month  release_day  \\\n",
       "0      hip hop      3.696017          2018              2           26   \n",
       "1          rap      2.255650          2019              8            9   \n",
       "2      hip hop      2.975550          2018              6           22   \n",
       "3      hip hop      3.135650          2020              1           31   \n",
       "4        indie      3.325150          2020              4           16   \n",
       "...        ...           ...           ...            ...          ...   \n",
       "59487    k-pop      4.000350          2015              4           29   \n",
       "59488    k-pop      4.194717          2018              6           24   \n",
       "59489    k-pop      3.617533          2016             10           10   \n",
       "59490    k-pop      3.827933          2018              3            2   \n",
       "59491    k-pop      3.416633          2020              5           11   \n",
       "\n",
       "       popularity release_date  weekday  \n",
       "0          866.00   2018-02-26        0  \n",
       "1         1818.55   2019-08-09        4  \n",
       "2           49.60   2018-06-22        4  \n",
       "3          413.05   2020-01-31        4  \n",
       "4           48.80   2020-04-16        3  \n",
       "...           ...          ...      ...  \n",
       "59487      712.00   2015-04-29        2  \n",
       "59488       54.40   2018-06-24        6  \n",
       "59489      287.20   2016-10-10        0  \n",
       "59490      862.30   2018-03-02        4  \n",
       "59491      152.05   2020-05-11        0  \n",
       "\n",
       "[59492 rows x 29 columns]"
      ]
     },
     "execution_count": 18,
     "metadata": {},
     "output_type": "execute_result"
    }
   ],
   "source": [
    "df['release_date'] = pd.to_datetime(df['release_year'].astype(str) + '-' + df['release_month'].astype(str) + '-' + df['release_day'].astype(str), errors='ignore')\n",
    "df['weekday'] = df['release_date'].dt.dayofweek\n",
    "df"
   ]
  },
  {
   "cell_type": "code",
   "execution_count": 19,
   "metadata": {},
   "outputs": [
    {
     "data": {
      "text/plain": [
       "array([0, 4, 3, 2, 1, 6, 5])"
      ]
     },
     "execution_count": 19,
     "metadata": {},
     "output_type": "execute_result"
    }
   ],
   "source": [
    "df['weekday'].unique()"
   ]
  },
  {
   "cell_type": "markdown",
   "metadata": {},
   "source": [
    "#### Drop Unused Columns"
   ]
  },
  {
   "cell_type": "code",
   "execution_count": 20,
   "metadata": {},
   "outputs": [],
   "source": [
    "categorical_features = [\"title\", \n",
    "                        \"artist\", \n",
    "                        \"sub_genre\", \n",
    "                        \"album\", \n",
    "                        \"track_number\", \n",
    "                        \"tracks_in_album\", \n",
    "                        \"time_signature\", \n",
    "                        \"genre\"]"
   ]
  },
  {
   "cell_type": "code",
   "execution_count": 21,
   "metadata": {},
   "outputs": [],
   "source": [
    "numeric_features = ['popularity', 'artist_followers', 'danceability', 'energy', \n",
    "                    'loudness', 'speechiness', 'acoustics', 'instrumentalness', \n",
    "                    'liveness', 'valence', 'tempo', 'duration_min']"
   ]
  },
  {
   "cell_type": "code",
   "execution_count": 22,
   "metadata": {},
   "outputs": [],
   "source": [
    "df_selected = df[numeric_features]"
   ]
  },
  {
   "cell_type": "code",
   "execution_count": 23,
   "metadata": {},
   "outputs": [
    {
     "data": {
      "text/plain": [
       "popularity          36178\n",
       "artist_followers     9134\n",
       "danceability          990\n",
       "energy               1225\n",
       "loudness            12259\n",
       "speechiness          1512\n",
       "acoustics            3551\n",
       "instrumentalness     5061\n",
       "liveness             1727\n",
       "valence              1543\n",
       "tempo               30613\n",
       "duration_min        36712\n",
       "dtype: int64"
      ]
     },
     "execution_count": 23,
     "metadata": {},
     "output_type": "execute_result"
    }
   ],
   "source": [
    "df_selected.nunique(axis=0)"
   ]
  },
  {
   "cell_type": "markdown",
   "metadata": {
    "pycharm": {
     "name": "#%% md\n"
    }
   },
   "source": [
    "### Features Visualization\n",
    "Here we wanted to recap on how all the features behave in popularity and for a better visualization, we will scale the popularity values first into a 0-100 range."
   ]
  },
  {
   "cell_type": "code",
   "execution_count": 24,
   "metadata": {},
   "outputs": [],
   "source": [
    "df_scaled = df.copy()\n",
    "df_scaled['popularity'] = (df_scaled['popularity'] - df_scaled['popularity'].min()) / (df_scaled['popularity'].max() - df_scaled['popularity'].min()) * 100"
   ]
  },
  {
   "cell_type": "code",
   "execution_count": 25,
   "metadata": {},
   "outputs": [],
   "source": [
    "X = df_scaled['popularity'].values.reshape(-1,1)\n",
    "df_scaled['popularity'] = QuantileTransformer(output_distribution=\"normal\").fit_transform(X)"
   ]
  },
  {
   "cell_type": "code",
   "execution_count": 26,
   "metadata": {},
   "outputs": [
    {
     "data": {
      "image/png": "[encoded data removed]",
      "text/plain": [
       "<Figure size 720x576 with 1 Axes>"
      ]
     },
     "metadata": {
      "needs_background": "light"
     },
     "output_type": "display_data"
    }
   ],
   "source": [
    "plt.figure(figsize=(10, 8))\n",
    "sns.kdeplot(df_scaled['popularity'])\n",
    "\n",
    "plt.axvline(df_scaled['popularity'].mean(), linewidth = 2, color = 'r')\n",
    "plt.axvline(df_scaled['popularity'].median(), linewidth = 2, color = 'k')\n",
    "plt.show()"
   ]
  },
  {
   "cell_type": "code",
   "execution_count": 27,
   "metadata": {},
   "outputs": [],
   "source": [
    "df_scaled['popularity'] = (df_scaled['popularity'] - df_scaled['popularity'].min()) / (df_scaled['popularity'].max() - df_scaled['popularity'].min()) * 100"
   ]
  },
  {
   "cell_type": "code",
   "execution_count": null,
   "metadata": {},
   "outputs": [],
   "source": [
    "plt.figure(figsize=(10, 8))\n",
    "sns.kdeplot(df_scaled['popularity'])\n",
    "\n",
    "plt.axvline(df_scaled['popularity'].mean(), linewidth = 2, color = 'r')\n",
    "plt.axvline(df_scaled['popularity'].median(), linewidth = 2, color = 'k')\n",
    "plt.show()"
   ]
  },
  {
   "cell_type": "code",
   "execution_count": null,
   "metadata": {
    "pycharm": {
     "name": "#%%\n"
    }
   },
   "outputs": [],
   "source": [
    "plt.figure(figsize=(16, 8))\n",
    "sns.pairplot(data=df_scaled,\n",
    "                  x_vars=['artist_followers', 'loudness', 'danceability'],\n",
    "                  y_vars=['popularity'], kind=\"kde\")\n",
    "plt.show()"
   ]
  },
  {
   "cell_type": "code",
   "execution_count": null,
   "metadata": {},
   "outputs": [],
   "source": [
    "plt.figure(figsize=(16, 8))\n",
    "sns.pairplot(data=df_scaled,\n",
    "                  x_vars=['energy', 'speechiness', 'acoustics', 'instrumentalness'],\n",
    "                  y_vars=['popularity'], kind=\"kde\")\n",
    "plt.show()"
   ]
  },
  {
   "cell_type": "code",
   "execution_count": null,
   "metadata": {},
   "outputs": [],
   "source": [
    "sns.pairplot(data=df_scaled,\n",
    "                  x_vars=['liveness', 'valence', 'tempo', 'duration_min'],\n",
    "                  y_vars=['popularity'], kind=\"kde\")"
   ]
  },
  {
   "cell_type": "markdown",
   "metadata": {},
   "source": [
    "### Modelling"
   ]
  },
  {
   "cell_type": "code",
   "execution_count": 28,
   "metadata": {},
   "outputs": [],
   "source": [
    "y = df_selected['popularity']\n",
    "X = df_selected.drop([\"popularity\"],axis=1)"
   ]
  },
  {
   "cell_type": "markdown",
   "metadata": {},
   "source": [
    "#### 1. Linear Regression\n",
    "\n",
    "First, we would like to see how our numerical features perform first."
   ]
  },
  {
   "cell_type": "code",
   "execution_count": 29,
   "metadata": {},
   "outputs": [],
   "source": [
    "from sklearn.model_selection import train_test_split\n",
    "from sklearn import metrics\n",
    "from sklearn.model_selection import cross_val_score\n",
    "\n",
    "X_train, X_test, y_train, y_test = train_test_split(X, y, test_size=0.2, random_state=1)\n",
    "\n",
    "def print_evaluate(true, predicted):  \n",
    "    mae = metrics.mean_absolute_error(true, predicted)\n",
    "    mse = metrics.mean_squared_error(true, predicted)\n",
    "    rmse = np.sqrt(metrics.mean_squared_error(true, predicted))\n",
    "    r2_square = metrics.r2_score(true, predicted)\n",
    "    print('MAE:', mae)\n",
    "    print('MSE:', mse)\n",
    "    print('RMSE:', rmse)\n",
    "    print('R2 Square', r2_square)\n",
    "    print('__________________________________')\n",
    "    \n",
    "def evaluate(true, predicted):\n",
    "    mae = metrics.mean_absolute_error(true, predicted)\n",
    "    mse = metrics.mean_squared_error(true, predicted)\n",
    "    rmse = np.sqrt(metrics.mean_squared_error(true, predicted))\n",
    "    r2_square = metrics.r2_score(true, predicted)\n",
    "    return mae, mse, rmse, r2_square\n",
    "\n",
    "def cross_val(model):\n",
    "    pred = cross_val_score(model, X, y, cv=10)\n",
    "    return pred.mean()"
   ]
  },
  {
   "cell_type": "code",
   "execution_count": 30,
   "metadata": {},
   "outputs": [
    {
     "name": "stdout",
     "output_type": "stream",
     "text": [
      "Test set evaluation:\n",
      "_____________________________________\n",
      "MAE: 22237.91132816655\n",
      "MSE: 5800011293.619931\n",
      "RMSE: 76157.80520485035\n",
      "R2 Square 0.0772471524220727\n",
      "__________________________________\n",
      "Train set evaluation:\n",
      "_____________________________________\n",
      "MAE: 22778.4218895889\n",
      "MSE: 7737494906.738011\n",
      "RMSE: 87963.03147764981\n",
      "R2 Square 0.05310398206691225\n",
      "__________________________________\n"
     ]
    }
   ],
   "source": [
    "from sklearn.linear_model import LinearRegression\n",
    "\n",
    "lm = LinearRegression()\n",
    "lm.fit(X_train, y_train)\n",
    "train_pred = lm.predict(X_train)\n",
    "test_pred = lm.predict(X_test)\n",
    "\n",
    "print('Test set evaluation:\\n_____________________________________')\n",
    "print_evaluate(y_test, test_pred)\n",
    "\n",
    "print('Train set evaluation:\\n_____________________________________')\n",
    "print_evaluate(y_train, train_pred)\n",
    "\n",
    "results_df = pd.DataFrame(data=[[\"Linear Regression\", *evaluate(y_test, test_pred) , cross_val(LinearRegression())]], \n",
    "                          columns=['Model', 'MAE', 'MSE', 'RMSE', 'R2 Square', \"Cross Validation\"])"
   ]
  },
  {
   "cell_type": "markdown",
   "metadata": {},
   "source": [
    "The lower value of MAE, MSE, and RMSE implies higher accuracy of a regression model. However, a higher value of R square is considered desirable."
   ]
  },
  {
   "cell_type": "markdown",
   "metadata": {},
   "source": [
    "R-squared is always between 0 and 100%:\n",
    "\n",
    "- 0% represents a model that does not explain any of the variation in the response variable around its mean. The mean of the dependent variable predicts the dependent variable as well as the regression model.\n",
    "- 100% represents a model that explains all the variation in the response variable around its mean.\n",
    "\n",
    "So, if the R2 of a model is 0.50, then approximately half of the observed variation can be explained by the model’s inputs. And by our case, it's almost near zero, then the model doesn't represent the overall variance of the variables."
   ]
  },
  {
   "cell_type": "code",
   "execution_count": 31,
   "metadata": {},
   "outputs": [
    {
     "data": {
      "image/png": "[encoded data removed]",
      "text/plain": [
       "<Figure size 432x288 with 1 Axes>"
      ]
     },
     "metadata": {
      "needs_background": "light"
     },
     "output_type": "display_data"
    }
   ],
   "source": [
    "# Visualizing the differences between actual prices and predicted values\n",
    "plt.scatter(y_train, train_pred)\n",
    "plt.xlabel(\"Popularity\")\n",
    "plt.ylabel(\"Predicted popularity\")\n",
    "plt.title(\"Popularity vs Predicted popularity\")\n",
    "plt.show()"
   ]
  },
  {
   "cell_type": "code",
   "execution_count": 32,
   "metadata": {},
   "outputs": [
    {
     "data": {
      "image/png": "[encoded data removed]",
      "text/plain": [
       "<Figure size 432x288 with 1 Axes>"
      ]
     },
     "metadata": {
      "needs_background": "light"
     },
     "output_type": "display_data"
    }
   ],
   "source": [
    "# Checking residuals\n",
    "plt.scatter(train_pred,y_train-train_pred)\n",
    "plt.title(\"Predicted vs residuals\")\n",
    "plt.xlabel(\"Predicted\")\n",
    "plt.ylabel(\"Residuals\")\n",
    "plt.show()"
   ]
  },
  {
   "cell_type": "code",
   "execution_count": 33,
   "metadata": {},
   "outputs": [
    {
     "data": {
      "image/png": "[encoded data removed]",
      "text/plain": [
       "<Figure size 432x288 with 1 Axes>"
      ]
     },
     "metadata": {
      "needs_background": "light"
     },
     "output_type": "display_data"
    }
   ],
   "source": [
    "# Checking Normality of errors\n",
    "sns.distplot(y_train-train_pred)\n",
    "plt.title(\"Histogram of Residuals\")\n",
    "plt.xlabel(\"Residuals\")\n",
    "plt.ylabel(\"Frequency\")\n",
    "plt.show()"
   ]
  },
  {
   "cell_type": "code",
   "execution_count": 34,
   "metadata": {},
   "outputs": [
    {
     "data": {
      "image/png": "[encoded data removed]",
      "text/plain": [
       "<Figure size 576x396 with 1 Axes>"
      ]
     },
     "metadata": {},
     "output_type": "display_data"
    },
    {
     "data": {
      "text/plain": [
       "<AxesSubplot:title={'center':'Prediction Error for LinearRegression'}, xlabel='$y$', ylabel='$\\\\hat{y}$'>"
      ]
     },
     "execution_count": 34,
     "metadata": {},
     "output_type": "execute_result"
    }
   ],
   "source": [
    "from yellowbrick.regressor import PredictionError\n",
    "visualizer = PredictionError(lm)\n",
    "\n",
    "visualizer.fit(X_train, y_train)  # Fit the training data to the visualizer\n",
    "visualizer.score(X_test, y_test)  # Evaluate the model on the test data\n",
    "visualizer.show()                 # Finalize and render the figure"
   ]
  },
  {
   "cell_type": "markdown",
   "metadata": {},
   "source": [
    "#### 2. Random Forest Regressor"
   ]
  },
  {
   "cell_type": "code",
   "execution_count": 35,
   "metadata": {},
   "outputs": [
    {
     "name": "stdout",
     "output_type": "stream",
     "text": [
      "Test set evaluation:\n",
      "_____________________________________\n",
      "MAE: 23505.32634797512\n",
      "MSE: 5978744379.8798065\n",
      "RMSE: 77322.34075530698\n",
      "R2 Square 0.04881161049750582\n",
      "__________________________________\n",
      "Train set evaluation:\n",
      "_____________________________________\n",
      "MAE: 9442.602930150928\n",
      "MSE: 1353654353.4158566\n",
      "RMSE: 36792.04198486212\n",
      "R2 Square 0.8343430357813787\n",
      "__________________________________\n"
     ]
    }
   ],
   "source": [
    "from sklearn.ensemble import RandomForestRegressor\n",
    "\n",
    "rf_reg = RandomForestRegressor(n_estimators=500)\n",
    "rf_reg.fit(X_train, y_train)\n",
    "\n",
    "test_pred = rf_reg.predict(X_test)\n",
    "train_pred = rf_reg.predict(X_train)\n",
    "\n",
    "print('Test set evaluation:\\n_____________________________________')\n",
    "print_evaluate(y_test, test_pred)\n",
    "\n",
    "print('Train set evaluation:\\n_____________________________________')\n",
    "print_evaluate(y_train, train_pred)\n",
    "\n",
    "results_df_2 = pd.DataFrame(data=[[\"Random Forest Regressor\", *evaluate(y_test, test_pred), 0]], \n",
    "                            columns=['Model', 'MAE', 'MSE', 'RMSE', 'R2 Square', 'Cross Validation'])\n",
    "results_df = results_df.append(results_df_2, ignore_index=True)"
   ]
  },
  {
   "cell_type": "code",
   "execution_count": 37,
   "metadata": {},
   "outputs": [
    {
     "data": {
      "image/png": "[encoded data removed]",
      "text/plain": [
       "<Figure size 576x396 with 1 Axes>"
      ]
     },
     "metadata": {},
     "output_type": "display_data"
    }
   ],
   "source": [
    "# Visualizing the differences between actual prices and predicted values\n",
    "plt.scatter(y_train, train_pred)\n",
    "plt.xlabel(\"Popularity\")\n",
    "plt.ylabel(\"Predicted popularity\")\n",
    "plt.title(\"Popularity vs Predicted popularity\")\n",
    "plt.show()"
   ]
  },
  {
   "cell_type": "code",
   "execution_count": 38,
   "metadata": {},
   "outputs": [
    {
     "data": {
      "image/png": "[encoded data removed]",
      "text/plain": [
       "<Figure size 576x396 with 1 Axes>"
      ]
     },
     "metadata": {},
     "output_type": "display_data"
    }
   ],
   "source": [
    "# Checking residuals\n",
    "plt.scatter(train_pred,y_train-train_pred)\n",
    "plt.title(\"Predicted vs residuals\")\n",
    "plt.xlabel(\"Predicted\")\n",
    "plt.ylabel(\"Residuals\")\n",
    "plt.show()"
   ]
  },
  {
   "cell_type": "code",
   "execution_count": 39,
   "metadata": {},
   "outputs": [
    {
     "data": {
      "image/png": "[encoded data removed]",
      "text/plain": [
       "<Figure size 576x396 with 1 Axes>"
      ]
     },
     "metadata": {},
     "output_type": "display_data"
    }
   ],
   "source": [
    "# Checking Normality of errors\n",
    "sns.distplot(y_train-train_pred)\n",
    "plt.title(\"Histogram of Residuals\")\n",
    "plt.xlabel(\"Residuals\")\n",
    "plt.ylabel(\"Frequency\")\n",
    "plt.show()"
   ]
  },
  {
   "cell_type": "code",
   "execution_count": 40,
   "metadata": {},
   "outputs": [
    {
     "data": {
      "image/png": "[encoded data removed]",
      "text/plain": [
       "<Figure size 576x396 with 1 Axes>"
      ]
     },
     "metadata": {},
     "output_type": "display_data"
    },
    {
     "data": {
      "text/plain": [
       "<AxesSubplot:title={'center':'Prediction Error for RandomForestRegressor'}, xlabel='$y$', ylabel='$\\\\hat{y}$'>"
      ]
     },
     "execution_count": 40,
     "metadata": {},
     "output_type": "execute_result"
    }
   ],
   "source": [
    "from yellowbrick.regressor import PredictionError\n",
    "visualizer = PredictionError(rf_reg)\n",
    "\n",
    "visualizer.fit(X_train, y_train)  # Fit the training data to the visualizer\n",
    "visualizer.score(X_test, y_test)  # Evaluate the model on the test data\n",
    "visualizer.show()                 # Finalize and render the figure"
   ]
  },
  {
   "cell_type": "markdown",
   "metadata": {},
   "source": [
    "#### 3. Lasso Regression"
   ]
  },
  {
   "cell_type": "code",
   "execution_count": 41,
   "metadata": {},
   "outputs": [
    {
     "name": "stdout",
     "output_type": "stream",
     "text": [
      "Test set evaluation:\n",
      "_____________________________________\n",
      "MAE: 22096.67783211313\n",
      "MSE: 5810590671.556136\n",
      "RMSE: 76227.23051217417\n",
      "R2 Square 0.07556402619661617\n",
      "__________________________________\n",
      "====================================\n",
      "Train set evaluation:\n",
      "_____________________________________\n",
      "MAE: 22574.011679035575\n",
      "MSE: 7752879166.044512\n",
      "RMSE: 88050.43535408846\n",
      "R2 Square 0.05122129341228199\n",
      "__________________________________\n"
     ]
    }
   ],
   "source": [
    "from sklearn.linear_model import Lasso\n",
    "\n",
    "model = Lasso(alpha=0.1, \n",
    "              precompute=True, \n",
    "#               warm_start=True, \n",
    "              positive=True, \n",
    "              selection='random',\n",
    "              random_state=42)\n",
    "model.fit(X_train, y_train)\n",
    "\n",
    "test_pred = model.predict(X_test)\n",
    "train_pred = model.predict(X_train)\n",
    "\n",
    "print('Test set evaluation:\\n_____________________________________')\n",
    "print_evaluate(y_test, test_pred)\n",
    "print('====================================')\n",
    "print('Train set evaluation:\\n_____________________________________')\n",
    "print_evaluate(y_train, train_pred)\n",
    "\n",
    "results_df_2 = pd.DataFrame(data=[[\"Lasso Regression\", *evaluate(y_test, test_pred) , cross_val(Lasso())]], \n",
    "                            columns=['Model', 'MAE', 'MSE', 'RMSE', 'R2 Square', \"Cross Validation\"])\n",
    "results_df = results_df.append(results_df_2, ignore_index=True)"
   ]
  },
  {
   "cell_type": "markdown",
   "metadata": {},
   "source": [
    "#### 4. Elastic Net"
   ]
  },
  {
   "cell_type": "code",
   "execution_count": 42,
   "metadata": {},
   "outputs": [
    {
     "name": "stdout",
     "output_type": "stream",
     "text": [
      "Test set evaluation:\n",
      "_____________________________________\n",
      "MAE: 22038.858131668636\n",
      "MSE: 5801535025.643063\n",
      "RMSE: 76167.80832899857\n",
      "R2 Square 0.07700473426250176\n",
      "__________________________________\n",
      "====================================\n",
      "Train set evaluation:\n",
      "_____________________________________\n",
      "MAE: 22549.98026143349\n",
      "MSE: 7740809598.621029\n",
      "RMSE: 87981.87085201718\n",
      "R2 Square 0.052698338046136106\n",
      "__________________________________\n"
     ]
    }
   ],
   "source": [
    "from sklearn.linear_model import ElasticNet\n",
    "\n",
    "model = ElasticNet(alpha=0.1, l1_ratio=0.9, selection='random', random_state=42)\n",
    "model.fit(X_train, y_train)\n",
    "\n",
    "test_pred = model.predict(X_test)\n",
    "train_pred = model.predict(X_train)\n",
    "\n",
    "print('Test set evaluation:\\n_____________________________________')\n",
    "print_evaluate(y_test, test_pred)\n",
    "print('====================================')\n",
    "print('Train set evaluation:\\n_____________________________________')\n",
    "print_evaluate(y_train, train_pred)\n",
    "\n",
    "results_df_2 = pd.DataFrame(data=[[\"Elastic Net Regression\", *evaluate(y_test, test_pred) , cross_val(ElasticNet())]], \n",
    "                            columns=['Model', 'MAE', 'MSE', 'RMSE', 'R2 Square', \"Cross Validation\"])\n",
    "results_df = results_df.append(results_df_2, ignore_index=True)"
   ]
  },
  {
   "cell_type": "code",
   "execution_count": 43,
   "metadata": {},
   "outputs": [
    {
     "data": {
      "text/html": [
       "<div>\n",
       "<style scoped>\n",
       "    .dataframe tbody tr th:only-of-type {\n",
       "        vertical-align: middle;\n",
       "    }\n",
       "\n",
       "    .dataframe tbody tr th {\n",
       "        vertical-align: top;\n",
       "    }\n",
       "\n",
       "    .dataframe thead th {\n",
       "        text-align: right;\n",
       "    }\n",
       "</style>\n",
       "<table border=\"1\" class=\"dataframe\">\n",
       "  <thead>\n",
       "    <tr style=\"text-align: right;\">\n",
       "      <th></th>\n",
       "      <th>Model</th>\n",
       "      <th>MAE</th>\n",
       "      <th>MSE</th>\n",
       "      <th>RMSE</th>\n",
       "      <th>R2 Square</th>\n",
       "      <th>Cross Validation</th>\n",
       "    </tr>\n",
       "  </thead>\n",
       "  <tbody>\n",
       "    <tr>\n",
       "      <th>0</th>\n",
       "      <td>Linear Regression</td>\n",
       "      <td>22237.911328</td>\n",
       "      <td>5.800011e+09</td>\n",
       "      <td>76157.805205</td>\n",
       "      <td>0.077247</td>\n",
       "      <td>0.055633</td>\n",
       "    </tr>\n",
       "    <tr>\n",
       "      <th>1</th>\n",
       "      <td>Random Forest Regressor</td>\n",
       "      <td>23505.326348</td>\n",
       "      <td>5.978744e+09</td>\n",
       "      <td>77322.340755</td>\n",
       "      <td>0.048812</td>\n",
       "      <td>0.000000</td>\n",
       "    </tr>\n",
       "    <tr>\n",
       "      <th>2</th>\n",
       "      <td>Lasso Regression</td>\n",
       "      <td>22096.677832</td>\n",
       "      <td>5.810591e+09</td>\n",
       "      <td>76227.230512</td>\n",
       "      <td>0.075564</td>\n",
       "      <td>0.055637</td>\n",
       "    </tr>\n",
       "    <tr>\n",
       "      <th>3</th>\n",
       "      <td>Elastic Net Regression</td>\n",
       "      <td>22038.858132</td>\n",
       "      <td>5.801535e+09</td>\n",
       "      <td>76167.808329</td>\n",
       "      <td>0.077005</td>\n",
       "      <td>0.053284</td>\n",
       "    </tr>\n",
       "  </tbody>\n",
       "</table>\n",
       "</div>"
      ],
      "text/plain": [
       "                     Model           MAE           MSE          RMSE  \\\n",
       "0        Linear Regression  22237.911328  5.800011e+09  76157.805205   \n",
       "1  Random Forest Regressor  23505.326348  5.978744e+09  77322.340755   \n",
       "2         Lasso Regression  22096.677832  5.810591e+09  76227.230512   \n",
       "3   Elastic Net Regression  22038.858132  5.801535e+09  76167.808329   \n",
       "\n",
       "   R2 Square  Cross Validation  \n",
       "0   0.077247          0.055633  \n",
       "1   0.048812          0.000000  \n",
       "2   0.075564          0.055637  \n",
       "3   0.077005          0.053284  "
      ]
     },
     "execution_count": 43,
     "metadata": {},
     "output_type": "execute_result"
    }
   ],
   "source": [
    "results_df"
   ]
  },
  {
   "cell_type": "markdown",
   "metadata": {},
   "source": [
    "From all of regression algorithms that we tried, random forest regressor turns out to be the best among all of them even though the error rate still remains high and R-squared is still low, which means that the model is not a good fit for now. However, for the next steps, we'll try to focus on lowering the error rate by doing some hyperparameter tuning using random forest regressor since all the linear methods didn't give us satisfying results. And, we'd also like to try popularity classification in the upcoming weeks."
   ]
  }
 ],
 "metadata": {
  "kernelspec": {
   "display_name": "Python 3 (ipykernel)",
   "language": "python",
   "name": "python3"
  },
  "language_info": {
   "codemirror_mode": {
    "name": "ipython",
    "version": 3
   },
   "file_extension": ".py",
   "mimetype": "text/x-python",
   "name": "python",
   "nbconvert_exporter": "python",
   "pygments_lexer": "ipython3",
   "version": "3.9.12"
  }
 },
 "nbformat": 4,
 "nbformat_minor": 1
}
