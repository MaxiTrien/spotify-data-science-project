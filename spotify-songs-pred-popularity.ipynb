{
 "cells": [
  {
   "cell_type": "code",
   "execution_count": 1,
   "metadata": {
    "pycharm": {
     "name": "#%%\n"
    }
   },
   "outputs": [],
   "source": [
    "import pandas as pd\n",
    "import numpy as np\n",
    "import matplotlib.pyplot as plt\n",
    "import seaborn as sns\n",
    "import warnings\n",
    "import colorcet as cc\n",
    "import plotly.express as px\n",
    "\n",
    "from sklearn.preprocessing import RobustScaler\n",
    "from sklearn.preprocessing import Normalizer\n",
    "from sklearn.preprocessing import QuantileTransformer\n",
    "from sklearn.preprocessing import PowerTransformer\n",
    "\n",
    "warnings.filterwarnings(\"ignore\")\n",
    "pd.set_option('display.max_columns', None)\n",
    "pd.set_option('display.max_rows', 500)\n",
    "%matplotlib inline\n",
    "\n",
    "config = {\n",
    "  'toImageButtonOptions': {\n",
    "    'format': 'png', # one of png, svg, jpeg, webp\n",
    "    'filename': 'newplot',\n",
    "    'height': 500,\n",
    "    'width': 900,\n",
    "    'scale': 5 # Multiply title/legend/axis/canvas sizes by this factor\n",
    "  }\n",
    "}"
   ]
  },
  {
   "cell_type": "code",
   "execution_count": 2,
   "metadata": {
    "pycharm": {
     "name": "#%%\n"
    }
   },
   "outputs": [],
   "source": [
    "df=pd.read_pickle('./dataset_/dataset_cleaned_popularity.pkl')\n",
    "df.drop(columns=['index', 'level_0'], inplace=True)  # Comes from pickeling the file\n",
    "df.reset_index(drop=True, inplace=True)"
   ]
  },
  {
   "cell_type": "code",
   "execution_count": 3,
   "metadata": {
    "pycharm": {
     "name": "#%%\n"
    }
   },
   "outputs": [
    {
     "data": {
      "text/plain": [
       "count    166681.000000\n",
       "mean       5511.366120\n",
       "std       13236.831027\n",
       "min           0.800000\n",
       "25%          78.400000\n",
       "50%         530.400000\n",
       "75%        3995.050000\n",
       "max      233766.900000\n",
       "Name: popularity, dtype: float64"
      ]
     },
     "execution_count": 3,
     "metadata": {},
     "output_type": "execute_result"
    }
   ],
   "source": [
    "df['popularity'].describe()"
   ]
  },
  {
   "cell_type": "markdown",
   "metadata": {
    "pycharm": {
     "name": "#%% md\n"
    }
   },
   "source": [
    "## Popularity Prediction\n",
    "This week, we started to work on our predictive mining tasks, one of them is song popularity prediction. By the end of this project, we hope that we can see what is the typical song that is getting more popular than the others in Spotify. We got two ideas in mind, which are popularity score prediction and popularity classification (popular / not popular)."
   ]
  },
  {
   "cell_type": "markdown",
   "metadata": {
    "pycharm": {
     "name": "#%% md\n"
    }
   },
   "source": [
    "### Data Pre-processing\n",
    "Before jump into the main modelling task, here we'll process all of our our possible features based on its data type:\n",
    "\n",
    "**Numerical Features**\n",
    "* popularity\n",
    "* artist_followers\n",
    "* danceability\n",
    "* energy\n",
    "* loudness\n",
    "* speechiness\n",
    "* acoustics\n",
    "* instrumentalness\n",
    "* liveness\n",
    "* valence\n",
    "* duration_min\n",
    "\n",
    "**Categorical Features**\n",
    "* explicit\n",
    "* key\n",
    "* release_day\n",
    "\n",
    "For the first round selection, we selected the features based on our knowledge and common sense, later we'll do the feature selection based on how each of them perform in some evaluation measurement or algorithm.\n",
    "#### Popularity\n",
    "The original value of our popularity score is the calculation of number of days and position they stayed in the Top 200 Playlist and the score is also difference for each country."
   ]
  },
  {
   "cell_type": "code",
   "execution_count": 4,
   "metadata": {
    "pycharm": {
     "name": "#%%\n"
    }
   },
   "outputs": [
    {
     "data": {
      "text/html": [
       "<div>\n",
       "<style scoped>\n",
       "    .dataframe tbody tr th:only-of-type {\n",
       "        vertical-align: middle;\n",
       "    }\n",
       "\n",
       "    .dataframe tbody tr th {\n",
       "        vertical-align: top;\n",
       "    }\n",
       "\n",
       "    .dataframe thead th {\n",
       "        text-align: right;\n",
       "    }\n",
       "</style>\n",
       "<table border=\"1\" class=\"dataframe\">\n",
       "  <thead>\n",
       "    <tr style=\"text-align: right;\">\n",
       "      <th></th>\n",
       "      <th>country</th>\n",
       "      <th>uri</th>\n",
       "      <th>popularity</th>\n",
       "      <th>title</th>\n",
       "      <th>artist</th>\n",
       "      <th>release_type</th>\n",
       "      <th>sub_genre</th>\n",
       "      <th>artist_followers</th>\n",
       "      <th>explicit</th>\n",
       "      <th>album</th>\n",
       "      <th>release_date</th>\n",
       "      <th>track_number</th>\n",
       "      <th>tracks_in_album</th>\n",
       "      <th>danceability</th>\n",
       "      <th>energy</th>\n",
       "      <th>key</th>\n",
       "      <th>loudness</th>\n",
       "      <th>mode</th>\n",
       "      <th>speechiness</th>\n",
       "      <th>acoustics</th>\n",
       "      <th>instrumentalness</th>\n",
       "      <th>liveness</th>\n",
       "      <th>valence</th>\n",
       "      <th>tempo</th>\n",
       "      <th>time_signature</th>\n",
       "      <th>genre</th>\n",
       "      <th>days_since_release</th>\n",
       "      <th>released_after_2017</th>\n",
       "      <th>explicit_false</th>\n",
       "      <th>explicit_true</th>\n",
       "      <th>popu_max</th>\n",
       "      <th>top10_dummy</th>\n",
       "      <th>top50_dummy</th>\n",
       "      <th>cluster</th>\n",
       "      <th>duration_min</th>\n",
       "      <th>release_year</th>\n",
       "      <th>release_month</th>\n",
       "      <th>release_day</th>\n",
       "    </tr>\n",
       "  </thead>\n",
       "  <tbody>\n",
       "    <tr>\n",
       "      <th>52226</th>\n",
       "      <td>Belgium</td>\n",
       "      <td>https://open.spotify.com/track/7qiZfU4dY1lWllz...</td>\n",
       "      <td>233766.9</td>\n",
       "      <td>shape of you</td>\n",
       "      <td>Ed Sheeran</td>\n",
       "      <td>album</td>\n",
       "      <td>pop</td>\n",
       "      <td>71783101.0</td>\n",
       "      <td>False</td>\n",
       "      <td>÷ (Deluxe)</td>\n",
       "      <td>2017-03-03</td>\n",
       "      <td>4</td>\n",
       "      <td>16</td>\n",
       "      <td>0.825</td>\n",
       "      <td>0.652</td>\n",
       "      <td>1</td>\n",
       "      <td>-3.183</td>\n",
       "      <td>0</td>\n",
       "      <td>0.0802</td>\n",
       "      <td>0.581</td>\n",
       "      <td>0.0</td>\n",
       "      <td>0.0931</td>\n",
       "      <td>0.931</td>\n",
       "      <td>95.977</td>\n",
       "      <td>4</td>\n",
       "      <td>pop</td>\n",
       "      <td>1349.0</td>\n",
       "      <td>1.0</td>\n",
       "      <td>1</td>\n",
       "      <td>0</td>\n",
       "      <td>1</td>\n",
       "      <td>1.0</td>\n",
       "      <td>1.0</td>\n",
       "      <td>english speaking and nordic</td>\n",
       "      <td>3.895217</td>\n",
       "      <td>2017</td>\n",
       "      <td>3</td>\n",
       "      <td>3</td>\n",
       "    </tr>\n",
       "    <tr>\n",
       "      <th>52232</th>\n",
       "      <td>Costa Rica</td>\n",
       "      <td>https://open.spotify.com/track/7qiZfU4dY1lWllz...</td>\n",
       "      <td>228707.2</td>\n",
       "      <td>shape of you</td>\n",
       "      <td>Ed Sheeran</td>\n",
       "      <td>album</td>\n",
       "      <td>pop</td>\n",
       "      <td>71783101.0</td>\n",
       "      <td>False</td>\n",
       "      <td>÷ (Deluxe)</td>\n",
       "      <td>2017-03-03</td>\n",
       "      <td>4</td>\n",
       "      <td>16</td>\n",
       "      <td>0.825</td>\n",
       "      <td>0.652</td>\n",
       "      <td>1</td>\n",
       "      <td>-3.183</td>\n",
       "      <td>0</td>\n",
       "      <td>0.0802</td>\n",
       "      <td>0.581</td>\n",
       "      <td>0.0</td>\n",
       "      <td>0.0931</td>\n",
       "      <td>0.931</td>\n",
       "      <td>95.977</td>\n",
       "      <td>4</td>\n",
       "      <td>pop</td>\n",
       "      <td>1349.0</td>\n",
       "      <td>1.0</td>\n",
       "      <td>1</td>\n",
       "      <td>0</td>\n",
       "      <td>1</td>\n",
       "      <td>1.0</td>\n",
       "      <td>1.0</td>\n",
       "      <td>spanish speaking</td>\n",
       "      <td>3.895217</td>\n",
       "      <td>2017</td>\n",
       "      <td>3</td>\n",
       "      <td>3</td>\n",
       "    </tr>\n",
       "    <tr>\n",
       "      <th>52220</th>\n",
       "      <td>Global</td>\n",
       "      <td>https://open.spotify.com/track/7qiZfU4dY1lWllz...</td>\n",
       "      <td>221571.0</td>\n",
       "      <td>shape of you</td>\n",
       "      <td>Ed Sheeran</td>\n",
       "      <td>album</td>\n",
       "      <td>pop</td>\n",
       "      <td>71783101.0</td>\n",
       "      <td>False</td>\n",
       "      <td>÷ (Deluxe)</td>\n",
       "      <td>2017-03-03</td>\n",
       "      <td>4</td>\n",
       "      <td>16</td>\n",
       "      <td>0.825</td>\n",
       "      <td>0.652</td>\n",
       "      <td>1</td>\n",
       "      <td>-3.183</td>\n",
       "      <td>0</td>\n",
       "      <td>0.0802</td>\n",
       "      <td>0.581</td>\n",
       "      <td>0.0</td>\n",
       "      <td>0.0931</td>\n",
       "      <td>0.931</td>\n",
       "      <td>95.977</td>\n",
       "      <td>4</td>\n",
       "      <td>pop</td>\n",
       "      <td>1349.0</td>\n",
       "      <td>1.0</td>\n",
       "      <td>1</td>\n",
       "      <td>0</td>\n",
       "      <td>1</td>\n",
       "      <td>1.0</td>\n",
       "      <td>1.0</td>\n",
       "      <td>global</td>\n",
       "      <td>3.895217</td>\n",
       "      <td>2017</td>\n",
       "      <td>3</td>\n",
       "      <td>3</td>\n",
       "    </tr>\n",
       "    <tr>\n",
       "      <th>30287</th>\n",
       "      <td>Philippines</td>\n",
       "      <td>https://open.spotify.com/track/5uCax9HTNlzGybI...</td>\n",
       "      <td>217605.8</td>\n",
       "      <td>say you wont let go</td>\n",
       "      <td>James Arthur</td>\n",
       "      <td>album</td>\n",
       "      <td>pop</td>\n",
       "      <td>6843219.0</td>\n",
       "      <td>False</td>\n",
       "      <td>Back from the Edge</td>\n",
       "      <td>2016-10-28</td>\n",
       "      <td>2</td>\n",
       "      <td>17</td>\n",
       "      <td>0.358</td>\n",
       "      <td>0.557</td>\n",
       "      <td>10</td>\n",
       "      <td>-7.398</td>\n",
       "      <td>1</td>\n",
       "      <td>0.0590</td>\n",
       "      <td>0.695</td>\n",
       "      <td>0.0</td>\n",
       "      <td>0.0902</td>\n",
       "      <td>0.494</td>\n",
       "      <td>85.043</td>\n",
       "      <td>4</td>\n",
       "      <td>pop</td>\n",
       "      <td>1469.0</td>\n",
       "      <td>0.0</td>\n",
       "      <td>1</td>\n",
       "      <td>0</td>\n",
       "      <td>2</td>\n",
       "      <td>1.0</td>\n",
       "      <td>1.0</td>\n",
       "      <td>southern europe and portuguese heritage</td>\n",
       "      <td>3.524450</td>\n",
       "      <td>2016</td>\n",
       "      <td>10</td>\n",
       "      <td>28</td>\n",
       "    </tr>\n",
       "    <tr>\n",
       "      <th>52252</th>\n",
       "      <td>Singapore</td>\n",
       "      <td>https://open.spotify.com/track/7qiZfU4dY1lWllz...</td>\n",
       "      <td>217307.4</td>\n",
       "      <td>shape of you</td>\n",
       "      <td>Ed Sheeran</td>\n",
       "      <td>album</td>\n",
       "      <td>pop</td>\n",
       "      <td>71783101.0</td>\n",
       "      <td>False</td>\n",
       "      <td>÷ (Deluxe)</td>\n",
       "      <td>2017-03-03</td>\n",
       "      <td>4</td>\n",
       "      <td>16</td>\n",
       "      <td>0.825</td>\n",
       "      <td>0.652</td>\n",
       "      <td>1</td>\n",
       "      <td>-3.183</td>\n",
       "      <td>0</td>\n",
       "      <td>0.0802</td>\n",
       "      <td>0.581</td>\n",
       "      <td>0.0</td>\n",
       "      <td>0.0931</td>\n",
       "      <td>0.931</td>\n",
       "      <td>95.977</td>\n",
       "      <td>4</td>\n",
       "      <td>pop</td>\n",
       "      <td>1349.0</td>\n",
       "      <td>1.0</td>\n",
       "      <td>1</td>\n",
       "      <td>0</td>\n",
       "      <td>1</td>\n",
       "      <td>1.0</td>\n",
       "      <td>1.0</td>\n",
       "      <td>english speaking and nordic</td>\n",
       "      <td>3.895217</td>\n",
       "      <td>2017</td>\n",
       "      <td>3</td>\n",
       "      <td>3</td>\n",
       "    </tr>\n",
       "  </tbody>\n",
       "</table>\n",
       "</div>"
      ],
      "text/plain": [
       "           country                                                uri  \\\n",
       "52226      Belgium  https://open.spotify.com/track/7qiZfU4dY1lWllz...   \n",
       "52232   Costa Rica  https://open.spotify.com/track/7qiZfU4dY1lWllz...   \n",
       "52220       Global  https://open.spotify.com/track/7qiZfU4dY1lWllz...   \n",
       "30287  Philippines  https://open.spotify.com/track/5uCax9HTNlzGybI...   \n",
       "52252    Singapore  https://open.spotify.com/track/7qiZfU4dY1lWllz...   \n",
       "\n",
       "       popularity                title        artist release_type sub_genre  \\\n",
       "52226    233766.9         shape of you    Ed Sheeran        album       pop   \n",
       "52232    228707.2         shape of you    Ed Sheeran        album       pop   \n",
       "52220    221571.0         shape of you    Ed Sheeran        album       pop   \n",
       "30287    217605.8  say you wont let go  James Arthur        album       pop   \n",
       "52252    217307.4         shape of you    Ed Sheeran        album       pop   \n",
       "\n",
       "       artist_followers explicit               album release_date  \\\n",
       "52226        71783101.0    False          ÷ (Deluxe)   2017-03-03   \n",
       "52232        71783101.0    False          ÷ (Deluxe)   2017-03-03   \n",
       "52220        71783101.0    False          ÷ (Deluxe)   2017-03-03   \n",
       "30287         6843219.0    False  Back from the Edge   2016-10-28   \n",
       "52252        71783101.0    False          ÷ (Deluxe)   2017-03-03   \n",
       "\n",
       "      track_number tracks_in_album  danceability  energy key  loudness mode  \\\n",
       "52226            4              16         0.825   0.652   1    -3.183    0   \n",
       "52232            4              16         0.825   0.652   1    -3.183    0   \n",
       "52220            4              16         0.825   0.652   1    -3.183    0   \n",
       "30287            2              17         0.358   0.557  10    -7.398    1   \n",
       "52252            4              16         0.825   0.652   1    -3.183    0   \n",
       "\n",
       "       speechiness  acoustics  instrumentalness  liveness  valence   tempo  \\\n",
       "52226       0.0802      0.581               0.0    0.0931    0.931  95.977   \n",
       "52232       0.0802      0.581               0.0    0.0931    0.931  95.977   \n",
       "52220       0.0802      0.581               0.0    0.0931    0.931  95.977   \n",
       "30287       0.0590      0.695               0.0    0.0902    0.494  85.043   \n",
       "52252       0.0802      0.581               0.0    0.0931    0.931  95.977   \n",
       "\n",
       "      time_signature genre  days_since_release released_after_2017  \\\n",
       "52226              4   pop              1349.0                 1.0   \n",
       "52232              4   pop              1349.0                 1.0   \n",
       "52220              4   pop              1349.0                 1.0   \n",
       "30287              4   pop              1469.0                 0.0   \n",
       "52252              4   pop              1349.0                 1.0   \n",
       "\n",
       "       explicit_false  explicit_true  popu_max  top10_dummy  top50_dummy  \\\n",
       "52226               1              0         1          1.0          1.0   \n",
       "52232               1              0         1          1.0          1.0   \n",
       "52220               1              0         1          1.0          1.0   \n",
       "30287               1              0         2          1.0          1.0   \n",
       "52252               1              0         1          1.0          1.0   \n",
       "\n",
       "                                       cluster  duration_min  release_year  \\\n",
       "52226              english speaking and nordic      3.895217          2017   \n",
       "52232                         spanish speaking      3.895217          2017   \n",
       "52220                                   global      3.895217          2017   \n",
       "30287  southern europe and portuguese heritage      3.524450          2016   \n",
       "52252              english speaking and nordic      3.895217          2017   \n",
       "\n",
       "       release_month  release_day  \n",
       "52226              3            3  \n",
       "52232              3            3  \n",
       "52220              3            3  \n",
       "30287             10           28  \n",
       "52252              3            3  "
      ]
     },
     "execution_count": 4,
     "metadata": {},
     "output_type": "execute_result"
    }
   ],
   "source": [
    "df.sort_values(by='popularity', ascending=False).head(5)"
   ]
  },
  {
   "cell_type": "markdown",
   "metadata": {
    "pycharm": {
     "name": "#%% md\n"
    }
   },
   "source": [
    "As you can see in the table, there are multiple countries that have \"Shape of You\" as their top popular song, and this also means that this song is very popular compared to a song that only appears in one coutnry top playlist, right?\n",
    "\n",
    "So, in order to get a unique song popularity score, we decided to sum up the every country's popularity score for each song, since the higher value they got, means the more popular they are."
   ]
  },
  {
   "cell_type": "code",
   "execution_count": 5,
   "metadata": {
    "pycharm": {
     "name": "#%%\n"
    }
   },
   "outputs": [
    {
     "data": {
      "text/html": [
       "<div>\n",
       "<style scoped>\n",
       "    .dataframe tbody tr th:only-of-type {\n",
       "        vertical-align: middle;\n",
       "    }\n",
       "\n",
       "    .dataframe tbody tr th {\n",
       "        vertical-align: top;\n",
       "    }\n",
       "\n",
       "    .dataframe thead th {\n",
       "        text-align: right;\n",
       "    }\n",
       "</style>\n",
       "<table border=\"1\" class=\"dataframe\">\n",
       "  <thead>\n",
       "    <tr style=\"text-align: right;\">\n",
       "      <th></th>\n",
       "      <th>title</th>\n",
       "      <th>artist</th>\n",
       "      <th>release_type</th>\n",
       "      <th>sub_genre</th>\n",
       "      <th>artist_followers</th>\n",
       "      <th>explicit</th>\n",
       "      <th>album</th>\n",
       "      <th>track_number</th>\n",
       "      <th>tracks_in_album</th>\n",
       "      <th>danceability</th>\n",
       "      <th>energy</th>\n",
       "      <th>key</th>\n",
       "      <th>loudness</th>\n",
       "      <th>mode</th>\n",
       "      <th>speechiness</th>\n",
       "      <th>acoustics</th>\n",
       "      <th>instrumentalness</th>\n",
       "      <th>liveness</th>\n",
       "      <th>valence</th>\n",
       "      <th>tempo</th>\n",
       "      <th>time_signature</th>\n",
       "      <th>genre</th>\n",
       "      <th>duration_min</th>\n",
       "      <th>release_year</th>\n",
       "      <th>release_month</th>\n",
       "      <th>release_day</th>\n",
       "      <th>popularity</th>\n",
       "    </tr>\n",
       "  </thead>\n",
       "  <tbody>\n",
       "    <tr>\n",
       "      <th>44367</th>\n",
       "      <td>shape of you</td>\n",
       "      <td>Ed Sheeran</td>\n",
       "      <td>album</td>\n",
       "      <td>pop</td>\n",
       "      <td>71783101.0</td>\n",
       "      <td>False</td>\n",
       "      <td>÷ (Deluxe)</td>\n",
       "      <td>4</td>\n",
       "      <td>16</td>\n",
       "      <td>0.825</td>\n",
       "      <td>0.652</td>\n",
       "      <td>1</td>\n",
       "      <td>-3.183</td>\n",
       "      <td>0</td>\n",
       "      <td>0.0802</td>\n",
       "      <td>0.581</td>\n",
       "      <td>0.000000</td>\n",
       "      <td>0.0931</td>\n",
       "      <td>0.931</td>\n",
       "      <td>95.977</td>\n",
       "      <td>4</td>\n",
       "      <td>pop</td>\n",
       "      <td>3.895217</td>\n",
       "      <td>2017</td>\n",
       "      <td>3</td>\n",
       "      <td>3</td>\n",
       "      <td>5732932.35</td>\n",
       "    </tr>\n",
       "    <tr>\n",
       "      <th>11089</th>\n",
       "      <td>dance monkey</td>\n",
       "      <td>Tones And I</td>\n",
       "      <td>single</td>\n",
       "      <td>australian pop</td>\n",
       "      <td>2283019.0</td>\n",
       "      <td>False</td>\n",
       "      <td>Dance Monkey</td>\n",
       "      <td>1</td>\n",
       "      <td>1</td>\n",
       "      <td>0.825</td>\n",
       "      <td>0.593</td>\n",
       "      <td>6</td>\n",
       "      <td>-6.401</td>\n",
       "      <td>0</td>\n",
       "      <td>0.0988</td>\n",
       "      <td>0.688</td>\n",
       "      <td>0.000161</td>\n",
       "      <td>0.1700</td>\n",
       "      <td>0.540</td>\n",
       "      <td>98.078</td>\n",
       "      <td>4</td>\n",
       "      <td>pop</td>\n",
       "      <td>3.495917</td>\n",
       "      <td>2019</td>\n",
       "      <td>5</td>\n",
       "      <td>10</td>\n",
       "      <td>3624590.65</td>\n",
       "    </tr>\n",
       "    <tr>\n",
       "      <th>38669</th>\n",
       "      <td>perfect</td>\n",
       "      <td>Ed Sheeran</td>\n",
       "      <td>album</td>\n",
       "      <td>pop</td>\n",
       "      <td>71783101.0</td>\n",
       "      <td>False</td>\n",
       "      <td>÷ (Deluxe)</td>\n",
       "      <td>5</td>\n",
       "      <td>16</td>\n",
       "      <td>0.599</td>\n",
       "      <td>0.448</td>\n",
       "      <td>8</td>\n",
       "      <td>-6.312</td>\n",
       "      <td>1</td>\n",
       "      <td>0.0232</td>\n",
       "      <td>0.163</td>\n",
       "      <td>0.000000</td>\n",
       "      <td>0.1060</td>\n",
       "      <td>0.168</td>\n",
       "      <td>95.050</td>\n",
       "      <td>3</td>\n",
       "      <td>pop</td>\n",
       "      <td>4.390000</td>\n",
       "      <td>2017</td>\n",
       "      <td>3</td>\n",
       "      <td>3</td>\n",
       "      <td>2933691.50</td>\n",
       "    </tr>\n",
       "    <tr>\n",
       "      <th>4480</th>\n",
       "      <td>bad guy</td>\n",
       "      <td>Billie Eilish</td>\n",
       "      <td>album</td>\n",
       "      <td>electropop</td>\n",
       "      <td>34697267.0</td>\n",
       "      <td>False</td>\n",
       "      <td>WHEN WE ALL FALL ASLEEP, WHERE DO WE GO?</td>\n",
       "      <td>2</td>\n",
       "      <td>14</td>\n",
       "      <td>0.701</td>\n",
       "      <td>0.425</td>\n",
       "      <td>7</td>\n",
       "      <td>-10.965</td>\n",
       "      <td>1</td>\n",
       "      <td>0.3750</td>\n",
       "      <td>0.328</td>\n",
       "      <td>0.130000</td>\n",
       "      <td>0.1000</td>\n",
       "      <td>0.562</td>\n",
       "      <td>135.128</td>\n",
       "      <td>4</td>\n",
       "      <td>pop</td>\n",
       "      <td>3.234800</td>\n",
       "      <td>2019</td>\n",
       "      <td>3</td>\n",
       "      <td>29</td>\n",
       "      <td>2812179.25</td>\n",
       "    </tr>\n",
       "    <tr>\n",
       "      <th>44341</th>\n",
       "      <td>shallow</td>\n",
       "      <td>Lady Gaga - Bradley Cooper</td>\n",
       "      <td>album</td>\n",
       "      <td>dance pop</td>\n",
       "      <td>14439685.0</td>\n",
       "      <td>False</td>\n",
       "      <td>A Star Is Born Soundtrack</td>\n",
       "      <td>12</td>\n",
       "      <td>34</td>\n",
       "      <td>0.572</td>\n",
       "      <td>0.385</td>\n",
       "      <td>7</td>\n",
       "      <td>-6.362</td>\n",
       "      <td>1</td>\n",
       "      <td>0.0308</td>\n",
       "      <td>0.371</td>\n",
       "      <td>0.000000</td>\n",
       "      <td>0.2310</td>\n",
       "      <td>0.323</td>\n",
       "      <td>95.799</td>\n",
       "      <td>4</td>\n",
       "      <td>pop</td>\n",
       "      <td>3.595550</td>\n",
       "      <td>2018</td>\n",
       "      <td>10</td>\n",
       "      <td>5</td>\n",
       "      <td>2600171.85</td>\n",
       "    </tr>\n",
       "  </tbody>\n",
       "</table>\n",
       "</div>"
      ],
      "text/plain": [
       "              title                      artist release_type       sub_genre  \\\n",
       "44367  shape of you                  Ed Sheeran        album             pop   \n",
       "11089  dance monkey                 Tones And I       single  australian pop   \n",
       "38669       perfect                  Ed Sheeran        album             pop   \n",
       "4480        bad guy               Billie Eilish        album      electropop   \n",
       "44341       shallow  Lady Gaga - Bradley Cooper        album       dance pop   \n",
       "\n",
       "       artist_followers explicit                                     album  \\\n",
       "44367        71783101.0    False                                ÷ (Deluxe)   \n",
       "11089         2283019.0    False                              Dance Monkey   \n",
       "38669        71783101.0    False                                ÷ (Deluxe)   \n",
       "4480         34697267.0    False  WHEN WE ALL FALL ASLEEP, WHERE DO WE GO?   \n",
       "44341        14439685.0    False                 A Star Is Born Soundtrack   \n",
       "\n",
       "      track_number tracks_in_album  danceability  energy key  loudness mode  \\\n",
       "44367            4              16         0.825   0.652   1    -3.183    0   \n",
       "11089            1               1         0.825   0.593   6    -6.401    0   \n",
       "38669            5              16         0.599   0.448   8    -6.312    1   \n",
       "4480             2              14         0.701   0.425   7   -10.965    1   \n",
       "44341           12              34         0.572   0.385   7    -6.362    1   \n",
       "\n",
       "       speechiness  acoustics  instrumentalness  liveness  valence    tempo  \\\n",
       "44367       0.0802      0.581          0.000000    0.0931    0.931   95.977   \n",
       "11089       0.0988      0.688          0.000161    0.1700    0.540   98.078   \n",
       "38669       0.0232      0.163          0.000000    0.1060    0.168   95.050   \n",
       "4480        0.3750      0.328          0.130000    0.1000    0.562  135.128   \n",
       "44341       0.0308      0.371          0.000000    0.2310    0.323   95.799   \n",
       "\n",
       "      time_signature genre  duration_min  release_year  release_month  \\\n",
       "44367              4   pop      3.895217          2017              3   \n",
       "11089              4   pop      3.495917          2019              5   \n",
       "38669              3   pop      4.390000          2017              3   \n",
       "4480               4   pop      3.234800          2019              3   \n",
       "44341              4   pop      3.595550          2018             10   \n",
       "\n",
       "       release_day  popularity  \n",
       "44367            3  5732932.35  \n",
       "11089           10  3624590.65  \n",
       "38669            3  2933691.50  \n",
       "4480            29  2812179.25  \n",
       "44341            5  2600171.85  "
      ]
     },
     "execution_count": 5,
     "metadata": {},
     "output_type": "execute_result"
    }
   ],
   "source": [
    "df = df.groupby(['title', 'artist', 'release_type', 'sub_genre', 'artist_followers', 'explicit', 'album', 'track_number', 'tracks_in_album', 'danceability', 'energy', 'key', 'loudness', 'mode', 'speechiness', 'acoustics', 'instrumentalness', 'liveness', 'valence', 'tempo', 'time_signature', 'genre', 'duration_min', 'release_year', 'release_month', 'release_day'])['popularity'].sum().reset_index(name='popularity')\n",
    "df.sort_values(by='popularity', ascending=False).head(5)"
   ]
  },
  {
   "cell_type": "markdown",
   "metadata": {
    "pycharm": {
     "name": "#%% md\n"
    }
   },
   "source": [
    "As a result, we got 59,492 unique songs. Then, we tried to visualize the distribution, but it turned out that the final popularity score is too large and not easily readable. Thus, we normalized the value to a 0-100 range to make it similar with the popularity score calculated by Spotify"
   ]
  },
  {
   "cell_type": "code",
   "execution_count": 6,
   "metadata": {
    "pycharm": {
     "name": "#%%\n"
    }
   },
   "outputs": [],
   "source": [
    "df['popularity'] = (df['popularity'] - df['popularity'].min()) / (df['popularity'].max() - df['popularity'].min()) * 100"
   ]
  },
  {
   "cell_type": "code",
   "execution_count": 7,
   "metadata": {
    "pycharm": {
     "name": "#%%\n"
    }
   },
   "outputs": [
    {
     "data": {
      "text/html": [
       "<div>\n",
       "<style scoped>\n",
       "    .dataframe tbody tr th:only-of-type {\n",
       "        vertical-align: middle;\n",
       "    }\n",
       "\n",
       "    .dataframe tbody tr th {\n",
       "        vertical-align: top;\n",
       "    }\n",
       "\n",
       "    .dataframe thead th {\n",
       "        text-align: right;\n",
       "    }\n",
       "</style>\n",
       "<table border=\"1\" class=\"dataframe\">\n",
       "  <thead>\n",
       "    <tr style=\"text-align: right;\">\n",
       "      <th></th>\n",
       "      <th>title</th>\n",
       "      <th>artist</th>\n",
       "      <th>release_type</th>\n",
       "      <th>sub_genre</th>\n",
       "      <th>artist_followers</th>\n",
       "      <th>explicit</th>\n",
       "      <th>album</th>\n",
       "      <th>track_number</th>\n",
       "      <th>tracks_in_album</th>\n",
       "      <th>danceability</th>\n",
       "      <th>energy</th>\n",
       "      <th>key</th>\n",
       "      <th>loudness</th>\n",
       "      <th>mode</th>\n",
       "      <th>speechiness</th>\n",
       "      <th>acoustics</th>\n",
       "      <th>instrumentalness</th>\n",
       "      <th>liveness</th>\n",
       "      <th>valence</th>\n",
       "      <th>tempo</th>\n",
       "      <th>time_signature</th>\n",
       "      <th>genre</th>\n",
       "      <th>duration_min</th>\n",
       "      <th>release_year</th>\n",
       "      <th>release_month</th>\n",
       "      <th>release_day</th>\n",
       "      <th>popularity</th>\n",
       "    </tr>\n",
       "  </thead>\n",
       "  <tbody>\n",
       "    <tr>\n",
       "      <th>44367</th>\n",
       "      <td>shape of you</td>\n",
       "      <td>Ed Sheeran</td>\n",
       "      <td>album</td>\n",
       "      <td>pop</td>\n",
       "      <td>71783101.0</td>\n",
       "      <td>False</td>\n",
       "      <td>÷ (Deluxe)</td>\n",
       "      <td>4</td>\n",
       "      <td>16</td>\n",
       "      <td>0.825</td>\n",
       "      <td>0.652</td>\n",
       "      <td>1</td>\n",
       "      <td>-3.183</td>\n",
       "      <td>0</td>\n",
       "      <td>0.0802</td>\n",
       "      <td>0.58100</td>\n",
       "      <td>0.000000</td>\n",
       "      <td>0.0931</td>\n",
       "      <td>0.931</td>\n",
       "      <td>95.977</td>\n",
       "      <td>4</td>\n",
       "      <td>pop</td>\n",
       "      <td>3.895217</td>\n",
       "      <td>2017</td>\n",
       "      <td>3</td>\n",
       "      <td>3</td>\n",
       "      <td>100.000000</td>\n",
       "    </tr>\n",
       "    <tr>\n",
       "      <th>11089</th>\n",
       "      <td>dance monkey</td>\n",
       "      <td>Tones And I</td>\n",
       "      <td>single</td>\n",
       "      <td>australian pop</td>\n",
       "      <td>2283019.0</td>\n",
       "      <td>False</td>\n",
       "      <td>Dance Monkey</td>\n",
       "      <td>1</td>\n",
       "      <td>1</td>\n",
       "      <td>0.825</td>\n",
       "      <td>0.593</td>\n",
       "      <td>6</td>\n",
       "      <td>-6.401</td>\n",
       "      <td>0</td>\n",
       "      <td>0.0988</td>\n",
       "      <td>0.68800</td>\n",
       "      <td>0.000161</td>\n",
       "      <td>0.1700</td>\n",
       "      <td>0.540</td>\n",
       "      <td>98.078</td>\n",
       "      <td>4</td>\n",
       "      <td>pop</td>\n",
       "      <td>3.495917</td>\n",
       "      <td>2019</td>\n",
       "      <td>5</td>\n",
       "      <td>10</td>\n",
       "      <td>63.224021</td>\n",
       "    </tr>\n",
       "    <tr>\n",
       "      <th>38669</th>\n",
       "      <td>perfect</td>\n",
       "      <td>Ed Sheeran</td>\n",
       "      <td>album</td>\n",
       "      <td>pop</td>\n",
       "      <td>71783101.0</td>\n",
       "      <td>False</td>\n",
       "      <td>÷ (Deluxe)</td>\n",
       "      <td>5</td>\n",
       "      <td>16</td>\n",
       "      <td>0.599</td>\n",
       "      <td>0.448</td>\n",
       "      <td>8</td>\n",
       "      <td>-6.312</td>\n",
       "      <td>1</td>\n",
       "      <td>0.0232</td>\n",
       "      <td>0.16300</td>\n",
       "      <td>0.000000</td>\n",
       "      <td>0.1060</td>\n",
       "      <td>0.168</td>\n",
       "      <td>95.050</td>\n",
       "      <td>3</td>\n",
       "      <td>pop</td>\n",
       "      <td>4.390000</td>\n",
       "      <td>2017</td>\n",
       "      <td>3</td>\n",
       "      <td>3</td>\n",
       "      <td>51.172610</td>\n",
       "    </tr>\n",
       "    <tr>\n",
       "      <th>4480</th>\n",
       "      <td>bad guy</td>\n",
       "      <td>Billie Eilish</td>\n",
       "      <td>album</td>\n",
       "      <td>electropop</td>\n",
       "      <td>34697267.0</td>\n",
       "      <td>False</td>\n",
       "      <td>WHEN WE ALL FALL ASLEEP, WHERE DO WE GO?</td>\n",
       "      <td>2</td>\n",
       "      <td>14</td>\n",
       "      <td>0.701</td>\n",
       "      <td>0.425</td>\n",
       "      <td>7</td>\n",
       "      <td>-10.965</td>\n",
       "      <td>1</td>\n",
       "      <td>0.3750</td>\n",
       "      <td>0.32800</td>\n",
       "      <td>0.130000</td>\n",
       "      <td>0.1000</td>\n",
       "      <td>0.562</td>\n",
       "      <td>135.128</td>\n",
       "      <td>4</td>\n",
       "      <td>pop</td>\n",
       "      <td>3.234800</td>\n",
       "      <td>2019</td>\n",
       "      <td>3</td>\n",
       "      <td>29</td>\n",
       "      <td>49.053062</td>\n",
       "    </tr>\n",
       "    <tr>\n",
       "      <th>44341</th>\n",
       "      <td>shallow</td>\n",
       "      <td>Lady Gaga - Bradley Cooper</td>\n",
       "      <td>album</td>\n",
       "      <td>dance pop</td>\n",
       "      <td>14439685.0</td>\n",
       "      <td>False</td>\n",
       "      <td>A Star Is Born Soundtrack</td>\n",
       "      <td>12</td>\n",
       "      <td>34</td>\n",
       "      <td>0.572</td>\n",
       "      <td>0.385</td>\n",
       "      <td>7</td>\n",
       "      <td>-6.362</td>\n",
       "      <td>1</td>\n",
       "      <td>0.0308</td>\n",
       "      <td>0.37100</td>\n",
       "      <td>0.000000</td>\n",
       "      <td>0.2310</td>\n",
       "      <td>0.323</td>\n",
       "      <td>95.799</td>\n",
       "      <td>4</td>\n",
       "      <td>pop</td>\n",
       "      <td>3.595550</td>\n",
       "      <td>2018</td>\n",
       "      <td>10</td>\n",
       "      <td>5</td>\n",
       "      <td>45.354999</td>\n",
       "    </tr>\n",
       "    <tr>\n",
       "      <th>45968</th>\n",
       "      <td>someone you loved</td>\n",
       "      <td>Lewis Capaldi</td>\n",
       "      <td>album</td>\n",
       "      <td>pop</td>\n",
       "      <td>5649718.0</td>\n",
       "      <td>False</td>\n",
       "      <td>Divinely Uninspired To A Hellish Extent</td>\n",
       "      <td>4</td>\n",
       "      <td>12</td>\n",
       "      <td>0.501</td>\n",
       "      <td>0.405</td>\n",
       "      <td>1</td>\n",
       "      <td>-5.679</td>\n",
       "      <td>1</td>\n",
       "      <td>0.0319</td>\n",
       "      <td>0.75100</td>\n",
       "      <td>0.000000</td>\n",
       "      <td>0.1050</td>\n",
       "      <td>0.446</td>\n",
       "      <td>109.891</td>\n",
       "      <td>4</td>\n",
       "      <td>pop</td>\n",
       "      <td>3.036017</td>\n",
       "      <td>2019</td>\n",
       "      <td>5</td>\n",
       "      <td>17</td>\n",
       "      <td>43.638799</td>\n",
       "    </tr>\n",
       "    <tr>\n",
       "      <th>44304</th>\n",
       "      <td>señorita</td>\n",
       "      <td>Shawn Mendes - Camila Cabello</td>\n",
       "      <td>album</td>\n",
       "      <td>canadian pop</td>\n",
       "      <td>29743681.0</td>\n",
       "      <td>False</td>\n",
       "      <td>Shawn Mendes (Deluxe)</td>\n",
       "      <td>1</td>\n",
       "      <td>16</td>\n",
       "      <td>0.759</td>\n",
       "      <td>0.548</td>\n",
       "      <td>9</td>\n",
       "      <td>-6.049</td>\n",
       "      <td>0</td>\n",
       "      <td>0.0290</td>\n",
       "      <td>0.03920</td>\n",
       "      <td>0.000000</td>\n",
       "      <td>0.0828</td>\n",
       "      <td>0.749</td>\n",
       "      <td>116.967</td>\n",
       "      <td>4</td>\n",
       "      <td>pop</td>\n",
       "      <td>3.180000</td>\n",
       "      <td>2019</td>\n",
       "      <td>6</td>\n",
       "      <td>19</td>\n",
       "      <td>43.184823</td>\n",
       "    </tr>\n",
       "    <tr>\n",
       "      <th>34452</th>\n",
       "      <td>new rules</td>\n",
       "      <td>Dua Lipa</td>\n",
       "      <td>album</td>\n",
       "      <td>dance pop</td>\n",
       "      <td>20575026.0</td>\n",
       "      <td>False</td>\n",
       "      <td>Dua Lipa (Deluxe)</td>\n",
       "      <td>10</td>\n",
       "      <td>17</td>\n",
       "      <td>0.762</td>\n",
       "      <td>0.700</td>\n",
       "      <td>9</td>\n",
       "      <td>-6.021</td>\n",
       "      <td>0</td>\n",
       "      <td>0.0694</td>\n",
       "      <td>0.00261</td>\n",
       "      <td>0.000016</td>\n",
       "      <td>0.1530</td>\n",
       "      <td>0.608</td>\n",
       "      <td>116.073</td>\n",
       "      <td>4</td>\n",
       "      <td>pop</td>\n",
       "      <td>3.488667</td>\n",
       "      <td>2017</td>\n",
       "      <td>6</td>\n",
       "      <td>2</td>\n",
       "      <td>42.167052</td>\n",
       "    </tr>\n",
       "    <tr>\n",
       "      <th>11936</th>\n",
       "      <td>despacito - remix</td>\n",
       "      <td>Luis Fonsi - Daddy Yankee - Justin Bieber</td>\n",
       "      <td>single</td>\n",
       "      <td>latin</td>\n",
       "      <td>8932627.0</td>\n",
       "      <td>False</td>\n",
       "      <td>Despacito Feat. Justin Bieber (Remix)</td>\n",
       "      <td>1</td>\n",
       "      <td>1</td>\n",
       "      <td>0.694</td>\n",
       "      <td>0.815</td>\n",
       "      <td>2</td>\n",
       "      <td>-4.328</td>\n",
       "      <td>1</td>\n",
       "      <td>0.1200</td>\n",
       "      <td>0.22900</td>\n",
       "      <td>0.000000</td>\n",
       "      <td>0.0924</td>\n",
       "      <td>0.813</td>\n",
       "      <td>88.931</td>\n",
       "      <td>4</td>\n",
       "      <td>latin</td>\n",
       "      <td>3.813783</td>\n",
       "      <td>2017</td>\n",
       "      <td>4</td>\n",
       "      <td>17</td>\n",
       "      <td>41.524686</td>\n",
       "    </tr>\n",
       "    <tr>\n",
       "      <th>45990</th>\n",
       "      <td>something just like this</td>\n",
       "      <td>The Chainsmokers - Coldplay</td>\n",
       "      <td>album</td>\n",
       "      <td>dance pop</td>\n",
       "      <td>16931568.0</td>\n",
       "      <td>False</td>\n",
       "      <td>Memories...Do Not Open</td>\n",
       "      <td>5</td>\n",
       "      <td>12</td>\n",
       "      <td>0.617</td>\n",
       "      <td>0.635</td>\n",
       "      <td>11</td>\n",
       "      <td>-6.769</td>\n",
       "      <td>0</td>\n",
       "      <td>0.0317</td>\n",
       "      <td>0.04980</td>\n",
       "      <td>0.000014</td>\n",
       "      <td>0.1640</td>\n",
       "      <td>0.446</td>\n",
       "      <td>103.019</td>\n",
       "      <td>4</td>\n",
       "      <td>pop</td>\n",
       "      <td>4.119333</td>\n",
       "      <td>2017</td>\n",
       "      <td>4</td>\n",
       "      <td>7</td>\n",
       "      <td>41.099031</td>\n",
       "    </tr>\n",
       "  </tbody>\n",
       "</table>\n",
       "</div>"
      ],
      "text/plain": [
       "                          title                                     artist  \\\n",
       "44367              shape of you                                 Ed Sheeran   \n",
       "11089              dance monkey                                Tones And I   \n",
       "38669                   perfect                                 Ed Sheeran   \n",
       "4480                    bad guy                              Billie Eilish   \n",
       "44341                   shallow                 Lady Gaga - Bradley Cooper   \n",
       "45968         someone you loved                              Lewis Capaldi   \n",
       "44304                  señorita              Shawn Mendes - Camila Cabello   \n",
       "34452                 new rules                                   Dua Lipa   \n",
       "11936         despacito - remix  Luis Fonsi - Daddy Yankee - Justin Bieber   \n",
       "45990  something just like this                The Chainsmokers - Coldplay   \n",
       "\n",
       "      release_type       sub_genre  artist_followers explicit  \\\n",
       "44367        album             pop        71783101.0    False   \n",
       "11089       single  australian pop         2283019.0    False   \n",
       "38669        album             pop        71783101.0    False   \n",
       "4480         album      electropop        34697267.0    False   \n",
       "44341        album       dance pop        14439685.0    False   \n",
       "45968        album             pop         5649718.0    False   \n",
       "44304        album    canadian pop        29743681.0    False   \n",
       "34452        album       dance pop        20575026.0    False   \n",
       "11936       single           latin         8932627.0    False   \n",
       "45990        album       dance pop        16931568.0    False   \n",
       "\n",
       "                                          album track_number tracks_in_album  \\\n",
       "44367                                ÷ (Deluxe)            4              16   \n",
       "11089                              Dance Monkey            1               1   \n",
       "38669                                ÷ (Deluxe)            5              16   \n",
       "4480   WHEN WE ALL FALL ASLEEP, WHERE DO WE GO?            2              14   \n",
       "44341                 A Star Is Born Soundtrack           12              34   \n",
       "45968   Divinely Uninspired To A Hellish Extent            4              12   \n",
       "44304                     Shawn Mendes (Deluxe)            1              16   \n",
       "34452                         Dua Lipa (Deluxe)           10              17   \n",
       "11936     Despacito Feat. Justin Bieber (Remix)            1               1   \n",
       "45990                    Memories...Do Not Open            5              12   \n",
       "\n",
       "       danceability  energy key  loudness mode  speechiness  acoustics  \\\n",
       "44367         0.825   0.652   1    -3.183    0       0.0802    0.58100   \n",
       "11089         0.825   0.593   6    -6.401    0       0.0988    0.68800   \n",
       "38669         0.599   0.448   8    -6.312    1       0.0232    0.16300   \n",
       "4480          0.701   0.425   7   -10.965    1       0.3750    0.32800   \n",
       "44341         0.572   0.385   7    -6.362    1       0.0308    0.37100   \n",
       "45968         0.501   0.405   1    -5.679    1       0.0319    0.75100   \n",
       "44304         0.759   0.548   9    -6.049    0       0.0290    0.03920   \n",
       "34452         0.762   0.700   9    -6.021    0       0.0694    0.00261   \n",
       "11936         0.694   0.815   2    -4.328    1       0.1200    0.22900   \n",
       "45990         0.617   0.635  11    -6.769    0       0.0317    0.04980   \n",
       "\n",
       "       instrumentalness  liveness  valence    tempo time_signature  genre  \\\n",
       "44367          0.000000    0.0931    0.931   95.977              4    pop   \n",
       "11089          0.000161    0.1700    0.540   98.078              4    pop   \n",
       "38669          0.000000    0.1060    0.168   95.050              3    pop   \n",
       "4480           0.130000    0.1000    0.562  135.128              4    pop   \n",
       "44341          0.000000    0.2310    0.323   95.799              4    pop   \n",
       "45968          0.000000    0.1050    0.446  109.891              4    pop   \n",
       "44304          0.000000    0.0828    0.749  116.967              4    pop   \n",
       "34452          0.000016    0.1530    0.608  116.073              4    pop   \n",
       "11936          0.000000    0.0924    0.813   88.931              4  latin   \n",
       "45990          0.000014    0.1640    0.446  103.019              4    pop   \n",
       "\n",
       "       duration_min  release_year  release_month  release_day  popularity  \n",
       "44367      3.895217          2017              3            3  100.000000  \n",
       "11089      3.495917          2019              5           10   63.224021  \n",
       "38669      4.390000          2017              3            3   51.172610  \n",
       "4480       3.234800          2019              3           29   49.053062  \n",
       "44341      3.595550          2018             10            5   45.354999  \n",
       "45968      3.036017          2019              5           17   43.638799  \n",
       "44304      3.180000          2019              6           19   43.184823  \n",
       "34452      3.488667          2017              6            2   42.167052  \n",
       "11936      3.813783          2017              4           17   41.524686  \n",
       "45990      4.119333          2017              4            7   41.099031  "
      ]
     },
     "execution_count": 7,
     "metadata": {},
     "output_type": "execute_result"
    }
   ],
   "source": [
    "df.sort_values(by='popularity', ascending=False).head(10)"
   ]
  },
  {
   "cell_type": "code",
   "execution_count": 8,
   "metadata": {
    "pycharm": {
     "name": "#%%\n"
    }
   },
   "outputs": [
    {
     "data": {
      "image/png": "[encoded data removed]",
      "text/plain": [
       "<Figure size 720x576 with 1 Axes>"
      ]
     },
     "metadata": {
      "needs_background": "light"
     },
     "output_type": "display_data"
    }
   ],
   "source": [
    "plt.figure(figsize=(10, 8))\n",
    "sns.kdeplot(df['popularity'])\n",
    "\n",
    "plt.axvline(df['popularity'].mean(), linewidth = 2, color = 'r')\n",
    "plt.axvline(df['popularity'].median(), linewidth = 2, color = 'k')\n",
    "plt.show()"
   ]
  },
  {
   "cell_type": "code",
   "execution_count": 9,
   "metadata": {
    "pycharm": {
     "name": "#%%\n"
    }
   },
   "outputs": [
    {
     "data": {
      "text/plain": [
       "count    59492.000000\n",
       "mean         0.269332\n",
       "std          1.539976\n",
       "min          0.000000\n",
       "25%          0.001619\n",
       "50%          0.010614\n",
       "75%          0.081869\n",
       "max        100.000000\n",
       "Name: popularity, dtype: float64"
      ]
     },
     "execution_count": 9,
     "metadata": {},
     "output_type": "execute_result"
    }
   ],
   "source": [
    "df['popularity'].describe()"
   ]
  },
  {
   "cell_type": "markdown",
   "metadata": {
    "pycharm": {
     "name": "#%% md\n"
    }
   },
   "source": [
    "The mean is way too shifted to the left, even from 59k songs, 51k songs are below average, because the dataset has a few extreme popular songs. To resolve this issue, we tried to scale the popularity using QuantileTransformer that will transform the data into a normal distribution."
   ]
  },
  {
   "cell_type": "code",
   "execution_count": 10,
   "metadata": {
    "pycharm": {
     "name": "#%%\n"
    }
   },
   "outputs": [],
   "source": [
    "#df.drop(df[df['popularity'] > 0.005].index, inplace = True)"
   ]
  },
  {
   "cell_type": "markdown",
   "metadata": {
    "pycharm": {
     "name": "#%% md\n"
    }
   },
   "source": [
    "### Sklearn Scaler Trial"
   ]
  },
  {
   "cell_type": "code",
   "execution_count": 11,
   "metadata": {
    "pycharm": {
     "name": "#%%\n"
    }
   },
   "outputs": [],
   "source": [
    "X = df['popularity'].values.reshape(-1,1)\n",
    "df['popularity'] = QuantileTransformer(output_distribution=\"normal\").fit_transform(X)"
   ]
  },
  {
   "cell_type": "code",
   "execution_count": 12,
   "metadata": {
    "pycharm": {
     "name": "#%%\n"
    }
   },
   "outputs": [
    {
     "data": {
      "image/png": "[encoded data removed]",
      "text/plain": [
       "<Figure size 720x576 with 1 Axes>"
      ]
     },
     "metadata": {
      "needs_background": "light"
     },
     "output_type": "display_data"
    }
   ],
   "source": [
    "plt.figure(figsize=(10, 8))\n",
    "sns.kdeplot(df['popularity'])\n",
    "\n",
    "plt.axvline(df['popularity'].mean(), linewidth = 2, color = 'r')\n",
    "plt.axvline(df['popularity'].median(), linewidth = 2, color = 'k')\n",
    "plt.show()"
   ]
  },
  {
   "cell_type": "code",
   "execution_count": 13,
   "metadata": {
    "pycharm": {
     "name": "#%%\n"
    }
   },
   "outputs": [
    {
     "data": {
      "text/plain": [
       "count    59492.000000\n",
       "mean        -0.008236\n",
       "std          1.031364\n",
       "min         -5.199338\n",
       "25%         -0.676854\n",
       "50%         -0.000137\n",
       "75%          0.674392\n",
       "max          5.199338\n",
       "Name: popularity, dtype: float64"
      ]
     },
     "execution_count": 13,
     "metadata": {},
     "output_type": "execute_result"
    }
   ],
   "source": [
    "df['popularity'].describe()"
   ]
  },
  {
   "cell_type": "code",
   "execution_count": 14,
   "metadata": {
    "pycharm": {
     "name": "#%%\n"
    }
   },
   "outputs": [],
   "source": [
    "df['popularity'] = (df['popularity'] - df['popularity'].min()) / (df['popularity'].max() - df['popularity'].min()) * 100"
   ]
  },
  {
   "cell_type": "code",
   "execution_count": 15,
   "metadata": {
    "pycharm": {
     "name": "#%%\n"
    }
   },
   "outputs": [
    {
     "data": {
      "text/plain": [
       "count    59492.000000\n",
       "mean        49.920794\n",
       "std          9.918226\n",
       "min          0.000000\n",
       "25%         43.490958\n",
       "50%         49.998679\n",
       "75%         56.485367\n",
       "max        100.000000\n",
       "Name: popularity, dtype: float64"
      ]
     },
     "execution_count": 15,
     "metadata": {},
     "output_type": "execute_result"
    }
   ],
   "source": [
    "df['popularity'].describe()"
   ]
  },
  {
   "cell_type": "code",
   "execution_count": 16,
   "metadata": {
    "pycharm": {
     "name": "#%%\n"
    }
   },
   "outputs": [
    {
     "data": {
      "image/png": "[encoded data removed]",
      "text/plain": [
       "<Figure size 720x576 with 1 Axes>"
      ]
     },
     "metadata": {
      "needs_background": "light"
     },
     "output_type": "display_data"
    }
   ],
   "source": [
    "plt.figure(figsize=(10, 8))\n",
    "sns.kdeplot(df['popularity'])\n",
    "\n",
    "plt.axvline(df['popularity'].mean(), linewidth = 2, color = 'r')\n",
    "plt.axvline(df['popularity'].median(), linewidth = 2, color = 'k')\n",
    "plt.show()"
   ]
  },
  {
   "cell_type": "code",
   "execution_count": 17,
   "metadata": {
    "pycharm": {
     "name": "#%%\n"
    }
   },
   "outputs": [
    {
     "data": {
      "text/html": [
       "<div>\n",
       "<style scoped>\n",
       "    .dataframe tbody tr th:only-of-type {\n",
       "        vertical-align: middle;\n",
       "    }\n",
       "\n",
       "    .dataframe tbody tr th {\n",
       "        vertical-align: top;\n",
       "    }\n",
       "\n",
       "    .dataframe thead th {\n",
       "        text-align: right;\n",
       "    }\n",
       "</style>\n",
       "<table border=\"1\" class=\"dataframe\">\n",
       "  <thead>\n",
       "    <tr style=\"text-align: right;\">\n",
       "      <th></th>\n",
       "      <th>title</th>\n",
       "      <th>artist</th>\n",
       "      <th>release_type</th>\n",
       "      <th>sub_genre</th>\n",
       "      <th>artist_followers</th>\n",
       "      <th>explicit</th>\n",
       "      <th>album</th>\n",
       "      <th>track_number</th>\n",
       "      <th>tracks_in_album</th>\n",
       "      <th>danceability</th>\n",
       "      <th>energy</th>\n",
       "      <th>key</th>\n",
       "      <th>loudness</th>\n",
       "      <th>mode</th>\n",
       "      <th>speechiness</th>\n",
       "      <th>acoustics</th>\n",
       "      <th>instrumentalness</th>\n",
       "      <th>liveness</th>\n",
       "      <th>valence</th>\n",
       "      <th>tempo</th>\n",
       "      <th>time_signature</th>\n",
       "      <th>genre</th>\n",
       "      <th>duration_min</th>\n",
       "      <th>release_year</th>\n",
       "      <th>release_month</th>\n",
       "      <th>release_day</th>\n",
       "      <th>popularity</th>\n",
       "    </tr>\n",
       "  </thead>\n",
       "  <tbody>\n",
       "    <tr>\n",
       "      <th>44367</th>\n",
       "      <td>shape of you</td>\n",
       "      <td>Ed Sheeran</td>\n",
       "      <td>album</td>\n",
       "      <td>pop</td>\n",
       "      <td>71783101.0</td>\n",
       "      <td>False</td>\n",
       "      <td>÷ (Deluxe)</td>\n",
       "      <td>4</td>\n",
       "      <td>16</td>\n",
       "      <td>0.825</td>\n",
       "      <td>0.652</td>\n",
       "      <td>1</td>\n",
       "      <td>-3.183</td>\n",
       "      <td>0</td>\n",
       "      <td>0.0802</td>\n",
       "      <td>0.58100</td>\n",
       "      <td>0.000000</td>\n",
       "      <td>0.0931</td>\n",
       "      <td>0.931</td>\n",
       "      <td>95.977</td>\n",
       "      <td>4</td>\n",
       "      <td>pop</td>\n",
       "      <td>3.895217</td>\n",
       "      <td>2017</td>\n",
       "      <td>3</td>\n",
       "      <td>3</td>\n",
       "      <td>100.000000</td>\n",
       "    </tr>\n",
       "    <tr>\n",
       "      <th>11089</th>\n",
       "      <td>dance monkey</td>\n",
       "      <td>Tones And I</td>\n",
       "      <td>single</td>\n",
       "      <td>australian pop</td>\n",
       "      <td>2283019.0</td>\n",
       "      <td>False</td>\n",
       "      <td>Dance Monkey</td>\n",
       "      <td>1</td>\n",
       "      <td>1</td>\n",
       "      <td>0.825</td>\n",
       "      <td>0.593</td>\n",
       "      <td>6</td>\n",
       "      <td>-6.401</td>\n",
       "      <td>0</td>\n",
       "      <td>0.0988</td>\n",
       "      <td>0.68800</td>\n",
       "      <td>0.000161</td>\n",
       "      <td>0.1700</td>\n",
       "      <td>0.540</td>\n",
       "      <td>98.078</td>\n",
       "      <td>4</td>\n",
       "      <td>pop</td>\n",
       "      <td>3.495917</td>\n",
       "      <td>2019</td>\n",
       "      <td>5</td>\n",
       "      <td>10</td>\n",
       "      <td>81.764888</td>\n",
       "    </tr>\n",
       "    <tr>\n",
       "      <th>38669</th>\n",
       "      <td>perfect</td>\n",
       "      <td>Ed Sheeran</td>\n",
       "      <td>album</td>\n",
       "      <td>pop</td>\n",
       "      <td>71783101.0</td>\n",
       "      <td>False</td>\n",
       "      <td>÷ (Deluxe)</td>\n",
       "      <td>5</td>\n",
       "      <td>16</td>\n",
       "      <td>0.599</td>\n",
       "      <td>0.448</td>\n",
       "      <td>8</td>\n",
       "      <td>-6.312</td>\n",
       "      <td>1</td>\n",
       "      <td>0.0232</td>\n",
       "      <td>0.16300</td>\n",
       "      <td>0.000000</td>\n",
       "      <td>0.1060</td>\n",
       "      <td>0.168</td>\n",
       "      <td>95.050</td>\n",
       "      <td>3</td>\n",
       "      <td>pop</td>\n",
       "      <td>4.390000</td>\n",
       "      <td>2017</td>\n",
       "      <td>3</td>\n",
       "      <td>3</td>\n",
       "      <td>80.992390</td>\n",
       "    </tr>\n",
       "    <tr>\n",
       "      <th>4480</th>\n",
       "      <td>bad guy</td>\n",
       "      <td>Billie Eilish</td>\n",
       "      <td>album</td>\n",
       "      <td>electropop</td>\n",
       "      <td>34697267.0</td>\n",
       "      <td>False</td>\n",
       "      <td>WHEN WE ALL FALL ASLEEP, WHERE DO WE GO?</td>\n",
       "      <td>2</td>\n",
       "      <td>14</td>\n",
       "      <td>0.701</td>\n",
       "      <td>0.425</td>\n",
       "      <td>7</td>\n",
       "      <td>-10.965</td>\n",
       "      <td>1</td>\n",
       "      <td>0.3750</td>\n",
       "      <td>0.32800</td>\n",
       "      <td>0.130000</td>\n",
       "      <td>0.1000</td>\n",
       "      <td>0.562</td>\n",
       "      <td>135.128</td>\n",
       "      <td>4</td>\n",
       "      <td>pop</td>\n",
       "      <td>3.234800</td>\n",
       "      <td>2019</td>\n",
       "      <td>3</td>\n",
       "      <td>29</td>\n",
       "      <td>80.875140</td>\n",
       "    </tr>\n",
       "    <tr>\n",
       "      <th>44341</th>\n",
       "      <td>shallow</td>\n",
       "      <td>Lady Gaga - Bradley Cooper</td>\n",
       "      <td>album</td>\n",
       "      <td>dance pop</td>\n",
       "      <td>14439685.0</td>\n",
       "      <td>False</td>\n",
       "      <td>A Star Is Born Soundtrack</td>\n",
       "      <td>12</td>\n",
       "      <td>34</td>\n",
       "      <td>0.572</td>\n",
       "      <td>0.385</td>\n",
       "      <td>7</td>\n",
       "      <td>-6.362</td>\n",
       "      <td>1</td>\n",
       "      <td>0.0308</td>\n",
       "      <td>0.37100</td>\n",
       "      <td>0.000000</td>\n",
       "      <td>0.2310</td>\n",
       "      <td>0.323</td>\n",
       "      <td>95.799</td>\n",
       "      <td>4</td>\n",
       "      <td>pop</td>\n",
       "      <td>3.595550</td>\n",
       "      <td>2018</td>\n",
       "      <td>10</td>\n",
       "      <td>5</td>\n",
       "      <td>80.680947</td>\n",
       "    </tr>\n",
       "    <tr>\n",
       "      <th>45968</th>\n",
       "      <td>someone you loved</td>\n",
       "      <td>Lewis Capaldi</td>\n",
       "      <td>album</td>\n",
       "      <td>pop</td>\n",
       "      <td>5649718.0</td>\n",
       "      <td>False</td>\n",
       "      <td>Divinely Uninspired To A Hellish Extent</td>\n",
       "      <td>4</td>\n",
       "      <td>12</td>\n",
       "      <td>0.501</td>\n",
       "      <td>0.405</td>\n",
       "      <td>1</td>\n",
       "      <td>-5.679</td>\n",
       "      <td>1</td>\n",
       "      <td>0.0319</td>\n",
       "      <td>0.75100</td>\n",
       "      <td>0.000000</td>\n",
       "      <td>0.1050</td>\n",
       "      <td>0.446</td>\n",
       "      <td>109.891</td>\n",
       "      <td>4</td>\n",
       "      <td>pop</td>\n",
       "      <td>3.036017</td>\n",
       "      <td>2019</td>\n",
       "      <td>5</td>\n",
       "      <td>17</td>\n",
       "      <td>80.594911</td>\n",
       "    </tr>\n",
       "    <tr>\n",
       "      <th>44304</th>\n",
       "      <td>señorita</td>\n",
       "      <td>Shawn Mendes - Camila Cabello</td>\n",
       "      <td>album</td>\n",
       "      <td>canadian pop</td>\n",
       "      <td>29743681.0</td>\n",
       "      <td>False</td>\n",
       "      <td>Shawn Mendes (Deluxe)</td>\n",
       "      <td>1</td>\n",
       "      <td>16</td>\n",
       "      <td>0.759</td>\n",
       "      <td>0.548</td>\n",
       "      <td>9</td>\n",
       "      <td>-6.049</td>\n",
       "      <td>0</td>\n",
       "      <td>0.0290</td>\n",
       "      <td>0.03920</td>\n",
       "      <td>0.000000</td>\n",
       "      <td>0.0828</td>\n",
       "      <td>0.749</td>\n",
       "      <td>116.967</td>\n",
       "      <td>4</td>\n",
       "      <td>pop</td>\n",
       "      <td>3.180000</td>\n",
       "      <td>2019</td>\n",
       "      <td>6</td>\n",
       "      <td>19</td>\n",
       "      <td>80.572557</td>\n",
       "    </tr>\n",
       "    <tr>\n",
       "      <th>34452</th>\n",
       "      <td>new rules</td>\n",
       "      <td>Dua Lipa</td>\n",
       "      <td>album</td>\n",
       "      <td>dance pop</td>\n",
       "      <td>20575026.0</td>\n",
       "      <td>False</td>\n",
       "      <td>Dua Lipa (Deluxe)</td>\n",
       "      <td>10</td>\n",
       "      <td>17</td>\n",
       "      <td>0.762</td>\n",
       "      <td>0.700</td>\n",
       "      <td>9</td>\n",
       "      <td>-6.021</td>\n",
       "      <td>0</td>\n",
       "      <td>0.0694</td>\n",
       "      <td>0.00261</td>\n",
       "      <td>0.000016</td>\n",
       "      <td>0.1530</td>\n",
       "      <td>0.608</td>\n",
       "      <td>116.073</td>\n",
       "      <td>4</td>\n",
       "      <td>pop</td>\n",
       "      <td>3.488667</td>\n",
       "      <td>2017</td>\n",
       "      <td>6</td>\n",
       "      <td>2</td>\n",
       "      <td>80.523032</td>\n",
       "    </tr>\n",
       "    <tr>\n",
       "      <th>11936</th>\n",
       "      <td>despacito - remix</td>\n",
       "      <td>Luis Fonsi - Daddy Yankee - Justin Bieber</td>\n",
       "      <td>single</td>\n",
       "      <td>latin</td>\n",
       "      <td>8932627.0</td>\n",
       "      <td>False</td>\n",
       "      <td>Despacito Feat. Justin Bieber (Remix)</td>\n",
       "      <td>1</td>\n",
       "      <td>1</td>\n",
       "      <td>0.694</td>\n",
       "      <td>0.815</td>\n",
       "      <td>2</td>\n",
       "      <td>-4.328</td>\n",
       "      <td>1</td>\n",
       "      <td>0.1200</td>\n",
       "      <td>0.22900</td>\n",
       "      <td>0.000000</td>\n",
       "      <td>0.0924</td>\n",
       "      <td>0.813</td>\n",
       "      <td>88.931</td>\n",
       "      <td>4</td>\n",
       "      <td>latin</td>\n",
       "      <td>3.813783</td>\n",
       "      <td>2017</td>\n",
       "      <td>4</td>\n",
       "      <td>17</td>\n",
       "      <td>80.492187</td>\n",
       "    </tr>\n",
       "    <tr>\n",
       "      <th>45990</th>\n",
       "      <td>something just like this</td>\n",
       "      <td>The Chainsmokers - Coldplay</td>\n",
       "      <td>album</td>\n",
       "      <td>dance pop</td>\n",
       "      <td>16931568.0</td>\n",
       "      <td>False</td>\n",
       "      <td>Memories...Do Not Open</td>\n",
       "      <td>5</td>\n",
       "      <td>12</td>\n",
       "      <td>0.617</td>\n",
       "      <td>0.635</td>\n",
       "      <td>11</td>\n",
       "      <td>-6.769</td>\n",
       "      <td>0</td>\n",
       "      <td>0.0317</td>\n",
       "      <td>0.04980</td>\n",
       "      <td>0.000014</td>\n",
       "      <td>0.1640</td>\n",
       "      <td>0.446</td>\n",
       "      <td>103.019</td>\n",
       "      <td>4</td>\n",
       "      <td>pop</td>\n",
       "      <td>4.119333</td>\n",
       "      <td>2017</td>\n",
       "      <td>4</td>\n",
       "      <td>7</td>\n",
       "      <td>80.471919</td>\n",
       "    </tr>\n",
       "  </tbody>\n",
       "</table>\n",
       "</div>"
      ],
      "text/plain": [
       "                          title                                     artist  \\\n",
       "44367              shape of you                                 Ed Sheeran   \n",
       "11089              dance monkey                                Tones And I   \n",
       "38669                   perfect                                 Ed Sheeran   \n",
       "4480                    bad guy                              Billie Eilish   \n",
       "44341                   shallow                 Lady Gaga - Bradley Cooper   \n",
       "45968         someone you loved                              Lewis Capaldi   \n",
       "44304                  señorita              Shawn Mendes - Camila Cabello   \n",
       "34452                 new rules                                   Dua Lipa   \n",
       "11936         despacito - remix  Luis Fonsi - Daddy Yankee - Justin Bieber   \n",
       "45990  something just like this                The Chainsmokers - Coldplay   \n",
       "\n",
       "      release_type       sub_genre  artist_followers explicit  \\\n",
       "44367        album             pop        71783101.0    False   \n",
       "11089       single  australian pop         2283019.0    False   \n",
       "38669        album             pop        71783101.0    False   \n",
       "4480         album      electropop        34697267.0    False   \n",
       "44341        album       dance pop        14439685.0    False   \n",
       "45968        album             pop         5649718.0    False   \n",
       "44304        album    canadian pop        29743681.0    False   \n",
       "34452        album       dance pop        20575026.0    False   \n",
       "11936       single           latin         8932627.0    False   \n",
       "45990        album       dance pop        16931568.0    False   \n",
       "\n",
       "                                          album track_number tracks_in_album  \\\n",
       "44367                                ÷ (Deluxe)            4              16   \n",
       "11089                              Dance Monkey            1               1   \n",
       "38669                                ÷ (Deluxe)            5              16   \n",
       "4480   WHEN WE ALL FALL ASLEEP, WHERE DO WE GO?            2              14   \n",
       "44341                 A Star Is Born Soundtrack           12              34   \n",
       "45968   Divinely Uninspired To A Hellish Extent            4              12   \n",
       "44304                     Shawn Mendes (Deluxe)            1              16   \n",
       "34452                         Dua Lipa (Deluxe)           10              17   \n",
       "11936     Despacito Feat. Justin Bieber (Remix)            1               1   \n",
       "45990                    Memories...Do Not Open            5              12   \n",
       "\n",
       "       danceability  energy key  loudness mode  speechiness  acoustics  \\\n",
       "44367         0.825   0.652   1    -3.183    0       0.0802    0.58100   \n",
       "11089         0.825   0.593   6    -6.401    0       0.0988    0.68800   \n",
       "38669         0.599   0.448   8    -6.312    1       0.0232    0.16300   \n",
       "4480          0.701   0.425   7   -10.965    1       0.3750    0.32800   \n",
       "44341         0.572   0.385   7    -6.362    1       0.0308    0.37100   \n",
       "45968         0.501   0.405   1    -5.679    1       0.0319    0.75100   \n",
       "44304         0.759   0.548   9    -6.049    0       0.0290    0.03920   \n",
       "34452         0.762   0.700   9    -6.021    0       0.0694    0.00261   \n",
       "11936         0.694   0.815   2    -4.328    1       0.1200    0.22900   \n",
       "45990         0.617   0.635  11    -6.769    0       0.0317    0.04980   \n",
       "\n",
       "       instrumentalness  liveness  valence    tempo time_signature  genre  \\\n",
       "44367          0.000000    0.0931    0.931   95.977              4    pop   \n",
       "11089          0.000161    0.1700    0.540   98.078              4    pop   \n",
       "38669          0.000000    0.1060    0.168   95.050              3    pop   \n",
       "4480           0.130000    0.1000    0.562  135.128              4    pop   \n",
       "44341          0.000000    0.2310    0.323   95.799              4    pop   \n",
       "45968          0.000000    0.1050    0.446  109.891              4    pop   \n",
       "44304          0.000000    0.0828    0.749  116.967              4    pop   \n",
       "34452          0.000016    0.1530    0.608  116.073              4    pop   \n",
       "11936          0.000000    0.0924    0.813   88.931              4  latin   \n",
       "45990          0.000014    0.1640    0.446  103.019              4    pop   \n",
       "\n",
       "       duration_min  release_year  release_month  release_day  popularity  \n",
       "44367      3.895217          2017              3            3  100.000000  \n",
       "11089      3.495917          2019              5           10   81.764888  \n",
       "38669      4.390000          2017              3            3   80.992390  \n",
       "4480       3.234800          2019              3           29   80.875140  \n",
       "44341      3.595550          2018             10            5   80.680947  \n",
       "45968      3.036017          2019              5           17   80.594911  \n",
       "44304      3.180000          2019              6           19   80.572557  \n",
       "34452      3.488667          2017              6            2   80.523032  \n",
       "11936      3.813783          2017              4           17   80.492187  \n",
       "45990      4.119333          2017              4            7   80.471919  "
      ]
     },
     "execution_count": 17,
     "metadata": {},
     "output_type": "execute_result"
    }
   ],
   "source": [
    "df.sort_values(by='popularity', ascending=False).head(10)"
   ]
  },
  {
   "cell_type": "markdown",
   "metadata": {},
   "source": [
    "Once the distribution is transformed, we scale again the data into 0-100 range to make it back as the original value.\n",
    "After that, we checked again which feature is needed to be pre-processed."
   ]
  },
  {
   "cell_type": "code",
   "execution_count": 18,
   "metadata": {},
   "outputs": [],
   "source": [
    "# Drop unused columns\n",
    "df_selected = df.drop([\"title\", \"artist\", \"sub_genre\", \"album\", \"track_number\", \"tracks_in_album\", \"time_signature\", \"genre\", \"popularity\"],axis=1)\n",
    "y = df[\"popularity\"]"
   ]
  },
  {
   "cell_type": "code",
   "execution_count": 19,
   "metadata": {},
   "outputs": [
    {
     "data": {
      "text/plain": [
       "release_type            3\n",
       "artist_followers     9134\n",
       "explicit                4\n",
       "danceability          990\n",
       "energy               1225\n",
       "key                    24\n",
       "loudness            12259\n",
       "mode                    4\n",
       "speechiness          1512\n",
       "acoustics            3551\n",
       "instrumentalness     5061\n",
       "liveness             1727\n",
       "valence              1543\n",
       "tempo               30613\n",
       "duration_min        36712\n",
       "release_year           79\n",
       "release_month          12\n",
       "release_day            31\n",
       "dtype: int64"
      ]
     },
     "execution_count": 19,
     "metadata": {},
     "output_type": "execute_result"
    }
   ],
   "source": [
    "df_selected.nunique(axis=0)"
   ]
  },
  {
   "cell_type": "markdown",
   "metadata": {},
   "source": [
    "From the result above, you can see that explicit and mode is supposed to have only binary value, but there is 4 unique values instead."
   ]
  },
  {
   "cell_type": "markdown",
   "metadata": {},
   "source": [
    "#### Explicit\n",
    "We will change the string value of \"True\" and \"False\" into a boolean one."
   ]
  },
  {
   "cell_type": "code",
   "execution_count": 20,
   "metadata": {},
   "outputs": [
    {
     "data": {
      "text/plain": [
       "array([False, True, 'True', 'False'], dtype=object)"
      ]
     },
     "execution_count": 20,
     "metadata": {},
     "output_type": "execute_result"
    }
   ],
   "source": [
    "df_selected['explicit'].unique()"
   ]
  },
  {
   "cell_type": "code",
   "execution_count": 21,
   "metadata": {},
   "outputs": [],
   "source": [
    "df_selected.loc[df_selected.explicit == 'True', 'explicit'] = True\n",
    "df_selected.loc[df_selected.explicit == 'False', 'explicit'] = False"
   ]
  },
  {
   "cell_type": "code",
   "execution_count": 22,
   "metadata": {},
   "outputs": [
    {
     "data": {
      "text/plain": [
       "array([False, True], dtype=object)"
      ]
     },
     "execution_count": 22,
     "metadata": {},
     "output_type": "execute_result"
    }
   ],
   "source": [
    "df_selected['explicit'].unique()"
   ]
  },
  {
   "cell_type": "markdown",
   "metadata": {},
   "source": [
    "#### Mode\n",
    "We will change the string value of \"0\" and \"1\" into a numeric one."
   ]
  },
  {
   "cell_type": "code",
   "execution_count": 23,
   "metadata": {},
   "outputs": [
    {
     "data": {
      "text/plain": [
       "array([1, 0, '1', '0'], dtype=object)"
      ]
     },
     "execution_count": 23,
     "metadata": {},
     "output_type": "execute_result"
    }
   ],
   "source": [
    "df_selected['mode'].unique()"
   ]
  },
  {
   "cell_type": "code",
   "execution_count": 24,
   "metadata": {},
   "outputs": [],
   "source": [
    "df_selected.loc[df_selected['mode'] == '0', 'mode'] = 0\n",
    "df_selected.loc[df_selected['mode'] == '1', 'mode'] = 1"
   ]
  },
  {
   "cell_type": "code",
   "execution_count": 25,
   "metadata": {},
   "outputs": [
    {
     "data": {
      "text/plain": [
       "array([1, 0], dtype=object)"
      ]
     },
     "execution_count": 25,
     "metadata": {},
     "output_type": "execute_result"
    }
   ],
   "source": [
    "df_selected['mode'].unique()"
   ]
  },
  {
   "cell_type": "code",
   "execution_count": 26,
   "metadata": {},
   "outputs": [
    {
     "data": {
      "text/plain": [
       "release_type            3\n",
       "artist_followers     9134\n",
       "explicit                2\n",
       "danceability          990\n",
       "energy               1225\n",
       "key                    24\n",
       "loudness            12259\n",
       "mode                    2\n",
       "speechiness          1512\n",
       "acoustics            3551\n",
       "instrumentalness     5061\n",
       "liveness             1727\n",
       "valence              1543\n",
       "tempo               30613\n",
       "duration_min        36712\n",
       "release_year           79\n",
       "release_month          12\n",
       "release_day            31\n",
       "dtype: int64"
      ]
     },
     "execution_count": 26,
     "metadata": {},
     "output_type": "execute_result"
    }
   ],
   "source": [
    "df_selected.nunique(axis=0)"
   ]
  },
  {
   "cell_type": "markdown",
   "metadata": {},
   "source": [
    "#### Release Day"
   ]
  },
  {
   "cell_type": "code",
   "execution_count": 27,
   "metadata": {},
   "outputs": [],
   "source": [
    "df_selected['release_date'] = pd.to_datetime(df_selected['release_year'].astype(str) + '-' + df_selected['release_month'].astype(str) + '-' + df_selected['release_day'].astype(str), errors='ignore')\n",
    "df_selected['weekday'] = df_selected['release_date'].dt.day_name()"
   ]
  },
  {
   "cell_type": "code",
   "execution_count": 28,
   "metadata": {},
   "outputs": [
    {
     "data": {
      "text/plain": [
       "array(['Monday', 'Friday', 'Thursday', 'Wednesday', 'Tuesday', 'Sunday',\n",
       "       'Saturday'], dtype=object)"
      ]
     },
     "execution_count": 28,
     "metadata": {},
     "output_type": "execute_result"
    }
   ],
   "source": [
    "df_selected['weekday'].unique()"
   ]
  },
  {
   "cell_type": "code",
   "execution_count": 29,
   "metadata": {},
   "outputs": [],
   "source": [
    "df_selected = df_selected.drop([\"release_year\", \"release_month\", \"release_day\", \"release_date\"],axis=1)"
   ]
  },
  {
   "cell_type": "code",
   "execution_count": 30,
   "metadata": {},
   "outputs": [
    {
     "data": {
      "text/plain": [
       "release_type            3\n",
       "artist_followers     9134\n",
       "explicit                2\n",
       "danceability          990\n",
       "energy               1225\n",
       "key                    24\n",
       "loudness            12259\n",
       "mode                    2\n",
       "speechiness          1512\n",
       "acoustics            3551\n",
       "instrumentalness     5061\n",
       "liveness             1727\n",
       "valence              1543\n",
       "tempo               30613\n",
       "duration_min        36712\n",
       "weekday                 7\n",
       "dtype: int64"
      ]
     },
     "execution_count": 30,
     "metadata": {},
     "output_type": "execute_result"
    }
   ],
   "source": [
    "df_selected.nunique(axis=0)"
   ]
  },
  {
   "cell_type": "markdown",
   "metadata": {
    "pycharm": {
     "name": "#%% md\n"
    }
   },
   "source": [
    "### Feature Selection\n",
    "Here we tried to do some of feature selection methods, which are zero-variance feature removal, important-based feature and sequential feature selection."
   ]
  },
  {
   "cell_type": "code",
   "execution_count": 86,
   "metadata": {},
   "outputs": [
    {
     "data": {
      "text/plain": [
       "<seaborn.axisgrid.PairGrid at 0x7fcbf1916460>"
      ]
     },
     "execution_count": 86,
     "metadata": {},
     "output_type": "execute_result"
    },
    {
     "data": {
      "image/png": "[encoded data removed]",
      "text/plain": [
       "<Figure size 720x180 with 4 Axes>"
      ]
     },
     "metadata": {
      "needs_background": "light"
     },
     "output_type": "display_data"
    }
   ],
   "source": [
    "sns.pairplot(data=df,\n",
    "                  x_vars=['energy', 'speechiness', 'acoustics', 'instrumentalness'],\n",
    "                  y_vars=['popularity'], kind=\"kde\")"
   ]
  },
  {
   "cell_type": "code",
   "execution_count": null,
   "metadata": {},
   "outputs": [],
   "source": [
    "plt.figure(figsize=(16, 8))\n",
    "sns.pairplot(data=df,\n",
    "                  x_vars=['artist_followers', 'loudness', 'danceability'],\n",
    "                  y_vars=['popularity'], kind=\"kde\")\n",
    "plt.show()"
   ]
  },
  {
   "cell_type": "code",
   "execution_count": 87,
   "metadata": {},
   "outputs": [
    {
     "data": {
      "text/plain": [
       "<seaborn.axisgrid.PairGrid at 0x7fcbf0640a90>"
      ]
     },
     "execution_count": 87,
     "metadata": {},
     "output_type": "execute_result"
    },
    {
     "data": {
      "image/png": "[encoded data removed]",
      "text/plain": [
       "<Figure size 720x180 with 4 Axes>"
      ]
     },
     "metadata": {
      "needs_background": "light"
     },
     "output_type": "display_data"
    }
   ],
   "source": [
    "sns.pairplot(data=df,\n",
    "                  x_vars=['liveness', 'valence', 'tempo', 'duration_min'],\n",
    "                  y_vars=['popularity'], kind=\"kde\")"
   ]
  },
  {
   "cell_type": "markdown",
   "metadata": {},
   "source": [
    "- Try specific country (Switzerland, Global)\n",
    "- Including only numerical features first\n",
    "- Then if it works, including the categorical features\n",
    "- Try SVM Regressor, least square regression"
   ]
  }
 ],
 "metadata": {
  "kernelspec": {
   "display_name": "Python 3 (ipykernel)",
   "language": "python",
   "name": "python3"
  },
  "language_info": {
   "codemirror_mode": {
    "name": "ipython",
    "version": 3
   },
   "file_extension": ".py",
   "mimetype": "text/x-python",
   "name": "python",
   "nbconvert_exporter": "python",
   "pygments_lexer": "ipython3",
   "version": "3.9.12"
  }
 },
 "nbformat": 4,
 "nbformat_minor": 1
}
